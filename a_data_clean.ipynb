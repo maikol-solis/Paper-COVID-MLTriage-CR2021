{
 "cells": [
  {
   "cell_type": "markdown",
   "id": "c82ea1b2-6011-423f-a4fe-2324f8b348d3",
   "metadata": {},
   "source": [
    "# Load libraries\n",
    "\n",
    "\n"
   ]
  },
  {
   "cell_type": "code",
   "execution_count": 1,
   "id": "989e0980",
   "metadata": {
    "collapsed": false,
    "jupyter": {
     "outputs_hidden": false
    }
   },
   "outputs": [],
   "source": [
    "import warnings\n",
    "\n",
    "import matplotlib.pyplot as plt\n",
    "import numpy as np\n",
    "import pandas as pd\n",
    "import pingouin as pg\n",
    "import pyreadstat\n",
    "import skimpy\n",
    "from prettytable import PrettyTable\n",
    "from scipy.stats import pearsonr\n",
    "\n",
    "warnings.filterwarnings(\"ignore\")\n"
   ]
  },
  {
   "cell_type": "markdown",
   "id": "7d0993d2",
   "metadata": {},
   "source": [
    "# Load the data"
   ]
  },
  {
   "cell_type": "code",
   "execution_count": 2,
   "id": "e7a705c0",
   "metadata": {
    "collapsed": false,
    "jupyter": {
     "outputs_hidden": false
    },
    "lines_to_next_cell": 2
   },
   "outputs": [
    {
     "data": {
      "text/html": [
       "<div>\n",
       "<style scoped>\n",
       "    .dataframe tbody tr th:only-of-type {\n",
       "        vertical-align: middle;\n",
       "    }\n",
       "\n",
       "    .dataframe tbody tr th {\n",
       "        vertical-align: top;\n",
       "    }\n",
       "\n",
       "    .dataframe thead th {\n",
       "        text-align: right;\n",
       "    }\n",
       "</style>\n",
       "<table border=\"1\" class=\"dataframe\">\n",
       "  <thead>\n",
       "    <tr style=\"text-align: right;\">\n",
       "      <th></th>\n",
       "      <th>cuestionario</th>\n",
       "      <th>id</th>\n",
       "      <th>hi</th>\n",
       "      <th>mi</th>\n",
       "      <th>hf</th>\n",
       "      <th>mf</th>\n",
       "      <th>sp_1</th>\n",
       "      <th>sp_2</th>\n",
       "      <th>sp_3</th>\n",
       "      <th>sp_4</th>\n",
       "      <th>...</th>\n",
       "      <th>cs_11_a</th>\n",
       "      <th>cs_11_b</th>\n",
       "      <th>cs_11_c</th>\n",
       "      <th>cs_15_a</th>\n",
       "      <th>cs_15_b</th>\n",
       "      <th>cs_16</th>\n",
       "      <th>cs_18</th>\n",
       "      <th>edad_3</th>\n",
       "      <th>educa_3</th>\n",
       "      <th>factor</th>\n",
       "    </tr>\n",
       "  </thead>\n",
       "  <tbody>\n",
       "    <tr>\n",
       "      <th>0</th>\n",
       "      <td>1.0</td>\n",
       "      <td>2.0</td>\n",
       "      <td>19.0</td>\n",
       "      <td>7.0</td>\n",
       "      <td>19.0</td>\n",
       "      <td>23.0</td>\n",
       "      <td>6.0</td>\n",
       "      <td>4.0</td>\n",
       "      <td>7.0</td>\n",
       "      <td>4.0</td>\n",
       "      <td>...</td>\n",
       "      <td>3.0</td>\n",
       "      <td>3.0</td>\n",
       "      <td>0.0</td>\n",
       "      <td>20.0</td>\n",
       "      <td>10.0</td>\n",
       "      <td>1.0</td>\n",
       "      <td>4954.0</td>\n",
       "      <td>3.0</td>\n",
       "      <td>3.0</td>\n",
       "      <td>0.551876</td>\n",
       "    </tr>\n",
       "    <tr>\n",
       "      <th>1</th>\n",
       "      <td>2.0</td>\n",
       "      <td>3.0</td>\n",
       "      <td>19.0</td>\n",
       "      <td>36.0</td>\n",
       "      <td>19.0</td>\n",
       "      <td>59.0</td>\n",
       "      <td>6.0</td>\n",
       "      <td>6.0</td>\n",
       "      <td>9.0</td>\n",
       "      <td>3.0</td>\n",
       "      <td>...</td>\n",
       "      <td>3.0</td>\n",
       "      <td>3.0</td>\n",
       "      <td>0.0</td>\n",
       "      <td>20.0</td>\n",
       "      <td>10.0</td>\n",
       "      <td>1.0</td>\n",
       "      <td>4954.0</td>\n",
       "      <td>3.0</td>\n",
       "      <td>1.0</td>\n",
       "      <td>1.929101</td>\n",
       "    </tr>\n",
       "    <tr>\n",
       "      <th>2</th>\n",
       "      <td>3.0</td>\n",
       "      <td>4.0</td>\n",
       "      <td>20.0</td>\n",
       "      <td>3.0</td>\n",
       "      <td>20.0</td>\n",
       "      <td>21.0</td>\n",
       "      <td>6.0</td>\n",
       "      <td>6.0</td>\n",
       "      <td>8.0</td>\n",
       "      <td>6.0</td>\n",
       "      <td>...</td>\n",
       "      <td>3.0</td>\n",
       "      <td>2.0</td>\n",
       "      <td>1.0</td>\n",
       "      <td>20.0</td>\n",
       "      <td>10.0</td>\n",
       "      <td>1.0</td>\n",
       "      <td>4954.0</td>\n",
       "      <td>2.0</td>\n",
       "      <td>3.0</td>\n",
       "      <td>0.581081</td>\n",
       "    </tr>\n",
       "    <tr>\n",
       "      <th>3</th>\n",
       "      <td>4.0</td>\n",
       "      <td>5.0</td>\n",
       "      <td>17.0</td>\n",
       "      <td>45.0</td>\n",
       "      <td>18.0</td>\n",
       "      <td>20.0</td>\n",
       "      <td>8.0</td>\n",
       "      <td>7.0</td>\n",
       "      <td>9.0</td>\n",
       "      <td>5.0</td>\n",
       "      <td>...</td>\n",
       "      <td>2.0</td>\n",
       "      <td>2.0</td>\n",
       "      <td>0.0</td>\n",
       "      <td>21.0</td>\n",
       "      <td>10.0</td>\n",
       "      <td>2.0</td>\n",
       "      <td>4956.0</td>\n",
       "      <td>3.0</td>\n",
       "      <td>2.0</td>\n",
       "      <td>1.024422</td>\n",
       "    </tr>\n",
       "    <tr>\n",
       "      <th>4</th>\n",
       "      <td>5.0</td>\n",
       "      <td>6.0</td>\n",
       "      <td>18.0</td>\n",
       "      <td>55.0</td>\n",
       "      <td>19.0</td>\n",
       "      <td>19.0</td>\n",
       "      <td>6.0</td>\n",
       "      <td>2.0</td>\n",
       "      <td>8.0</td>\n",
       "      <td>10.0</td>\n",
       "      <td>...</td>\n",
       "      <td>5.0</td>\n",
       "      <td>5.0</td>\n",
       "      <td>0.0</td>\n",
       "      <td>21.0</td>\n",
       "      <td>10.0</td>\n",
       "      <td>1.0</td>\n",
       "      <td>4957.0</td>\n",
       "      <td>1.0</td>\n",
       "      <td>3.0</td>\n",
       "      <td>0.495990</td>\n",
       "    </tr>\n",
       "  </tbody>\n",
       "</table>\n",
       "<p>5 rows × 130 columns</p>\n",
       "</div>"
      ],
      "text/plain": [
       "   cuestionario   id    hi    mi    hf    mf  sp_1  sp_2  sp_3  sp_4  ...  \\\n",
       "0           1.0  2.0  19.0   7.0  19.0  23.0   6.0   4.0   7.0   4.0  ...   \n",
       "1           2.0  3.0  19.0  36.0  19.0  59.0   6.0   6.0   9.0   3.0  ...   \n",
       "2           3.0  4.0  20.0   3.0  20.0  21.0   6.0   6.0   8.0   6.0  ...   \n",
       "3           4.0  5.0  17.0  45.0  18.0  20.0   8.0   7.0   9.0   5.0  ...   \n",
       "4           5.0  6.0  18.0  55.0  19.0  19.0   6.0   2.0   8.0  10.0  ...   \n",
       "\n",
       "   cs_11_a  cs_11_b  cs_11_c  cs_15_a  cs_15_b  cs_16   cs_18  edad_3  \\\n",
       "0      3.0      3.0      0.0     20.0     10.0    1.0  4954.0     3.0   \n",
       "1      3.0      3.0      0.0     20.0     10.0    1.0  4954.0     3.0   \n",
       "2      3.0      2.0      1.0     20.0     10.0    1.0  4954.0     2.0   \n",
       "3      2.0      2.0      0.0     21.0     10.0    2.0  4956.0     3.0   \n",
       "4      5.0      5.0      0.0     21.0     10.0    1.0  4957.0     1.0   \n",
       "\n",
       "   educa_3    factor  \n",
       "0      3.0  0.551876  \n",
       "1      1.0  1.929101  \n",
       "2      3.0  0.581081  \n",
       "3      2.0  1.024422  \n",
       "4      3.0  0.495990  \n",
       "\n",
       "[5 rows x 130 columns]"
      ]
     },
     "execution_count": 2,
     "metadata": {},
     "output_type": "execute_result"
    }
   ],
   "source": [
    "# Import data from SPSS and clean columns\n",
    "df_survey, metadata = pyreadstat.read_sav(\"data/2021_ACTUALIDADES_DATOS.sav\")\n",
    "df_survey = skimpy.clean_columns(df_survey)\n",
    "df_survey.head()"
   ]
  },
  {
   "cell_type": "code",
   "execution_count": 3,
   "id": "8d08d4c7",
   "metadata": {},
   "outputs": [
    {
     "data": {
      "text/html": [
       "<pre style=\"white-space:pre;overflow-x:auto;line-height:normal;font-family:Menlo,'DejaVu Sans Mono',consolas,'Courier New',monospace\">╭──────────────────────────────────────────────── skimpy summary ─────────────────────────────────────────────────╮\n",
       "│ <span style=\"font-style: italic\">         Data Summary         </span> <span style=\"font-style: italic\">      Data Types       </span>                                                          │\n",
       "│ ┏━━━━━━━━━━━━━━━━━━━┳━━━━━━━━┓ ┏━━━━━━━━━━━━━┳━━━━━━━┓                                                          │\n",
       "│ ┃<span style=\"color: #008080; text-decoration-color: #008080; font-weight: bold\"> dataframe         </span>┃<span style=\"color: #008080; text-decoration-color: #008080; font-weight: bold\"> Values </span>┃ ┃<span style=\"color: #008080; text-decoration-color: #008080; font-weight: bold\"> Column Type </span>┃<span style=\"color: #008080; text-decoration-color: #008080; font-weight: bold\"> Count </span>┃                                                          │\n",
       "│ ┡━━━━━━━━━━━━━━━━━━━╇━━━━━━━━┩ ┡━━━━━━━━━━━━━╇━━━━━━━┩                                                          │\n",
       "│ │ Number of rows    │ 2003   │ │ float64     │ 123   │                                                          │\n",
       "│ │ Number of columns │ 130    │ │ string      │ 7     │                                                          │\n",
       "│ └───────────────────┴────────┘ └─────────────┴───────┘                                                          │\n",
       "│ <span style=\"font-style: italic\">                                                    number                                                    </span>  │\n",
       "│ ┏━━━━━━━━━━━━━━━━━━┳━━━━━━━━┳━━━━━━━━━┳━━━━━━━━━┳━━━━━━━━┳━━━━━━━━┳━━━━━━━━┳━━━━━━━┳━━━━━━━┳━━━━━━━┳━━━━━━━━━┓  │\n",
       "│ ┃<span style=\"font-weight: bold\"> column_name      </span>┃<span style=\"font-weight: bold\"> NA     </span>┃<span style=\"font-weight: bold\"> NA %    </span>┃<span style=\"font-weight: bold\"> mean    </span>┃<span style=\"font-weight: bold\"> sd     </span>┃<span style=\"font-weight: bold\"> p0     </span>┃<span style=\"font-weight: bold\"> p25    </span>┃<span style=\"font-weight: bold\"> p50   </span>┃<span style=\"font-weight: bold\"> p75   </span>┃<span style=\"font-weight: bold\"> p100  </span>┃<span style=\"font-weight: bold\"> hist    </span>┃  │\n",
       "│ ┡━━━━━━━━━━━━━━━━━━╇━━━━━━━━╇━━━━━━━━━╇━━━━━━━━━╇━━━━━━━━╇━━━━━━━━╇━━━━━━━━╇━━━━━━━╇━━━━━━━╇━━━━━━━╇━━━━━━━━━┩  │\n",
       "│ │ <span style=\"color: #af87ff; text-decoration-color: #af87ff\">cuestionario    </span> │ <span style=\"color: #008080; text-decoration-color: #008080\">     0</span> │ <span style=\"color: #008080; text-decoration-color: #008080\">      0</span> │ <span style=\"color: #008080; text-decoration-color: #008080\">   1000</span> │ <span style=\"color: #008080; text-decoration-color: #008080\">   580</span> │ <span style=\"color: #008080; text-decoration-color: #008080\">     1</span> │ <span style=\"color: #008080; text-decoration-color: #008080\">   500</span> │ <span style=\"color: #008080; text-decoration-color: #008080\"> 1000</span> │ <span style=\"color: #008080; text-decoration-color: #008080\"> 1500</span> │ <span style=\"color: #008080; text-decoration-color: #008080\"> 2000</span> │ <span style=\"color: #008000; text-decoration-color: #008000\">▇▇▇▇▇▇ </span> │  │\n",
       "│ │ <span style=\"color: #af87ff; text-decoration-color: #af87ff\">id              </span> │ <span style=\"color: #008080; text-decoration-color: #008080\">     0</span> │ <span style=\"color: #008080; text-decoration-color: #008080\">      0</span> │ <span style=\"color: #008080; text-decoration-color: #008080\">     17</span> │ <span style=\"color: #008080; text-decoration-color: #008080\">    10</span> │ <span style=\"color: #008080; text-decoration-color: #008080\">     1</span> │ <span style=\"color: #008080; text-decoration-color: #008080\">     8</span> │ <span style=\"color: #008080; text-decoration-color: #008080\">   17</span> │ <span style=\"color: #008080; text-decoration-color: #008080\">   26</span> │ <span style=\"color: #008080; text-decoration-color: #008080\">   38</span> │ <span style=\"color: #008000; text-decoration-color: #008000\">▇▆▆▆▅▃ </span> │  │\n",
       "│ │ <span style=\"color: #af87ff; text-decoration-color: #af87ff\">hi              </span> │ <span style=\"color: #008080; text-decoration-color: #008080\">     0</span> │ <span style=\"color: #008080; text-decoration-color: #008080\">      0</span> │ <span style=\"color: #008080; text-decoration-color: #008080\">     15</span> │ <span style=\"color: #008080; text-decoration-color: #008080\">     3</span> │ <span style=\"color: #008080; text-decoration-color: #008080\">     8</span> │ <span style=\"color: #008080; text-decoration-color: #008080\">    13</span> │ <span style=\"color: #008080; text-decoration-color: #008080\">   15</span> │ <span style=\"color: #008080; text-decoration-color: #008080\">   17</span> │ <span style=\"color: #008080; text-decoration-color: #008080\">   21</span> │ <span style=\"color: #008000; text-decoration-color: #008000\">▃▃▅▇▇▃ </span> │  │\n",
       "│ │ <span style=\"color: #af87ff; text-decoration-color: #af87ff\">mi              </span> │ <span style=\"color: #008080; text-decoration-color: #008080\">     0</span> │ <span style=\"color: #008080; text-decoration-color: #008080\">      0</span> │ <span style=\"color: #008080; text-decoration-color: #008080\">     29</span> │ <span style=\"color: #008080; text-decoration-color: #008080\">    17</span> │ <span style=\"color: #008080; text-decoration-color: #008080\">     0</span> │ <span style=\"color: #008080; text-decoration-color: #008080\">    14</span> │ <span style=\"color: #008080; text-decoration-color: #008080\">   29</span> │ <span style=\"color: #008080; text-decoration-color: #008080\">   43</span> │ <span style=\"color: #008080; text-decoration-color: #008080\">   59</span> │ <span style=\"color: #008000; text-decoration-color: #008000\">▇▇▇▇▇▆ </span> │  │\n",
       "│ │ <span style=\"color: #af87ff; text-decoration-color: #af87ff\">hf              </span> │ <span style=\"color: #008080; text-decoration-color: #008080\">     0</span> │ <span style=\"color: #008080; text-decoration-color: #008080\">      0</span> │ <span style=\"color: #008080; text-decoration-color: #008080\">     15</span> │ <span style=\"color: #008080; text-decoration-color: #008080\">   3.5</span> │ <span style=\"color: #008080; text-decoration-color: #008080\">     8</span> │ <span style=\"color: #008080; text-decoration-color: #008080\">    13</span> │ <span style=\"color: #008080; text-decoration-color: #008080\">   16</span> │ <span style=\"color: #008080; text-decoration-color: #008080\">   18</span> │ <span style=\"color: #008080; text-decoration-color: #008080\">   99</span> │ <span style=\"color: #008000; text-decoration-color: #008000\">   ▇   </span> │  │\n",
       "│ │ <span style=\"color: #af87ff; text-decoration-color: #af87ff\">mf              </span> │ <span style=\"color: #008080; text-decoration-color: #008080\">     0</span> │ <span style=\"color: #008080; text-decoration-color: #008080\">      0</span> │ <span style=\"color: #008080; text-decoration-color: #008080\">     30</span> │ <span style=\"color: #008080; text-decoration-color: #008080\">    17</span> │ <span style=\"color: #008080; text-decoration-color: #008080\">     0</span> │ <span style=\"color: #008080; text-decoration-color: #008080\">    15</span> │ <span style=\"color: #008080; text-decoration-color: #008080\">   30</span> │ <span style=\"color: #008080; text-decoration-color: #008080\">   45</span> │ <span style=\"color: #008080; text-decoration-color: #008080\">   99</span> │ <span style=\"color: #008000; text-decoration-color: #008000\"> ▇▇▇▅  </span> │  │\n",
       "│ │ <span style=\"color: #af87ff; text-decoration-color: #af87ff\">sp_1            </span> │ <span style=\"color: #008080; text-decoration-color: #008080\">     0</span> │ <span style=\"color: #008080; text-decoration-color: #008080\">      0</span> │ <span style=\"color: #008080; text-decoration-color: #008080\">    6.9</span> │ <span style=\"color: #008080; text-decoration-color: #008080\">   8.6</span> │ <span style=\"color: #008080; text-decoration-color: #008080\">     0</span> │ <span style=\"color: #008080; text-decoration-color: #008080\">     5</span> │ <span style=\"color: #008080; text-decoration-color: #008080\">    7</span> │ <span style=\"color: #008080; text-decoration-color: #008080\">    8</span> │ <span style=\"color: #008080; text-decoration-color: #008080\">   99</span> │ <span style=\"color: #008000; text-decoration-color: #008000\">   ▇   </span> │  │\n",
       "│ │ <span style=\"color: #af87ff; text-decoration-color: #af87ff\">sp_2            </span> │ <span style=\"color: #008080; text-decoration-color: #008080\">     0</span> │ <span style=\"color: #008080; text-decoration-color: #008080\">      0</span> │ <span style=\"color: #008080; text-decoration-color: #008080\">    5.7</span> │ <span style=\"color: #008080; text-decoration-color: #008080\">   9.6</span> │ <span style=\"color: #008080; text-decoration-color: #008080\">     0</span> │ <span style=\"color: #008080; text-decoration-color: #008080\">     4</span> │ <span style=\"color: #008080; text-decoration-color: #008080\">    5</span> │ <span style=\"color: #008080; text-decoration-color: #008080\">    6</span> │ <span style=\"color: #008080; text-decoration-color: #008080\">   99</span> │ <span style=\"color: #008000; text-decoration-color: #008000\">   ▇   </span> │  │\n",
       "│ │ <span style=\"color: #af87ff; text-decoration-color: #af87ff\">sp_3            </span> │ <span style=\"color: #008080; text-decoration-color: #008080\">     0</span> │ <span style=\"color: #008080; text-decoration-color: #008080\">      0</span> │ <span style=\"color: #008080; text-decoration-color: #008080\">    8.3</span> │ <span style=\"color: #008080; text-decoration-color: #008080\">   7.3</span> │ <span style=\"color: #008080; text-decoration-color: #008080\">     0</span> │ <span style=\"color: #008080; text-decoration-color: #008080\">     7</span> │ <span style=\"color: #008080; text-decoration-color: #008080\">    8</span> │ <span style=\"color: #008080; text-decoration-color: #008080\">    9</span> │ <span style=\"color: #008080; text-decoration-color: #008080\">   99</span> │ <span style=\"color: #008000; text-decoration-color: #008000\">   ▇   </span> │  │\n",
       "│ │ <span style=\"color: #af87ff; text-decoration-color: #af87ff\">sp_4            </span> │ <span style=\"color: #008080; text-decoration-color: #008080\">     0</span> │ <span style=\"color: #008080; text-decoration-color: #008080\">      0</span> │ <span style=\"color: #008080; text-decoration-color: #008080\">    5.2</span> │ <span style=\"color: #008080; text-decoration-color: #008080\">    10</span> │ <span style=\"color: #008080; text-decoration-color: #008080\">     0</span> │ <span style=\"color: #008080; text-decoration-color: #008080\">     2</span> │ <span style=\"color: #008080; text-decoration-color: #008080\">    5</span> │ <span style=\"color: #008080; text-decoration-color: #008080\">    6</span> │ <span style=\"color: #008080; text-decoration-color: #008080\">   99</span> │ <span style=\"color: #008000; text-decoration-color: #008000\">   ▇   </span> │  │\n",
       "│ │ <span style=\"color: #af87ff; text-decoration-color: #af87ff\">sp_5            </span> │ <span style=\"color: #008080; text-decoration-color: #008080\">     0</span> │ <span style=\"color: #008080; text-decoration-color: #008080\">      0</span> │ <span style=\"color: #008080; text-decoration-color: #008080\">    5.2</span> │ <span style=\"color: #008080; text-decoration-color: #008080\">   9.7</span> │ <span style=\"color: #008080; text-decoration-color: #008080\">     0</span> │ <span style=\"color: #008080; text-decoration-color: #008080\">     3</span> │ <span style=\"color: #008080; text-decoration-color: #008080\">    5</span> │ <span style=\"color: #008080; text-decoration-color: #008080\">    6</span> │ <span style=\"color: #008080; text-decoration-color: #008080\">   99</span> │ <span style=\"color: #008000; text-decoration-color: #008000\">   ▇   </span> │  │\n",
       "│ │ <span style=\"color: #af87ff; text-decoration-color: #af87ff\">sp_6            </span> │ <span style=\"color: #008080; text-decoration-color: #008080\">     0</span> │ <span style=\"color: #008080; text-decoration-color: #008080\">      0</span> │ <span style=\"color: #008080; text-decoration-color: #008080\">    5.5</span> │ <span style=\"color: #008080; text-decoration-color: #008080\">    11</span> │ <span style=\"color: #008080; text-decoration-color: #008080\">     0</span> │ <span style=\"color: #008080; text-decoration-color: #008080\">     3</span> │ <span style=\"color: #008080; text-decoration-color: #008080\">    5</span> │ <span style=\"color: #008080; text-decoration-color: #008080\">    6</span> │ <span style=\"color: #008080; text-decoration-color: #008080\">   99</span> │ <span style=\"color: #008000; text-decoration-color: #008000\">   ▇   </span> │  │\n",
       "│ │ <span style=\"color: #af87ff; text-decoration-color: #af87ff\">rp_1            </span> │ <span style=\"color: #008080; text-decoration-color: #008080\">     0</span> │ <span style=\"color: #008080; text-decoration-color: #008080\">      0</span> │ <span style=\"color: #008080; text-decoration-color: #008080\">    2.6</span> │ <span style=\"color: #008080; text-decoration-color: #008080\">   1.1</span> │ <span style=\"color: #008080; text-decoration-color: #008080\">     1</span> │ <span style=\"color: #008080; text-decoration-color: #008080\">     2</span> │ <span style=\"color: #008080; text-decoration-color: #008080\">    3</span> │ <span style=\"color: #008080; text-decoration-color: #008080\">    3</span> │ <span style=\"color: #008080; text-decoration-color: #008080\">    9</span> │ <span style=\"color: #008000; text-decoration-color: #008000\">  ▃▇   </span> │  │\n",
       "│ │ <span style=\"color: #af87ff; text-decoration-color: #af87ff\">rp_2            </span> │ <span style=\"color: #008080; text-decoration-color: #008080\">  1495</span> │ <span style=\"color: #008080; text-decoration-color: #008080\">  74.64</span> │ <span style=\"color: #008080; text-decoration-color: #008080\">      2</span> │ <span style=\"color: #008080; text-decoration-color: #008080\">     2</span> │ <span style=\"color: #008080; text-decoration-color: #008080\">     1</span> │ <span style=\"color: #008080; text-decoration-color: #008080\">     1</span> │ <span style=\"color: #008080; text-decoration-color: #008080\">    1</span> │ <span style=\"color: #008080; text-decoration-color: #008080\">    2</span> │ <span style=\"color: #008080; text-decoration-color: #008080\">    9</span> │ <span style=\"color: #008000; text-decoration-color: #008000\">▇    ▁ </span> │  │\n",
       "│ │ <span style=\"color: #af87ff; text-decoration-color: #af87ff\">rp_3            </span> │ <span style=\"color: #008080; text-decoration-color: #008080\">     0</span> │ <span style=\"color: #008080; text-decoration-color: #008080\">      0</span> │ <span style=\"color: #008080; text-decoration-color: #008080\">    8.4</span> │ <span style=\"color: #008080; text-decoration-color: #008080\">    17</span> │ <span style=\"color: #008080; text-decoration-color: #008080\">     0</span> │ <span style=\"color: #008080; text-decoration-color: #008080\">     3</span> │ <span style=\"color: #008080; text-decoration-color: #008080\">    5</span> │ <span style=\"color: #008080; text-decoration-color: #008080\">    8</span> │ <span style=\"color: #008080; text-decoration-color: #008080\">   99</span> │ <span style=\"color: #008000; text-decoration-color: #008000\">   ▇   </span> │  │\n",
       "│ │ <span style=\"color: #af87ff; text-decoration-color: #af87ff\">rp_4            </span> │ <span style=\"color: #008080; text-decoration-color: #008080\">     0</span> │ <span style=\"color: #008080; text-decoration-color: #008080\">      0</span> │ <span style=\"color: #008080; text-decoration-color: #008080\">     10</span> │ <span style=\"color: #008080; text-decoration-color: #008080\">    20</span> │ <span style=\"color: #008080; text-decoration-color: #008080\">     0</span> │ <span style=\"color: #008080; text-decoration-color: #008080\">     3</span> │ <span style=\"color: #008080; text-decoration-color: #008080\">    5</span> │ <span style=\"color: #008080; text-decoration-color: #008080\">    8</span> │ <span style=\"color: #008080; text-decoration-color: #008080\">   99</span> │ <span style=\"color: #008000; text-decoration-color: #008000\">   ▇   </span> │  │\n",
       "│ │ <span style=\"color: #af87ff; text-decoration-color: #af87ff\">rp_5            </span> │ <span style=\"color: #008080; text-decoration-color: #008080\">     0</span> │ <span style=\"color: #008080; text-decoration-color: #008080\">      0</span> │ <span style=\"color: #008080; text-decoration-color: #008080\">    1.7</span> │ <span style=\"color: #008080; text-decoration-color: #008080\">  0.73</span> │ <span style=\"color: #008080; text-decoration-color: #008080\">     1</span> │ <span style=\"color: #008080; text-decoration-color: #008080\">     1</span> │ <span style=\"color: #008080; text-decoration-color: #008080\">    2</span> │ <span style=\"color: #008080; text-decoration-color: #008080\">    2</span> │ <span style=\"color: #008080; text-decoration-color: #008080\">    9</span> │ <span style=\"color: #008000; text-decoration-color: #008000\">   ▇   </span> │  │\n",
       "│ │ <span style=\"color: #af87ff; text-decoration-color: #af87ff\">rp_6            </span> │ <span style=\"color: #008080; text-decoration-color: #008080\">     0</span> │ <span style=\"color: #008080; text-decoration-color: #008080\">      0</span> │ <span style=\"color: #008080; text-decoration-color: #008080\">    1.3</span> │ <span style=\"color: #008080; text-decoration-color: #008080\">  0.75</span> │ <span style=\"color: #008080; text-decoration-color: #008080\">     1</span> │ <span style=\"color: #008080; text-decoration-color: #008080\">     1</span> │ <span style=\"color: #008080; text-decoration-color: #008080\">    1</span> │ <span style=\"color: #008080; text-decoration-color: #008080\">    1</span> │ <span style=\"color: #008080; text-decoration-color: #008080\">    9</span> │ <span style=\"color: #008000; text-decoration-color: #008000\">   ▇   </span> │  │\n",
       "│ │ <span style=\"color: #af87ff; text-decoration-color: #af87ff\">rp_7            </span> │ <span style=\"color: #008080; text-decoration-color: #008080\">   361</span> │ <span style=\"color: #008080; text-decoration-color: #008080\">  18.02</span> │ <span style=\"color: #008080; text-decoration-color: #008080\">    1.7</span> │ <span style=\"color: #008080; text-decoration-color: #008080\">  0.62</span> │ <span style=\"color: #008080; text-decoration-color: #008080\">     1</span> │ <span style=\"color: #008080; text-decoration-color: #008080\">     1</span> │ <span style=\"color: #008080; text-decoration-color: #008080\">    2</span> │ <span style=\"color: #008080; text-decoration-color: #008080\">    2</span> │ <span style=\"color: #008080; text-decoration-color: #008080\">    9</span> │ <span style=\"color: #008000; text-decoration-color: #008000\">   ▇   </span> │  │\n",
       "│ │ <span style=\"color: #af87ff; text-decoration-color: #af87ff\">cr_1            </span> │ <span style=\"color: #008080; text-decoration-color: #008080\">     0</span> │ <span style=\"color: #008080; text-decoration-color: #008080\">      0</span> │ <span style=\"color: #008080; text-decoration-color: #008080\">    4.7</span> │ <span style=\"color: #008080; text-decoration-color: #008080\">  0.66</span> │ <span style=\"color: #008080; text-decoration-color: #008080\">     1</span> │ <span style=\"color: #008080; text-decoration-color: #008080\">     4</span> │ <span style=\"color: #008080; text-decoration-color: #008080\">    5</span> │ <span style=\"color: #008080; text-decoration-color: #008080\">    5</span> │ <span style=\"color: #008080; text-decoration-color: #008080\">    5</span> │ <span style=\"color: #008000; text-decoration-color: #008000\">    ▂▇ </span> │  │\n",
       "│ │ <span style=\"color: #af87ff; text-decoration-color: #af87ff\">cr_2            </span> │ <span style=\"color: #008080; text-decoration-color: #008080\">     0</span> │ <span style=\"color: #008080; text-decoration-color: #008080\">      0</span> │ <span style=\"color: #008080; text-decoration-color: #008080\">    4.7</span> │ <span style=\"color: #008080; text-decoration-color: #008080\">  0.66</span> │ <span style=\"color: #008080; text-decoration-color: #008080\">     1</span> │ <span style=\"color: #008080; text-decoration-color: #008080\">     5</span> │ <span style=\"color: #008080; text-decoration-color: #008080\">    5</span> │ <span style=\"color: #008080; text-decoration-color: #008080\">    5</span> │ <span style=\"color: #008080; text-decoration-color: #008080\">    5</span> │ <span style=\"color: #008000; text-decoration-color: #008000\">    ▂▇ </span> │  │\n",
       "│ │ <span style=\"color: #af87ff; text-decoration-color: #af87ff\">cr_3            </span> │ <span style=\"color: #008080; text-decoration-color: #008080\">     0</span> │ <span style=\"color: #008080; text-decoration-color: #008080\">      0</span> │ <span style=\"color: #008080; text-decoration-color: #008080\">    1.9</span> │ <span style=\"color: #008080; text-decoration-color: #008080\">   1.1</span> │ <span style=\"color: #008080; text-decoration-color: #008080\">     1</span> │ <span style=\"color: #008080; text-decoration-color: #008080\">     1</span> │ <span style=\"color: #008080; text-decoration-color: #008080\">    2</span> │ <span style=\"color: #008080; text-decoration-color: #008080\">    2</span> │ <span style=\"color: #008080; text-decoration-color: #008080\">    5</span> │ <span style=\"color: #008000; text-decoration-color: #008000\">▇▇ ▁▂▁ </span> │  │\n",
       "│ │ <span style=\"color: #af87ff; text-decoration-color: #af87ff\">cr_4            </span> │ <span style=\"color: #008080; text-decoration-color: #008080\">     0</span> │ <span style=\"color: #008080; text-decoration-color: #008080\">      0</span> │ <span style=\"color: #008080; text-decoration-color: #008080\">    1.7</span> │ <span style=\"color: #008080; text-decoration-color: #008080\">  0.93</span> │ <span style=\"color: #008080; text-decoration-color: #008080\">     1</span> │ <span style=\"color: #008080; text-decoration-color: #008080\">     1</span> │ <span style=\"color: #008080; text-decoration-color: #008080\">    1</span> │ <span style=\"color: #008080; text-decoration-color: #008080\">    2</span> │ <span style=\"color: #008080; text-decoration-color: #008080\">    9</span> │ <span style=\"color: #008000; text-decoration-color: #008000\">  ▇▁   </span> │  │\n",
       "│ │ <span style=\"color: #af87ff; text-decoration-color: #af87ff\">af_1            </span> │ <span style=\"color: #008080; text-decoration-color: #008080\">     0</span> │ <span style=\"color: #008080; text-decoration-color: #008080\">      0</span> │ <span style=\"color: #008080; text-decoration-color: #008080\">    1.6</span> │ <span style=\"color: #008080; text-decoration-color: #008080\">   2.4</span> │ <span style=\"color: #008080; text-decoration-color: #008080\">     0</span> │ <span style=\"color: #008080; text-decoration-color: #008080\">     0</span> │ <span style=\"color: #008080; text-decoration-color: #008080\">    0</span> │ <span style=\"color: #008080; text-decoration-color: #008080\">    3</span> │ <span style=\"color: #008080; text-decoration-color: #008080\">    9</span> │ <span style=\"color: #008000; text-decoration-color: #008000\"> ▇▁▂▁▁ </span> │  │\n",
       "│ │ <span style=\"color: #af87ff; text-decoration-color: #af87ff\">af_2_horas      </span> │ <span style=\"color: #008080; text-decoration-color: #008080\">  1183</span> │ <span style=\"color: #008080; text-decoration-color: #008080\">  59.06</span> │ <span style=\"color: #008080; text-decoration-color: #008080\">    2.7</span> │ <span style=\"color: #008080; text-decoration-color: #008080\">    11</span> │ <span style=\"color: #008080; text-decoration-color: #008080\">     0</span> │ <span style=\"color: #008080; text-decoration-color: #008080\">     0</span> │ <span style=\"color: #008080; text-decoration-color: #008080\">    1</span> │ <span style=\"color: #008080; text-decoration-color: #008080\">    2</span> │ <span style=\"color: #008080; text-decoration-color: #008080\">   99</span> │ <span style=\"color: #008000; text-decoration-color: #008000\">   ▇   </span> │  │\n",
       "│ │ <span style=\"color: #af87ff; text-decoration-color: #af87ff\">af_2_minutos    </span> │ <span style=\"color: #008080; text-decoration-color: #008080\">  1183</span> │ <span style=\"color: #008080; text-decoration-color: #008080\">  59.06</span> │ <span style=\"color: #008080; text-decoration-color: #008080\">     15</span> │ <span style=\"color: #008080; text-decoration-color: #008080\">    19</span> │ <span style=\"color: #008080; text-decoration-color: #008080\">     0</span> │ <span style=\"color: #008080; text-decoration-color: #008080\">     0</span> │ <span style=\"color: #008080; text-decoration-color: #008080\">    0</span> │ <span style=\"color: #008080; text-decoration-color: #008080\">   30</span> │ <span style=\"color: #008080; text-decoration-color: #008080\">   99</span> │ <span style=\"color: #008000; text-decoration-color: #008000\">  ▇▅▁  </span> │  │\n",
       "│ │ <span style=\"color: #af87ff; text-decoration-color: #af87ff\">af_3            </span> │ <span style=\"color: #008080; text-decoration-color: #008080\">     0</span> │ <span style=\"color: #008080; text-decoration-color: #008080\">      0</span> │ <span style=\"color: #008080; text-decoration-color: #008080\">    1.7</span> │ <span style=\"color: #008080; text-decoration-color: #008080\">   2.5</span> │ <span style=\"color: #008080; text-decoration-color: #008080\">     0</span> │ <span style=\"color: #008080; text-decoration-color: #008080\">     0</span> │ <span style=\"color: #008080; text-decoration-color: #008080\">    0</span> │ <span style=\"color: #008080; text-decoration-color: #008080\">    3</span> │ <span style=\"color: #008080; text-decoration-color: #008080\">    9</span> │ <span style=\"color: #008000; text-decoration-color: #008000\"> ▇▁▁ ▂ </span> │  │\n",
       "│ │ <span style=\"color: #af87ff; text-decoration-color: #af87ff\">af_4_horas      </span> │ <span style=\"color: #008080; text-decoration-color: #008080\">  1234</span> │ <span style=\"color: #008080; text-decoration-color: #008080\">  61.61</span> │ <span style=\"color: #008080; text-decoration-color: #008080\">      3</span> │ <span style=\"color: #008080; text-decoration-color: #008080\">    11</span> │ <span style=\"color: #008080; text-decoration-color: #008080\">     0</span> │ <span style=\"color: #008080; text-decoration-color: #008080\">     0</span> │ <span style=\"color: #008080; text-decoration-color: #008080\">    1</span> │ <span style=\"color: #008080; text-decoration-color: #008080\">    2</span> │ <span style=\"color: #008080; text-decoration-color: #008080\">   99</span> │ <span style=\"color: #008000; text-decoration-color: #008000\">   ▇   </span> │  │\n",
       "│ │ <span style=\"color: #af87ff; text-decoration-color: #af87ff\">af_4_minutos    </span> │ <span style=\"color: #008080; text-decoration-color: #008080\">  1234</span> │ <span style=\"color: #008080; text-decoration-color: #008080\">  61.61</span> │ <span style=\"color: #008080; text-decoration-color: #008080\">     14</span> │ <span style=\"color: #008080; text-decoration-color: #008080\">    18</span> │ <span style=\"color: #008080; text-decoration-color: #008080\">     0</span> │ <span style=\"color: #008080; text-decoration-color: #008080\">     0</span> │ <span style=\"color: #008080; text-decoration-color: #008080\">    0</span> │ <span style=\"color: #008080; text-decoration-color: #008080\">   30</span> │ <span style=\"color: #008080; text-decoration-color: #008080\">   99</span> │ <span style=\"color: #008000; text-decoration-color: #008000\">  ▇▃▁  </span> │  │\n",
       "│ │ <span style=\"color: #af87ff; text-decoration-color: #af87ff\">af_5            </span> │ <span style=\"color: #008080; text-decoration-color: #008080\">     0</span> │ <span style=\"color: #008080; text-decoration-color: #008080\">      0</span> │ <span style=\"color: #008080; text-decoration-color: #008080\">    4.2</span> │ <span style=\"color: #008080; text-decoration-color: #008080\">   2.8</span> │ <span style=\"color: #008080; text-decoration-color: #008080\">     0</span> │ <span style=\"color: #008080; text-decoration-color: #008080\">     2</span> │ <span style=\"color: #008080; text-decoration-color: #008080\">    5</span> │ <span style=\"color: #008080; text-decoration-color: #008080\">    7</span> │ <span style=\"color: #008080; text-decoration-color: #008080\">    9</span> │ <span style=\"color: #008000; text-decoration-color: #008000\"> ▅▂▃▂▇ </span> │  │\n",
       "│ │ <span style=\"color: #af87ff; text-decoration-color: #af87ff\">af_6_horas      </span> │ <span style=\"color: #008080; text-decoration-color: #008080\">   386</span> │ <span style=\"color: #008080; text-decoration-color: #008080\">  19.27</span> │ <span style=\"color: #008080; text-decoration-color: #008080\">    5.2</span> │ <span style=\"color: #008080; text-decoration-color: #008080\">    18</span> │ <span style=\"color: #008080; text-decoration-color: #008080\">     0</span> │ <span style=\"color: #008080; text-decoration-color: #008080\">     0</span> │ <span style=\"color: #008080; text-decoration-color: #008080\">    1</span> │ <span style=\"color: #008080; text-decoration-color: #008080\">    2</span> │ <span style=\"color: #008080; text-decoration-color: #008080\">   99</span> │ <span style=\"color: #008000; text-decoration-color: #008000\">   ▇   </span> │  │\n",
       "│ │ <span style=\"color: #af87ff; text-decoration-color: #af87ff\">af_6_minutos    </span> │ <span style=\"color: #008080; text-decoration-color: #008080\">   386</span> │ <span style=\"color: #008080; text-decoration-color: #008080\">  19.27</span> │ <span style=\"color: #008080; text-decoration-color: #008080\">     18</span> │ <span style=\"color: #008080; text-decoration-color: #008080\">    21</span> │ <span style=\"color: #008080; text-decoration-color: #008080\">     0</span> │ <span style=\"color: #008080; text-decoration-color: #008080\">     0</span> │ <span style=\"color: #008080; text-decoration-color: #008080\">   15</span> │ <span style=\"color: #008080; text-decoration-color: #008080\">   30</span> │ <span style=\"color: #008080; text-decoration-color: #008080\">   99</span> │ <span style=\"color: #008000; text-decoration-color: #008000\">▇▅▁  ▁ </span> │  │\n",
       "│ │ <span style=\"color: #af87ff; text-decoration-color: #af87ff\">af_7_horas      </span> │ <span style=\"color: #008080; text-decoration-color: #008080\">     0</span> │ <span style=\"color: #008080; text-decoration-color: #008080\">      0</span> │ <span style=\"color: #008080; text-decoration-color: #008080\">    7.5</span> │ <span style=\"color: #008080; text-decoration-color: #008080\">    17</span> │ <span style=\"color: #008080; text-decoration-color: #008080\">     0</span> │ <span style=\"color: #008080; text-decoration-color: #008080\">     2</span> │ <span style=\"color: #008080; text-decoration-color: #008080\">    4</span> │ <span style=\"color: #008080; text-decoration-color: #008080\">    7</span> │ <span style=\"color: #008080; text-decoration-color: #008080\">   99</span> │ <span style=\"color: #008000; text-decoration-color: #008000\">   ▇   </span> │  │\n",
       "│ │ <span style=\"color: #af87ff; text-decoration-color: #af87ff\">af_7_minutos    </span> │ <span style=\"color: #008080; text-decoration-color: #008080\">     0</span> │ <span style=\"color: #008080; text-decoration-color: #008080\">      0</span> │ <span style=\"color: #008080; text-decoration-color: #008080\">    7.1</span> │ <span style=\"color: #008080; text-decoration-color: #008080\">    20</span> │ <span style=\"color: #008080; text-decoration-color: #008080\">     0</span> │ <span style=\"color: #008080; text-decoration-color: #008080\">     0</span> │ <span style=\"color: #008080; text-decoration-color: #008080\">    0</span> │ <span style=\"color: #008080; text-decoration-color: #008080\">    0</span> │ <span style=\"color: #008080; text-decoration-color: #008080\">   99</span> │ <span style=\"color: #008000; text-decoration-color: #008000\">  ▇▁   </span> │  │\n",
       "│ │ <span style=\"color: #af87ff; text-decoration-color: #af87ff\">af_8            </span> │ <span style=\"color: #008080; text-decoration-color: #008080\">     0</span> │ <span style=\"color: #008080; text-decoration-color: #008080\">      0</span> │ <span style=\"color: #008080; text-decoration-color: #008080\">    1.8</span> │ <span style=\"color: #008080; text-decoration-color: #008080\">     1</span> │ <span style=\"color: #008080; text-decoration-color: #008080\">     1</span> │ <span style=\"color: #008080; text-decoration-color: #008080\">     1</span> │ <span style=\"color: #008080; text-decoration-color: #008080\">    2</span> │ <span style=\"color: #008080; text-decoration-color: #008080\">    2</span> │ <span style=\"color: #008080; text-decoration-color: #008080\">    9</span> │ <span style=\"color: #008000; text-decoration-color: #008000\">  ▇▂   </span> │  │\n",
       "│ │ <span style=\"color: #af87ff; text-decoration-color: #af87ff\">rv_1            </span> │ <span style=\"color: #008080; text-decoration-color: #008080\">     0</span> │ <span style=\"color: #008080; text-decoration-color: #008080\">      0</span> │ <span style=\"color: #008080; text-decoration-color: #008080\">    2.3</span> │ <span style=\"color: #008080; text-decoration-color: #008080\">   1.4</span> │ <span style=\"color: #008080; text-decoration-color: #008080\">     1</span> │ <span style=\"color: #008080; text-decoration-color: #008080\">     1</span> │ <span style=\"color: #008080; text-decoration-color: #008080\">    2</span> │ <span style=\"color: #008080; text-decoration-color: #008080\">    3</span> │ <span style=\"color: #008080; text-decoration-color: #008080\">    9</span> │ <span style=\"color: #008000; text-decoration-color: #008000\">  ▇▃▂  </span> │  │\n",
       "│ │ <span style=\"color: #af87ff; text-decoration-color: #af87ff\">rv_2            </span> │ <span style=\"color: #008080; text-decoration-color: #008080\">     0</span> │ <span style=\"color: #008080; text-decoration-color: #008080\">      0</span> │ <span style=\"color: #008080; text-decoration-color: #008080\">    2.4</span> │ <span style=\"color: #008080; text-decoration-color: #008080\">   1.5</span> │ <span style=\"color: #008080; text-decoration-color: #008080\">     1</span> │ <span style=\"color: #008080; text-decoration-color: #008080\">     1</span> │ <span style=\"color: #008080; text-decoration-color: #008080\">    2</span> │ <span style=\"color: #008080; text-decoration-color: #008080\">    3</span> │ <span style=\"color: #008080; text-decoration-color: #008080\">    9</span> │ <span style=\"color: #008000; text-decoration-color: #008000\">  ▇▃▃  </span> │  │\n",
       "│ │ <span style=\"color: #af87ff; text-decoration-color: #af87ff\">rv_3            </span> │ <span style=\"color: #008080; text-decoration-color: #008080\">     0</span> │ <span style=\"color: #008080; text-decoration-color: #008080\">      0</span> │ <span style=\"color: #008080; text-decoration-color: #008080\">    2.6</span> │ <span style=\"color: #008080; text-decoration-color: #008080\">   1.5</span> │ <span style=\"color: #008080; text-decoration-color: #008080\">     1</span> │ <span style=\"color: #008080; text-decoration-color: #008080\">     1</span> │ <span style=\"color: #008080; text-decoration-color: #008080\">    2</span> │ <span style=\"color: #008080; text-decoration-color: #008080\">    4</span> │ <span style=\"color: #008080; text-decoration-color: #008080\">    9</span> │ <span style=\"color: #008000; text-decoration-color: #008000\">  ▇▃▅  </span> │  │\n",
       "│ │ <span style=\"color: #af87ff; text-decoration-color: #af87ff\">rv_4            </span> │ <span style=\"color: #008080; text-decoration-color: #008080\">     0</span> │ <span style=\"color: #008080; text-decoration-color: #008080\">      0</span> │ <span style=\"color: #008080; text-decoration-color: #008080\">    2.1</span> │ <span style=\"color: #008080; text-decoration-color: #008080\">   1.7</span> │ <span style=\"color: #008080; text-decoration-color: #008080\">     1</span> │ <span style=\"color: #008080; text-decoration-color: #008080\">     1</span> │ <span style=\"color: #008080; text-decoration-color: #008080\">    2</span> │ <span style=\"color: #008080; text-decoration-color: #008080\">    2</span> │ <span style=\"color: #008080; text-decoration-color: #008080\">    9</span> │ <span style=\"color: #008000; text-decoration-color: #008000\">▇▁   ▁ </span> │  │\n",
       "│ │ <span style=\"color: #af87ff; text-decoration-color: #af87ff\">rv_5            </span> │ <span style=\"color: #008080; text-decoration-color: #008080\">     0</span> │ <span style=\"color: #008080; text-decoration-color: #008080\">      0</span> │ <span style=\"color: #008080; text-decoration-color: #008080\">    1.6</span> │ <span style=\"color: #008080; text-decoration-color: #008080\">  0.66</span> │ <span style=\"color: #008080; text-decoration-color: #008080\">     1</span> │ <span style=\"color: #008080; text-decoration-color: #008080\">     1</span> │ <span style=\"color: #008080; text-decoration-color: #008080\">    2</span> │ <span style=\"color: #008080; text-decoration-color: #008080\">    2</span> │ <span style=\"color: #008080; text-decoration-color: #008080\">    9</span> │ <span style=\"color: #008000; text-decoration-color: #008000\">   ▇   </span> │  │\n",
       "│ │ <span style=\"color: #af87ff; text-decoration-color: #af87ff\">rv_6            </span> │ <span style=\"color: #008080; text-decoration-color: #008080\">  1150</span> │ <span style=\"color: #008080; text-decoration-color: #008080\">  57.41</span> │ <span style=\"color: #008080; text-decoration-color: #008080\">    1.6</span> │ <span style=\"color: #008080; text-decoration-color: #008080\">  0.56</span> │ <span style=\"color: #008080; text-decoration-color: #008080\">     1</span> │ <span style=\"color: #008080; text-decoration-color: #008080\">     1</span> │ <span style=\"color: #008080; text-decoration-color: #008080\">    2</span> │ <span style=\"color: #008080; text-decoration-color: #008080\">    2</span> │ <span style=\"color: #008080; text-decoration-color: #008080\">    9</span> │ <span style=\"color: #008000; text-decoration-color: #008000\">   ▇   </span> │  │\n",
       "│ │ <span style=\"color: #af87ff; text-decoration-color: #af87ff\">rv_7            </span> │ <span style=\"color: #008080; text-decoration-color: #008080\">     0</span> │ <span style=\"color: #008080; text-decoration-color: #008080\">      0</span> │ <span style=\"color: #008080; text-decoration-color: #008080\">    2.6</span> │ <span style=\"color: #008080; text-decoration-color: #008080\">   2.3</span> │ <span style=\"color: #008080; text-decoration-color: #008080\">     1</span> │ <span style=\"color: #008080; text-decoration-color: #008080\">     1</span> │ <span style=\"color: #008080; text-decoration-color: #008080\">    2</span> │ <span style=\"color: #008080; text-decoration-color: #008080\">    2</span> │ <span style=\"color: #008080; text-decoration-color: #008080\">    9</span> │ <span style=\"color: #008000; text-decoration-color: #008000\">▇▁  ▁▁ </span> │  │\n",
       "│ │ <span style=\"color: #af87ff; text-decoration-color: #af87ff\">rv_8            </span> │ <span style=\"color: #008080; text-decoration-color: #008080\">     0</span> │ <span style=\"color: #008080; text-decoration-color: #008080\">      0</span> │ <span style=\"color: #008080; text-decoration-color: #008080\">    2.2</span> │ <span style=\"color: #008080; text-decoration-color: #008080\">   1.5</span> │ <span style=\"color: #008080; text-decoration-color: #008080\">     1</span> │ <span style=\"color: #008080; text-decoration-color: #008080\">     1</span> │ <span style=\"color: #008080; text-decoration-color: #008080\">    2</span> │ <span style=\"color: #008080; text-decoration-color: #008080\">    3</span> │ <span style=\"color: #008080; text-decoration-color: #008080\">    9</span> │ <span style=\"color: #008000; text-decoration-color: #008000\">  ▇▂   </span> │  │\n",
       "│ │ <span style=\"color: #af87ff; text-decoration-color: #af87ff\">rv_9            </span> │ <span style=\"color: #008080; text-decoration-color: #008080\">     0</span> │ <span style=\"color: #008080; text-decoration-color: #008080\">      0</span> │ <span style=\"color: #008080; text-decoration-color: #008080\">    2.2</span> │ <span style=\"color: #008080; text-decoration-color: #008080\">   1.9</span> │ <span style=\"color: #008080; text-decoration-color: #008080\">     1</span> │ <span style=\"color: #008080; text-decoration-color: #008080\">     1</span> │ <span style=\"color: #008080; text-decoration-color: #008080\">    2</span> │ <span style=\"color: #008080; text-decoration-color: #008080\">    2</span> │ <span style=\"color: #008080; text-decoration-color: #008080\">    9</span> │ <span style=\"color: #008000; text-decoration-color: #008000\"> ▇▁  ▁ </span> │  │\n",
       "│ │ <span style=\"color: #af87ff; text-decoration-color: #af87ff\">rv_10           </span> │ <span style=\"color: #008080; text-decoration-color: #008080\">     0</span> │ <span style=\"color: #008080; text-decoration-color: #008080\">      0</span> │ <span style=\"color: #008080; text-decoration-color: #008080\">    1.9</span> │ <span style=\"color: #008080; text-decoration-color: #008080\">   1.4</span> │ <span style=\"color: #008080; text-decoration-color: #008080\">     1</span> │ <span style=\"color: #008080; text-decoration-color: #008080\">     1</span> │ <span style=\"color: #008080; text-decoration-color: #008080\">    2</span> │ <span style=\"color: #008080; text-decoration-color: #008080\">    2</span> │ <span style=\"color: #008080; text-decoration-color: #008080\">    9</span> │ <span style=\"color: #008000; text-decoration-color: #008000\">  ▇▁   </span> │  │\n",
       "│ │ <span style=\"color: #af87ff; text-decoration-color: #af87ff\">rv_11           </span> │ <span style=\"color: #008080; text-decoration-color: #008080\">     0</span> │ <span style=\"color: #008080; text-decoration-color: #008080\">      0</span> │ <span style=\"color: #008080; text-decoration-color: #008080\">    2.4</span> │ <span style=\"color: #008080; text-decoration-color: #008080\">   1.7</span> │ <span style=\"color: #008080; text-decoration-color: #008080\">     1</span> │ <span style=\"color: #008080; text-decoration-color: #008080\">     1</span> │ <span style=\"color: #008080; text-decoration-color: #008080\">    2</span> │ <span style=\"color: #008080; text-decoration-color: #008080\">    3</span> │ <span style=\"color: #008080; text-decoration-color: #008080\">    9</span> │ <span style=\"color: #008000; text-decoration-color: #008000\">▇▆   ▁ </span> │  │\n",
       "│ │ <span style=\"color: #af87ff; text-decoration-color: #af87ff\">rv_12           </span> │ <span style=\"color: #008080; text-decoration-color: #008080\">     0</span> │ <span style=\"color: #008080; text-decoration-color: #008080\">      0</span> │ <span style=\"color: #008080; text-decoration-color: #008080\">    2.6</span> │ <span style=\"color: #008080; text-decoration-color: #008080\">   1.4</span> │ <span style=\"color: #008080; text-decoration-color: #008080\">     1</span> │ <span style=\"color: #008080; text-decoration-color: #008080\">     2</span> │ <span style=\"color: #008080; text-decoration-color: #008080\">    3</span> │ <span style=\"color: #008080; text-decoration-color: #008080\">    3</span> │ <span style=\"color: #008080; text-decoration-color: #008080\">    9</span> │ <span style=\"color: #008000; text-decoration-color: #008000\">  ▅▇   </span> │  │\n",
       "│ │ <span style=\"color: #af87ff; text-decoration-color: #af87ff\">rv_13           </span> │ <span style=\"color: #008080; text-decoration-color: #008080\">     0</span> │ <span style=\"color: #008080; text-decoration-color: #008080\">      0</span> │ <span style=\"color: #008080; text-decoration-color: #008080\">    2.9</span> │ <span style=\"color: #008080; text-decoration-color: #008080\">   1.1</span> │ <span style=\"color: #008080; text-decoration-color: #008080\">     1</span> │ <span style=\"color: #008080; text-decoration-color: #008080\">     3</span> │ <span style=\"color: #008080; text-decoration-color: #008080\">    3</span> │ <span style=\"color: #008080; text-decoration-color: #008080\">    3</span> │ <span style=\"color: #008080; text-decoration-color: #008080\">    9</span> │ <span style=\"color: #008000; text-decoration-color: #008000\">  ▂▇   </span> │  │\n",
       "│ │ <span style=\"color: #af87ff; text-decoration-color: #af87ff\">rv_14           </span> │ <span style=\"color: #008080; text-decoration-color: #008080\">     0</span> │ <span style=\"color: #008080; text-decoration-color: #008080\">      0</span> │ <span style=\"color: #008080; text-decoration-color: #008080\">    1.8</span> │ <span style=\"color: #008080; text-decoration-color: #008080\">   1.5</span> │ <span style=\"color: #008080; text-decoration-color: #008080\">     1</span> │ <span style=\"color: #008080; text-decoration-color: #008080\">     1</span> │ <span style=\"color: #008080; text-decoration-color: #008080\">    1</span> │ <span style=\"color: #008080; text-decoration-color: #008080\">    2</span> │ <span style=\"color: #008080; text-decoration-color: #008080\">    9</span> │ <span style=\"color: #008000; text-decoration-color: #008000\">  ▇▁   </span> │  │\n",
       "│ │ <span style=\"color: #af87ff; text-decoration-color: #af87ff\">vm_1            </span> │ <span style=\"color: #008080; text-decoration-color: #008080\">     0</span> │ <span style=\"color: #008080; text-decoration-color: #008080\">      0</span> │ <span style=\"color: #008080; text-decoration-color: #008080\">    2.8</span> │ <span style=\"color: #008080; text-decoration-color: #008080\">     2</span> │ <span style=\"color: #008080; text-decoration-color: #008080\">     1</span> │ <span style=\"color: #008080; text-decoration-color: #008080\">     2</span> │ <span style=\"color: #008080; text-decoration-color: #008080\">    2</span> │ <span style=\"color: #008080; text-decoration-color: #008080\">    4</span> │ <span style=\"color: #008080; text-decoration-color: #008080\">    9</span> │ <span style=\"color: #008000; text-decoration-color: #008000\">▇▁▂  ▁ </span> │  │\n",
       "│ │ <span style=\"color: #af87ff; text-decoration-color: #af87ff\">vm_2            </span> │ <span style=\"color: #008080; text-decoration-color: #008080\">     0</span> │ <span style=\"color: #008080; text-decoration-color: #008080\">      0</span> │ <span style=\"color: #008080; text-decoration-color: #008080\">    3.1</span> │ <span style=\"color: #008080; text-decoration-color: #008080\">   2.6</span> │ <span style=\"color: #008080; text-decoration-color: #008080\">     1</span> │ <span style=\"color: #008080; text-decoration-color: #008080\">     2</span> │ <span style=\"color: #008080; text-decoration-color: #008080\">    2</span> │ <span style=\"color: #008080; text-decoration-color: #008080\">    3</span> │ <span style=\"color: #008080; text-decoration-color: #008080\">    9</span> │ <span style=\"color: #008000; text-decoration-color: #008000\">▇▁   ▂ </span> │  │\n",
       "│ │ <span style=\"color: #af87ff; text-decoration-color: #af87ff\">vm_3            </span> │ <span style=\"color: #008080; text-decoration-color: #008080\">     0</span> │ <span style=\"color: #008080; text-decoration-color: #008080\">      0</span> │ <span style=\"color: #008080; text-decoration-color: #008080\">    2.2</span> │ <span style=\"color: #008080; text-decoration-color: #008080\">   1.8</span> │ <span style=\"color: #008080; text-decoration-color: #008080\">     1</span> │ <span style=\"color: #008080; text-decoration-color: #008080\">     1</span> │ <span style=\"color: #008080; text-decoration-color: #008080\">    2</span> │ <span style=\"color: #008080; text-decoration-color: #008080\">    2</span> │ <span style=\"color: #008080; text-decoration-color: #008080\">    9</span> │ <span style=\"color: #008000; text-decoration-color: #008000\">▇    ▁ </span> │  │\n",
       "│ │ <span style=\"color: #af87ff; text-decoration-color: #af87ff\">vm_4            </span> │ <span style=\"color: #008080; text-decoration-color: #008080\">     0</span> │ <span style=\"color: #008080; text-decoration-color: #008080\">      0</span> │ <span style=\"color: #008080; text-decoration-color: #008080\">    2.6</span> │ <span style=\"color: #008080; text-decoration-color: #008080\">   1.8</span> │ <span style=\"color: #008080; text-decoration-color: #008080\">     1</span> │ <span style=\"color: #008080; text-decoration-color: #008080\">     2</span> │ <span style=\"color: #008080; text-decoration-color: #008080\">    2</span> │ <span style=\"color: #008080; text-decoration-color: #008080\">    3</span> │ <span style=\"color: #008080; text-decoration-color: #008080\">    9</span> │ <span style=\"color: #008000; text-decoration-color: #008000\">▇▁▂  ▁ </span> │  │\n",
       "│ │ <span style=\"color: #af87ff; text-decoration-color: #af87ff\">vm_5            </span> │ <span style=\"color: #008080; text-decoration-color: #008080\">     0</span> │ <span style=\"color: #008080; text-decoration-color: #008080\">      0</span> │ <span style=\"color: #008080; text-decoration-color: #008080\">    2.6</span> │ <span style=\"color: #008080; text-decoration-color: #008080\">   2.3</span> │ <span style=\"color: #008080; text-decoration-color: #008080\">     1</span> │ <span style=\"color: #008080; text-decoration-color: #008080\">     2</span> │ <span style=\"color: #008080; text-decoration-color: #008080\">    2</span> │ <span style=\"color: #008080; text-decoration-color: #008080\">    2</span> │ <span style=\"color: #008080; text-decoration-color: #008080\">    9</span> │ <span style=\"color: #008000; text-decoration-color: #008000\">▇    ▁ </span> │  │\n",
       "│ │ <span style=\"color: #af87ff; text-decoration-color: #af87ff\">vm_6            </span> │ <span style=\"color: #008080; text-decoration-color: #008080\">     0</span> │ <span style=\"color: #008080; text-decoration-color: #008080\">      0</span> │ <span style=\"color: #008080; text-decoration-color: #008080\">    2.7</span> │ <span style=\"color: #008080; text-decoration-color: #008080\">   2.4</span> │ <span style=\"color: #008080; text-decoration-color: #008080\">     1</span> │ <span style=\"color: #008080; text-decoration-color: #008080\">     2</span> │ <span style=\"color: #008080; text-decoration-color: #008080\">    2</span> │ <span style=\"color: #008080; text-decoration-color: #008080\">    2</span> │ <span style=\"color: #008080; text-decoration-color: #008080\">    9</span> │ <span style=\"color: #008000; text-decoration-color: #008000\">▇    ▁ </span> │  │\n",
       "│ │ <span style=\"color: #af87ff; text-decoration-color: #af87ff\">cv_1            </span> │ <span style=\"color: #008080; text-decoration-color: #008080\">     0</span> │ <span style=\"color: #008080; text-decoration-color: #008080\">      0</span> │ <span style=\"color: #008080; text-decoration-color: #008080\">    3.6</span> │ <span style=\"color: #008080; text-decoration-color: #008080\">   1.3</span> │ <span style=\"color: #008080; text-decoration-color: #008080\">     1</span> │ <span style=\"color: #008080; text-decoration-color: #008080\">     2</span> │ <span style=\"color: #008080; text-decoration-color: #008080\">    4</span> │ <span style=\"color: #008080; text-decoration-color: #008080\">    4</span> │ <span style=\"color: #008080; text-decoration-color: #008080\">    9</span> │ <span style=\"color: #008000; text-decoration-color: #008000\"> ▅ ▇▃  </span> │  │\n",
       "│ │ <span style=\"color: #af87ff; text-decoration-color: #af87ff\">cv_2            </span> │ <span style=\"color: #008080; text-decoration-color: #008080\">     0</span> │ <span style=\"color: #008080; text-decoration-color: #008080\">      0</span> │ <span style=\"color: #008080; text-decoration-color: #008080\">    3.8</span> │ <span style=\"color: #008080; text-decoration-color: #008080\">   1.3</span> │ <span style=\"color: #008080; text-decoration-color: #008080\">     1</span> │ <span style=\"color: #008080; text-decoration-color: #008080\">     4</span> │ <span style=\"color: #008080; text-decoration-color: #008080\">    4</span> │ <span style=\"color: #008080; text-decoration-color: #008080\">    5</span> │ <span style=\"color: #008080; text-decoration-color: #008080\">    9</span> │ <span style=\"color: #008000; text-decoration-color: #008000\"> ▃ ▇▅  </span> │  │\n",
       "│ │ <span style=\"color: #af87ff; text-decoration-color: #af87ff\">cv_3            </span> │ <span style=\"color: #008080; text-decoration-color: #008080\">     0</span> │ <span style=\"color: #008080; text-decoration-color: #008080\">      0</span> │ <span style=\"color: #008080; text-decoration-color: #008080\">    3.6</span> │ <span style=\"color: #008080; text-decoration-color: #008080\">   1.3</span> │ <span style=\"color: #008080; text-decoration-color: #008080\">     1</span> │ <span style=\"color: #008080; text-decoration-color: #008080\">     2</span> │ <span style=\"color: #008080; text-decoration-color: #008080\">    4</span> │ <span style=\"color: #008080; text-decoration-color: #008080\">    4</span> │ <span style=\"color: #008080; text-decoration-color: #008080\">    9</span> │ <span style=\"color: #008000; text-decoration-color: #008000\"> ▅ ▇▃  </span> │  │\n",
       "│ │ <span style=\"color: #af87ff; text-decoration-color: #af87ff\">cv_4            </span> │ <span style=\"color: #008080; text-decoration-color: #008080\">     0</span> │ <span style=\"color: #008080; text-decoration-color: #008080\">      0</span> │ <span style=\"color: #008080; text-decoration-color: #008080\">    3.8</span> │ <span style=\"color: #008080; text-decoration-color: #008080\">   1.3</span> │ <span style=\"color: #008080; text-decoration-color: #008080\">     1</span> │ <span style=\"color: #008080; text-decoration-color: #008080\">     4</span> │ <span style=\"color: #008080; text-decoration-color: #008080\">    4</span> │ <span style=\"color: #008080; text-decoration-color: #008080\">    5</span> │ <span style=\"color: #008080; text-decoration-color: #008080\">    9</span> │ <span style=\"color: #008000; text-decoration-color: #008000\"> ▃ ▇▅  </span> │  │\n",
       "│ │ <span style=\"color: #af87ff; text-decoration-color: #af87ff\">cv_5            </span> │ <span style=\"color: #008080; text-decoration-color: #008080\">     0</span> │ <span style=\"color: #008080; text-decoration-color: #008080\">      0</span> │ <span style=\"color: #008080; text-decoration-color: #008080\">    3.6</span> │ <span style=\"color: #008080; text-decoration-color: #008080\">   1.3</span> │ <span style=\"color: #008080; text-decoration-color: #008080\">     1</span> │ <span style=\"color: #008080; text-decoration-color: #008080\">     2</span> │ <span style=\"color: #008080; text-decoration-color: #008080\">    4</span> │ <span style=\"color: #008080; text-decoration-color: #008080\">    4</span> │ <span style=\"color: #008080; text-decoration-color: #008080\">    9</span> │ <span style=\"color: #008000; text-decoration-color: #008000\"> ▅ ▇▃  </span> │  │\n",
       "│ │ <span style=\"color: #af87ff; text-decoration-color: #af87ff\">cv_6            </span> │ <span style=\"color: #008080; text-decoration-color: #008080\">     0</span> │ <span style=\"color: #008080; text-decoration-color: #008080\">      0</span> │ <span style=\"color: #008080; text-decoration-color: #008080\">    3.7</span> │ <span style=\"color: #008080; text-decoration-color: #008080\">   1.3</span> │ <span style=\"color: #008080; text-decoration-color: #008080\">     1</span> │ <span style=\"color: #008080; text-decoration-color: #008080\">     3</span> │ <span style=\"color: #008080; text-decoration-color: #008080\">    4</span> │ <span style=\"color: #008080; text-decoration-color: #008080\">    4</span> │ <span style=\"color: #008080; text-decoration-color: #008080\">    9</span> │ <span style=\"color: #008000; text-decoration-color: #008000\"> ▃ ▇▃  </span> │  │\n",
       "│ │ <span style=\"color: #af87ff; text-decoration-color: #af87ff\">cv_7            </span> │ <span style=\"color: #008080; text-decoration-color: #008080\">     0</span> │ <span style=\"color: #008080; text-decoration-color: #008080\">      0</span> │ <span style=\"color: #008080; text-decoration-color: #008080\">    3.5</span> │ <span style=\"color: #008080; text-decoration-color: #008080\">   1.3</span> │ <span style=\"color: #008080; text-decoration-color: #008080\">     1</span> │ <span style=\"color: #008080; text-decoration-color: #008080\">     2</span> │ <span style=\"color: #008080; text-decoration-color: #008080\">    4</span> │ <span style=\"color: #008080; text-decoration-color: #008080\">    4</span> │ <span style=\"color: #008080; text-decoration-color: #008080\">    9</span> │ <span style=\"color: #008000; text-decoration-color: #008000\"> ▅ ▇▃  </span> │  │\n",
       "│ │ <span style=\"color: #af87ff; text-decoration-color: #af87ff\">cv_8            </span> │ <span style=\"color: #008080; text-decoration-color: #008080\">     0</span> │ <span style=\"color: #008080; text-decoration-color: #008080\">      0</span> │ <span style=\"color: #008080; text-decoration-color: #008080\">    3.6</span> │ <span style=\"color: #008080; text-decoration-color: #008080\">   1.3</span> │ <span style=\"color: #008080; text-decoration-color: #008080\">     1</span> │ <span style=\"color: #008080; text-decoration-color: #008080\">     2</span> │ <span style=\"color: #008080; text-decoration-color: #008080\">    4</span> │ <span style=\"color: #008080; text-decoration-color: #008080\">    4</span> │ <span style=\"color: #008080; text-decoration-color: #008080\">    9</span> │ <span style=\"color: #008000; text-decoration-color: #008000\"> ▅ ▇▃  </span> │  │\n",
       "│ │ <span style=\"color: #af87ff; text-decoration-color: #af87ff\">va_1            </span> │ <span style=\"color: #008080; text-decoration-color: #008080\">     0</span> │ <span style=\"color: #008080; text-decoration-color: #008080\">      0</span> │ <span style=\"color: #008080; text-decoration-color: #008080\">    1.3</span> │ <span style=\"color: #008080; text-decoration-color: #008080\">  0.85</span> │ <span style=\"color: #008080; text-decoration-color: #008080\">     1</span> │ <span style=\"color: #008080; text-decoration-color: #008080\">     1</span> │ <span style=\"color: #008080; text-decoration-color: #008080\">    1</span> │ <span style=\"color: #008080; text-decoration-color: #008080\">    2</span> │ <span style=\"color: #008080; text-decoration-color: #008080\">    9</span> │ <span style=\"color: #008000; text-decoration-color: #008000\">   ▇   </span> │  │\n",
       "│ │ <span style=\"color: #af87ff; text-decoration-color: #af87ff\">va_3            </span> │ <span style=\"color: #008080; text-decoration-color: #008080\">     0</span> │ <span style=\"color: #008080; text-decoration-color: #008080\">      0</span> │ <span style=\"color: #008080; text-decoration-color: #008080\">    1.5</span> │ <span style=\"color: #008080; text-decoration-color: #008080\">   1.1</span> │ <span style=\"color: #008080; text-decoration-color: #008080\">     1</span> │ <span style=\"color: #008080; text-decoration-color: #008080\">     1</span> │ <span style=\"color: #008080; text-decoration-color: #008080\">    1</span> │ <span style=\"color: #008080; text-decoration-color: #008080\">    2</span> │ <span style=\"color: #008080; text-decoration-color: #008080\">    9</span> │ <span style=\"color: #008000; text-decoration-color: #008000\">   ▇   </span> │  │\n",
       "│ │ <span style=\"color: #af87ff; text-decoration-color: #af87ff\">va_4            </span> │ <span style=\"color: #008080; text-decoration-color: #008080\">     0</span> │ <span style=\"color: #008080; text-decoration-color: #008080\">      0</span> │ <span style=\"color: #008080; text-decoration-color: #008080\">    1.7</span> │ <span style=\"color: #008080; text-decoration-color: #008080\">   1.5</span> │ <span style=\"color: #008080; text-decoration-color: #008080\">     1</span> │ <span style=\"color: #008080; text-decoration-color: #008080\">     1</span> │ <span style=\"color: #008080; text-decoration-color: #008080\">    1</span> │ <span style=\"color: #008080; text-decoration-color: #008080\">    2</span> │ <span style=\"color: #008080; text-decoration-color: #008080\">    9</span> │ <span style=\"color: #008000; text-decoration-color: #008000\">   ▇   </span> │  │\n",
       "│ │ <span style=\"color: #af87ff; text-decoration-color: #af87ff\">va_5            </span> │ <span style=\"color: #008080; text-decoration-color: #008080\">     0</span> │ <span style=\"color: #008080; text-decoration-color: #008080\">      0</span> │ <span style=\"color: #008080; text-decoration-color: #008080\">      2</span> │ <span style=\"color: #008080; text-decoration-color: #008080\">   1.3</span> │ <span style=\"color: #008080; text-decoration-color: #008080\">     1</span> │ <span style=\"color: #008080; text-decoration-color: #008080\">     2</span> │ <span style=\"color: #008080; text-decoration-color: #008080\">    2</span> │ <span style=\"color: #008080; text-decoration-color: #008080\">    2</span> │ <span style=\"color: #008080; text-decoration-color: #008080\">    9</span> │ <span style=\"color: #008000; text-decoration-color: #008000\">   ▇   </span> │  │\n",
       "│ │ <span style=\"color: #af87ff; text-decoration-color: #af87ff\">va_6            </span> │ <span style=\"color: #008080; text-decoration-color: #008080\">     0</span> │ <span style=\"color: #008080; text-decoration-color: #008080\">      0</span> │ <span style=\"color: #008080; text-decoration-color: #008080\">      2</span> │ <span style=\"color: #008080; text-decoration-color: #008080\">  0.79</span> │ <span style=\"color: #008080; text-decoration-color: #008080\">     1</span> │ <span style=\"color: #008080; text-decoration-color: #008080\">     2</span> │ <span style=\"color: #008080; text-decoration-color: #008080\">    2</span> │ <span style=\"color: #008080; text-decoration-color: #008080\">    2</span> │ <span style=\"color: #008080; text-decoration-color: #008080\">    9</span> │ <span style=\"color: #008000; text-decoration-color: #008000\">   ▇   </span> │  │\n",
       "│ │ <span style=\"color: #af87ff; text-decoration-color: #af87ff\">va_7_r          </span> │ <span style=\"color: #008080; text-decoration-color: #008080\">  1906</span> │ <span style=\"color: #008080; text-decoration-color: #008080\">  95.16</span> │ <span style=\"color: #008080; text-decoration-color: #008080\">    3.8</span> │ <span style=\"color: #008080; text-decoration-color: #008080\">   2.2</span> │ <span style=\"color: #008080; text-decoration-color: #008080\">     1</span> │ <span style=\"color: #008080; text-decoration-color: #008080\">     2</span> │ <span style=\"color: #008080; text-decoration-color: #008080\">    3</span> │ <span style=\"color: #008080; text-decoration-color: #008080\">    6</span> │ <span style=\"color: #008080; text-decoration-color: #008080\">    9</span> │ <span style=\"color: #008000; text-decoration-color: #008000\">▇▇▃▅▁▃ </span> │  │\n",
       "│ │ <span style=\"color: #af87ff; text-decoration-color: #af87ff\">an_1            </span> │ <span style=\"color: #008080; text-decoration-color: #008080\">     0</span> │ <span style=\"color: #008080; text-decoration-color: #008080\">      0</span> │ <span style=\"color: #008080; text-decoration-color: #008080\">   0.13</span> │ <span style=\"color: #008080; text-decoration-color: #008080\">  0.72</span> │ <span style=\"color: #008080; text-decoration-color: #008080\">     0</span> │ <span style=\"color: #008080; text-decoration-color: #008080\">     0</span> │ <span style=\"color: #008080; text-decoration-color: #008080\">    0</span> │ <span style=\"color: #008080; text-decoration-color: #008080\">    0</span> │ <span style=\"color: #008080; text-decoration-color: #008080\">    9</span> │ <span style=\"color: #008000; text-decoration-color: #008000\">   ▇   </span> │  │\n",
       "│ │ <span style=\"color: #af87ff; text-decoration-color: #af87ff\">an_2            </span> │ <span style=\"color: #008080; text-decoration-color: #008080\">     0</span> │ <span style=\"color: #008080; text-decoration-color: #008080\">      0</span> │ <span style=\"color: #008080; text-decoration-color: #008080\">   0.12</span> │ <span style=\"color: #008080; text-decoration-color: #008080\">   0.7</span> │ <span style=\"color: #008080; text-decoration-color: #008080\">     0</span> │ <span style=\"color: #008080; text-decoration-color: #008080\">     0</span> │ <span style=\"color: #008080; text-decoration-color: #008080\">    0</span> │ <span style=\"color: #008080; text-decoration-color: #008080\">    0</span> │ <span style=\"color: #008080; text-decoration-color: #008080\">    9</span> │ <span style=\"color: #008000; text-decoration-color: #008000\">   ▇   </span> │  │\n",
       "│ │ <span style=\"color: #af87ff; text-decoration-color: #af87ff\">an_3            </span> │ <span style=\"color: #008080; text-decoration-color: #008080\">     0</span> │ <span style=\"color: #008080; text-decoration-color: #008080\">      0</span> │ <span style=\"color: #008080; text-decoration-color: #008080\">   0.12</span> │ <span style=\"color: #008080; text-decoration-color: #008080\">  0.71</span> │ <span style=\"color: #008080; text-decoration-color: #008080\">     0</span> │ <span style=\"color: #008080; text-decoration-color: #008080\">     0</span> │ <span style=\"color: #008080; text-decoration-color: #008080\">    0</span> │ <span style=\"color: #008080; text-decoration-color: #008080\">    0</span> │ <span style=\"color: #008080; text-decoration-color: #008080\">    9</span> │ <span style=\"color: #008000; text-decoration-color: #008000\">   ▇   </span> │  │\n",
       "│ │ <span style=\"color: #af87ff; text-decoration-color: #af87ff\">an_4            </span> │ <span style=\"color: #008080; text-decoration-color: #008080\">     0</span> │ <span style=\"color: #008080; text-decoration-color: #008080\">      0</span> │ <span style=\"color: #008080; text-decoration-color: #008080\">  0.078</span> │ <span style=\"color: #008080; text-decoration-color: #008080\">  0.65</span> │ <span style=\"color: #008080; text-decoration-color: #008080\">     0</span> │ <span style=\"color: #008080; text-decoration-color: #008080\">     0</span> │ <span style=\"color: #008080; text-decoration-color: #008080\">    0</span> │ <span style=\"color: #008080; text-decoration-color: #008080\">    0</span> │ <span style=\"color: #008080; text-decoration-color: #008080\">    9</span> │ <span style=\"color: #008000; text-decoration-color: #008000\">   ▇   </span> │  │\n",
       "│ │ <span style=\"color: #af87ff; text-decoration-color: #af87ff\">an_5            </span> │ <span style=\"color: #008080; text-decoration-color: #008080\">     0</span> │ <span style=\"color: #008080; text-decoration-color: #008080\">      0</span> │ <span style=\"color: #008080; text-decoration-color: #008080\">  0.084</span> │ <span style=\"color: #008080; text-decoration-color: #008080\">  0.66</span> │ <span style=\"color: #008080; text-decoration-color: #008080\">     0</span> │ <span style=\"color: #008080; text-decoration-color: #008080\">     0</span> │ <span style=\"color: #008080; text-decoration-color: #008080\">    0</span> │ <span style=\"color: #008080; text-decoration-color: #008080\">    0</span> │ <span style=\"color: #008080; text-decoration-color: #008080\">    9</span> │ <span style=\"color: #008000; text-decoration-color: #008000\">   ▇   </span> │  │\n",
       "│ │ <span style=\"color: #af87ff; text-decoration-color: #af87ff\">an_6            </span> │ <span style=\"color: #008080; text-decoration-color: #008080\">     0</span> │ <span style=\"color: #008080; text-decoration-color: #008080\">      0</span> │ <span style=\"color: #008080; text-decoration-color: #008080\">    1.8</span> │ <span style=\"color: #008080; text-decoration-color: #008080\">   1.2</span> │ <span style=\"color: #008080; text-decoration-color: #008080\">     1</span> │ <span style=\"color: #008080; text-decoration-color: #008080\">     1</span> │ <span style=\"color: #008080; text-decoration-color: #008080\">    1</span> │ <span style=\"color: #008080; text-decoration-color: #008080\">    3</span> │ <span style=\"color: #008080; text-decoration-color: #008080\">    9</span> │ <span style=\"color: #008000; text-decoration-color: #008000\">  ▇▃   </span> │  │\n",
       "│ │ <span style=\"color: #af87ff; text-decoration-color: #af87ff\">an_7            </span> │ <span style=\"color: #008080; text-decoration-color: #008080\">   610</span> │ <span style=\"color: #008080; text-decoration-color: #008080\">  30.45</span> │ <span style=\"color: #008080; text-decoration-color: #008080\">    2.4</span> │ <span style=\"color: #008080; text-decoration-color: #008080\">   1.4</span> │ <span style=\"color: #008080; text-decoration-color: #008080\">     1</span> │ <span style=\"color: #008080; text-decoration-color: #008080\">     2</span> │ <span style=\"color: #008080; text-decoration-color: #008080\">    2</span> │ <span style=\"color: #008080; text-decoration-color: #008080\">    3</span> │ <span style=\"color: #008080; text-decoration-color: #008080\">    9</span> │ <span style=\"color: #008000; text-decoration-color: #008000\">  ▇ ▂  </span> │  │\n",
       "│ │ <span style=\"color: #af87ff; text-decoration-color: #af87ff\">an_8            </span> │ <span style=\"color: #008080; text-decoration-color: #008080\">   610</span> │ <span style=\"color: #008080; text-decoration-color: #008080\">  30.45</span> │ <span style=\"color: #008080; text-decoration-color: #008080\">    2.1</span> │ <span style=\"color: #008080; text-decoration-color: #008080\">   1.1</span> │ <span style=\"color: #008080; text-decoration-color: #008080\">     1</span> │ <span style=\"color: #008080; text-decoration-color: #008080\">     2</span> │ <span style=\"color: #008080; text-decoration-color: #008080\">    2</span> │ <span style=\"color: #008080; text-decoration-color: #008080\">    2</span> │ <span style=\"color: #008080; text-decoration-color: #008080\">    9</span> │ <span style=\"color: #008000; text-decoration-color: #008000\">  ▇ ▁  </span> │  │\n",
       "│ │ <span style=\"color: #af87ff; text-decoration-color: #af87ff\">an_9            </span> │ <span style=\"color: #008080; text-decoration-color: #008080\">   610</span> │ <span style=\"color: #008080; text-decoration-color: #008080\">  30.45</span> │ <span style=\"color: #008080; text-decoration-color: #008080\">    1.8</span> │ <span style=\"color: #008080; text-decoration-color: #008080\">  0.92</span> │ <span style=\"color: #008080; text-decoration-color: #008080\">     1</span> │ <span style=\"color: #008080; text-decoration-color: #008080\">     1</span> │ <span style=\"color: #008080; text-decoration-color: #008080\">    2</span> │ <span style=\"color: #008080; text-decoration-color: #008080\">    2</span> │ <span style=\"color: #008080; text-decoration-color: #008080\">    9</span> │ <span style=\"color: #008000; text-decoration-color: #008000\">   ▇   </span> │  │\n",
       "│ │ <span style=\"color: #af87ff; text-decoration-color: #af87ff\">an_10           </span> │ <span style=\"color: #008080; text-decoration-color: #008080\">   610</span> │ <span style=\"color: #008080; text-decoration-color: #008080\">  30.45</span> │ <span style=\"color: #008080; text-decoration-color: #008080\">    3.3</span> │ <span style=\"color: #008080; text-decoration-color: #008080\">   1.4</span> │ <span style=\"color: #008080; text-decoration-color: #008080\">     1</span> │ <span style=\"color: #008080; text-decoration-color: #008080\">     2</span> │ <span style=\"color: #008080; text-decoration-color: #008080\">    4</span> │ <span style=\"color: #008080; text-decoration-color: #008080\">    4</span> │ <span style=\"color: #008080; text-decoration-color: #008080\">    9</span> │ <span style=\"color: #008000; text-decoration-color: #008000\"> ▅▁▇▁  </span> │  │\n",
       "│ │ <span style=\"color: #af87ff; text-decoration-color: #af87ff\">an_11           </span> │ <span style=\"color: #008080; text-decoration-color: #008080\">   610</span> │ <span style=\"color: #008080; text-decoration-color: #008080\">  30.45</span> │ <span style=\"color: #008080; text-decoration-color: #008080\">    2.7</span> │ <span style=\"color: #008080; text-decoration-color: #008080\">   1.6</span> │ <span style=\"color: #008080; text-decoration-color: #008080\">     1</span> │ <span style=\"color: #008080; text-decoration-color: #008080\">     2</span> │ <span style=\"color: #008080; text-decoration-color: #008080\">    2</span> │ <span style=\"color: #008080; text-decoration-color: #008080\">    3</span> │ <span style=\"color: #008080; text-decoration-color: #008080\">    9</span> │ <span style=\"color: #008000; text-decoration-color: #008000\">▇▁▂  ▁ </span> │  │\n",
       "│ │ <span style=\"color: #af87ff; text-decoration-color: #af87ff\">an_12           </span> │ <span style=\"color: #008080; text-decoration-color: #008080\">   610</span> │ <span style=\"color: #008080; text-decoration-color: #008080\">  30.45</span> │ <span style=\"color: #008080; text-decoration-color: #008080\">    2.4</span> │ <span style=\"color: #008080; text-decoration-color: #008080\">   1.6</span> │ <span style=\"color: #008080; text-decoration-color: #008080\">     1</span> │ <span style=\"color: #008080; text-decoration-color: #008080\">     2</span> │ <span style=\"color: #008080; text-decoration-color: #008080\">    2</span> │ <span style=\"color: #008080; text-decoration-color: #008080\">    2</span> │ <span style=\"color: #008080; text-decoration-color: #008080\">    9</span> │ <span style=\"color: #008000; text-decoration-color: #008000\">  ▇ ▁  </span> │  │\n",
       "│ │ <span style=\"color: #af87ff; text-decoration-color: #af87ff\">ef_1            </span> │ <span style=\"color: #008080; text-decoration-color: #008080\">     0</span> │ <span style=\"color: #008080; text-decoration-color: #008080\">      0</span> │ <span style=\"color: #008080; text-decoration-color: #008080\">    1.6</span> │ <span style=\"color: #008080; text-decoration-color: #008080\">  0.91</span> │ <span style=\"color: #008080; text-decoration-color: #008080\">     1</span> │ <span style=\"color: #008080; text-decoration-color: #008080\">     1</span> │ <span style=\"color: #008080; text-decoration-color: #008080\">    1</span> │ <span style=\"color: #008080; text-decoration-color: #008080\">    2</span> │ <span style=\"color: #008080; text-decoration-color: #008080\">    9</span> │ <span style=\"color: #008000; text-decoration-color: #008000\">   ▇   </span> │  │\n",
       "│ │ <span style=\"color: #af87ff; text-decoration-color: #af87ff\">ef_2            </span> │ <span style=\"color: #008080; text-decoration-color: #008080\">   982</span> │ <span style=\"color: #008080; text-decoration-color: #008080\">  49.03</span> │ <span style=\"color: #008080; text-decoration-color: #008080\">    3.6</span> │ <span style=\"color: #008080; text-decoration-color: #008080\">   1.9</span> │ <span style=\"color: #008080; text-decoration-color: #008080\">     1</span> │ <span style=\"color: #008080; text-decoration-color: #008080\">     2</span> │ <span style=\"color: #008080; text-decoration-color: #008080\">    4</span> │ <span style=\"color: #008080; text-decoration-color: #008080\">    5</span> │ <span style=\"color: #008080; text-decoration-color: #008080\">    9</span> │ <span style=\"color: #008000; text-decoration-color: #008000\">▇▃▇▅ ▁ </span> │  │\n",
       "│ │ <span style=\"color: #af87ff; text-decoration-color: #af87ff\">ef_3            </span> │ <span style=\"color: #008080; text-decoration-color: #008080\">     0</span> │ <span style=\"color: #008080; text-decoration-color: #008080\">      0</span> │ <span style=\"color: #008080; text-decoration-color: #008080\">    1.9</span> │ <span style=\"color: #008080; text-decoration-color: #008080\">  0.71</span> │ <span style=\"color: #008080; text-decoration-color: #008080\">     1</span> │ <span style=\"color: #008080; text-decoration-color: #008080\">     2</span> │ <span style=\"color: #008080; text-decoration-color: #008080\">    2</span> │ <span style=\"color: #008080; text-decoration-color: #008080\">    2</span> │ <span style=\"color: #008080; text-decoration-color: #008080\">    9</span> │ <span style=\"color: #008000; text-decoration-color: #008000\">   ▇   </span> │  │\n",
       "│ │ <span style=\"color: #af87ff; text-decoration-color: #af87ff\">ef_4            </span> │ <span style=\"color: #008080; text-decoration-color: #008080\">     0</span> │ <span style=\"color: #008080; text-decoration-color: #008080\">      0</span> │ <span style=\"color: #008080; text-decoration-color: #008080\">    1.9</span> │ <span style=\"color: #008080; text-decoration-color: #008080\">  0.84</span> │ <span style=\"color: #008080; text-decoration-color: #008080\">     1</span> │ <span style=\"color: #008080; text-decoration-color: #008080\">     2</span> │ <span style=\"color: #008080; text-decoration-color: #008080\">    2</span> │ <span style=\"color: #008080; text-decoration-color: #008080\">    2</span> │ <span style=\"color: #008080; text-decoration-color: #008080\">    9</span> │ <span style=\"color: #008000; text-decoration-color: #008000\">   ▇   </span> │  │\n",
       "│ │ <span style=\"color: #af87ff; text-decoration-color: #af87ff\">ef_5            </span> │ <span style=\"color: #008080; text-decoration-color: #008080\">     0</span> │ <span style=\"color: #008080; text-decoration-color: #008080\">      0</span> │ <span style=\"color: #008080; text-decoration-color: #008080\">    1.9</span> │ <span style=\"color: #008080; text-decoration-color: #008080\">  0.79</span> │ <span style=\"color: #008080; text-decoration-color: #008080\">     1</span> │ <span style=\"color: #008080; text-decoration-color: #008080\">     2</span> │ <span style=\"color: #008080; text-decoration-color: #008080\">    2</span> │ <span style=\"color: #008080; text-decoration-color: #008080\">    2</span> │ <span style=\"color: #008080; text-decoration-color: #008080\">    9</span> │ <span style=\"color: #008000; text-decoration-color: #008000\">   ▇   </span> │  │\n",
       "│ │ <span style=\"color: #af87ff; text-decoration-color: #af87ff\">ef_6            </span> │ <span style=\"color: #008080; text-decoration-color: #008080\">     0</span> │ <span style=\"color: #008080; text-decoration-color: #008080\">      0</span> │ <span style=\"color: #008080; text-decoration-color: #008080\">    1.9</span> │ <span style=\"color: #008080; text-decoration-color: #008080\">  0.78</span> │ <span style=\"color: #008080; text-decoration-color: #008080\">     1</span> │ <span style=\"color: #008080; text-decoration-color: #008080\">     2</span> │ <span style=\"color: #008080; text-decoration-color: #008080\">    2</span> │ <span style=\"color: #008080; text-decoration-color: #008080\">    2</span> │ <span style=\"color: #008080; text-decoration-color: #008080\">    9</span> │ <span style=\"color: #008000; text-decoration-color: #008000\">   ▇   </span> │  │\n",
       "│ │ <span style=\"color: #af87ff; text-decoration-color: #af87ff\">ef_7            </span> │ <span style=\"color: #008080; text-decoration-color: #008080\">     0</span> │ <span style=\"color: #008080; text-decoration-color: #008080\">      0</span> │ <span style=\"color: #008080; text-decoration-color: #008080\">    1.7</span> │ <span style=\"color: #008080; text-decoration-color: #008080\">  0.85</span> │ <span style=\"color: #008080; text-decoration-color: #008080\">     1</span> │ <span style=\"color: #008080; text-decoration-color: #008080\">     1</span> │ <span style=\"color: #008080; text-decoration-color: #008080\">    2</span> │ <span style=\"color: #008080; text-decoration-color: #008080\">    2</span> │ <span style=\"color: #008080; text-decoration-color: #008080\">    9</span> │ <span style=\"color: #008000; text-decoration-color: #008000\">   ▇   </span> │  │\n",
       "│ │ <span style=\"color: #af87ff; text-decoration-color: #af87ff\">ef_8            </span> │ <span style=\"color: #008080; text-decoration-color: #008080\">     0</span> │ <span style=\"color: #008080; text-decoration-color: #008080\">      0</span> │ <span style=\"color: #008080; text-decoration-color: #008080\">    1.6</span> │ <span style=\"color: #008080; text-decoration-color: #008080\">  0.94</span> │ <span style=\"color: #008080; text-decoration-color: #008080\">     1</span> │ <span style=\"color: #008080; text-decoration-color: #008080\">     1</span> │ <span style=\"color: #008080; text-decoration-color: #008080\">    1</span> │ <span style=\"color: #008080; text-decoration-color: #008080\">    2</span> │ <span style=\"color: #008080; text-decoration-color: #008080\">    9</span> │ <span style=\"color: #008000; text-decoration-color: #008000\">   ▇   </span> │  │\n",
       "│ │ <span style=\"color: #af87ff; text-decoration-color: #af87ff\">ef_9            </span> │ <span style=\"color: #008080; text-decoration-color: #008080\">     0</span> │ <span style=\"color: #008080; text-decoration-color: #008080\">      0</span> │ <span style=\"color: #008080; text-decoration-color: #008080\">    1.8</span> │ <span style=\"color: #008080; text-decoration-color: #008080\">  0.85</span> │ <span style=\"color: #008080; text-decoration-color: #008080\">     1</span> │ <span style=\"color: #008080; text-decoration-color: #008080\">     1</span> │ <span style=\"color: #008080; text-decoration-color: #008080\">    2</span> │ <span style=\"color: #008080; text-decoration-color: #008080\">    2</span> │ <span style=\"color: #008080; text-decoration-color: #008080\">    9</span> │ <span style=\"color: #008000; text-decoration-color: #008000\">   ▇   </span> │  │\n",
       "│ │ <span style=\"color: #af87ff; text-decoration-color: #af87ff\">ef_10           </span> │ <span style=\"color: #008080; text-decoration-color: #008080\">     0</span> │ <span style=\"color: #008080; text-decoration-color: #008080\">      0</span> │ <span style=\"color: #008080; text-decoration-color: #008080\">    2.9</span> │ <span style=\"color: #008080; text-decoration-color: #008080\">   1.1</span> │ <span style=\"color: #008080; text-decoration-color: #008080\">     1</span> │ <span style=\"color: #008080; text-decoration-color: #008080\">     2</span> │ <span style=\"color: #008080; text-decoration-color: #008080\">    3</span> │ <span style=\"color: #008080; text-decoration-color: #008080\">    3</span> │ <span style=\"color: #008080; text-decoration-color: #008080\">    9</span> │ <span style=\"color: #008000; text-decoration-color: #008000\">  ▅▇▃  </span> │  │\n",
       "│ │ <span style=\"color: #af87ff; text-decoration-color: #af87ff\">nf_1            </span> │ <span style=\"color: #008080; text-decoration-color: #008080\">     0</span> │ <span style=\"color: #008080; text-decoration-color: #008080\">      0</span> │ <span style=\"color: #008080; text-decoration-color: #008080\">    1.7</span> │ <span style=\"color: #008080; text-decoration-color: #008080\">  0.95</span> │ <span style=\"color: #008080; text-decoration-color: #008080\">     1</span> │ <span style=\"color: #008080; text-decoration-color: #008080\">     1</span> │ <span style=\"color: #008080; text-decoration-color: #008080\">    2</span> │ <span style=\"color: #008080; text-decoration-color: #008080\">    2</span> │ <span style=\"color: #008080; text-decoration-color: #008080\">    9</span> │ <span style=\"color: #008000; text-decoration-color: #008000\">   ▇   </span> │  │\n",
       "│ │ <span style=\"color: #af87ff; text-decoration-color: #af87ff\">nf_2            </span> │ <span style=\"color: #008080; text-decoration-color: #008080\">  1284</span> │ <span style=\"color: #008080; text-decoration-color: #008080\">   64.1</span> │ <span style=\"color: #008080; text-decoration-color: #008080\">    1.9</span> │ <span style=\"color: #008080; text-decoration-color: #008080\">  0.44</span> │ <span style=\"color: #008080; text-decoration-color: #008080\">     1</span> │ <span style=\"color: #008080; text-decoration-color: #008080\">     2</span> │ <span style=\"color: #008080; text-decoration-color: #008080\">    2</span> │ <span style=\"color: #008080; text-decoration-color: #008080\">    2</span> │ <span style=\"color: #008080; text-decoration-color: #008080\">    9</span> │ <span style=\"color: #008000; text-decoration-color: #008000\">   ▇   </span> │  │\n",
       "│ │ <span style=\"color: #af87ff; text-decoration-color: #af87ff\">nf_3            </span> │ <span style=\"color: #008080; text-decoration-color: #008080\">  1285</span> │ <span style=\"color: #008080; text-decoration-color: #008080\">  64.15</span> │ <span style=\"color: #008080; text-decoration-color: #008080\">    2.1</span> │ <span style=\"color: #008080; text-decoration-color: #008080\">   1.9</span> │ <span style=\"color: #008080; text-decoration-color: #008080\">     1</span> │ <span style=\"color: #008080; text-decoration-color: #008080\">     1</span> │ <span style=\"color: #008080; text-decoration-color: #008080\">    1</span> │ <span style=\"color: #008080; text-decoration-color: #008080\">    3</span> │ <span style=\"color: #008080; text-decoration-color: #008080\">    9</span> │ <span style=\"color: #008000; text-decoration-color: #008000\"> ▇ ▁▁  </span> │  │\n",
       "│ │ <span style=\"color: #af87ff; text-decoration-color: #af87ff\">nf_4            </span> │ <span style=\"color: #008080; text-decoration-color: #008080\">  1295</span> │ <span style=\"color: #008080; text-decoration-color: #008080\">  64.65</span> │ <span style=\"color: #008080; text-decoration-color: #008080\">    3.4</span> │ <span style=\"color: #008080; text-decoration-color: #008080\">   2.6</span> │ <span style=\"color: #008080; text-decoration-color: #008080\">     1</span> │ <span style=\"color: #008080; text-decoration-color: #008080\">     1</span> │ <span style=\"color: #008080; text-decoration-color: #008080\">    3</span> │ <span style=\"color: #008080; text-decoration-color: #008080\">    5</span> │ <span style=\"color: #008080; text-decoration-color: #008080\">    9</span> │ <span style=\"color: #008000; text-decoration-color: #008000\">▇▁▂▃▁▂ </span> │  │\n",
       "│ │ <span style=\"color: #af87ff; text-decoration-color: #af87ff\">nf_5            </span> │ <span style=\"color: #008080; text-decoration-color: #008080\">  1285</span> │ <span style=\"color: #008080; text-decoration-color: #008080\">  64.15</span> │ <span style=\"color: #008080; text-decoration-color: #008080\">    5.1</span> │ <span style=\"color: #008080; text-decoration-color: #008080\">   2.6</span> │ <span style=\"color: #008080; text-decoration-color: #008080\">     1</span> │ <span style=\"color: #008080; text-decoration-color: #008080\">     3</span> │ <span style=\"color: #008080; text-decoration-color: #008080\">    6</span> │ <span style=\"color: #008080; text-decoration-color: #008080\">    6</span> │ <span style=\"color: #008080; text-decoration-color: #008080\">    9</span> │ <span style=\"color: #008000; text-decoration-color: #008000\">▃▅▁▇ ▅ </span> │  │\n",
       "│ │ <span style=\"color: #af87ff; text-decoration-color: #af87ff\">fa_1            </span> │ <span style=\"color: #008080; text-decoration-color: #008080\">     0</span> │ <span style=\"color: #008080; text-decoration-color: #008080\">      0</span> │ <span style=\"color: #008080; text-decoration-color: #008080\">    1.3</span> │ <span style=\"color: #008080; text-decoration-color: #008080\">   1.2</span> │ <span style=\"color: #008080; text-decoration-color: #008080\">     1</span> │ <span style=\"color: #008080; text-decoration-color: #008080\">     1</span> │ <span style=\"color: #008080; text-decoration-color: #008080\">    1</span> │ <span style=\"color: #008080; text-decoration-color: #008080\">    1</span> │ <span style=\"color: #008080; text-decoration-color: #008080\">    9</span> │ <span style=\"color: #008000; text-decoration-color: #008000\">   ▇   </span> │  │\n",
       "│ │ <span style=\"color: #af87ff; text-decoration-color: #af87ff\">fa_2            </span> │ <span style=\"color: #008080; text-decoration-color: #008080\">     0</span> │ <span style=\"color: #008080; text-decoration-color: #008080\">      0</span> │ <span style=\"color: #008080; text-decoration-color: #008080\">      2</span> │ <span style=\"color: #008080; text-decoration-color: #008080\">   1.6</span> │ <span style=\"color: #008080; text-decoration-color: #008080\">     1</span> │ <span style=\"color: #008080; text-decoration-color: #008080\">     1</span> │ <span style=\"color: #008080; text-decoration-color: #008080\">    2</span> │ <span style=\"color: #008080; text-decoration-color: #008080\">    2</span> │ <span style=\"color: #008080; text-decoration-color: #008080\">    9</span> │ <span style=\"color: #008000; text-decoration-color: #008000\">   ▇   </span> │  │\n",
       "│ │ <span style=\"color: #af87ff; text-decoration-color: #af87ff\">fa_3            </span> │ <span style=\"color: #008080; text-decoration-color: #008080\">     0</span> │ <span style=\"color: #008080; text-decoration-color: #008080\">      0</span> │ <span style=\"color: #008080; text-decoration-color: #008080\">    1.3</span> │ <span style=\"color: #008080; text-decoration-color: #008080\">   1.2</span> │ <span style=\"color: #008080; text-decoration-color: #008080\">     1</span> │ <span style=\"color: #008080; text-decoration-color: #008080\">     1</span> │ <span style=\"color: #008080; text-decoration-color: #008080\">    1</span> │ <span style=\"color: #008080; text-decoration-color: #008080\">    1</span> │ <span style=\"color: #008080; text-decoration-color: #008080\">    9</span> │ <span style=\"color: #008000; text-decoration-color: #008000\">   ▇   </span> │  │\n",
       "│ │ <span style=\"color: #af87ff; text-decoration-color: #af87ff\">fa_4            </span> │ <span style=\"color: #008080; text-decoration-color: #008080\">     0</span> │ <span style=\"color: #008080; text-decoration-color: #008080\">      0</span> │ <span style=\"color: #008080; text-decoration-color: #008080\">    2.1</span> │ <span style=\"color: #008080; text-decoration-color: #008080\">   1.7</span> │ <span style=\"color: #008080; text-decoration-color: #008080\">     1</span> │ <span style=\"color: #008080; text-decoration-color: #008080\">     1</span> │ <span style=\"color: #008080; text-decoration-color: #008080\">    2</span> │ <span style=\"color: #008080; text-decoration-color: #008080\">    2</span> │ <span style=\"color: #008080; text-decoration-color: #008080\">    9</span> │ <span style=\"color: #008000; text-decoration-color: #008000\">▇    ▁ </span> │  │\n",
       "│ │ <span style=\"color: #af87ff; text-decoration-color: #af87ff\">cs_1            </span> │ <span style=\"color: #008080; text-decoration-color: #008080\">     0</span> │ <span style=\"color: #008080; text-decoration-color: #008080\">      0</span> │ <span style=\"color: #008080; text-decoration-color: #008080\">    1.5</span> │ <span style=\"color: #008080; text-decoration-color: #008080\">   0.5</span> │ <span style=\"color: #008080; text-decoration-color: #008080\">     1</span> │ <span style=\"color: #008080; text-decoration-color: #008080\">     1</span> │ <span style=\"color: #008080; text-decoration-color: #008080\">    2</span> │ <span style=\"color: #008080; text-decoration-color: #008080\">    2</span> │ <span style=\"color: #008080; text-decoration-color: #008080\">    2</span> │ <span style=\"color: #008000; text-decoration-color: #008000\">▇    ▇ </span> │  │\n",
       "│ │ <span style=\"color: #af87ff; text-decoration-color: #af87ff\">cs_2            </span> │ <span style=\"color: #008080; text-decoration-color: #008080\">     0</span> │ <span style=\"color: #008080; text-decoration-color: #008080\">      0</span> │ <span style=\"color: #008080; text-decoration-color: #008080\">     41</span> │ <span style=\"color: #008080; text-decoration-color: #008080\">    16</span> │ <span style=\"color: #008080; text-decoration-color: #008080\">    18</span> │ <span style=\"color: #008080; text-decoration-color: #008080\">    28</span> │ <span style=\"color: #008080; text-decoration-color: #008080\">   39</span> │ <span style=\"color: #008080; text-decoration-color: #008080\">   53</span> │ <span style=\"color: #008080; text-decoration-color: #008080\">   87</span> │ <span style=\"color: #008000; text-decoration-color: #008000\"> ▇▇▅▅▂ </span> │  │\n",
       "│ │ <span style=\"color: #af87ff; text-decoration-color: #af87ff\">cs_3            </span> │ <span style=\"color: #008080; text-decoration-color: #008080\">     0</span> │ <span style=\"color: #008080; text-decoration-color: #008080\">      0</span> │ <span style=\"color: #008080; text-decoration-color: #008080\">    150</span> │ <span style=\"color: #008080; text-decoration-color: #008080\">   260</span> │ <span style=\"color: #008080; text-decoration-color: #008080\">    31</span> │ <span style=\"color: #008080; text-decoration-color: #008080\">    64</span> │ <span style=\"color: #008080; text-decoration-color: #008080\">   74</span> │ <span style=\"color: #008080; text-decoration-color: #008080\">   87</span> │ <span style=\"color: #008080; text-decoration-color: #008080\"> 1000</span> │ <span style=\"color: #008000; text-decoration-color: #008000\">▇    ▁ </span> │  │\n",
       "│ │ <span style=\"color: #af87ff; text-decoration-color: #af87ff\">cs_4            </span> │ <span style=\"color: #008080; text-decoration-color: #008080\">     0</span> │ <span style=\"color: #008080; text-decoration-color: #008080\">      0</span> │ <span style=\"color: #008080; text-decoration-color: #008080\">    220</span> │ <span style=\"color: #008080; text-decoration-color: #008080\">   210</span> │ <span style=\"color: #008080; text-decoration-color: #008080\">   100</span> │ <span style=\"color: #008080; text-decoration-color: #008080\">   160</span> │ <span style=\"color: #008080; text-decoration-color: #008080\">  170</span> │ <span style=\"color: #008080; text-decoration-color: #008080\">  170</span> │ <span style=\"color: #008080; text-decoration-color: #008080\"> 1000</span> │ <span style=\"color: #008000; text-decoration-color: #008000\">▇    ▁ </span> │  │\n",
       "│ │ <span style=\"color: #af87ff; text-decoration-color: #af87ff\">cs_5            </span> │ <span style=\"color: #008080; text-decoration-color: #008080\">     0</span> │ <span style=\"color: #008080; text-decoration-color: #008080\">      0</span> │ <span style=\"color: #008080; text-decoration-color: #008080\">    3.9</span> │ <span style=\"color: #008080; text-decoration-color: #008080\">   1.6</span> │ <span style=\"color: #008080; text-decoration-color: #008080\">     1</span> │ <span style=\"color: #008080; text-decoration-color: #008080\">     3</span> │ <span style=\"color: #008080; text-decoration-color: #008080\">    4</span> │ <span style=\"color: #008080; text-decoration-color: #008080\">    5</span> │ <span style=\"color: #008080; text-decoration-color: #008080\">    6</span> │ <span style=\"color: #008000; text-decoration-color: #008000\">▂▅▅▇▅▇ </span> │  │\n",
       "│ │ <span style=\"color: #af87ff; text-decoration-color: #af87ff\">cs_6_a          </span> │ <span style=\"color: #008080; text-decoration-color: #008080\">     0</span> │ <span style=\"color: #008080; text-decoration-color: #008080\">      0</span> │ <span style=\"color: #008080; text-decoration-color: #008080\">    2.3</span> │ <span style=\"color: #008080; text-decoration-color: #008080\">   1.8</span> │ <span style=\"color: #008080; text-decoration-color: #008080\">     1</span> │ <span style=\"color: #008080; text-decoration-color: #008080\">     1</span> │ <span style=\"color: #008080; text-decoration-color: #008080\">    1</span> │ <span style=\"color: #008080; text-decoration-color: #008080\">    4</span> │ <span style=\"color: #008080; text-decoration-color: #008080\">    9</span> │ <span style=\"color: #008000; text-decoration-color: #008000\"> ▇▁▂▁  </span> │  │\n",
       "│ │ <span style=\"color: #af87ff; text-decoration-color: #af87ff\">cs_7            </span> │ <span style=\"color: #008080; text-decoration-color: #008080\">     0</span> │ <span style=\"color: #008080; text-decoration-color: #008080\">      0</span> │ <span style=\"color: #008080; text-decoration-color: #008080\">    1.2</span> │ <span style=\"color: #008080; text-decoration-color: #008080\">  0.66</span> │ <span style=\"color: #008080; text-decoration-color: #008080\">     1</span> │ <span style=\"color: #008080; text-decoration-color: #008080\">     1</span> │ <span style=\"color: #008080; text-decoration-color: #008080\">    1</span> │ <span style=\"color: #008080; text-decoration-color: #008080\">    1</span> │ <span style=\"color: #008080; text-decoration-color: #008080\">    9</span> │ <span style=\"color: #008000; text-decoration-color: #008000\">   ▇   </span> │  │\n",
       "│ │ <span style=\"color: #af87ff; text-decoration-color: #af87ff\">cs_8            </span> │ <span style=\"color: #008080; text-decoration-color: #008080\">     0</span> │ <span style=\"color: #008080; text-decoration-color: #008080\">      0</span> │ <span style=\"color: #008080; text-decoration-color: #008080\">    1.7</span> │ <span style=\"color: #008080; text-decoration-color: #008080\">   0.9</span> │ <span style=\"color: #008080; text-decoration-color: #008080\">     1</span> │ <span style=\"color: #008080; text-decoration-color: #008080\">     1</span> │ <span style=\"color: #008080; text-decoration-color: #008080\">    2</span> │ <span style=\"color: #008080; text-decoration-color: #008080\">    2</span> │ <span style=\"color: #008080; text-decoration-color: #008080\">    9</span> │ <span style=\"color: #008000; text-decoration-color: #008000\">   ▇   </span> │  │\n",
       "│ │ <span style=\"color: #af87ff; text-decoration-color: #af87ff\">cs_9            </span> │ <span style=\"color: #008080; text-decoration-color: #008080\">     0</span> │ <span style=\"color: #008080; text-decoration-color: #008080\">      0</span> │ <span style=\"color: #008080; text-decoration-color: #008080\">      2</span> │ <span style=\"color: #008080; text-decoration-color: #008080\">  0.72</span> │ <span style=\"color: #008080; text-decoration-color: #008080\">     1</span> │ <span style=\"color: #008080; text-decoration-color: #008080\">     2</span> │ <span style=\"color: #008080; text-decoration-color: #008080\">    2</span> │ <span style=\"color: #008080; text-decoration-color: #008080\">    2</span> │ <span style=\"color: #008080; text-decoration-color: #008080\">    9</span> │ <span style=\"color: #008000; text-decoration-color: #008000\">   ▇   </span> │  │\n",
       "│ │ <span style=\"color: #af87ff; text-decoration-color: #af87ff\">cs_10_a         </span> │ <span style=\"color: #008080; text-decoration-color: #008080\">     0</span> │ <span style=\"color: #008080; text-decoration-color: #008080\">      0</span> │ <span style=\"color: #008080; text-decoration-color: #008080\">    1.5</span> │ <span style=\"color: #008080; text-decoration-color: #008080\">  0.91</span> │ <span style=\"color: #008080; text-decoration-color: #008080\">     1</span> │ <span style=\"color: #008080; text-decoration-color: #008080\">     1</span> │ <span style=\"color: #008080; text-decoration-color: #008080\">    1</span> │ <span style=\"color: #008080; text-decoration-color: #008080\">    2</span> │ <span style=\"color: #008080; text-decoration-color: #008080\">    9</span> │ <span style=\"color: #008000; text-decoration-color: #008000\">   ▇   </span> │  │\n",
       "│ │ <span style=\"color: #af87ff; text-decoration-color: #af87ff\">cs_10_br        </span> │ <span style=\"color: #008080; text-decoration-color: #008080\">     0</span> │ <span style=\"color: #008080; text-decoration-color: #008080\">      0</span> │ <span style=\"color: #008080; text-decoration-color: #008080\">    9.5</span> │ <span style=\"color: #008080; text-decoration-color: #008080\">   8.6</span> │ <span style=\"color: #008080; text-decoration-color: #008080\">     1</span> │ <span style=\"color: #008080; text-decoration-color: #008080\">     1</span> │ <span style=\"color: #008080; text-decoration-color: #008080\">    6</span> │ <span style=\"color: #008080; text-decoration-color: #008080\">   20</span> │ <span style=\"color: #008080; text-decoration-color: #008080\">   20</span> │ <span style=\"color: #008000; text-decoration-color: #008000\">▇▃   ▇ </span> │  │\n",
       "│ │ <span style=\"color: #af87ff; text-decoration-color: #af87ff\">cs_10_br_2      </span> │ <span style=\"color: #008080; text-decoration-color: #008080\">     0</span> │ <span style=\"color: #008080; text-decoration-color: #008080\">      0</span> │ <span style=\"color: #008080; text-decoration-color: #008080\">    8.7</span> │ <span style=\"color: #008080; text-decoration-color: #008080\">   9.1</span> │ <span style=\"color: #008080; text-decoration-color: #008080\">     1</span> │ <span style=\"color: #008080; text-decoration-color: #008080\">     1</span> │ <span style=\"color: #008080; text-decoration-color: #008080\">    2</span> │ <span style=\"color: #008080; text-decoration-color: #008080\">   20</span> │ <span style=\"color: #008080; text-decoration-color: #008080\">   20</span> │ <span style=\"color: #008000; text-decoration-color: #008000\">▇    ▅ </span> │  │\n",
       "│ │ <span style=\"color: #af87ff; text-decoration-color: #af87ff\">cs_10_c         </span> │ <span style=\"color: #008080; text-decoration-color: #008080\">     0</span> │ <span style=\"color: #008080; text-decoration-color: #008080\">      0</span> │ <span style=\"color: #008080; text-decoration-color: #008080\">      2</span> │ <span style=\"color: #008080; text-decoration-color: #008080\">  0.93</span> │ <span style=\"color: #008080; text-decoration-color: #008080\">     1</span> │ <span style=\"color: #008080; text-decoration-color: #008080\">     2</span> │ <span style=\"color: #008080; text-decoration-color: #008080\">    2</span> │ <span style=\"color: #008080; text-decoration-color: #008080\">    2</span> │ <span style=\"color: #008080; text-decoration-color: #008080\">    9</span> │ <span style=\"color: #008000; text-decoration-color: #008000\">   ▇   </span> │  │\n",
       "│ │ <span style=\"color: #af87ff; text-decoration-color: #af87ff\">cs_11_a         </span> │ <span style=\"color: #008080; text-decoration-color: #008080\">     0</span> │ <span style=\"color: #008080; text-decoration-color: #008080\">      0</span> │ <span style=\"color: #008080; text-decoration-color: #008080\">    6.3</span> │ <span style=\"color: #008080; text-decoration-color: #008080\">    16</span> │ <span style=\"color: #008080; text-decoration-color: #008080\">     1</span> │ <span style=\"color: #008080; text-decoration-color: #008080\">     3</span> │ <span style=\"color: #008080; text-decoration-color: #008080\">    4</span> │ <span style=\"color: #008080; text-decoration-color: #008080\">    5</span> │ <span style=\"color: #008080; text-decoration-color: #008080\">   99</span> │ <span style=\"color: #008000; text-decoration-color: #008000\">   ▇   </span> │  │\n",
       "│ │ <span style=\"color: #af87ff; text-decoration-color: #af87ff\">cs_11_b         </span> │ <span style=\"color: #008080; text-decoration-color: #008080\">    54</span> │ <span style=\"color: #008080; text-decoration-color: #008080\">    2.7</span> │ <span style=\"color: #008080; text-decoration-color: #008080\">    2.9</span> │ <span style=\"color: #008080; text-decoration-color: #008080\">   1.5</span> │ <span style=\"color: #008080; text-decoration-color: #008080\">     1</span> │ <span style=\"color: #008080; text-decoration-color: #008080\">     2</span> │ <span style=\"color: #008080; text-decoration-color: #008080\">    3</span> │ <span style=\"color: #008080; text-decoration-color: #008080\">    4</span> │ <span style=\"color: #008080; text-decoration-color: #008080\">   20</span> │ <span style=\"color: #008000; text-decoration-color: #008000\">  ▇▁   </span> │  │\n",
       "│ │ <span style=\"color: #af87ff; text-decoration-color: #af87ff\">cs_11_c         </span> │ <span style=\"color: #008080; text-decoration-color: #008080\">    54</span> │ <span style=\"color: #008080; text-decoration-color: #008080\">    2.7</span> │ <span style=\"color: #008080; text-decoration-color: #008080\">   0.84</span> │ <span style=\"color: #008080; text-decoration-color: #008080\">   1.1</span> │ <span style=\"color: #008080; text-decoration-color: #008080\">     0</span> │ <span style=\"color: #008080; text-decoration-color: #008080\">     0</span> │ <span style=\"color: #008080; text-decoration-color: #008080\">    0</span> │ <span style=\"color: #008080; text-decoration-color: #008080\">    1</span> │ <span style=\"color: #008080; text-decoration-color: #008080\">    6</span> │ <span style=\"color: #008000; text-decoration-color: #008000\"> ▇▃▂▁  </span> │  │\n",
       "│ │ <span style=\"color: #af87ff; text-decoration-color: #af87ff\">cs_15_a         </span> │ <span style=\"color: #008080; text-decoration-color: #008080\">     0</span> │ <span style=\"color: #008080; text-decoration-color: #008080\">      0</span> │ <span style=\"color: #008080; text-decoration-color: #008080\">     22</span> │ <span style=\"color: #008080; text-decoration-color: #008080\">     2</span> │ <span style=\"color: #008080; text-decoration-color: #008080\">    19</span> │ <span style=\"color: #008080; text-decoration-color: #008080\">    20</span> │ <span style=\"color: #008080; text-decoration-color: #008080\">   22</span> │ <span style=\"color: #008080; text-decoration-color: #008080\">   23</span> │ <span style=\"color: #008080; text-decoration-color: #008080\">   28</span> │ <span style=\"color: #008000; text-decoration-color: #008000\"> ▆▃▇▁▃ </span> │  │\n",
       "│ │ <span style=\"color: #af87ff; text-decoration-color: #af87ff\">cs_15_b         </span> │ <span style=\"color: #008080; text-decoration-color: #008080\">     0</span> │ <span style=\"color: #008080; text-decoration-color: #008080\">      0</span> │ <span style=\"color: #008080; text-decoration-color: #008080\">     10</span> │ <span style=\"color: #008080; text-decoration-color: #008080\">     0</span> │ <span style=\"color: #008080; text-decoration-color: #008080\">    10</span> │ <span style=\"color: #008080; text-decoration-color: #008080\">    10</span> │ <span style=\"color: #008080; text-decoration-color: #008080\">   10</span> │ <span style=\"color: #008080; text-decoration-color: #008080\">   10</span> │ <span style=\"color: #008080; text-decoration-color: #008080\">   10</span> │ <span style=\"color: #008000; text-decoration-color: #008000\">    ▇  </span> │  │\n",
       "│ │ <span style=\"color: #af87ff; text-decoration-color: #af87ff\">cs_16           </span> │ <span style=\"color: #008080; text-decoration-color: #008080\">     0</span> │ <span style=\"color: #008080; text-decoration-color: #008080\">      0</span> │ <span style=\"color: #008080; text-decoration-color: #008080\">    1.3</span> │ <span style=\"color: #008080; text-decoration-color: #008080\">  0.62</span> │ <span style=\"color: #008080; text-decoration-color: #008080\">     1</span> │ <span style=\"color: #008080; text-decoration-color: #008080\">     1</span> │ <span style=\"color: #008080; text-decoration-color: #008080\">    1</span> │ <span style=\"color: #008080; text-decoration-color: #008080\">    1</span> │ <span style=\"color: #008080; text-decoration-color: #008080\">    7</span> │ <span style=\"color: #008000; text-decoration-color: #008000\">  ▇▂   </span> │  │\n",
       "│ │ <span style=\"color: #af87ff; text-decoration-color: #af87ff\">cs_18           </span> │ <span style=\"color: #008080; text-decoration-color: #008080\">     0</span> │ <span style=\"color: #008080; text-decoration-color: #008080\">      0</span> │ <span style=\"color: #008080; text-decoration-color: #008080\">   2500</span> │ <span style=\"color: #008080; text-decoration-color: #008080\">  1500</span> │ <span style=\"color: #008080; text-decoration-color: #008080\">     0</span> │ <span style=\"color: #008080; text-decoration-color: #008080\">  1200</span> │ <span style=\"color: #008080; text-decoration-color: #008080\"> 2400</span> │ <span style=\"color: #008080; text-decoration-color: #008080\"> 3700</span> │ <span style=\"color: #008080; text-decoration-color: #008080\"> 5000</span> │ <span style=\"color: #008000; text-decoration-color: #008000\">▇▇▇▆▇▇ </span> │  │\n",
       "│ │ <span style=\"color: #af87ff; text-decoration-color: #af87ff\">edad_3          </span> │ <span style=\"color: #008080; text-decoration-color: #008080\">     0</span> │ <span style=\"color: #008080; text-decoration-color: #008080\">      0</span> │ <span style=\"color: #008080; text-decoration-color: #008080\">      2</span> │ <span style=\"color: #008080; text-decoration-color: #008080\">  0.78</span> │ <span style=\"color: #008080; text-decoration-color: #008080\">     1</span> │ <span style=\"color: #008080; text-decoration-color: #008080\">     1</span> │ <span style=\"color: #008080; text-decoration-color: #008080\">    2</span> │ <span style=\"color: #008080; text-decoration-color: #008080\">    3</span> │ <span style=\"color: #008080; text-decoration-color: #008080\">    3</span> │ <span style=\"color: #008000; text-decoration-color: #008000\">▆  ▇ ▇ </span> │  │\n",
       "│ │ <span style=\"color: #af87ff; text-decoration-color: #af87ff\">educa_3         </span> │ <span style=\"color: #008080; text-decoration-color: #008080\">     0</span> │ <span style=\"color: #008080; text-decoration-color: #008080\">      0</span> │ <span style=\"color: #008080; text-decoration-color: #008080\">    2.2</span> │ <span style=\"color: #008080; text-decoration-color: #008080\">  0.77</span> │ <span style=\"color: #008080; text-decoration-color: #008080\">     1</span> │ <span style=\"color: #008080; text-decoration-color: #008080\">     2</span> │ <span style=\"color: #008080; text-decoration-color: #008080\">    2</span> │ <span style=\"color: #008080; text-decoration-color: #008080\">    3</span> │ <span style=\"color: #008080; text-decoration-color: #008080\">    3</span> │ <span style=\"color: #008000; text-decoration-color: #008000\">▅  ▇ ▇ </span> │  │\n",
       "│ │ <span style=\"color: #af87ff; text-decoration-color: #af87ff\">factor          </span> │ <span style=\"color: #008080; text-decoration-color: #008080\">     0</span> │ <span style=\"color: #008080; text-decoration-color: #008080\">      0</span> │ <span style=\"color: #008080; text-decoration-color: #008080\">      1</span> │ <span style=\"color: #008080; text-decoration-color: #008080\">  0.47</span> │ <span style=\"color: #008080; text-decoration-color: #008080\">  0.44</span> │ <span style=\"color: #008080; text-decoration-color: #008080\">  0.58</span> │ <span style=\"color: #008080; text-decoration-color: #008080\"> 0.89</span> │ <span style=\"color: #008080; text-decoration-color: #008080\">  1.2</span> │ <span style=\"color: #008080; text-decoration-color: #008080\">  2.8</span> │ <span style=\"color: #008000; text-decoration-color: #008000\"> ▇▇▁▃  </span> │  │\n",
       "│ └──────────────────┴────────┴─────────┴─────────┴────────┴────────┴────────┴───────┴───────┴───────┴─────────┘  │\n",
       "│ <span style=\"font-style: italic\">                                                    string                                                    </span>  │\n",
       "│ ┏━━━━━━━━━━━━━━━━━━━━━━━━━━━┳━━━━━━━━━┳━━━━━━━━━━━━┳━━━━━━━━━━━━━━━━━━━━━━━━━━━━━━┳━━━━━━━━━━━━━━━━━━━━━━━━━━┓  │\n",
       "│ ┃<span style=\"font-weight: bold\"> column_name               </span>┃<span style=\"font-weight: bold\"> NA      </span>┃<span style=\"font-weight: bold\"> NA %       </span>┃<span style=\"font-weight: bold\"> words per row                </span>┃<span style=\"font-weight: bold\"> total words              </span>┃  │\n",
       "│ ┡━━━━━━━━━━━━━━━━━━━━━━━━━━━╇━━━━━━━━━╇━━━━━━━━━━━━╇━━━━━━━━━━━━━━━━━━━━━━━━━━━━━━╇━━━━━━━━━━━━━━━━━━━━━━━━━━┩  │\n",
       "│ │ <span style=\"color: #af87ff; text-decoration-color: #af87ff\">va_2                     </span> │ <span style=\"color: #008080; text-decoration-color: #008080\">      0</span> │ <span style=\"color: #008080; text-decoration-color: #008080\">         0</span> │ <span style=\"color: #008080; text-decoration-color: #008080\">                         2.5</span> │ <span style=\"color: #008080; text-decoration-color: #008080\">                    4974</span> │  │\n",
       "│ │ <span style=\"color: #af87ff; text-decoration-color: #af87ff\">va_7                     </span> │ <span style=\"color: #008080; text-decoration-color: #008080\">      0</span> │ <span style=\"color: #008080; text-decoration-color: #008080\">         0</span> │ <span style=\"color: #008080; text-decoration-color: #008080\">                         1.3</span> │ <span style=\"color: #008080; text-decoration-color: #008080\">                    2631</span> │  │\n",
       "│ │ <span style=\"color: #af87ff; text-decoration-color: #af87ff\">nf_3_aa                  </span> │ <span style=\"color: #008080; text-decoration-color: #008080\">      0</span> │ <span style=\"color: #008080; text-decoration-color: #008080\">         0</span> │ <span style=\"color: #008080; text-decoration-color: #008080\">                           1</span> │ <span style=\"color: #008080; text-decoration-color: #008080\">                    2046</span> │  │\n",
       "│ │ <span style=\"color: #af87ff; text-decoration-color: #af87ff\">nf_4_a                   </span> │ <span style=\"color: #008080; text-decoration-color: #008080\">      0</span> │ <span style=\"color: #008080; text-decoration-color: #008080\">         0</span> │ <span style=\"color: #008080; text-decoration-color: #008080\">                         1.1</span> │ <span style=\"color: #008080; text-decoration-color: #008080\">                    2247</span> │  │\n",
       "│ │ <span style=\"color: #af87ff; text-decoration-color: #af87ff\">nf_5_a                   </span> │ <span style=\"color: #008080; text-decoration-color: #008080\">      0</span> │ <span style=\"color: #008080; text-decoration-color: #008080\">         0</span> │ <span style=\"color: #008080; text-decoration-color: #008080\">                         1.1</span> │ <span style=\"color: #008080; text-decoration-color: #008080\">                    2111</span> │  │\n",
       "│ │ <span style=\"color: #af87ff; text-decoration-color: #af87ff\">cs_6_b                   </span> │ <span style=\"color: #008080; text-decoration-color: #008080\">      0</span> │ <span style=\"color: #008080; text-decoration-color: #008080\">         0</span> │ <span style=\"color: #008080; text-decoration-color: #008080\">                           1</span> │ <span style=\"color: #008080; text-decoration-color: #008080\">                    2041</span> │  │\n",
       "│ │ <span style=\"color: #af87ff; text-decoration-color: #af87ff\">cs_10_b                  </span> │ <span style=\"color: #008080; text-decoration-color: #008080\">      0</span> │ <span style=\"color: #008080; text-decoration-color: #008080\">         0</span> │ <span style=\"color: #008080; text-decoration-color: #008080\">                           1</span> │ <span style=\"color: #008080; text-decoration-color: #008080\">                    2073</span> │  │\n",
       "│ └───────────────────────────┴─────────┴────────────┴──────────────────────────────┴──────────────────────────┘  │\n",
       "╰────────────────────────────────────────────────────── End ──────────────────────────────────────────────────────╯\n",
       "</pre>\n"
      ],
      "text/plain": [
       "╭──────────────────────────────────────────────── skimpy summary ─────────────────────────────────────────────────╮\n",
       "│ \u001b[3m         Data Summary         \u001b[0m \u001b[3m      Data Types       \u001b[0m                                                          │\n",
       "│ ┏━━━━━━━━━━━━━━━━━━━┳━━━━━━━━┓ ┏━━━━━━━━━━━━━┳━━━━━━━┓                                                          │\n",
       "│ ┃\u001b[1;36m \u001b[0m\u001b[1;36mdataframe        \u001b[0m\u001b[1;36m \u001b[0m┃\u001b[1;36m \u001b[0m\u001b[1;36mValues\u001b[0m\u001b[1;36m \u001b[0m┃ ┃\u001b[1;36m \u001b[0m\u001b[1;36mColumn Type\u001b[0m\u001b[1;36m \u001b[0m┃\u001b[1;36m \u001b[0m\u001b[1;36mCount\u001b[0m\u001b[1;36m \u001b[0m┃                                                          │\n",
       "│ ┡━━━━━━━━━━━━━━━━━━━╇━━━━━━━━┩ ┡━━━━━━━━━━━━━╇━━━━━━━┩                                                          │\n",
       "│ │ Number of rows    │ 2003   │ │ float64     │ 123   │                                                          │\n",
       "│ │ Number of columns │ 130    │ │ string      │ 7     │                                                          │\n",
       "│ └───────────────────┴────────┘ └─────────────┴───────┘                                                          │\n",
       "│ \u001b[3m                                                    number                                                    \u001b[0m  │\n",
       "│ ┏━━━━━━━━━━━━━━━━━━┳━━━━━━━━┳━━━━━━━━━┳━━━━━━━━━┳━━━━━━━━┳━━━━━━━━┳━━━━━━━━┳━━━━━━━┳━━━━━━━┳━━━━━━━┳━━━━━━━━━┓  │\n",
       "│ ┃\u001b[1m \u001b[0m\u001b[1mcolumn_name     \u001b[0m\u001b[1m \u001b[0m┃\u001b[1m \u001b[0m\u001b[1mNA    \u001b[0m\u001b[1m \u001b[0m┃\u001b[1m \u001b[0m\u001b[1mNA %   \u001b[0m\u001b[1m \u001b[0m┃\u001b[1m \u001b[0m\u001b[1mmean   \u001b[0m\u001b[1m \u001b[0m┃\u001b[1m \u001b[0m\u001b[1msd    \u001b[0m\u001b[1m \u001b[0m┃\u001b[1m \u001b[0m\u001b[1mp0    \u001b[0m\u001b[1m \u001b[0m┃\u001b[1m \u001b[0m\u001b[1mp25   \u001b[0m\u001b[1m \u001b[0m┃\u001b[1m \u001b[0m\u001b[1mp50  \u001b[0m\u001b[1m \u001b[0m┃\u001b[1m \u001b[0m\u001b[1mp75  \u001b[0m\u001b[1m \u001b[0m┃\u001b[1m \u001b[0m\u001b[1mp100 \u001b[0m\u001b[1m \u001b[0m┃\u001b[1m \u001b[0m\u001b[1mhist   \u001b[0m\u001b[1m \u001b[0m┃  │\n",
       "│ ┡━━━━━━━━━━━━━━━━━━╇━━━━━━━━╇━━━━━━━━━╇━━━━━━━━━╇━━━━━━━━╇━━━━━━━━╇━━━━━━━━╇━━━━━━━╇━━━━━━━╇━━━━━━━╇━━━━━━━━━┩  │\n",
       "│ │ \u001b[38;5;141mcuestionario    \u001b[0m │ \u001b[36m     0\u001b[0m │ \u001b[36m      0\u001b[0m │ \u001b[36m   1000\u001b[0m │ \u001b[36m   580\u001b[0m │ \u001b[36m     1\u001b[0m │ \u001b[36m   500\u001b[0m │ \u001b[36m 1000\u001b[0m │ \u001b[36m 1500\u001b[0m │ \u001b[36m 2000\u001b[0m │ \u001b[32m▇▇▇▇▇▇ \u001b[0m │  │\n",
       "│ │ \u001b[38;5;141mid              \u001b[0m │ \u001b[36m     0\u001b[0m │ \u001b[36m      0\u001b[0m │ \u001b[36m     17\u001b[0m │ \u001b[36m    10\u001b[0m │ \u001b[36m     1\u001b[0m │ \u001b[36m     8\u001b[0m │ \u001b[36m   17\u001b[0m │ \u001b[36m   26\u001b[0m │ \u001b[36m   38\u001b[0m │ \u001b[32m▇▆▆▆▅▃ \u001b[0m │  │\n",
       "│ │ \u001b[38;5;141mhi              \u001b[0m │ \u001b[36m     0\u001b[0m │ \u001b[36m      0\u001b[0m │ \u001b[36m     15\u001b[0m │ \u001b[36m     3\u001b[0m │ \u001b[36m     8\u001b[0m │ \u001b[36m    13\u001b[0m │ \u001b[36m   15\u001b[0m │ \u001b[36m   17\u001b[0m │ \u001b[36m   21\u001b[0m │ \u001b[32m▃▃▅▇▇▃ \u001b[0m │  │\n",
       "│ │ \u001b[38;5;141mmi              \u001b[0m │ \u001b[36m     0\u001b[0m │ \u001b[36m      0\u001b[0m │ \u001b[36m     29\u001b[0m │ \u001b[36m    17\u001b[0m │ \u001b[36m     0\u001b[0m │ \u001b[36m    14\u001b[0m │ \u001b[36m   29\u001b[0m │ \u001b[36m   43\u001b[0m │ \u001b[36m   59\u001b[0m │ \u001b[32m▇▇▇▇▇▆ \u001b[0m │  │\n",
       "│ │ \u001b[38;5;141mhf              \u001b[0m │ \u001b[36m     0\u001b[0m │ \u001b[36m      0\u001b[0m │ \u001b[36m     15\u001b[0m │ \u001b[36m   3.5\u001b[0m │ \u001b[36m     8\u001b[0m │ \u001b[36m    13\u001b[0m │ \u001b[36m   16\u001b[0m │ \u001b[36m   18\u001b[0m │ \u001b[36m   99\u001b[0m │ \u001b[32m   ▇   \u001b[0m │  │\n",
       "│ │ \u001b[38;5;141mmf              \u001b[0m │ \u001b[36m     0\u001b[0m │ \u001b[36m      0\u001b[0m │ \u001b[36m     30\u001b[0m │ \u001b[36m    17\u001b[0m │ \u001b[36m     0\u001b[0m │ \u001b[36m    15\u001b[0m │ \u001b[36m   30\u001b[0m │ \u001b[36m   45\u001b[0m │ \u001b[36m   99\u001b[0m │ \u001b[32m ▇▇▇▅  \u001b[0m │  │\n",
       "│ │ \u001b[38;5;141msp_1            \u001b[0m │ \u001b[36m     0\u001b[0m │ \u001b[36m      0\u001b[0m │ \u001b[36m    6.9\u001b[0m │ \u001b[36m   8.6\u001b[0m │ \u001b[36m     0\u001b[0m │ \u001b[36m     5\u001b[0m │ \u001b[36m    7\u001b[0m │ \u001b[36m    8\u001b[0m │ \u001b[36m   99\u001b[0m │ \u001b[32m   ▇   \u001b[0m │  │\n",
       "│ │ \u001b[38;5;141msp_2            \u001b[0m │ \u001b[36m     0\u001b[0m │ \u001b[36m      0\u001b[0m │ \u001b[36m    5.7\u001b[0m │ \u001b[36m   9.6\u001b[0m │ \u001b[36m     0\u001b[0m │ \u001b[36m     4\u001b[0m │ \u001b[36m    5\u001b[0m │ \u001b[36m    6\u001b[0m │ \u001b[36m   99\u001b[0m │ \u001b[32m   ▇   \u001b[0m │  │\n",
       "│ │ \u001b[38;5;141msp_3            \u001b[0m │ \u001b[36m     0\u001b[0m │ \u001b[36m      0\u001b[0m │ \u001b[36m    8.3\u001b[0m │ \u001b[36m   7.3\u001b[0m │ \u001b[36m     0\u001b[0m │ \u001b[36m     7\u001b[0m │ \u001b[36m    8\u001b[0m │ \u001b[36m    9\u001b[0m │ \u001b[36m   99\u001b[0m │ \u001b[32m   ▇   \u001b[0m │  │\n",
       "│ │ \u001b[38;5;141msp_4            \u001b[0m │ \u001b[36m     0\u001b[0m │ \u001b[36m      0\u001b[0m │ \u001b[36m    5.2\u001b[0m │ \u001b[36m    10\u001b[0m │ \u001b[36m     0\u001b[0m │ \u001b[36m     2\u001b[0m │ \u001b[36m    5\u001b[0m │ \u001b[36m    6\u001b[0m │ \u001b[36m   99\u001b[0m │ \u001b[32m   ▇   \u001b[0m │  │\n",
       "│ │ \u001b[38;5;141msp_5            \u001b[0m │ \u001b[36m     0\u001b[0m │ \u001b[36m      0\u001b[0m │ \u001b[36m    5.2\u001b[0m │ \u001b[36m   9.7\u001b[0m │ \u001b[36m     0\u001b[0m │ \u001b[36m     3\u001b[0m │ \u001b[36m    5\u001b[0m │ \u001b[36m    6\u001b[0m │ \u001b[36m   99\u001b[0m │ \u001b[32m   ▇   \u001b[0m │  │\n",
       "│ │ \u001b[38;5;141msp_6            \u001b[0m │ \u001b[36m     0\u001b[0m │ \u001b[36m      0\u001b[0m │ \u001b[36m    5.5\u001b[0m │ \u001b[36m    11\u001b[0m │ \u001b[36m     0\u001b[0m │ \u001b[36m     3\u001b[0m │ \u001b[36m    5\u001b[0m │ \u001b[36m    6\u001b[0m │ \u001b[36m   99\u001b[0m │ \u001b[32m   ▇   \u001b[0m │  │\n",
       "│ │ \u001b[38;5;141mrp_1            \u001b[0m │ \u001b[36m     0\u001b[0m │ \u001b[36m      0\u001b[0m │ \u001b[36m    2.6\u001b[0m │ \u001b[36m   1.1\u001b[0m │ \u001b[36m     1\u001b[0m │ \u001b[36m     2\u001b[0m │ \u001b[36m    3\u001b[0m │ \u001b[36m    3\u001b[0m │ \u001b[36m    9\u001b[0m │ \u001b[32m  ▃▇   \u001b[0m │  │\n",
       "│ │ \u001b[38;5;141mrp_2            \u001b[0m │ \u001b[36m  1495\u001b[0m │ \u001b[36m  74.64\u001b[0m │ \u001b[36m      2\u001b[0m │ \u001b[36m     2\u001b[0m │ \u001b[36m     1\u001b[0m │ \u001b[36m     1\u001b[0m │ \u001b[36m    1\u001b[0m │ \u001b[36m    2\u001b[0m │ \u001b[36m    9\u001b[0m │ \u001b[32m▇    ▁ \u001b[0m │  │\n",
       "│ │ \u001b[38;5;141mrp_3            \u001b[0m │ \u001b[36m     0\u001b[0m │ \u001b[36m      0\u001b[0m │ \u001b[36m    8.4\u001b[0m │ \u001b[36m    17\u001b[0m │ \u001b[36m     0\u001b[0m │ \u001b[36m     3\u001b[0m │ \u001b[36m    5\u001b[0m │ \u001b[36m    8\u001b[0m │ \u001b[36m   99\u001b[0m │ \u001b[32m   ▇   \u001b[0m │  │\n",
       "│ │ \u001b[38;5;141mrp_4            \u001b[0m │ \u001b[36m     0\u001b[0m │ \u001b[36m      0\u001b[0m │ \u001b[36m     10\u001b[0m │ \u001b[36m    20\u001b[0m │ \u001b[36m     0\u001b[0m │ \u001b[36m     3\u001b[0m │ \u001b[36m    5\u001b[0m │ \u001b[36m    8\u001b[0m │ \u001b[36m   99\u001b[0m │ \u001b[32m   ▇   \u001b[0m │  │\n",
       "│ │ \u001b[38;5;141mrp_5            \u001b[0m │ \u001b[36m     0\u001b[0m │ \u001b[36m      0\u001b[0m │ \u001b[36m    1.7\u001b[0m │ \u001b[36m  0.73\u001b[0m │ \u001b[36m     1\u001b[0m │ \u001b[36m     1\u001b[0m │ \u001b[36m    2\u001b[0m │ \u001b[36m    2\u001b[0m │ \u001b[36m    9\u001b[0m │ \u001b[32m   ▇   \u001b[0m │  │\n",
       "│ │ \u001b[38;5;141mrp_6            \u001b[0m │ \u001b[36m     0\u001b[0m │ \u001b[36m      0\u001b[0m │ \u001b[36m    1.3\u001b[0m │ \u001b[36m  0.75\u001b[0m │ \u001b[36m     1\u001b[0m │ \u001b[36m     1\u001b[0m │ \u001b[36m    1\u001b[0m │ \u001b[36m    1\u001b[0m │ \u001b[36m    9\u001b[0m │ \u001b[32m   ▇   \u001b[0m │  │\n",
       "│ │ \u001b[38;5;141mrp_7            \u001b[0m │ \u001b[36m   361\u001b[0m │ \u001b[36m  18.02\u001b[0m │ \u001b[36m    1.7\u001b[0m │ \u001b[36m  0.62\u001b[0m │ \u001b[36m     1\u001b[0m │ \u001b[36m     1\u001b[0m │ \u001b[36m    2\u001b[0m │ \u001b[36m    2\u001b[0m │ \u001b[36m    9\u001b[0m │ \u001b[32m   ▇   \u001b[0m │  │\n",
       "│ │ \u001b[38;5;141mcr_1            \u001b[0m │ \u001b[36m     0\u001b[0m │ \u001b[36m      0\u001b[0m │ \u001b[36m    4.7\u001b[0m │ \u001b[36m  0.66\u001b[0m │ \u001b[36m     1\u001b[0m │ \u001b[36m     4\u001b[0m │ \u001b[36m    5\u001b[0m │ \u001b[36m    5\u001b[0m │ \u001b[36m    5\u001b[0m │ \u001b[32m    ▂▇ \u001b[0m │  │\n",
       "│ │ \u001b[38;5;141mcr_2            \u001b[0m │ \u001b[36m     0\u001b[0m │ \u001b[36m      0\u001b[0m │ \u001b[36m    4.7\u001b[0m │ \u001b[36m  0.66\u001b[0m │ \u001b[36m     1\u001b[0m │ \u001b[36m     5\u001b[0m │ \u001b[36m    5\u001b[0m │ \u001b[36m    5\u001b[0m │ \u001b[36m    5\u001b[0m │ \u001b[32m    ▂▇ \u001b[0m │  │\n",
       "│ │ \u001b[38;5;141mcr_3            \u001b[0m │ \u001b[36m     0\u001b[0m │ \u001b[36m      0\u001b[0m │ \u001b[36m    1.9\u001b[0m │ \u001b[36m   1.1\u001b[0m │ \u001b[36m     1\u001b[0m │ \u001b[36m     1\u001b[0m │ \u001b[36m    2\u001b[0m │ \u001b[36m    2\u001b[0m │ \u001b[36m    5\u001b[0m │ \u001b[32m▇▇ ▁▂▁ \u001b[0m │  │\n",
       "│ │ \u001b[38;5;141mcr_4            \u001b[0m │ \u001b[36m     0\u001b[0m │ \u001b[36m      0\u001b[0m │ \u001b[36m    1.7\u001b[0m │ \u001b[36m  0.93\u001b[0m │ \u001b[36m     1\u001b[0m │ \u001b[36m     1\u001b[0m │ \u001b[36m    1\u001b[0m │ \u001b[36m    2\u001b[0m │ \u001b[36m    9\u001b[0m │ \u001b[32m  ▇▁   \u001b[0m │  │\n",
       "│ │ \u001b[38;5;141maf_1            \u001b[0m │ \u001b[36m     0\u001b[0m │ \u001b[36m      0\u001b[0m │ \u001b[36m    1.6\u001b[0m │ \u001b[36m   2.4\u001b[0m │ \u001b[36m     0\u001b[0m │ \u001b[36m     0\u001b[0m │ \u001b[36m    0\u001b[0m │ \u001b[36m    3\u001b[0m │ \u001b[36m    9\u001b[0m │ \u001b[32m ▇▁▂▁▁ \u001b[0m │  │\n",
       "│ │ \u001b[38;5;141maf_2_horas      \u001b[0m │ \u001b[36m  1183\u001b[0m │ \u001b[36m  59.06\u001b[0m │ \u001b[36m    2.7\u001b[0m │ \u001b[36m    11\u001b[0m │ \u001b[36m     0\u001b[0m │ \u001b[36m     0\u001b[0m │ \u001b[36m    1\u001b[0m │ \u001b[36m    2\u001b[0m │ \u001b[36m   99\u001b[0m │ \u001b[32m   ▇   \u001b[0m │  │\n",
       "│ │ \u001b[38;5;141maf_2_minutos    \u001b[0m │ \u001b[36m  1183\u001b[0m │ \u001b[36m  59.06\u001b[0m │ \u001b[36m     15\u001b[0m │ \u001b[36m    19\u001b[0m │ \u001b[36m     0\u001b[0m │ \u001b[36m     0\u001b[0m │ \u001b[36m    0\u001b[0m │ \u001b[36m   30\u001b[0m │ \u001b[36m   99\u001b[0m │ \u001b[32m  ▇▅▁  \u001b[0m │  │\n",
       "│ │ \u001b[38;5;141maf_3            \u001b[0m │ \u001b[36m     0\u001b[0m │ \u001b[36m      0\u001b[0m │ \u001b[36m    1.7\u001b[0m │ \u001b[36m   2.5\u001b[0m │ \u001b[36m     0\u001b[0m │ \u001b[36m     0\u001b[0m │ \u001b[36m    0\u001b[0m │ \u001b[36m    3\u001b[0m │ \u001b[36m    9\u001b[0m │ \u001b[32m ▇▁▁ ▂ \u001b[0m │  │\n",
       "│ │ \u001b[38;5;141maf_4_horas      \u001b[0m │ \u001b[36m  1234\u001b[0m │ \u001b[36m  61.61\u001b[0m │ \u001b[36m      3\u001b[0m │ \u001b[36m    11\u001b[0m │ \u001b[36m     0\u001b[0m │ \u001b[36m     0\u001b[0m │ \u001b[36m    1\u001b[0m │ \u001b[36m    2\u001b[0m │ \u001b[36m   99\u001b[0m │ \u001b[32m   ▇   \u001b[0m │  │\n",
       "│ │ \u001b[38;5;141maf_4_minutos    \u001b[0m │ \u001b[36m  1234\u001b[0m │ \u001b[36m  61.61\u001b[0m │ \u001b[36m     14\u001b[0m │ \u001b[36m    18\u001b[0m │ \u001b[36m     0\u001b[0m │ \u001b[36m     0\u001b[0m │ \u001b[36m    0\u001b[0m │ \u001b[36m   30\u001b[0m │ \u001b[36m   99\u001b[0m │ \u001b[32m  ▇▃▁  \u001b[0m │  │\n",
       "│ │ \u001b[38;5;141maf_5            \u001b[0m │ \u001b[36m     0\u001b[0m │ \u001b[36m      0\u001b[0m │ \u001b[36m    4.2\u001b[0m │ \u001b[36m   2.8\u001b[0m │ \u001b[36m     0\u001b[0m │ \u001b[36m     2\u001b[0m │ \u001b[36m    5\u001b[0m │ \u001b[36m    7\u001b[0m │ \u001b[36m    9\u001b[0m │ \u001b[32m ▅▂▃▂▇ \u001b[0m │  │\n",
       "│ │ \u001b[38;5;141maf_6_horas      \u001b[0m │ \u001b[36m   386\u001b[0m │ \u001b[36m  19.27\u001b[0m │ \u001b[36m    5.2\u001b[0m │ \u001b[36m    18\u001b[0m │ \u001b[36m     0\u001b[0m │ \u001b[36m     0\u001b[0m │ \u001b[36m    1\u001b[0m │ \u001b[36m    2\u001b[0m │ \u001b[36m   99\u001b[0m │ \u001b[32m   ▇   \u001b[0m │  │\n",
       "│ │ \u001b[38;5;141maf_6_minutos    \u001b[0m │ \u001b[36m   386\u001b[0m │ \u001b[36m  19.27\u001b[0m │ \u001b[36m     18\u001b[0m │ \u001b[36m    21\u001b[0m │ \u001b[36m     0\u001b[0m │ \u001b[36m     0\u001b[0m │ \u001b[36m   15\u001b[0m │ \u001b[36m   30\u001b[0m │ \u001b[36m   99\u001b[0m │ \u001b[32m▇▅▁  ▁ \u001b[0m │  │\n",
       "│ │ \u001b[38;5;141maf_7_horas      \u001b[0m │ \u001b[36m     0\u001b[0m │ \u001b[36m      0\u001b[0m │ \u001b[36m    7.5\u001b[0m │ \u001b[36m    17\u001b[0m │ \u001b[36m     0\u001b[0m │ \u001b[36m     2\u001b[0m │ \u001b[36m    4\u001b[0m │ \u001b[36m    7\u001b[0m │ \u001b[36m   99\u001b[0m │ \u001b[32m   ▇   \u001b[0m │  │\n",
       "│ │ \u001b[38;5;141maf_7_minutos    \u001b[0m │ \u001b[36m     0\u001b[0m │ \u001b[36m      0\u001b[0m │ \u001b[36m    7.1\u001b[0m │ \u001b[36m    20\u001b[0m │ \u001b[36m     0\u001b[0m │ \u001b[36m     0\u001b[0m │ \u001b[36m    0\u001b[0m │ \u001b[36m    0\u001b[0m │ \u001b[36m   99\u001b[0m │ \u001b[32m  ▇▁   \u001b[0m │  │\n",
       "│ │ \u001b[38;5;141maf_8            \u001b[0m │ \u001b[36m     0\u001b[0m │ \u001b[36m      0\u001b[0m │ \u001b[36m    1.8\u001b[0m │ \u001b[36m     1\u001b[0m │ \u001b[36m     1\u001b[0m │ \u001b[36m     1\u001b[0m │ \u001b[36m    2\u001b[0m │ \u001b[36m    2\u001b[0m │ \u001b[36m    9\u001b[0m │ \u001b[32m  ▇▂   \u001b[0m │  │\n",
       "│ │ \u001b[38;5;141mrv_1            \u001b[0m │ \u001b[36m     0\u001b[0m │ \u001b[36m      0\u001b[0m │ \u001b[36m    2.3\u001b[0m │ \u001b[36m   1.4\u001b[0m │ \u001b[36m     1\u001b[0m │ \u001b[36m     1\u001b[0m │ \u001b[36m    2\u001b[0m │ \u001b[36m    3\u001b[0m │ \u001b[36m    9\u001b[0m │ \u001b[32m  ▇▃▂  \u001b[0m │  │\n",
       "│ │ \u001b[38;5;141mrv_2            \u001b[0m │ \u001b[36m     0\u001b[0m │ \u001b[36m      0\u001b[0m │ \u001b[36m    2.4\u001b[0m │ \u001b[36m   1.5\u001b[0m │ \u001b[36m     1\u001b[0m │ \u001b[36m     1\u001b[0m │ \u001b[36m    2\u001b[0m │ \u001b[36m    3\u001b[0m │ \u001b[36m    9\u001b[0m │ \u001b[32m  ▇▃▃  \u001b[0m │  │\n",
       "│ │ \u001b[38;5;141mrv_3            \u001b[0m │ \u001b[36m     0\u001b[0m │ \u001b[36m      0\u001b[0m │ \u001b[36m    2.6\u001b[0m │ \u001b[36m   1.5\u001b[0m │ \u001b[36m     1\u001b[0m │ \u001b[36m     1\u001b[0m │ \u001b[36m    2\u001b[0m │ \u001b[36m    4\u001b[0m │ \u001b[36m    9\u001b[0m │ \u001b[32m  ▇▃▅  \u001b[0m │  │\n",
       "│ │ \u001b[38;5;141mrv_4            \u001b[0m │ \u001b[36m     0\u001b[0m │ \u001b[36m      0\u001b[0m │ \u001b[36m    2.1\u001b[0m │ \u001b[36m   1.7\u001b[0m │ \u001b[36m     1\u001b[0m │ \u001b[36m     1\u001b[0m │ \u001b[36m    2\u001b[0m │ \u001b[36m    2\u001b[0m │ \u001b[36m    9\u001b[0m │ \u001b[32m▇▁   ▁ \u001b[0m │  │\n",
       "│ │ \u001b[38;5;141mrv_5            \u001b[0m │ \u001b[36m     0\u001b[0m │ \u001b[36m      0\u001b[0m │ \u001b[36m    1.6\u001b[0m │ \u001b[36m  0.66\u001b[0m │ \u001b[36m     1\u001b[0m │ \u001b[36m     1\u001b[0m │ \u001b[36m    2\u001b[0m │ \u001b[36m    2\u001b[0m │ \u001b[36m    9\u001b[0m │ \u001b[32m   ▇   \u001b[0m │  │\n",
       "│ │ \u001b[38;5;141mrv_6            \u001b[0m │ \u001b[36m  1150\u001b[0m │ \u001b[36m  57.41\u001b[0m │ \u001b[36m    1.6\u001b[0m │ \u001b[36m  0.56\u001b[0m │ \u001b[36m     1\u001b[0m │ \u001b[36m     1\u001b[0m │ \u001b[36m    2\u001b[0m │ \u001b[36m    2\u001b[0m │ \u001b[36m    9\u001b[0m │ \u001b[32m   ▇   \u001b[0m │  │\n",
       "│ │ \u001b[38;5;141mrv_7            \u001b[0m │ \u001b[36m     0\u001b[0m │ \u001b[36m      0\u001b[0m │ \u001b[36m    2.6\u001b[0m │ \u001b[36m   2.3\u001b[0m │ \u001b[36m     1\u001b[0m │ \u001b[36m     1\u001b[0m │ \u001b[36m    2\u001b[0m │ \u001b[36m    2\u001b[0m │ \u001b[36m    9\u001b[0m │ \u001b[32m▇▁  ▁▁ \u001b[0m │  │\n",
       "│ │ \u001b[38;5;141mrv_8            \u001b[0m │ \u001b[36m     0\u001b[0m │ \u001b[36m      0\u001b[0m │ \u001b[36m    2.2\u001b[0m │ \u001b[36m   1.5\u001b[0m │ \u001b[36m     1\u001b[0m │ \u001b[36m     1\u001b[0m │ \u001b[36m    2\u001b[0m │ \u001b[36m    3\u001b[0m │ \u001b[36m    9\u001b[0m │ \u001b[32m  ▇▂   \u001b[0m │  │\n",
       "│ │ \u001b[38;5;141mrv_9            \u001b[0m │ \u001b[36m     0\u001b[0m │ \u001b[36m      0\u001b[0m │ \u001b[36m    2.2\u001b[0m │ \u001b[36m   1.9\u001b[0m │ \u001b[36m     1\u001b[0m │ \u001b[36m     1\u001b[0m │ \u001b[36m    2\u001b[0m │ \u001b[36m    2\u001b[0m │ \u001b[36m    9\u001b[0m │ \u001b[32m ▇▁  ▁ \u001b[0m │  │\n",
       "│ │ \u001b[38;5;141mrv_10           \u001b[0m │ \u001b[36m     0\u001b[0m │ \u001b[36m      0\u001b[0m │ \u001b[36m    1.9\u001b[0m │ \u001b[36m   1.4\u001b[0m │ \u001b[36m     1\u001b[0m │ \u001b[36m     1\u001b[0m │ \u001b[36m    2\u001b[0m │ \u001b[36m    2\u001b[0m │ \u001b[36m    9\u001b[0m │ \u001b[32m  ▇▁   \u001b[0m │  │\n",
       "│ │ \u001b[38;5;141mrv_11           \u001b[0m │ \u001b[36m     0\u001b[0m │ \u001b[36m      0\u001b[0m │ \u001b[36m    2.4\u001b[0m │ \u001b[36m   1.7\u001b[0m │ \u001b[36m     1\u001b[0m │ \u001b[36m     1\u001b[0m │ \u001b[36m    2\u001b[0m │ \u001b[36m    3\u001b[0m │ \u001b[36m    9\u001b[0m │ \u001b[32m▇▆   ▁ \u001b[0m │  │\n",
       "│ │ \u001b[38;5;141mrv_12           \u001b[0m │ \u001b[36m     0\u001b[0m │ \u001b[36m      0\u001b[0m │ \u001b[36m    2.6\u001b[0m │ \u001b[36m   1.4\u001b[0m │ \u001b[36m     1\u001b[0m │ \u001b[36m     2\u001b[0m │ \u001b[36m    3\u001b[0m │ \u001b[36m    3\u001b[0m │ \u001b[36m    9\u001b[0m │ \u001b[32m  ▅▇   \u001b[0m │  │\n",
       "│ │ \u001b[38;5;141mrv_13           \u001b[0m │ \u001b[36m     0\u001b[0m │ \u001b[36m      0\u001b[0m │ \u001b[36m    2.9\u001b[0m │ \u001b[36m   1.1\u001b[0m │ \u001b[36m     1\u001b[0m │ \u001b[36m     3\u001b[0m │ \u001b[36m    3\u001b[0m │ \u001b[36m    3\u001b[0m │ \u001b[36m    9\u001b[0m │ \u001b[32m  ▂▇   \u001b[0m │  │\n",
       "│ │ \u001b[38;5;141mrv_14           \u001b[0m │ \u001b[36m     0\u001b[0m │ \u001b[36m      0\u001b[0m │ \u001b[36m    1.8\u001b[0m │ \u001b[36m   1.5\u001b[0m │ \u001b[36m     1\u001b[0m │ \u001b[36m     1\u001b[0m │ \u001b[36m    1\u001b[0m │ \u001b[36m    2\u001b[0m │ \u001b[36m    9\u001b[0m │ \u001b[32m  ▇▁   \u001b[0m │  │\n",
       "│ │ \u001b[38;5;141mvm_1            \u001b[0m │ \u001b[36m     0\u001b[0m │ \u001b[36m      0\u001b[0m │ \u001b[36m    2.8\u001b[0m │ \u001b[36m     2\u001b[0m │ \u001b[36m     1\u001b[0m │ \u001b[36m     2\u001b[0m │ \u001b[36m    2\u001b[0m │ \u001b[36m    4\u001b[0m │ \u001b[36m    9\u001b[0m │ \u001b[32m▇▁▂  ▁ \u001b[0m │  │\n",
       "│ │ \u001b[38;5;141mvm_2            \u001b[0m │ \u001b[36m     0\u001b[0m │ \u001b[36m      0\u001b[0m │ \u001b[36m    3.1\u001b[0m │ \u001b[36m   2.6\u001b[0m │ \u001b[36m     1\u001b[0m │ \u001b[36m     2\u001b[0m │ \u001b[36m    2\u001b[0m │ \u001b[36m    3\u001b[0m │ \u001b[36m    9\u001b[0m │ \u001b[32m▇▁   ▂ \u001b[0m │  │\n",
       "│ │ \u001b[38;5;141mvm_3            \u001b[0m │ \u001b[36m     0\u001b[0m │ \u001b[36m      0\u001b[0m │ \u001b[36m    2.2\u001b[0m │ \u001b[36m   1.8\u001b[0m │ \u001b[36m     1\u001b[0m │ \u001b[36m     1\u001b[0m │ \u001b[36m    2\u001b[0m │ \u001b[36m    2\u001b[0m │ \u001b[36m    9\u001b[0m │ \u001b[32m▇    ▁ \u001b[0m │  │\n",
       "│ │ \u001b[38;5;141mvm_4            \u001b[0m │ \u001b[36m     0\u001b[0m │ \u001b[36m      0\u001b[0m │ \u001b[36m    2.6\u001b[0m │ \u001b[36m   1.8\u001b[0m │ \u001b[36m     1\u001b[0m │ \u001b[36m     2\u001b[0m │ \u001b[36m    2\u001b[0m │ \u001b[36m    3\u001b[0m │ \u001b[36m    9\u001b[0m │ \u001b[32m▇▁▂  ▁ \u001b[0m │  │\n",
       "│ │ \u001b[38;5;141mvm_5            \u001b[0m │ \u001b[36m     0\u001b[0m │ \u001b[36m      0\u001b[0m │ \u001b[36m    2.6\u001b[0m │ \u001b[36m   2.3\u001b[0m │ \u001b[36m     1\u001b[0m │ \u001b[36m     2\u001b[0m │ \u001b[36m    2\u001b[0m │ \u001b[36m    2\u001b[0m │ \u001b[36m    9\u001b[0m │ \u001b[32m▇    ▁ \u001b[0m │  │\n",
       "│ │ \u001b[38;5;141mvm_6            \u001b[0m │ \u001b[36m     0\u001b[0m │ \u001b[36m      0\u001b[0m │ \u001b[36m    2.7\u001b[0m │ \u001b[36m   2.4\u001b[0m │ \u001b[36m     1\u001b[0m │ \u001b[36m     2\u001b[0m │ \u001b[36m    2\u001b[0m │ \u001b[36m    2\u001b[0m │ \u001b[36m    9\u001b[0m │ \u001b[32m▇    ▁ \u001b[0m │  │\n",
       "│ │ \u001b[38;5;141mcv_1            \u001b[0m │ \u001b[36m     0\u001b[0m │ \u001b[36m      0\u001b[0m │ \u001b[36m    3.6\u001b[0m │ \u001b[36m   1.3\u001b[0m │ \u001b[36m     1\u001b[0m │ \u001b[36m     2\u001b[0m │ \u001b[36m    4\u001b[0m │ \u001b[36m    4\u001b[0m │ \u001b[36m    9\u001b[0m │ \u001b[32m ▅ ▇▃  \u001b[0m │  │\n",
       "│ │ \u001b[38;5;141mcv_2            \u001b[0m │ \u001b[36m     0\u001b[0m │ \u001b[36m      0\u001b[0m │ \u001b[36m    3.8\u001b[0m │ \u001b[36m   1.3\u001b[0m │ \u001b[36m     1\u001b[0m │ \u001b[36m     4\u001b[0m │ \u001b[36m    4\u001b[0m │ \u001b[36m    5\u001b[0m │ \u001b[36m    9\u001b[0m │ \u001b[32m ▃ ▇▅  \u001b[0m │  │\n",
       "│ │ \u001b[38;5;141mcv_3            \u001b[0m │ \u001b[36m     0\u001b[0m │ \u001b[36m      0\u001b[0m │ \u001b[36m    3.6\u001b[0m │ \u001b[36m   1.3\u001b[0m │ \u001b[36m     1\u001b[0m │ \u001b[36m     2\u001b[0m │ \u001b[36m    4\u001b[0m │ \u001b[36m    4\u001b[0m │ \u001b[36m    9\u001b[0m │ \u001b[32m ▅ ▇▃  \u001b[0m │  │\n",
       "│ │ \u001b[38;5;141mcv_4            \u001b[0m │ \u001b[36m     0\u001b[0m │ \u001b[36m      0\u001b[0m │ \u001b[36m    3.8\u001b[0m │ \u001b[36m   1.3\u001b[0m │ \u001b[36m     1\u001b[0m │ \u001b[36m     4\u001b[0m │ \u001b[36m    4\u001b[0m │ \u001b[36m    5\u001b[0m │ \u001b[36m    9\u001b[0m │ \u001b[32m ▃ ▇▅  \u001b[0m │  │\n",
       "│ │ \u001b[38;5;141mcv_5            \u001b[0m │ \u001b[36m     0\u001b[0m │ \u001b[36m      0\u001b[0m │ \u001b[36m    3.6\u001b[0m │ \u001b[36m   1.3\u001b[0m │ \u001b[36m     1\u001b[0m │ \u001b[36m     2\u001b[0m │ \u001b[36m    4\u001b[0m │ \u001b[36m    4\u001b[0m │ \u001b[36m    9\u001b[0m │ \u001b[32m ▅ ▇▃  \u001b[0m │  │\n",
       "│ │ \u001b[38;5;141mcv_6            \u001b[0m │ \u001b[36m     0\u001b[0m │ \u001b[36m      0\u001b[0m │ \u001b[36m    3.7\u001b[0m │ \u001b[36m   1.3\u001b[0m │ \u001b[36m     1\u001b[0m │ \u001b[36m     3\u001b[0m │ \u001b[36m    4\u001b[0m │ \u001b[36m    4\u001b[0m │ \u001b[36m    9\u001b[0m │ \u001b[32m ▃ ▇▃  \u001b[0m │  │\n",
       "│ │ \u001b[38;5;141mcv_7            \u001b[0m │ \u001b[36m     0\u001b[0m │ \u001b[36m      0\u001b[0m │ \u001b[36m    3.5\u001b[0m │ \u001b[36m   1.3\u001b[0m │ \u001b[36m     1\u001b[0m │ \u001b[36m     2\u001b[0m │ \u001b[36m    4\u001b[0m │ \u001b[36m    4\u001b[0m │ \u001b[36m    9\u001b[0m │ \u001b[32m ▅ ▇▃  \u001b[0m │  │\n",
       "│ │ \u001b[38;5;141mcv_8            \u001b[0m │ \u001b[36m     0\u001b[0m │ \u001b[36m      0\u001b[0m │ \u001b[36m    3.6\u001b[0m │ \u001b[36m   1.3\u001b[0m │ \u001b[36m     1\u001b[0m │ \u001b[36m     2\u001b[0m │ \u001b[36m    4\u001b[0m │ \u001b[36m    4\u001b[0m │ \u001b[36m    9\u001b[0m │ \u001b[32m ▅ ▇▃  \u001b[0m │  │\n",
       "│ │ \u001b[38;5;141mva_1            \u001b[0m │ \u001b[36m     0\u001b[0m │ \u001b[36m      0\u001b[0m │ \u001b[36m    1.3\u001b[0m │ \u001b[36m  0.85\u001b[0m │ \u001b[36m     1\u001b[0m │ \u001b[36m     1\u001b[0m │ \u001b[36m    1\u001b[0m │ \u001b[36m    2\u001b[0m │ \u001b[36m    9\u001b[0m │ \u001b[32m   ▇   \u001b[0m │  │\n",
       "│ │ \u001b[38;5;141mva_3            \u001b[0m │ \u001b[36m     0\u001b[0m │ \u001b[36m      0\u001b[0m │ \u001b[36m    1.5\u001b[0m │ \u001b[36m   1.1\u001b[0m │ \u001b[36m     1\u001b[0m │ \u001b[36m     1\u001b[0m │ \u001b[36m    1\u001b[0m │ \u001b[36m    2\u001b[0m │ \u001b[36m    9\u001b[0m │ \u001b[32m   ▇   \u001b[0m │  │\n",
       "│ │ \u001b[38;5;141mva_4            \u001b[0m │ \u001b[36m     0\u001b[0m │ \u001b[36m      0\u001b[0m │ \u001b[36m    1.7\u001b[0m │ \u001b[36m   1.5\u001b[0m │ \u001b[36m     1\u001b[0m │ \u001b[36m     1\u001b[0m │ \u001b[36m    1\u001b[0m │ \u001b[36m    2\u001b[0m │ \u001b[36m    9\u001b[0m │ \u001b[32m   ▇   \u001b[0m │  │\n",
       "│ │ \u001b[38;5;141mva_5            \u001b[0m │ \u001b[36m     0\u001b[0m │ \u001b[36m      0\u001b[0m │ \u001b[36m      2\u001b[0m │ \u001b[36m   1.3\u001b[0m │ \u001b[36m     1\u001b[0m │ \u001b[36m     2\u001b[0m │ \u001b[36m    2\u001b[0m │ \u001b[36m    2\u001b[0m │ \u001b[36m    9\u001b[0m │ \u001b[32m   ▇   \u001b[0m │  │\n",
       "│ │ \u001b[38;5;141mva_6            \u001b[0m │ \u001b[36m     0\u001b[0m │ \u001b[36m      0\u001b[0m │ \u001b[36m      2\u001b[0m │ \u001b[36m  0.79\u001b[0m │ \u001b[36m     1\u001b[0m │ \u001b[36m     2\u001b[0m │ \u001b[36m    2\u001b[0m │ \u001b[36m    2\u001b[0m │ \u001b[36m    9\u001b[0m │ \u001b[32m   ▇   \u001b[0m │  │\n",
       "│ │ \u001b[38;5;141mva_7_r          \u001b[0m │ \u001b[36m  1906\u001b[0m │ \u001b[36m  95.16\u001b[0m │ \u001b[36m    3.8\u001b[0m │ \u001b[36m   2.2\u001b[0m │ \u001b[36m     1\u001b[0m │ \u001b[36m     2\u001b[0m │ \u001b[36m    3\u001b[0m │ \u001b[36m    6\u001b[0m │ \u001b[36m    9\u001b[0m │ \u001b[32m▇▇▃▅▁▃ \u001b[0m │  │\n",
       "│ │ \u001b[38;5;141man_1            \u001b[0m │ \u001b[36m     0\u001b[0m │ \u001b[36m      0\u001b[0m │ \u001b[36m   0.13\u001b[0m │ \u001b[36m  0.72\u001b[0m │ \u001b[36m     0\u001b[0m │ \u001b[36m     0\u001b[0m │ \u001b[36m    0\u001b[0m │ \u001b[36m    0\u001b[0m │ \u001b[36m    9\u001b[0m │ \u001b[32m   ▇   \u001b[0m │  │\n",
       "│ │ \u001b[38;5;141man_2            \u001b[0m │ \u001b[36m     0\u001b[0m │ \u001b[36m      0\u001b[0m │ \u001b[36m   0.12\u001b[0m │ \u001b[36m   0.7\u001b[0m │ \u001b[36m     0\u001b[0m │ \u001b[36m     0\u001b[0m │ \u001b[36m    0\u001b[0m │ \u001b[36m    0\u001b[0m │ \u001b[36m    9\u001b[0m │ \u001b[32m   ▇   \u001b[0m │  │\n",
       "│ │ \u001b[38;5;141man_3            \u001b[0m │ \u001b[36m     0\u001b[0m │ \u001b[36m      0\u001b[0m │ \u001b[36m   0.12\u001b[0m │ \u001b[36m  0.71\u001b[0m │ \u001b[36m     0\u001b[0m │ \u001b[36m     0\u001b[0m │ \u001b[36m    0\u001b[0m │ \u001b[36m    0\u001b[0m │ \u001b[36m    9\u001b[0m │ \u001b[32m   ▇   \u001b[0m │  │\n",
       "│ │ \u001b[38;5;141man_4            \u001b[0m │ \u001b[36m     0\u001b[0m │ \u001b[36m      0\u001b[0m │ \u001b[36m  0.078\u001b[0m │ \u001b[36m  0.65\u001b[0m │ \u001b[36m     0\u001b[0m │ \u001b[36m     0\u001b[0m │ \u001b[36m    0\u001b[0m │ \u001b[36m    0\u001b[0m │ \u001b[36m    9\u001b[0m │ \u001b[32m   ▇   \u001b[0m │  │\n",
       "│ │ \u001b[38;5;141man_5            \u001b[0m │ \u001b[36m     0\u001b[0m │ \u001b[36m      0\u001b[0m │ \u001b[36m  0.084\u001b[0m │ \u001b[36m  0.66\u001b[0m │ \u001b[36m     0\u001b[0m │ \u001b[36m     0\u001b[0m │ \u001b[36m    0\u001b[0m │ \u001b[36m    0\u001b[0m │ \u001b[36m    9\u001b[0m │ \u001b[32m   ▇   \u001b[0m │  │\n",
       "│ │ \u001b[38;5;141man_6            \u001b[0m │ \u001b[36m     0\u001b[0m │ \u001b[36m      0\u001b[0m │ \u001b[36m    1.8\u001b[0m │ \u001b[36m   1.2\u001b[0m │ \u001b[36m     1\u001b[0m │ \u001b[36m     1\u001b[0m │ \u001b[36m    1\u001b[0m │ \u001b[36m    3\u001b[0m │ \u001b[36m    9\u001b[0m │ \u001b[32m  ▇▃   \u001b[0m │  │\n",
       "│ │ \u001b[38;5;141man_7            \u001b[0m │ \u001b[36m   610\u001b[0m │ \u001b[36m  30.45\u001b[0m │ \u001b[36m    2.4\u001b[0m │ \u001b[36m   1.4\u001b[0m │ \u001b[36m     1\u001b[0m │ \u001b[36m     2\u001b[0m │ \u001b[36m    2\u001b[0m │ \u001b[36m    3\u001b[0m │ \u001b[36m    9\u001b[0m │ \u001b[32m  ▇ ▂  \u001b[0m │  │\n",
       "│ │ \u001b[38;5;141man_8            \u001b[0m │ \u001b[36m   610\u001b[0m │ \u001b[36m  30.45\u001b[0m │ \u001b[36m    2.1\u001b[0m │ \u001b[36m   1.1\u001b[0m │ \u001b[36m     1\u001b[0m │ \u001b[36m     2\u001b[0m │ \u001b[36m    2\u001b[0m │ \u001b[36m    2\u001b[0m │ \u001b[36m    9\u001b[0m │ \u001b[32m  ▇ ▁  \u001b[0m │  │\n",
       "│ │ \u001b[38;5;141man_9            \u001b[0m │ \u001b[36m   610\u001b[0m │ \u001b[36m  30.45\u001b[0m │ \u001b[36m    1.8\u001b[0m │ \u001b[36m  0.92\u001b[0m │ \u001b[36m     1\u001b[0m │ \u001b[36m     1\u001b[0m │ \u001b[36m    2\u001b[0m │ \u001b[36m    2\u001b[0m │ \u001b[36m    9\u001b[0m │ \u001b[32m   ▇   \u001b[0m │  │\n",
       "│ │ \u001b[38;5;141man_10           \u001b[0m │ \u001b[36m   610\u001b[0m │ \u001b[36m  30.45\u001b[0m │ \u001b[36m    3.3\u001b[0m │ \u001b[36m   1.4\u001b[0m │ \u001b[36m     1\u001b[0m │ \u001b[36m     2\u001b[0m │ \u001b[36m    4\u001b[0m │ \u001b[36m    4\u001b[0m │ \u001b[36m    9\u001b[0m │ \u001b[32m ▅▁▇▁  \u001b[0m │  │\n",
       "│ │ \u001b[38;5;141man_11           \u001b[0m │ \u001b[36m   610\u001b[0m │ \u001b[36m  30.45\u001b[0m │ \u001b[36m    2.7\u001b[0m │ \u001b[36m   1.6\u001b[0m │ \u001b[36m     1\u001b[0m │ \u001b[36m     2\u001b[0m │ \u001b[36m    2\u001b[0m │ \u001b[36m    3\u001b[0m │ \u001b[36m    9\u001b[0m │ \u001b[32m▇▁▂  ▁ \u001b[0m │  │\n",
       "│ │ \u001b[38;5;141man_12           \u001b[0m │ \u001b[36m   610\u001b[0m │ \u001b[36m  30.45\u001b[0m │ \u001b[36m    2.4\u001b[0m │ \u001b[36m   1.6\u001b[0m │ \u001b[36m     1\u001b[0m │ \u001b[36m     2\u001b[0m │ \u001b[36m    2\u001b[0m │ \u001b[36m    2\u001b[0m │ \u001b[36m    9\u001b[0m │ \u001b[32m  ▇ ▁  \u001b[0m │  │\n",
       "│ │ \u001b[38;5;141mef_1            \u001b[0m │ \u001b[36m     0\u001b[0m │ \u001b[36m      0\u001b[0m │ \u001b[36m    1.6\u001b[0m │ \u001b[36m  0.91\u001b[0m │ \u001b[36m     1\u001b[0m │ \u001b[36m     1\u001b[0m │ \u001b[36m    1\u001b[0m │ \u001b[36m    2\u001b[0m │ \u001b[36m    9\u001b[0m │ \u001b[32m   ▇   \u001b[0m │  │\n",
       "│ │ \u001b[38;5;141mef_2            \u001b[0m │ \u001b[36m   982\u001b[0m │ \u001b[36m  49.03\u001b[0m │ \u001b[36m    3.6\u001b[0m │ \u001b[36m   1.9\u001b[0m │ \u001b[36m     1\u001b[0m │ \u001b[36m     2\u001b[0m │ \u001b[36m    4\u001b[0m │ \u001b[36m    5\u001b[0m │ \u001b[36m    9\u001b[0m │ \u001b[32m▇▃▇▅ ▁ \u001b[0m │  │\n",
       "│ │ \u001b[38;5;141mef_3            \u001b[0m │ \u001b[36m     0\u001b[0m │ \u001b[36m      0\u001b[0m │ \u001b[36m    1.9\u001b[0m │ \u001b[36m  0.71\u001b[0m │ \u001b[36m     1\u001b[0m │ \u001b[36m     2\u001b[0m │ \u001b[36m    2\u001b[0m │ \u001b[36m    2\u001b[0m │ \u001b[36m    9\u001b[0m │ \u001b[32m   ▇   \u001b[0m │  │\n",
       "│ │ \u001b[38;5;141mef_4            \u001b[0m │ \u001b[36m     0\u001b[0m │ \u001b[36m      0\u001b[0m │ \u001b[36m    1.9\u001b[0m │ \u001b[36m  0.84\u001b[0m │ \u001b[36m     1\u001b[0m │ \u001b[36m     2\u001b[0m │ \u001b[36m    2\u001b[0m │ \u001b[36m    2\u001b[0m │ \u001b[36m    9\u001b[0m │ \u001b[32m   ▇   \u001b[0m │  │\n",
       "│ │ \u001b[38;5;141mef_5            \u001b[0m │ \u001b[36m     0\u001b[0m │ \u001b[36m      0\u001b[0m │ \u001b[36m    1.9\u001b[0m │ \u001b[36m  0.79\u001b[0m │ \u001b[36m     1\u001b[0m │ \u001b[36m     2\u001b[0m │ \u001b[36m    2\u001b[0m │ \u001b[36m    2\u001b[0m │ \u001b[36m    9\u001b[0m │ \u001b[32m   ▇   \u001b[0m │  │\n",
       "│ │ \u001b[38;5;141mef_6            \u001b[0m │ \u001b[36m     0\u001b[0m │ \u001b[36m      0\u001b[0m │ \u001b[36m    1.9\u001b[0m │ \u001b[36m  0.78\u001b[0m │ \u001b[36m     1\u001b[0m │ \u001b[36m     2\u001b[0m │ \u001b[36m    2\u001b[0m │ \u001b[36m    2\u001b[0m │ \u001b[36m    9\u001b[0m │ \u001b[32m   ▇   \u001b[0m │  │\n",
       "│ │ \u001b[38;5;141mef_7            \u001b[0m │ \u001b[36m     0\u001b[0m │ \u001b[36m      0\u001b[0m │ \u001b[36m    1.7\u001b[0m │ \u001b[36m  0.85\u001b[0m │ \u001b[36m     1\u001b[0m │ \u001b[36m     1\u001b[0m │ \u001b[36m    2\u001b[0m │ \u001b[36m    2\u001b[0m │ \u001b[36m    9\u001b[0m │ \u001b[32m   ▇   \u001b[0m │  │\n",
       "│ │ \u001b[38;5;141mef_8            \u001b[0m │ \u001b[36m     0\u001b[0m │ \u001b[36m      0\u001b[0m │ \u001b[36m    1.6\u001b[0m │ \u001b[36m  0.94\u001b[0m │ \u001b[36m     1\u001b[0m │ \u001b[36m     1\u001b[0m │ \u001b[36m    1\u001b[0m │ \u001b[36m    2\u001b[0m │ \u001b[36m    9\u001b[0m │ \u001b[32m   ▇   \u001b[0m │  │\n",
       "│ │ \u001b[38;5;141mef_9            \u001b[0m │ \u001b[36m     0\u001b[0m │ \u001b[36m      0\u001b[0m │ \u001b[36m    1.8\u001b[0m │ \u001b[36m  0.85\u001b[0m │ \u001b[36m     1\u001b[0m │ \u001b[36m     1\u001b[0m │ \u001b[36m    2\u001b[0m │ \u001b[36m    2\u001b[0m │ \u001b[36m    9\u001b[0m │ \u001b[32m   ▇   \u001b[0m │  │\n",
       "│ │ \u001b[38;5;141mef_10           \u001b[0m │ \u001b[36m     0\u001b[0m │ \u001b[36m      0\u001b[0m │ \u001b[36m    2.9\u001b[0m │ \u001b[36m   1.1\u001b[0m │ \u001b[36m     1\u001b[0m │ \u001b[36m     2\u001b[0m │ \u001b[36m    3\u001b[0m │ \u001b[36m    3\u001b[0m │ \u001b[36m    9\u001b[0m │ \u001b[32m  ▅▇▃  \u001b[0m │  │\n",
       "│ │ \u001b[38;5;141mnf_1            \u001b[0m │ \u001b[36m     0\u001b[0m │ \u001b[36m      0\u001b[0m │ \u001b[36m    1.7\u001b[0m │ \u001b[36m  0.95\u001b[0m │ \u001b[36m     1\u001b[0m │ \u001b[36m     1\u001b[0m │ \u001b[36m    2\u001b[0m │ \u001b[36m    2\u001b[0m │ \u001b[36m    9\u001b[0m │ \u001b[32m   ▇   \u001b[0m │  │\n",
       "│ │ \u001b[38;5;141mnf_2            \u001b[0m │ \u001b[36m  1284\u001b[0m │ \u001b[36m   64.1\u001b[0m │ \u001b[36m    1.9\u001b[0m │ \u001b[36m  0.44\u001b[0m │ \u001b[36m     1\u001b[0m │ \u001b[36m     2\u001b[0m │ \u001b[36m    2\u001b[0m │ \u001b[36m    2\u001b[0m │ \u001b[36m    9\u001b[0m │ \u001b[32m   ▇   \u001b[0m │  │\n",
       "│ │ \u001b[38;5;141mnf_3            \u001b[0m │ \u001b[36m  1285\u001b[0m │ \u001b[36m  64.15\u001b[0m │ \u001b[36m    2.1\u001b[0m │ \u001b[36m   1.9\u001b[0m │ \u001b[36m     1\u001b[0m │ \u001b[36m     1\u001b[0m │ \u001b[36m    1\u001b[0m │ \u001b[36m    3\u001b[0m │ \u001b[36m    9\u001b[0m │ \u001b[32m ▇ ▁▁  \u001b[0m │  │\n",
       "│ │ \u001b[38;5;141mnf_4            \u001b[0m │ \u001b[36m  1295\u001b[0m │ \u001b[36m  64.65\u001b[0m │ \u001b[36m    3.4\u001b[0m │ \u001b[36m   2.6\u001b[0m │ \u001b[36m     1\u001b[0m │ \u001b[36m     1\u001b[0m │ \u001b[36m    3\u001b[0m │ \u001b[36m    5\u001b[0m │ \u001b[36m    9\u001b[0m │ \u001b[32m▇▁▂▃▁▂ \u001b[0m │  │\n",
       "│ │ \u001b[38;5;141mnf_5            \u001b[0m │ \u001b[36m  1285\u001b[0m │ \u001b[36m  64.15\u001b[0m │ \u001b[36m    5.1\u001b[0m │ \u001b[36m   2.6\u001b[0m │ \u001b[36m     1\u001b[0m │ \u001b[36m     3\u001b[0m │ \u001b[36m    6\u001b[0m │ \u001b[36m    6\u001b[0m │ \u001b[36m    9\u001b[0m │ \u001b[32m▃▅▁▇ ▅ \u001b[0m │  │\n",
       "│ │ \u001b[38;5;141mfa_1            \u001b[0m │ \u001b[36m     0\u001b[0m │ \u001b[36m      0\u001b[0m │ \u001b[36m    1.3\u001b[0m │ \u001b[36m   1.2\u001b[0m │ \u001b[36m     1\u001b[0m │ \u001b[36m     1\u001b[0m │ \u001b[36m    1\u001b[0m │ \u001b[36m    1\u001b[0m │ \u001b[36m    9\u001b[0m │ \u001b[32m   ▇   \u001b[0m │  │\n",
       "│ │ \u001b[38;5;141mfa_2            \u001b[0m │ \u001b[36m     0\u001b[0m │ \u001b[36m      0\u001b[0m │ \u001b[36m      2\u001b[0m │ \u001b[36m   1.6\u001b[0m │ \u001b[36m     1\u001b[0m │ \u001b[36m     1\u001b[0m │ \u001b[36m    2\u001b[0m │ \u001b[36m    2\u001b[0m │ \u001b[36m    9\u001b[0m │ \u001b[32m   ▇   \u001b[0m │  │\n",
       "│ │ \u001b[38;5;141mfa_3            \u001b[0m │ \u001b[36m     0\u001b[0m │ \u001b[36m      0\u001b[0m │ \u001b[36m    1.3\u001b[0m │ \u001b[36m   1.2\u001b[0m │ \u001b[36m     1\u001b[0m │ \u001b[36m     1\u001b[0m │ \u001b[36m    1\u001b[0m │ \u001b[36m    1\u001b[0m │ \u001b[36m    9\u001b[0m │ \u001b[32m   ▇   \u001b[0m │  │\n",
       "│ │ \u001b[38;5;141mfa_4            \u001b[0m │ \u001b[36m     0\u001b[0m │ \u001b[36m      0\u001b[0m │ \u001b[36m    2.1\u001b[0m │ \u001b[36m   1.7\u001b[0m │ \u001b[36m     1\u001b[0m │ \u001b[36m     1\u001b[0m │ \u001b[36m    2\u001b[0m │ \u001b[36m    2\u001b[0m │ \u001b[36m    9\u001b[0m │ \u001b[32m▇    ▁ \u001b[0m │  │\n",
       "│ │ \u001b[38;5;141mcs_1            \u001b[0m │ \u001b[36m     0\u001b[0m │ \u001b[36m      0\u001b[0m │ \u001b[36m    1.5\u001b[0m │ \u001b[36m   0.5\u001b[0m │ \u001b[36m     1\u001b[0m │ \u001b[36m     1\u001b[0m │ \u001b[36m    2\u001b[0m │ \u001b[36m    2\u001b[0m │ \u001b[36m    2\u001b[0m │ \u001b[32m▇    ▇ \u001b[0m │  │\n",
       "│ │ \u001b[38;5;141mcs_2            \u001b[0m │ \u001b[36m     0\u001b[0m │ \u001b[36m      0\u001b[0m │ \u001b[36m     41\u001b[0m │ \u001b[36m    16\u001b[0m │ \u001b[36m    18\u001b[0m │ \u001b[36m    28\u001b[0m │ \u001b[36m   39\u001b[0m │ \u001b[36m   53\u001b[0m │ \u001b[36m   87\u001b[0m │ \u001b[32m ▇▇▅▅▂ \u001b[0m │  │\n",
       "│ │ \u001b[38;5;141mcs_3            \u001b[0m │ \u001b[36m     0\u001b[0m │ \u001b[36m      0\u001b[0m │ \u001b[36m    150\u001b[0m │ \u001b[36m   260\u001b[0m │ \u001b[36m    31\u001b[0m │ \u001b[36m    64\u001b[0m │ \u001b[36m   74\u001b[0m │ \u001b[36m   87\u001b[0m │ \u001b[36m 1000\u001b[0m │ \u001b[32m▇    ▁ \u001b[0m │  │\n",
       "│ │ \u001b[38;5;141mcs_4            \u001b[0m │ \u001b[36m     0\u001b[0m │ \u001b[36m      0\u001b[0m │ \u001b[36m    220\u001b[0m │ \u001b[36m   210\u001b[0m │ \u001b[36m   100\u001b[0m │ \u001b[36m   160\u001b[0m │ \u001b[36m  170\u001b[0m │ \u001b[36m  170\u001b[0m │ \u001b[36m 1000\u001b[0m │ \u001b[32m▇    ▁ \u001b[0m │  │\n",
       "│ │ \u001b[38;5;141mcs_5            \u001b[0m │ \u001b[36m     0\u001b[0m │ \u001b[36m      0\u001b[0m │ \u001b[36m    3.9\u001b[0m │ \u001b[36m   1.6\u001b[0m │ \u001b[36m     1\u001b[0m │ \u001b[36m     3\u001b[0m │ \u001b[36m    4\u001b[0m │ \u001b[36m    5\u001b[0m │ \u001b[36m    6\u001b[0m │ \u001b[32m▂▅▅▇▅▇ \u001b[0m │  │\n",
       "│ │ \u001b[38;5;141mcs_6_a          \u001b[0m │ \u001b[36m     0\u001b[0m │ \u001b[36m      0\u001b[0m │ \u001b[36m    2.3\u001b[0m │ \u001b[36m   1.8\u001b[0m │ \u001b[36m     1\u001b[0m │ \u001b[36m     1\u001b[0m │ \u001b[36m    1\u001b[0m │ \u001b[36m    4\u001b[0m │ \u001b[36m    9\u001b[0m │ \u001b[32m ▇▁▂▁  \u001b[0m │  │\n",
       "│ │ \u001b[38;5;141mcs_7            \u001b[0m │ \u001b[36m     0\u001b[0m │ \u001b[36m      0\u001b[0m │ \u001b[36m    1.2\u001b[0m │ \u001b[36m  0.66\u001b[0m │ \u001b[36m     1\u001b[0m │ \u001b[36m     1\u001b[0m │ \u001b[36m    1\u001b[0m │ \u001b[36m    1\u001b[0m │ \u001b[36m    9\u001b[0m │ \u001b[32m   ▇   \u001b[0m │  │\n",
       "│ │ \u001b[38;5;141mcs_8            \u001b[0m │ \u001b[36m     0\u001b[0m │ \u001b[36m      0\u001b[0m │ \u001b[36m    1.7\u001b[0m │ \u001b[36m   0.9\u001b[0m │ \u001b[36m     1\u001b[0m │ \u001b[36m     1\u001b[0m │ \u001b[36m    2\u001b[0m │ \u001b[36m    2\u001b[0m │ \u001b[36m    9\u001b[0m │ \u001b[32m   ▇   \u001b[0m │  │\n",
       "│ │ \u001b[38;5;141mcs_9            \u001b[0m │ \u001b[36m     0\u001b[0m │ \u001b[36m      0\u001b[0m │ \u001b[36m      2\u001b[0m │ \u001b[36m  0.72\u001b[0m │ \u001b[36m     1\u001b[0m │ \u001b[36m     2\u001b[0m │ \u001b[36m    2\u001b[0m │ \u001b[36m    2\u001b[0m │ \u001b[36m    9\u001b[0m │ \u001b[32m   ▇   \u001b[0m │  │\n",
       "│ │ \u001b[38;5;141mcs_10_a         \u001b[0m │ \u001b[36m     0\u001b[0m │ \u001b[36m      0\u001b[0m │ \u001b[36m    1.5\u001b[0m │ \u001b[36m  0.91\u001b[0m │ \u001b[36m     1\u001b[0m │ \u001b[36m     1\u001b[0m │ \u001b[36m    1\u001b[0m │ \u001b[36m    2\u001b[0m │ \u001b[36m    9\u001b[0m │ \u001b[32m   ▇   \u001b[0m │  │\n",
       "│ │ \u001b[38;5;141mcs_10_br        \u001b[0m │ \u001b[36m     0\u001b[0m │ \u001b[36m      0\u001b[0m │ \u001b[36m    9.5\u001b[0m │ \u001b[36m   8.6\u001b[0m │ \u001b[36m     1\u001b[0m │ \u001b[36m     1\u001b[0m │ \u001b[36m    6\u001b[0m │ \u001b[36m   20\u001b[0m │ \u001b[36m   20\u001b[0m │ \u001b[32m▇▃   ▇ \u001b[0m │  │\n",
       "│ │ \u001b[38;5;141mcs_10_br_2      \u001b[0m │ \u001b[36m     0\u001b[0m │ \u001b[36m      0\u001b[0m │ \u001b[36m    8.7\u001b[0m │ \u001b[36m   9.1\u001b[0m │ \u001b[36m     1\u001b[0m │ \u001b[36m     1\u001b[0m │ \u001b[36m    2\u001b[0m │ \u001b[36m   20\u001b[0m │ \u001b[36m   20\u001b[0m │ \u001b[32m▇    ▅ \u001b[0m │  │\n",
       "│ │ \u001b[38;5;141mcs_10_c         \u001b[0m │ \u001b[36m     0\u001b[0m │ \u001b[36m      0\u001b[0m │ \u001b[36m      2\u001b[0m │ \u001b[36m  0.93\u001b[0m │ \u001b[36m     1\u001b[0m │ \u001b[36m     2\u001b[0m │ \u001b[36m    2\u001b[0m │ \u001b[36m    2\u001b[0m │ \u001b[36m    9\u001b[0m │ \u001b[32m   ▇   \u001b[0m │  │\n",
       "│ │ \u001b[38;5;141mcs_11_a         \u001b[0m │ \u001b[36m     0\u001b[0m │ \u001b[36m      0\u001b[0m │ \u001b[36m    6.3\u001b[0m │ \u001b[36m    16\u001b[0m │ \u001b[36m     1\u001b[0m │ \u001b[36m     3\u001b[0m │ \u001b[36m    4\u001b[0m │ \u001b[36m    5\u001b[0m │ \u001b[36m   99\u001b[0m │ \u001b[32m   ▇   \u001b[0m │  │\n",
       "│ │ \u001b[38;5;141mcs_11_b         \u001b[0m │ \u001b[36m    54\u001b[0m │ \u001b[36m    2.7\u001b[0m │ \u001b[36m    2.9\u001b[0m │ \u001b[36m   1.5\u001b[0m │ \u001b[36m     1\u001b[0m │ \u001b[36m     2\u001b[0m │ \u001b[36m    3\u001b[0m │ \u001b[36m    4\u001b[0m │ \u001b[36m   20\u001b[0m │ \u001b[32m  ▇▁   \u001b[0m │  │\n",
       "│ │ \u001b[38;5;141mcs_11_c         \u001b[0m │ \u001b[36m    54\u001b[0m │ \u001b[36m    2.7\u001b[0m │ \u001b[36m   0.84\u001b[0m │ \u001b[36m   1.1\u001b[0m │ \u001b[36m     0\u001b[0m │ \u001b[36m     0\u001b[0m │ \u001b[36m    0\u001b[0m │ \u001b[36m    1\u001b[0m │ \u001b[36m    6\u001b[0m │ \u001b[32m ▇▃▂▁  \u001b[0m │  │\n",
       "│ │ \u001b[38;5;141mcs_15_a         \u001b[0m │ \u001b[36m     0\u001b[0m │ \u001b[36m      0\u001b[0m │ \u001b[36m     22\u001b[0m │ \u001b[36m     2\u001b[0m │ \u001b[36m    19\u001b[0m │ \u001b[36m    20\u001b[0m │ \u001b[36m   22\u001b[0m │ \u001b[36m   23\u001b[0m │ \u001b[36m   28\u001b[0m │ \u001b[32m ▆▃▇▁▃ \u001b[0m │  │\n",
       "│ │ \u001b[38;5;141mcs_15_b         \u001b[0m │ \u001b[36m     0\u001b[0m │ \u001b[36m      0\u001b[0m │ \u001b[36m     10\u001b[0m │ \u001b[36m     0\u001b[0m │ \u001b[36m    10\u001b[0m │ \u001b[36m    10\u001b[0m │ \u001b[36m   10\u001b[0m │ \u001b[36m   10\u001b[0m │ \u001b[36m   10\u001b[0m │ \u001b[32m    ▇  \u001b[0m │  │\n",
       "│ │ \u001b[38;5;141mcs_16           \u001b[0m │ \u001b[36m     0\u001b[0m │ \u001b[36m      0\u001b[0m │ \u001b[36m    1.3\u001b[0m │ \u001b[36m  0.62\u001b[0m │ \u001b[36m     1\u001b[0m │ \u001b[36m     1\u001b[0m │ \u001b[36m    1\u001b[0m │ \u001b[36m    1\u001b[0m │ \u001b[36m    7\u001b[0m │ \u001b[32m  ▇▂   \u001b[0m │  │\n",
       "│ │ \u001b[38;5;141mcs_18           \u001b[0m │ \u001b[36m     0\u001b[0m │ \u001b[36m      0\u001b[0m │ \u001b[36m   2500\u001b[0m │ \u001b[36m  1500\u001b[0m │ \u001b[36m     0\u001b[0m │ \u001b[36m  1200\u001b[0m │ \u001b[36m 2400\u001b[0m │ \u001b[36m 3700\u001b[0m │ \u001b[36m 5000\u001b[0m │ \u001b[32m▇▇▇▆▇▇ \u001b[0m │  │\n",
       "│ │ \u001b[38;5;141medad_3          \u001b[0m │ \u001b[36m     0\u001b[0m │ \u001b[36m      0\u001b[0m │ \u001b[36m      2\u001b[0m │ \u001b[36m  0.78\u001b[0m │ \u001b[36m     1\u001b[0m │ \u001b[36m     1\u001b[0m │ \u001b[36m    2\u001b[0m │ \u001b[36m    3\u001b[0m │ \u001b[36m    3\u001b[0m │ \u001b[32m▆  ▇ ▇ \u001b[0m │  │\n",
       "│ │ \u001b[38;5;141meduca_3         \u001b[0m │ \u001b[36m     0\u001b[0m │ \u001b[36m      0\u001b[0m │ \u001b[36m    2.2\u001b[0m │ \u001b[36m  0.77\u001b[0m │ \u001b[36m     1\u001b[0m │ \u001b[36m     2\u001b[0m │ \u001b[36m    2\u001b[0m │ \u001b[36m    3\u001b[0m │ \u001b[36m    3\u001b[0m │ \u001b[32m▅  ▇ ▇ \u001b[0m │  │\n",
       "│ │ \u001b[38;5;141mfactor          \u001b[0m │ \u001b[36m     0\u001b[0m │ \u001b[36m      0\u001b[0m │ \u001b[36m      1\u001b[0m │ \u001b[36m  0.47\u001b[0m │ \u001b[36m  0.44\u001b[0m │ \u001b[36m  0.58\u001b[0m │ \u001b[36m 0.89\u001b[0m │ \u001b[36m  1.2\u001b[0m │ \u001b[36m  2.8\u001b[0m │ \u001b[32m ▇▇▁▃  \u001b[0m │  │\n",
       "│ └──────────────────┴────────┴─────────┴─────────┴────────┴────────┴────────┴───────┴───────┴───────┴─────────┘  │\n",
       "│ \u001b[3m                                                    string                                                    \u001b[0m  │\n",
       "│ ┏━━━━━━━━━━━━━━━━━━━━━━━━━━━┳━━━━━━━━━┳━━━━━━━━━━━━┳━━━━━━━━━━━━━━━━━━━━━━━━━━━━━━┳━━━━━━━━━━━━━━━━━━━━━━━━━━┓  │\n",
       "│ ┃\u001b[1m \u001b[0m\u001b[1mcolumn_name              \u001b[0m\u001b[1m \u001b[0m┃\u001b[1m \u001b[0m\u001b[1mNA     \u001b[0m\u001b[1m \u001b[0m┃\u001b[1m \u001b[0m\u001b[1mNA %      \u001b[0m\u001b[1m \u001b[0m┃\u001b[1m \u001b[0m\u001b[1mwords per row               \u001b[0m\u001b[1m \u001b[0m┃\u001b[1m \u001b[0m\u001b[1mtotal words             \u001b[0m\u001b[1m \u001b[0m┃  │\n",
       "│ ┡━━━━━━━━━━━━━━━━━━━━━━━━━━━╇━━━━━━━━━╇━━━━━━━━━━━━╇━━━━━━━━━━━━━━━━━━━━━━━━━━━━━━╇━━━━━━━━━━━━━━━━━━━━━━━━━━┩  │\n",
       "│ │ \u001b[38;5;141mva_2                     \u001b[0m │ \u001b[36m      0\u001b[0m │ \u001b[36m         0\u001b[0m │ \u001b[36m                         2.5\u001b[0m │ \u001b[36m                    4974\u001b[0m │  │\n",
       "│ │ \u001b[38;5;141mva_7                     \u001b[0m │ \u001b[36m      0\u001b[0m │ \u001b[36m         0\u001b[0m │ \u001b[36m                         1.3\u001b[0m │ \u001b[36m                    2631\u001b[0m │  │\n",
       "│ │ \u001b[38;5;141mnf_3_aa                  \u001b[0m │ \u001b[36m      0\u001b[0m │ \u001b[36m         0\u001b[0m │ \u001b[36m                           1\u001b[0m │ \u001b[36m                    2046\u001b[0m │  │\n",
       "│ │ \u001b[38;5;141mnf_4_a                   \u001b[0m │ \u001b[36m      0\u001b[0m │ \u001b[36m         0\u001b[0m │ \u001b[36m                         1.1\u001b[0m │ \u001b[36m                    2247\u001b[0m │  │\n",
       "│ │ \u001b[38;5;141mnf_5_a                   \u001b[0m │ \u001b[36m      0\u001b[0m │ \u001b[36m         0\u001b[0m │ \u001b[36m                         1.1\u001b[0m │ \u001b[36m                    2111\u001b[0m │  │\n",
       "│ │ \u001b[38;5;141mcs_6_b                   \u001b[0m │ \u001b[36m      0\u001b[0m │ \u001b[36m         0\u001b[0m │ \u001b[36m                           1\u001b[0m │ \u001b[36m                    2041\u001b[0m │  │\n",
       "│ │ \u001b[38;5;141mcs_10_b                  \u001b[0m │ \u001b[36m      0\u001b[0m │ \u001b[36m         0\u001b[0m │ \u001b[36m                           1\u001b[0m │ \u001b[36m                    2073\u001b[0m │  │\n",
       "│ └───────────────────────────┴─────────┴────────────┴──────────────────────────────┴──────────────────────────┘  │\n",
       "╰────────────────────────────────────────────────────── End ──────────────────────────────────────────────────────╯\n"
      ]
     },
     "metadata": {},
     "output_type": "display_data"
    }
   ],
   "source": [
    "skimpy.skim(df_survey)\n"
   ]
  },
  {
   "cell_type": "markdown",
   "id": "af12e1f7",
   "metadata": {},
   "source": [
    "# Data preparation and cleaning"
   ]
  },
  {
   "cell_type": "markdown",
   "id": "118e11ef",
   "metadata": {},
   "source": [
    "## Data preparation"
   ]
  },
  {
   "cell_type": "code",
   "execution_count": 4,
   "id": "87691b29-73a0-4f17-a49f-6242a33abd77",
   "metadata": {},
   "outputs": [],
   "source": [
    "# Remove some unnecesary variables\n",
    "df_survey = df_survey.drop(\n",
    "    columns=[\n",
    "        \"cs_10_br_2\",\n",
    "        \"cs_11_c\",\n",
    "        \"cs_15_a\",\n",
    "        \"cs_15_b\",\n",
    "        \"cs_16\",\n",
    "        \"cs_18\",\n",
    "        \"edad_3\",\n",
    "        \"educa_3\",\n",
    "        \"factor\",\n",
    "        \"id\",\n",
    "        \"cuestionario\",\n",
    "        \"hi\",\n",
    "        \"mi\",\n",
    "        \"hf\",\n",
    "        \"mf\",\n",
    "    ]\n",
    ")"
   ]
  },
  {
   "cell_type": "code",
   "execution_count": 5,
   "id": "5ed1a39a",
   "metadata": {},
   "outputs": [],
   "source": [
    "# Drop NA values which are code as 99, 98 or 999\n",
    "df_survey.replace(\n",
    "    {99: np.nan, 98: np.nan, 999: np.nan},\n",
    "    inplace=True,\n",
    ")\n",
    "\n",
    "\n",
    "# Drop columns with more than 50% of NA values\n",
    "df_tmp = df_survey.drop(\n",
    "    columns=[\n",
    "        \"rp_3\",\n",
    "        \"rp_4\",\n",
    "        \"af_2_minutos\",\n",
    "        \"af_2_horas\",\n",
    "        \"af_4_minutos\",\n",
    "        \"af_4_horas\",\n",
    "        \"af_6_minutos\",\n",
    "        \"af_6_horas\",\n",
    "        \"af_7_minutos\",\n",
    "        \"af_7_horas\",\n",
    "        \"cs_2\",\n",
    "        \"cs_4\",\n",
    "    ],\n",
    "    axis=1,\n",
    ")\n",
    "\n",
    "for i in df_tmp.columns:\n",
    "    df_survey[i] = np.where(df_survey[i] == 9, np.nan, df_survey[i])\n",
    "    df_survey[i] = np.where(df_survey[i] == 8, np.nan, df_survey[i])\n"
   ]
  },
  {
   "cell_type": "code",
   "execution_count": 6,
   "id": "f1fc12ea",
   "metadata": {
    "lines_to_next_cell": 2,
    "tags": []
   },
   "outputs": [],
   "source": [
    "# Remove String variables are dropped because we only need the numeric ones\n",
    "idx = df_survey.select_dtypes(object).columns\n",
    "df_survey = df_survey.drop(idx, axis=1)"
   ]
  },
  {
   "cell_type": "markdown",
   "id": "d64aa4b2",
   "metadata": {
    "lines_to_next_cell": 0
   },
   "source": [
    "After a throughfully revision, we notices that many variables aren't related with the infection risk. They are more opinions postures about some topic. \n",
    "\n",
    "We will exclude all the variables starting with \"sp\", \"rv\", \"cv\", \"va\" (except va6 because is related with the vaccination status) and \"nf\".\n",
    "\n"
   ]
  },
  {
   "cell_type": "markdown",
   "id": "e891b3bf",
   "metadata": {},
   "source": [
    "## Creation of class of variable with 3 levels\n",
    "\n",
    "This ways we can order the variables between `Low` (0), `Medium` (1) and `High` (2) risk."
   ]
  },
  {
   "cell_type": "code",
   "execution_count": 7,
   "id": "a8735c0c",
   "metadata": {
    "collapsed": false,
    "jupyter": {
     "outputs_hidden": false
    },
    "lines_to_next_cell": 2
   },
   "outputs": [],
   "source": [
    "cat_012_ord = pd.CategoricalDtype(categories=[0, 1, 2], ordered=True)"
   ]
  },
  {
   "cell_type": "code",
   "execution_count": 8,
   "id": "dc1035f3",
   "metadata": {},
   "outputs": [],
   "source": [
    "# This variable will contain the final set of variables to be used in the analysis\n",
    "clean_cols = []"
   ]
  },
  {
   "cell_type": "markdown",
   "id": "27e99694",
   "metadata": {},
   "source": [
    "# Data cleaning"
   ]
  },
  {
   "cell_type": "markdown",
   "id": "edefe5d3",
   "metadata": {},
   "source": [
    "The paper links the determinants of the health with each of the variables in the dataset.  For a better understanding of the data, we will rename the variables with the name of the determinant of the health that they are related with.\n",
    "\n",
    "![Alt text](image.png)\n",
    "_Source: https://www.ncbi.nlm.nih.gov/pmc/articles/PMC7005090/ _\n",
    "\n",
    "In this spirit the variable will have a prefix with the determinant of the health that they are related with:\n",
    "\n",
    "- `sd`: Structural determinant \n",
    "- `id`: Intermediate determinant\n",
    "\n",
    "Then, it follow the type of determinant. So for the structural determinants:\n",
    "\n",
    "- `sd_edu`: Education\n",
    "- `sd_eco`: Economic\n",
    "- `sd_occ`: Occupation\n",
    "- `sd_inc`: Income\n",
    "- `sd_eth`: Ethnicity\n",
    "- `sd_gen`: Gender\n",
    "- `sd_cul`: Cultural\n",
    "\n",
    "And for the intermediate determinants:\n",
    "\n",
    "- `id_beh`: Behavioral\n",
    "- `id_bio`: Biological\n",
    "- `id_psy`: Psychosocial\n",
    "- `id_mat`: Material\n",
    "\n",
    "Finally, the variable will have a suffix with the determinant of the health that they are related with. \n",
    "\n",
    "\n",
    " Determinantes sociales\n",
    "  Determinantes estructurales\n",
    " contexto socioeconomico = de_cs\n",
    " gobernanza = de_go\n",
    " politicas (macroeconomicas, salud, sociedad)  = de_po\n",
    " normas y valores culturales = de_cu\n",
    " eduacion = de_ed\n",
    " ocupacion = de_oc\n",
    " ingresos = de_in\n",
    " genero = de_ge\n",
    " etnia = de_et\n",
    " Determinantes intermedios\n",
    " factores materiales = di_fm\n",
    " factores psicosociales = di_fp\n",
    " factores conductuales = di_fc\n",
    " factores biológicos = di_fb"
   ]
  },
  {
   "cell_type": "markdown",
   "id": "b61be90e",
   "metadata": {},
   "source": [
    "## Covid-19 variable"
   ]
  },
  {
   "cell_type": "code",
   "execution_count": 9,
   "id": "e9c2eac9",
   "metadata": {
    "collapsed": false,
    "jupyter": {
     "outputs_hidden": false
    },
    "lines_to_next_cell": 2
   },
   "outputs": [],
   "source": [
    "df_survey = (\n",
    "    df_survey.assign(\n",
    "        covid19=lambda df: np.select(\n",
    "            [\n",
    "                (df.rp_1 == 1) | (df.rp_1 == 2),\n",
    "                (df.rp_1 == 3),\n",
    "                (df.rp_1 == 8) | (df.rp_1 == 9),\n",
    "            ],\n",
    "            [1, 0, np.nan],\n",
    "            default=np.nan,\n",
    "        )\n",
    "    )\n",
    "    .assign(covid19=lambda df: df.covid19.astype(\"bool\"))\n",
    "    .drop([\"rp_1\"], axis=1)\n",
    ")\n"
   ]
  },
  {
   "cell_type": "code",
   "execution_count": 10,
   "id": "fad5a82d-7476-4835-8aca-f1e8298a600d",
   "metadata": {
    "collapsed": false,
    "jupyter": {
     "outputs_hidden": false
    },
    "tags": []
   },
   "outputs": [
    {
     "data": {
      "text/plain": [
       "covid19\n",
       "False    1464\n",
       "True      539\n",
       "Name: count, dtype: int64"
      ]
     },
     "execution_count": 10,
     "metadata": {},
     "output_type": "execute_result"
    }
   ],
   "source": [
    "clean_cols.append(\"covid19\")\n",
    "df_survey.covid19.value_counts()"
   ]
  },
  {
   "cell_type": "markdown",
   "id": "e8be8ef4",
   "metadata": {},
   "source": [
    "## Self-perception of contagion risk\n",
    "\n",
    "The variable `rp_3 is the self contagiuos perception. We will change the values to 0 (Low), 1 (Medium) and 2 (High).\n",
    " "
   ]
  },
  {
   "cell_type": "code",
   "execution_count": 11,
   "id": "c7fe7ed5-e4ed-4fba-b634-f992cc0a411a",
   "metadata": {
    "collapsed": false,
    "jupyter": {
     "outputs_hidden": false
    },
    "lines_to_next_cell": 2,
    "tags": []
   },
   "outputs": [],
   "source": [
    "df_survey = (\n",
    "    df_survey.assign(\n",
    "        id_beh_percep_contag=lambda df: np.select(\n",
    "            [\n",
    "                df.rp_3.between(0, 3),\n",
    "                df.rp_3.between(4, 6),\n",
    "                df.rp_3.between(7, 10),\n",
    "                df.rp_3 == 99,\n",
    "            ],\n",
    "            [0, 1, 2, np.nan],\n",
    "            default=np.nan,\n",
    "        )\n",
    "    )\n",
    "    .assign(id_beh_percep_contag=lambda df: df.id_beh_percep_contag.astype(cat_012_ord))\n",
    "    .drop([\"rp_3\"], axis=1)\n",
    ")"
   ]
  },
  {
   "cell_type": "code",
   "execution_count": 12,
   "id": "15a0cda9-ec5a-4e2f-a4b7-453051afa8ac",
   "metadata": {
    "collapsed": false,
    "jupyter": {
     "outputs_hidden": false
    },
    "tags": []
   },
   "outputs": [
    {
     "data": {
      "text/plain": [
       "id_beh_percep_contag\n",
       "2      724\n",
       "1      707\n",
       "0      507\n",
       "NaN     65\n",
       "Name: count, dtype: int64"
      ]
     },
     "execution_count": 12,
     "metadata": {},
     "output_type": "execute_result"
    }
   ],
   "source": [
    "clean_cols.append(\"id_beh_percep_contag\")\n",
    "df_survey.id_beh_percep_contag.value_counts(dropna=False)"
   ]
  },
  {
   "cell_type": "markdown",
   "id": "25afa016",
   "metadata": {},
   "source": [
    "## Self-perception of severity of the disease"
   ]
  },
  {
   "cell_type": "code",
   "execution_count": 13,
   "id": "6310f724-d476-46ed-8cbb-deac3c580a1d",
   "metadata": {
    "collapsed": false,
    "jupyter": {
     "outputs_hidden": false
    },
    "lines_to_next_cell": 2,
    "tags": []
   },
   "outputs": [],
   "source": [
    "# Covid-19: Autopercepción gravedad\n",
    "df_survey = (\n",
    "    df_survey.assign(\n",
    "        id_beh_percep_severity=lambda df: np.select(\n",
    "            [\n",
    "                df.rp_4.between(0, 3),\n",
    "                df.rp_4.between(4, 6),\n",
    "                df.rp_4.between(7, 10),\n",
    "                df.rp_4 == 99,\n",
    "            ],\n",
    "            [0, 1, 2, np.nan],\n",
    "            default=0,\n",
    "        )\n",
    "    )\n",
    "    .assign(\n",
    "        id_beh_percep_severity=lambda df: df.id_beh_percep_severity.astype(cat_012_ord)\n",
    "    )\n",
    "    .drop([\"rp_4\"], axis=1)\n",
    ")"
   ]
  },
  {
   "cell_type": "code",
   "execution_count": 14,
   "id": "9b202ae5",
   "metadata": {
    "collapsed": false,
    "jupyter": {
     "outputs_hidden": false
    }
   },
   "outputs": [
    {
     "data": {
      "text/plain": [
       "id_beh_percep_severity\n",
       "2    762\n",
       "0    627\n",
       "1    614\n",
       "Name: count, dtype: int64"
      ]
     },
     "execution_count": 14,
     "metadata": {},
     "output_type": "execute_result"
    }
   ],
   "source": [
    "clean_cols.append(\"id_beh_percep_severity\")\n",
    "df_survey.id_beh_percep_severity.value_counts(dropna=False)"
   ]
  },
  {
   "cell_type": "markdown",
   "id": "65c8e068",
   "metadata": {},
   "source": [
    "## Contagion inside the household (Bubble)"
   ]
  },
  {
   "cell_type": "code",
   "execution_count": 15,
   "id": "34a5b541-8d10-41aa-9470-8fbfe4926901",
   "metadata": {
    "collapsed": false,
    "jupyter": {
     "outputs_hidden": false
    },
    "lines_to_next_cell": 2,
    "tags": []
   },
   "outputs": [],
   "source": [
    "df_survey = (\n",
    "    df_survey.assign(\n",
    "        id_bio_bubble_contag=lambda df: np.select(\n",
    "            [\n",
    "                (df.rp_5 == 1) | (df.rp_5 == 9),\n",
    "                (df.rp_5 == 2),\n",
    "            ],\n",
    "            [1, 0],\n",
    "            default=0,\n",
    "        )\n",
    "    )\n",
    "    .assign(id_bio_bubble_contag=lambda df: df.id_bio_bubble_contag.astype(\"bool\"))\n",
    "    .drop([\"rp_5\"], axis=1)\n",
    ")\n"
   ]
  },
  {
   "cell_type": "code",
   "execution_count": 16,
   "id": "1ecc7ab2",
   "metadata": {},
   "outputs": [
    {
     "data": {
      "text/plain": [
       "id_bio_bubble_contag\n",
       "False    1275\n",
       "True      728\n",
       "Name: count, dtype: int64"
      ]
     },
     "execution_count": 16,
     "metadata": {},
     "output_type": "execute_result"
    }
   ],
   "source": [
    "clean_cols.append(\"id_bio_bubble_contag\")\n",
    "df_survey.id_bio_bubble_contag.value_counts(dropna=False)"
   ]
  },
  {
   "cell_type": "markdown",
   "id": "d3895333",
   "metadata": {},
   "source": [
    "## Contagion outside the household (Bubble)"
   ]
  },
  {
   "cell_type": "code",
   "execution_count": 17,
   "id": "1466a23c-e982-4b14-b2f0-0dc5feb371a1",
   "metadata": {
    "collapsed": false,
    "jupyter": {
     "outputs_hidden": false
    },
    "lines_to_next_cell": 2,
    "tags": []
   },
   "outputs": [],
   "source": [
    "df_survey = (\n",
    "    df_survey.assign(\n",
    "        id_bio_outside_bubble_contag=lambda df: np.select(\n",
    "            [\n",
    "                (df.rp_6 == 1) | (df.rp_6 == 9),\n",
    "                (df.rp_6 == 2),\n",
    "            ],\n",
    "            [1, 0],\n",
    "            default=0,\n",
    "        )\n",
    "    )\n",
    "    .assign(\n",
    "        id_bio_outside_bubble_contag=lambda df: df.id_bio_outside_bubble_contag.astype(\n",
    "            \"bool\"\n",
    "        )\n",
    "    )\n",
    "    .drop([\"rp_6\"], axis=1)\n",
    ")\n"
   ]
  },
  {
   "cell_type": "code",
   "execution_count": 18,
   "id": "b47da426",
   "metadata": {},
   "outputs": [
    {
     "data": {
      "text/plain": [
       "id_bio_outside_bubble_contag\n",
       "True     1518\n",
       "False     485\n",
       "Name: count, dtype: int64"
      ]
     },
     "execution_count": 18,
     "metadata": {},
     "output_type": "execute_result"
    }
   ],
   "source": [
    "clean_cols.append(\"id_bio_outside_bubble_contag\")\n",
    "df_survey.id_bio_outside_bubble_contag.value_counts(dropna=False)"
   ]
  },
  {
   "cell_type": "markdown",
   "id": "afe5d62f",
   "metadata": {
    "lines_to_next_cell": 0
   },
   "source": [
    "## Aware of deaths by Covid-19"
   ]
  },
  {
   "cell_type": "code",
   "execution_count": 19,
   "id": "8d9516e4",
   "metadata": {},
   "outputs": [],
   "source": [
    "df_survey = (\n",
    "    df_survey.assign(\n",
    "        id_bio_death_covid=lambda df: np.select(\n",
    "            [\n",
    "                (df.rp_7 == 1) | (df.rp_7 == 9),\n",
    "                (df.rp_7 == 2),\n",
    "            ],\n",
    "            [1, 0],\n",
    "            default=0,\n",
    "        )\n",
    "    )\n",
    "    .assign(id_bio_death_covid=lambda df: df.id_bio_death_covid.astype(\"bool\"))\n",
    "    .drop([\"rp_7\"], axis=1)\n",
    ")"
   ]
  },
  {
   "cell_type": "code",
   "execution_count": 20,
   "id": "0ca737d0",
   "metadata": {},
   "outputs": [
    {
     "data": {
      "text/plain": [
       "id_bio_death_covid\n",
       "False    1467\n",
       "True      536\n",
       "Name: count, dtype: int64"
      ]
     },
     "execution_count": 20,
     "metadata": {},
     "output_type": "execute_result"
    }
   ],
   "source": [
    "clean_cols.append(\"id_bio_death_covid\")\n",
    "df_survey.id_bio_death_covid.value_counts(dropna=False)"
   ]
  },
  {
   "cell_type": "markdown",
   "id": "8e8aeba6",
   "metadata": {},
   "source": [
    "## Risk behavior"
   ]
  },
  {
   "cell_type": "code",
   "execution_count": 21,
   "id": "2c03a1ee",
   "metadata": {
    "collapsed": false,
    "jupyter": {
     "outputs_hidden": false
    },
    "lines_to_next_cell": 2
   },
   "outputs": [],
   "source": [
    "df_survey = (\n",
    "    df_survey.assign(\n",
    "        cr_1=lambda df: np.where(df.cr_1 == 9, np.nan, df.cr_1),\n",
    "        cr_2=lambda df: np.where(df.cr_2 == 9, np.nan, df.cr_2),\n",
    "    )\n",
    "    .assign(\n",
    "        cr_1=lambda df: np.select(\n",
    "            [\n",
    "                df.cr_1.between(1, 2),\n",
    "                df.cr_1.between(3, 3),\n",
    "                df.cr_1.between(4, 5),\n",
    "                df.cr_1 == 9,\n",
    "            ],\n",
    "            [2, 1, 0, np.nan],\n",
    "            default=np.nan,\n",
    "        ),\n",
    "        cr_2=lambda df: np.select(\n",
    "            [\n",
    "                df.cr_2.between(1, 2),\n",
    "                df.cr_2.between(3, 3),\n",
    "                df.cr_2.between(4, 5),\n",
    "                df.cr_2 == 9,\n",
    "            ],\n",
    "            [2, 1, 0, np.nan],\n",
    "            default=np.nan,\n",
    "        ),\n",
    "    )\n",
    "    .assign(id_beh_risk_personal=lambda df: df[[\"cr_1\", \"cr_2\"]].median(axis=1).round())\n",
    "    .assign(\n",
    "        id_beh_risk_personal=lambda df: df.id_beh_risk_personal.astype(\n",
    "            pd.CategoricalDtype(ordered=True)\n",
    "        )\n",
    "    )\n",
    "    .drop([\"cr_1\", \"cr_2\"], axis=1)\n",
    ")"
   ]
  },
  {
   "cell_type": "code",
   "execution_count": 22,
   "id": "5c9c3d63-361d-4e48-b3ed-d9f787b14f6c",
   "metadata": {
    "collapsed": false,
    "jupyter": {
     "outputs_hidden": false
    },
    "tags": []
   },
   "outputs": [
    {
     "data": {
      "text/plain": [
       "id_beh_risk_personal\n",
       "0.0    1903\n",
       "1.0      82\n",
       "2.0      18\n",
       "Name: count, dtype: int64"
      ]
     },
     "execution_count": 22,
     "metadata": {},
     "output_type": "execute_result"
    }
   ],
   "source": [
    "clean_cols.append(\"id_beh_risk_personal\")\n",
    "df_survey.id_beh_risk_personal.value_counts()"
   ]
  },
  {
   "cell_type": "markdown",
   "id": "030706f5",
   "metadata": {},
   "source": [
    "## Covid risk behaviors towards other people"
   ]
  },
  {
   "cell_type": "code",
   "execution_count": 23,
   "id": "f3f7f5a8-101a-465d-a814-9444dfe7044d",
   "metadata": {
    "collapsed": false,
    "jupyter": {
     "outputs_hidden": false
    },
    "lines_to_next_cell": 2
   },
   "outputs": [],
   "source": [
    "df_survey = (\n",
    "    # change the value of 9 in cr_3 and cr_4 by np.nan\n",
    "    df_survey.assign(\n",
    "        cr_3=lambda df: np.where(df.cr_3 == 9, np.nan, df.cr_3),\n",
    "        cr_4=lambda df: np.where(df.cr_4 == 9, np.nan, df.cr_4),\n",
    "    )\n",
    "    # change the values of cr_3 and cr_4 by 0, 1, 2\n",
    "    .assign(\n",
    "        cr_3=lambda df: np.select(\n",
    "            [\n",
    "                df.cr_3.between(1, 2),\n",
    "                df.cr_3.between(3, 3),\n",
    "                df.cr_3.between(5, 5),\n",
    "                df.cr_3 == 9,\n",
    "            ],\n",
    "            [0, 1, 2, np.nan],\n",
    "            default=np.nan,\n",
    "        ),\n",
    "        cr_4=lambda df: np.select(\n",
    "            [\n",
    "                df.cr_4.between(1, 2),\n",
    "                df.cr_4.between(3, 3),\n",
    "                df.cr_4.between(4, 5),\n",
    "                df.cr_4 == 9,\n",
    "            ],\n",
    "            [0, 1, 2, np.nan],\n",
    "            default=np.nan,\n",
    "        ),\n",
    "    )\n",
    "    .assign(id_beh_risk_others=lambda df: df[[\"cr_3\", \"cr_4\"]].median(axis=1).round())\n",
    "    .assign(id_beh_risk_others=lambda df: df.id_beh_risk_others.astype(cat_012_ord))\n",
    "    .drop([\"cr_3\", \"cr_4\"], axis=1)\n",
    ")\n"
   ]
  },
  {
   "cell_type": "code",
   "execution_count": 24,
   "id": "7ee4c545-b063-4919-a551-e368f5d617c3",
   "metadata": {
    "collapsed": false,
    "jupyter": {
     "outputs_hidden": false
    },
    "tags": []
   },
   "outputs": [
    {
     "data": {
      "text/plain": [
       "id_beh_risk_others\n",
       "0    1771\n",
       "1     167\n",
       "2      65\n",
       "Name: count, dtype: int64"
      ]
     },
     "execution_count": 24,
     "metadata": {},
     "output_type": "execute_result"
    }
   ],
   "source": [
    "clean_cols.append(\"id_beh_risk_others\")\n",
    "df_survey.id_beh_risk_others.value_counts()"
   ]
  },
  {
   "cell_type": "markdown",
   "id": "c3e16927",
   "metadata": {},
   "source": [
    "## Physical activity\n",
    "\n",
    "The rationale behind this variable is that people who do physical activity are more likely to have a better health and therefore, a better immune system.\n",
    "\n",
    "To create the variable we use the following assumitions: \n",
    "\n",
    "- If people don't do any physical activity, they are in the `High` (2) risk group.\n",
    "- If people at least do moderate or light physical activity, they are in the `Medium` (1) risk group.\n",
    "- If people do intense physical activity, they are in the `Low` (0) risk group."
   ]
  },
  {
   "cell_type": "code",
   "execution_count": 25,
   "id": "7f73a1c7",
   "metadata": {
    "collapsed": false,
    "jupyter": {
     "outputs_hidden": false
    },
    "lines_to_next_cell": 2
   },
   "outputs": [],
   "source": [
    "df_survey = (\n",
    "    df_survey.assign(\n",
    "        af_1=lambda df: df.af_1.astype(\"float\"),\n",
    "        af_3=lambda df: df.af_3.astype(\"float\"),\n",
    "        af_5=lambda df: df.af_5.astype(\"float\"),\n",
    "        af_7_horas=lambda df: df.af_7_horas.astype(\"float\"),\n",
    "        af_7_minutos=lambda df: df.af_7_minutos.astype(\"float\"),\n",
    "    )\n",
    "    .assign(\n",
    "        af_1=lambda df: df.af_1.fillna(0),\n",
    "        af_3=lambda df: df.af_3.fillna(0),\n",
    "        af_5=lambda df: df.af_5.fillna(0),\n",
    "        af_7_horas=lambda df: df.af_7_horas.fillna(0),\n",
    "        af_7_minutos=lambda df: df.af_7_minutos.fillna(0),\n",
    "    )\n",
    "    # Transform each variable such as:\n",
    "    # af_1, af_3, af_5 is 1 if less than 3 and 0 otherwise.\n",
    "    .assign(\n",
    "        id_beh_physical_act=lambda df: np.select(\n",
    "            [\n",
    "                (df.af_1 == 9) & (df.af_3 == 9) & (df.af_5 == 9),\n",
    "                (df.af_1 == 0) & (df.af_3 == 0) & (df.af_5 == 0),\n",
    "                ((df.af_3 > 0) | (df.af_5 > 0)) & (df.af_1 == 0),\n",
    "                (df.af_1 > 0),\n",
    "            ],\n",
    "            [np.nan, 2, 1, 0],\n",
    "            default=np.nan,\n",
    "        )\n",
    "    )\n",
    "    .assign(id_beh_physical_act=lambda df: df.id_beh_physical_act.astype(cat_012_ord))\n",
    ")\n"
   ]
  },
  {
   "cell_type": "code",
   "execution_count": 26,
   "id": "b47537d1",
   "metadata": {
    "collapsed": false,
    "jupyter": {
     "outputs_hidden": false
    }
   },
   "outputs": [
    {
     "data": {
      "text/plain": [
       "id_beh_physical_act\n",
       "1    978\n",
       "0    814\n",
       "2    211\n",
       "Name: count, dtype: int64"
      ]
     },
     "execution_count": 26,
     "metadata": {},
     "output_type": "execute_result"
    }
   ],
   "source": [
    "clean_cols.append(\"id_beh_physical_act\")\n",
    "df_survey.id_beh_physical_act.value_counts(dropna=False)"
   ]
  },
  {
   "cell_type": "markdown",
   "id": "d4b7f5f0",
   "metadata": {},
   "source": [
    "## Vaccination myths"
   ]
  },
  {
   "cell_type": "code",
   "execution_count": 27,
   "id": "e8191d2a",
   "metadata": {
    "collapsed": false,
    "jupyter": {
     "outputs_hidden": false
    }
   },
   "outputs": [],
   "source": [
    "# Vacunacion\n",
    "\n",
    "# Get the list of columns starting with 'vm'\n",
    "vm_columns = [col for col in df_survey.columns if col.startswith(\"vm\")]\n",
    "\n",
    "# Apply the assign and np.select operations to each 'vm' column\n",
    "for col in vm_columns:\n",
    "    df_survey[col] = np.select(\n",
    "        [\n",
    "            df_survey[col].between(1, 2),\n",
    "            df_survey[col] == 3,\n",
    "            df_survey[col].between(4, 5),\n",
    "            df_survey[col] == 9,\n",
    "        ],\n",
    "        [0, 1, 2, np.nan],\n",
    "    )\n",
    "\n",
    "df_survey = (\n",
    "    df_survey.assign(\n",
    "        id_psy_vaccination_myths=lambda df: df[vm_columns].median(\n",
    "            axis=1).round()\n",
    "    )\n",
    "    .assign(\n",
    "        id_psy_vaccination_myths=lambda df: df.id_psy_vaccination_myths.astype(\n",
    "            cat_012_ord\n",
    "        )\n",
    "    )\n",
    "    .drop(columns=vm_columns)\n",
    ")\n"
   ]
  },
  {
   "cell_type": "code",
   "execution_count": 28,
   "id": "0b2cda4c",
   "metadata": {
    "collapsed": false,
    "jupyter": {
     "outputs_hidden": false
    },
    "lines_to_next_cell": 0
   },
   "outputs": [
    {
     "data": {
      "text/plain": [
       "id_psy_vaccination_myths\n",
       "0    1869\n",
       "1      77\n",
       "2      57\n",
       "Name: count, dtype: int64"
      ]
     },
     "execution_count": 28,
     "metadata": {},
     "output_type": "execute_result"
    }
   ],
   "source": [
    "clean_cols.append(\"id_psy_vaccination_myths\")\n",
    "df_survey.id_psy_vaccination_myths.value_counts()"
   ]
  },
  {
   "cell_type": "markdown",
   "id": "8dc729a1",
   "metadata": {},
   "source": [
    "## Vaccination status"
   ]
  },
  {
   "cell_type": "code",
   "execution_count": 29,
   "id": "e9e42585",
   "metadata": {
    "collapsed": false,
    "jupyter": {
     "outputs_hidden": false
    },
    "lines_to_next_cell": 2
   },
   "outputs": [],
   "source": [
    "df_survey = (\n",
    "    df_survey.assign(\n",
    "        id_bio_vaccination_status=lambda df: np.select(\n",
    "            [df.va_6.between(1, 2), df.va_6 == 3, df.va_6 == 4, df.va_6 == 9],\n",
    "            [0, 1, 2, np.nan],\n",
    "            default=np.nan,\n",
    "        )\n",
    "    )\n",
    "    .assign(\n",
    "        id_bio_vaccination_status=lambda df: df.id_bio_vaccination_status.astype(\n",
    "            cat_012_ord\n",
    "        )\n",
    "    )\n",
    "    .drop(columns=[\"va_6\"])\n",
    ")\n"
   ]
  },
  {
   "cell_type": "code",
   "execution_count": 30,
   "id": "de3101c3",
   "metadata": {
    "collapsed": false,
    "jupyter": {
     "outputs_hidden": false
    }
   },
   "outputs": [
    {
     "data": {
      "text/plain": [
       "id_bio_vaccination_status\n",
       "0    1837\n",
       "2      97\n",
       "1      61\n",
       "Name: count, dtype: int64"
      ]
     },
     "execution_count": 30,
     "metadata": {},
     "output_type": "execute_result"
    }
   ],
   "source": [
    "clean_cols.append(\"id_bio_vaccination_status\")\n",
    "df_survey.id_bio_vaccination_status.value_counts()"
   ]
  },
  {
   "cell_type": "markdown",
   "id": "ca3a8d8e",
   "metadata": {},
   "source": [
    "## Anxiety disorders"
   ]
  },
  {
   "cell_type": "code",
   "execution_count": 31,
   "id": "03a0405a",
   "metadata": {
    "collapsed": false,
    "jupyter": {
     "outputs_hidden": false
    },
    "lines_to_next_cell": 2
   },
   "outputs": [],
   "source": [
    "df_survey = df_survey.assign(\n",
    "    an_1=lambda df: np.select(\n",
    "        [df.an_1.between(0, 1), df.an_1 == 2,\n",
    "         df.an_1.between(3, 4), df.an_1 == 9],\n",
    "        [0, 1, 2, np.nan],\n",
    "        default=np.nan,\n",
    "    ),\n",
    "    an_2=lambda df: np.select(\n",
    "        [df.an_2.between(0, 1), df.an_2 == 2,\n",
    "         df.an_2.between(3, 4), df.an_2 == 9],\n",
    "        [0, 1, 2, np.nan],\n",
    "        default=np.nan,\n",
    "    ),\n",
    "    an_3=lambda df: np.select(\n",
    "        [df.an_3.between(0, 1), df.an_3 == 2,\n",
    "         df.an_3.between(3, 4), df.an_3 == 9],\n",
    "        [0, 1, 2, np.nan],\n",
    "        default=np.nan,\n",
    "    ),\n",
    "    an_4=lambda df: np.select(\n",
    "        [df.an_4.between(0, 1), df.an_4 == 2,\n",
    "         df.an_4.between(3, 4), df.an_4 == 9],\n",
    "        [0, 1, 2, np.nan],\n",
    "        default=np.nan,\n",
    "    ),\n",
    "    an_5=lambda df: np.select(\n",
    "        [df.an_5.between(0, 1), df.an_5 == 2,\n",
    "         df.an_5.between(3, 4), df.an_5 == 9],\n",
    "        [0, 1, 2, np.nan],\n",
    "        default=np.nan,\n",
    "    ),\n",
    "    an_6=lambda df: np.select(\n",
    "        [df.an_6 == 1, df.an_6 == 2, df.an_6 == 3, df.an_6 == 9],\n",
    "        [0, 1, 2, np.nan],\n",
    "        default=np.nan,\n",
    "    ),\n",
    ")\n",
    "\n",
    "df_survey = (\n",
    "    df_survey.assign(\n",
    "        id_psy_anxiety_sympt=lambda df: df[\n",
    "            [\n",
    "                \"an_1\",\n",
    "                \"an_2\",\n",
    "                \"an_3\",\n",
    "                \"an_4\",\n",
    "                \"an_5\",\n",
    "                \"an_6\",\n",
    "            ]\n",
    "        ]\n",
    "        .median(axis=1)\n",
    "        .round()\n",
    "    )\n",
    "    .assign(id_psy_anxiety_sympt=lambda df: df.id_psy_anxiety_sympt.astype(cat_012_ord))\n",
    "    .drop(\n",
    "        columns=[\n",
    "            \"an_1\",\n",
    "            \"an_2\",\n",
    "            \"an_3\",\n",
    "            \"an_4\",\n",
    "            \"an_5\",\n",
    "            \"an_6\",\n",
    "        ]\n",
    "    )\n",
    ")\n"
   ]
  },
  {
   "cell_type": "code",
   "execution_count": 32,
   "id": "8861f8ad",
   "metadata": {
    "collapsed": false,
    "jupyter": {
     "outputs_hidden": false
    },
    "lines_to_next_cell": 2
   },
   "outputs": [
    {
     "data": {
      "text/plain": [
       "id_psy_anxiety_sympt\n",
       "0    1981\n",
       "1      14\n",
       "2       3\n",
       "Name: count, dtype: int64"
      ]
     },
     "execution_count": 32,
     "metadata": {},
     "output_type": "execute_result"
    }
   ],
   "source": [
    "clean_cols.append(\"id_psy_anxiety_sympt\")\n",
    "df_survey.id_psy_anxiety_sympt.value_counts()"
   ]
  },
  {
   "cell_type": "markdown",
   "id": "48bcb2e6",
   "metadata": {},
   "source": [
    "## Household income issues and levels"
   ]
  },
  {
   "cell_type": "code",
   "execution_count": 33,
   "id": "6f1166d0",
   "metadata": {
    "collapsed": false,
    "jupyter": {
     "outputs_hidden": false
    },
    "lines_to_next_cell": 2
   },
   "outputs": [],
   "source": [
    "# Problemas con ingresos familiares\n",
    "#\n",
    "df_survey = (\n",
    "    df_survey.assign(\n",
    "        ef_1=lambda df: np.select(\n",
    "            [df.ef_1 == 1, df.ef_1 == 2, df.ef_1 ==\n",
    "                3, df.ef_1 == 9], [2, 1, 0, np.nan]\n",
    "        ),\n",
    "        ef_10=lambda df: np.select(\n",
    "            [df.ef_10.between(1, 2), df.ef_10 == 3,\n",
    "             df.ef_10 == 4, df.ef_10 == 9],\n",
    "            [2, 1, 0, np.nan],\n",
    "        ),\n",
    "        sd_inc_income_level=lambda df: df[[\n",
    "            \"ef_1\", \"ef_10\"]].median(axis=1).round(),\n",
    "    )\n",
    "    .assign(sd_inc_income_level=lambda df: df.sd_inc_income_level.astype(cat_012_ord))\n",
    "    .assign(\n",
    "        ef_3=lambda df: np.select(\n",
    "            [df.ef_3 == 1, df.ef_3 == 2, df.ef_3 == 9], [1, 0, np.nan]\n",
    "        ),\n",
    "        ef_4=lambda df: np.select(\n",
    "            [df.ef_4 == 1, df.ef_4 == 2, df.ef_4 == 9], [1, 0, np.nan]\n",
    "        ),\n",
    "        ef_5=lambda df: np.select(\n",
    "            [df.ef_5 == 1, df.ef_5 == 2, df.ef_5 == 9], [1, 0, np.nan]\n",
    "        ),\n",
    "        ef_6=lambda df: np.select(\n",
    "            [df.ef_6 == 1, df.ef_6 == 2, df.ef_6 == 9], [1, 0, np.nan]\n",
    "        ),\n",
    "        ef_7=lambda df: np.select(\n",
    "            [df.ef_7 == 1, df.ef_7 == 2, df.ef_7 == 9], [0, 1, np.nan]\n",
    "        ),\n",
    "        ef_8=lambda df: np.select(\n",
    "            [df.ef_8 == 1, df.ef_8 == 2, df.ef_8 == 9], [0, 1, np.nan]\n",
    "        ),\n",
    "        ef_9=lambda df: np.select(\n",
    "            [df.ef_9 == 1, df.ef_9 == 2, df.ef_9 == 9], [0, 1, np.nan]\n",
    "        ),\n",
    "    )\n",
    "    .assign(\n",
    "        sd_inc_income_problems=lambda df: df[\n",
    "            [\n",
    "                \"ef_3\",\n",
    "                \"ef_4\",\n",
    "                \"ef_5\",\n",
    "                \"ef_6\",\n",
    "                \"ef_7\",\n",
    "                \"ef_8\",\n",
    "                \"ef_9\",\n",
    "            ]\n",
    "        ]\n",
    "        .median(axis=1)\n",
    "        .round()\n",
    "    )\n",
    "    .assign(sd_inc_income_problems=lambda df: df.sd_inc_income_problems.astype(\"bool\"))\n",
    "    .drop(\n",
    "        columns=[\n",
    "            \"ef_1\",\n",
    "            \"ef_3\",\n",
    "            \"ef_4\",\n",
    "            \"ef_5\",\n",
    "            \"ef_6\",\n",
    "            \"ef_7\",\n",
    "            \"ef_8\",\n",
    "            \"ef_9\",\n",
    "            \"ef_10\",\n",
    "        ]\n",
    "    )\n",
    ")\n"
   ]
  },
  {
   "cell_type": "code",
   "execution_count": 34,
   "id": "99229925",
   "metadata": {
    "collapsed": false,
    "jupyter": {
     "outputs_hidden": false
    }
   },
   "outputs": [
    {
     "data": {
      "text/plain": [
       "sd_inc_income_problems\n",
       "False    1685\n",
       "True      318\n",
       "Name: count, dtype: int64"
      ]
     },
     "execution_count": 34,
     "metadata": {},
     "output_type": "execute_result"
    }
   ],
   "source": [
    "clean_cols.append(\"sd_inc_income_problems\")\n",
    "df_survey.sd_inc_income_problems.value_counts()"
   ]
  },
  {
   "cell_type": "code",
   "execution_count": 35,
   "id": "a352cb86",
   "metadata": {
    "collapsed": false,
    "jupyter": {
     "outputs_hidden": false
    }
   },
   "outputs": [
    {
     "data": {
      "text/plain": [
       "sd_inc_income_level\n",
       "2    1079\n",
       "1     557\n",
       "0     367\n",
       "Name: count, dtype: int64"
      ]
     },
     "execution_count": 35,
     "metadata": {},
     "output_type": "execute_result"
    }
   ],
   "source": [
    "clean_cols.append(\"sd_inc_income_level\")\n",
    "df_survey.sd_inc_income_level.value_counts()"
   ]
  },
  {
   "cell_type": "markdown",
   "id": "140d3a1d",
   "metadata": {},
   "source": [
    "## Behavioral risk on  Holiday festivities"
   ]
  },
  {
   "cell_type": "code",
   "execution_count": 36,
   "id": "847ac15e-01ce-4ce3-90d3-91894acc9601",
   "metadata": {
    "collapsed": false,
    "jupyter": {
     "outputs_hidden": false
    },
    "lines_to_next_cell": 2
   },
   "outputs": [],
   "source": [
    "fa_columns = [col for col in df_survey.columns if col.startswith(\"fa\")]\n",
    "\n",
    "for col in fa_columns:\n",
    "    df_survey[col] = np.select(\n",
    "        [\n",
    "            df_survey[col] == 1,\n",
    "            df_survey[col] == 2,\n",
    "            df_survey[col] == 3,\n",
    "            df_survey[col] > 8,\n",
    "        ],\n",
    "        [2, 1, 0, np.nan],\n",
    "    )\n",
    "\n",
    "df_survey = (\n",
    "    df_survey.assign(\n",
    "        sd_cul_holiday_season=lambda df: df[fa_columns].median(axis=1).round()\n",
    "    )\n",
    "    .assign(\n",
    "        sd_cul_holiday_season=lambda df: df.sd_cul_holiday_season.astype(cat_012_ord)\n",
    "    )\n",
    "    .drop(columns=fa_columns)\n",
    ")"
   ]
  },
  {
   "cell_type": "code",
   "execution_count": 37,
   "id": "22de5c7b-8bb0-431f-8f35-f7528a936036",
   "metadata": {
    "collapsed": false,
    "jupyter": {
     "outputs_hidden": false
    },
    "tags": []
   },
   "outputs": [
    {
     "data": {
      "text/plain": [
       "sd_cul_holiday_season\n",
       "2    1708\n",
       "1     209\n",
       "0      86\n",
       "Name: count, dtype: int64"
      ]
     },
     "execution_count": 37,
     "metadata": {},
     "output_type": "execute_result"
    }
   ],
   "source": [
    "clean_cols.append(\"sd_cul_holiday_season\")\n",
    "df_survey.sd_cul_holiday_season.value_counts()"
   ]
  },
  {
   "cell_type": "markdown",
   "id": "0a2aca98",
   "metadata": {},
   "source": [
    "## Gender"
   ]
  },
  {
   "cell_type": "code",
   "execution_count": 38,
   "id": "6b913224-5e9b-4c61-b8cf-d24f2fcc8a7a",
   "metadata": {
    "collapsed": false,
    "jupyter": {
     "outputs_hidden": false
    },
    "lines_to_next_cell": 2
   },
   "outputs": [],
   "source": [
    "# Variables Sociodograficas\n",
    "# Sexo y Edad\n",
    "df_survey = (\n",
    "    df_survey.rename(\n",
    "        columns={\n",
    "            \"cs_1\": \"id_bio_masculine\",\n",
    "        }\n",
    "    )\n",
    "    .assign(\n",
    "        id_bio_masculine=lambda df: np.select(\n",
    "            [df.id_bio_masculine == 1, df.id_bio_masculine == 2], [1, 0]\n",
    "        )\n",
    "    )\n",
    "    .assign(id_bio_masculine=lambda df: df.id_bio_masculine.astype(\"bool\"))\n",
    ")"
   ]
  },
  {
   "cell_type": "code",
   "execution_count": 39,
   "id": "c1749524-7d90-492a-9371-bd887d836106",
   "metadata": {
    "collapsed": false,
    "jupyter": {
     "outputs_hidden": false
    },
    "tags": []
   },
   "outputs": [
    {
     "data": {
      "text/plain": [
       "id_bio_masculine\n",
       "False    1076\n",
       "True      927\n",
       "Name: count, dtype: int64"
      ]
     },
     "execution_count": 39,
     "metadata": {},
     "output_type": "execute_result"
    }
   ],
   "source": [
    "clean_cols.append(\"id_bio_masculine\")\n",
    "df_survey.id_bio_masculine.value_counts()"
   ]
  },
  {
   "cell_type": "markdown",
   "id": "cee3a760",
   "metadata": {},
   "source": [
    "## Age"
   ]
  },
  {
   "cell_type": "code",
   "execution_count": 40,
   "id": "a9d6b354-d62a-4a36-b9c3-1fe051a183c4",
   "metadata": {
    "collapsed": false,
    "jupyter": {
     "outputs_hidden": false
    },
    "lines_to_next_cell": 0,
    "tags": []
   },
   "outputs": [],
   "source": [
    "df_survey = df_survey.rename(columns={\"cs_2\": \"id_bio_age\"}).assign(\n",
    "    id_bio_age=lambda df: df.id_bio_age.astype(\"float\")\n",
    ")\n"
   ]
  },
  {
   "cell_type": "code",
   "execution_count": 41,
   "id": "0583bae4-8749-4da1-84d7-105d215832a2",
   "metadata": {
    "collapsed": false,
    "jupyter": {
     "outputs_hidden": false
    }
   },
   "outputs": [
    {
     "data": {
      "image/png": "[encoded data removed]",
      "text/plain": [
       "<Figure size 640x480 with 1 Axes>"
      ]
     },
     "metadata": {},
     "output_type": "display_data"
    }
   ],
   "source": [
    "clean_cols.append(\"id_bio_age\")\n",
    "\n",
    "plt.hist(df_survey.id_bio_age)\n",
    "plt.xlabel(\"Age\")\n",
    "plt.ylabel(\"Frequency\")\n",
    "plt.title(\"Distribution of Age\")\n",
    "plt.show()\n"
   ]
  },
  {
   "cell_type": "markdown",
   "id": "d4898882",
   "metadata": {},
   "source": [
    "## Height and weight"
   ]
  },
  {
   "cell_type": "code",
   "execution_count": 42,
   "id": "ecfbca86-b895-4130-8983-389406031cda",
   "metadata": {
    "collapsed": false,
    "jupyter": {
     "outputs_hidden": false
    },
    "lines_to_next_cell": 0,
    "tags": []
   },
   "outputs": [],
   "source": [
    "df_survey = df_survey.assign(\n",
    "    cs_3=lambda df: np.where(df.cs_3 >= 98, np.nan, df.cs_3),\n",
    "    cs_4=lambda df: np.where(df.cs_4 == 999, np.nan, df.cs_4),\n",
    ")\n",
    "\n",
    "\n",
    "df_survey = df_survey.assign(\n",
    "    cs_3=lambda df: df.cs_3.astype(\"float\"),\n",
    "    cs_4=lambda df: df.cs_4.astype(\"float\"),\n",
    ").rename(columns={\"cs_3\": \"id_bio_weight\", \"cs_4\": \"id_bio_height\"})"
   ]
  },
  {
   "cell_type": "code",
   "execution_count": 43,
   "id": "a5d5a411-c46b-4abb-8234-56bfbd231455",
   "metadata": {
    "collapsed": false,
    "jupyter": {
     "outputs_hidden": false
    },
    "tags": []
   },
   "outputs": [
    {
     "data": {
      "image/png": "[encoded data removed]",
      "text/plain": [
       "<Figure size 640x480 with 1 Axes>"
      ]
     },
     "metadata": {},
     "output_type": "display_data"
    }
   ],
   "source": [
    "clean_cols.append(\"id_bio_weight\")\n",
    "\n",
    "counts = df_survey.id_bio_weight\n",
    "plt.hist(counts)\n",
    "plt.xlabel(\"Kilogrames\")\n",
    "plt.ylabel(\"Frequency\")\n",
    "plt.title(\"Distribution of Weight\")\n",
    "plt.show()\n"
   ]
  },
  {
   "cell_type": "code",
   "execution_count": 44,
   "id": "90976305-8c11-42b4-91d8-6f99fa11fdd9",
   "metadata": {
    "collapsed": false,
    "jupyter": {
     "outputs_hidden": false
    },
    "lines_to_next_cell": 0,
    "tags": []
   },
   "outputs": [
    {
     "data": {
      "image/png": "[encoded data removed]",
      "text/plain": [
       "<Figure size 640x480 with 1 Axes>"
      ]
     },
     "metadata": {},
     "output_type": "display_data"
    }
   ],
   "source": [
    "clean_cols.append(\"id_bio_height\")\n",
    "plt.hist(df_survey.id_bio_height)\n",
    "plt.xlabel(\"Centimeters\")\n",
    "plt.ylabel(\"Frequency\")\n",
    "plt.title(\"Distribution of Height\")\n",
    "plt.show()"
   ]
  },
  {
   "cell_type": "markdown",
   "id": "35231d1b",
   "metadata": {},
   "source": [
    "## Education"
   ]
  },
  {
   "cell_type": "code",
   "execution_count": 45,
   "id": "5b67ad60",
   "metadata": {
    "collapsed": false,
    "jupyter": {
     "outputs_hidden": false
    },
    "lines_to_next_cell": 2
   },
   "outputs": [],
   "source": [
    "df_survey = df_survey.assign(\n",
    "    sd_edu_scholarity=lambda df: np.select(\n",
    "        [\n",
    "            df.cs_5.between(1, 3),\n",
    "            df.cs_5.between(4, 6),\n",
    "            df.cs_5 == 9,\n",
    "        ],\n",
    "        [1, 0, np.nan],\n",
    "    )\n",
    ").assign(sd_edu_scholarity=lambda df: df.sd_edu_scholarity.astype(\"bool\"))"
   ]
  },
  {
   "cell_type": "code",
   "execution_count": 46,
   "id": "6f17a7c3",
   "metadata": {
    "collapsed": false,
    "jupyter": {
     "outputs_hidden": false
    }
   },
   "outputs": [
    {
     "data": {
      "text/plain": [
       "sd_edu_scholarity\n",
       "False    1199\n",
       "True      804\n",
       "Name: count, dtype: int64"
      ]
     },
     "execution_count": 46,
     "metadata": {},
     "output_type": "execute_result"
    }
   ],
   "source": [
    "clean_cols.append(\"sd_edu_scholarity\")\n",
    "df_survey.sd_edu_scholarity.value_counts()"
   ]
  },
  {
   "cell_type": "markdown",
   "id": "5b33b28a",
   "metadata": {},
   "source": [
    "## Occupation: Working, Studying or Retired"
   ]
  },
  {
   "cell_type": "code",
   "execution_count": 47,
   "id": "78813339",
   "metadata": {
    "collapsed": false,
    "jupyter": {
     "outputs_hidden": false
    },
    "lines_to_next_cell": 2
   },
   "outputs": [],
   "source": [
    "# Ocupacion\n",
    "df_survey = (\n",
    "    df_survey.assign(\n",
    "        sd_occ_current_job=lambda df: np.select(\n",
    "            [\n",
    "                df.cs_6_a.isin([1, 2, 6, 7]),\n",
    "                df.cs_6_a.isin([3, 4, 5]),\n",
    "                df.cs_6_a == 9,\n",
    "            ],\n",
    "            [1, 0, np.nan],\n",
    "        )\n",
    "    )\n",
    "    .assign(sd_occ_current_job=lambda df: df.sd_occ_current_job.astype(\"bool\"))\n",
    "    .drop(columns=[\"cs_6_a\"])\n",
    ")"
   ]
  },
  {
   "cell_type": "code",
   "execution_count": 48,
   "id": "8502dae6",
   "metadata": {
    "collapsed": false,
    "jupyter": {
     "outputs_hidden": false
    }
   },
   "outputs": [
    {
     "data": {
      "text/plain": [
       "sd_occ_current_job\n",
       "True     1375\n",
       "False     628\n",
       "Name: count, dtype: int64"
      ]
     },
     "execution_count": 48,
     "metadata": {},
     "output_type": "execute_result"
    }
   ],
   "source": [
    "clean_cols.append(\"sd_occ_current_job\")\n",
    "df_survey.sd_occ_current_job.value_counts()"
   ]
  },
  {
   "cell_type": "markdown",
   "id": "98b298e8",
   "metadata": {},
   "source": [
    "## Costa Rican origin"
   ]
  },
  {
   "cell_type": "code",
   "execution_count": 49,
   "id": "e77c1d54-b9c5-4b9c-8712-07b99f47fe6b",
   "metadata": {
    "collapsed": false,
    "jupyter": {
     "outputs_hidden": false
    },
    "lines_to_next_cell": 2
   },
   "outputs": [],
   "source": [
    "df_survey = (\n",
    "    df_survey.assign(\n",
    "        sd_eth_is_costa_rican=lambda df: np.select(\n",
    "            [df.cs_7 == 1, df.cs_7 == 2], [True, False]\n",
    "        )\n",
    "    )\n",
    "    .assign(sd_eth_is_costa_rican=lambda df: df.sd_eth_is_costa_rican.astype(\"bool\"))\n",
    "    .drop(columns=[\"cs_7\"])\n",
    ")"
   ]
  },
  {
   "cell_type": "code",
   "execution_count": 50,
   "id": "2dd5bde6-f340-4b82-81ee-22bc2acf150d",
   "metadata": {
    "collapsed": false,
    "jupyter": {
     "outputs_hidden": false
    },
    "tags": []
   },
   "outputs": [
    {
     "data": {
      "text/plain": [
       "sd_eth_is_costa_rican\n",
       "True     1766\n",
       "False     237\n",
       "Name: count, dtype: int64"
      ]
     },
     "execution_count": 50,
     "metadata": {},
     "output_type": "execute_result"
    }
   ],
   "source": [
    "clean_cols.append(\"sd_eth_is_costa_rican\")\n",
    "df_survey.sd_eth_is_costa_rican.value_counts()"
   ]
  },
  {
   "cell_type": "markdown",
   "id": "4b8f132b",
   "metadata": {},
   "source": [
    "## Comorbidities"
   ]
  },
  {
   "cell_type": "code",
   "execution_count": 51,
   "id": "8329a067-0ff3-480c-bfc4-68baa1f400c4",
   "metadata": {
    "collapsed": false,
    "jupyter": {
     "outputs_hidden": false
    },
    "lines_to_next_cell": 2,
    "tags": []
   },
   "outputs": [],
   "source": [
    "# Comorbilidades\n",
    "df_survey = (\n",
    "    df_survey.assign(\n",
    "        cs_8=lambda df: np.select(\n",
    "            [df.cs_8 == 1, df.cs_8 == 2, df.cs_8 == 9], [1, 0, np.nan]\n",
    "        ),\n",
    "        cs_9=lambda df: np.select(\n",
    "            [df.cs_9 == 1, df.cs_9 == 9, df.cs_9 == 2], [1, 1, 0]\n",
    "        ),\n",
    "    )\n",
    "    .assign(\n",
    "        id_bio_comorbidities=lambda df: df[[\"cs_8\", \"cs_9\"]]\n",
    "        .sum(axis=1)\n",
    "        .round()\n",
    "        # .mode(axis=1, dropna=True)\n",
    "        #  .max(axis=1)\n",
    "    )\n",
    "    .assign(id_bio_comorbidities=lambda df: df.id_bio_comorbidities.astype(\"bool\"))\n",
    "    .drop(columns=[\"cs_8\", \"cs_9\"])\n",
    ")"
   ]
  },
  {
   "cell_type": "code",
   "execution_count": 52,
   "id": "30053c93-b685-4be9-8559-e2ce571c147d",
   "metadata": {
    "collapsed": false,
    "jupyter": {
     "outputs_hidden": false
    }
   },
   "outputs": [
    {
     "data": {
      "text/plain": [
       "id_bio_comorbidities\n",
       "False    1219\n",
       "True      784\n",
       "Name: count, dtype: int64"
      ]
     },
     "execution_count": 52,
     "metadata": {},
     "output_type": "execute_result"
    }
   ],
   "source": [
    "clean_cols.append(\"id_bio_comorbidities\")\n",
    "df_survey.id_bio_comorbidities.value_counts()"
   ]
  },
  {
   "cell_type": "markdown",
   "id": "5c0b5348",
   "metadata": {},
   "source": [
    "## Religion affiliation"
   ]
  },
  {
   "cell_type": "code",
   "execution_count": 53,
   "id": "04d7cd2e",
   "metadata": {
    "collapsed": false,
    "jupyter": {
     "outputs_hidden": false
    }
   },
   "outputs": [],
   "source": [
    "# Religion\n",
    "df_survey = (\n",
    "    df_survey.rename(columns={\"cs_10_br\": \"sd_cul_religion\"})\n",
    "    .assign(\n",
    "        sd_cul_religion=lambda df: np.select(\n",
    "            [df.sd_cul_religion.isin([1, 7]), ~df.sd_cul_religion.isin([1, 7])],\n",
    "            [1, 0],\n",
    "        )\n",
    "    )\n",
    "    .assign(sd_cul_religion=lambda df: df.sd_cul_religion.astype(\"bool\"))\n",
    "    .drop(columns=[\"cs_10_a\"])\n",
    ")"
   ]
  },
  {
   "cell_type": "code",
   "execution_count": 54,
   "id": "0aa58520",
   "metadata": {
    "collapsed": false,
    "jupyter": {
     "outputs_hidden": false
    }
   },
   "outputs": [
    {
     "data": {
      "text/plain": [
       "sd_cul_religion\n",
       "True     1010\n",
       "False     993\n",
       "Name: count, dtype: int64"
      ]
     },
     "execution_count": 54,
     "metadata": {},
     "output_type": "execute_result"
    }
   ],
   "source": [
    "clean_cols.append(\"sd_cul_religion\")\n",
    "df_survey.sd_cul_religion.value_counts()"
   ]
  },
  {
   "cell_type": "markdown",
   "id": "eb554472",
   "metadata": {},
   "source": [
    "## Disabilities"
   ]
  },
  {
   "cell_type": "code",
   "execution_count": 55,
   "id": "9fc63c80-5532-4f8d-9f9c-bee8f757003d",
   "metadata": {
    "collapsed": false,
    "jupyter": {
     "outputs_hidden": false
    },
    "lines_to_next_cell": 2
   },
   "outputs": [],
   "source": [
    "df_survey = (\n",
    "    df_survey.assign(\n",
    "        id_bio_disability=lambda df: np.select(\n",
    "            [df.cs_10_c == 1, df.cs_10_c == 0], [1, 0]\n",
    "        )\n",
    "    )\n",
    "    .assign(id_bio_disability=lambda df: df.id_bio_disability.astype(\"bool\"))\n",
    "    .drop(columns=[\"cs_10_c\"])\n",
    ")"
   ]
  },
  {
   "cell_type": "code",
   "execution_count": 56,
   "id": "48389294-8861-42c1-ba28-aadb85cb959e",
   "metadata": {
    "collapsed": false,
    "jupyter": {
     "outputs_hidden": false
    },
    "tags": []
   },
   "outputs": [
    {
     "data": {
      "text/plain": [
       "id_bio_disability\n",
       "False    1837\n",
       "True      166\n",
       "Name: count, dtype: int64"
      ]
     },
     "execution_count": 56,
     "metadata": {},
     "output_type": "execute_result"
    }
   ],
   "source": [
    "clean_cols.append(\"id_bio_disability\")\n",
    "df_survey.id_bio_disability.value_counts()"
   ]
  },
  {
   "cell_type": "markdown",
   "id": "e25b2dc1",
   "metadata": {},
   "source": [
    "## Total members in household"
   ]
  },
  {
   "cell_type": "code",
   "execution_count": 57,
   "id": "22dc207b-fba2-42d3-876a-f77f50a81e03",
   "metadata": {
    "collapsed": false,
    "jupyter": {
     "outputs_hidden": false
    }
   },
   "outputs": [],
   "source": [
    "df_survey = df_survey.assign(\n",
    "    cs_11_a=lambda df: df.cs_11_a.astype(\"float\"),\n",
    "    cs_11_b=lambda df: df.cs_11_b.astype(\"float\"),\n",
    ").rename(\n",
    "    columns={\n",
    "        \"cs_11_a\": \"id_mat_total_household_members\",\n",
    "        \"cs_11_b\": \"id_mat_18_plus_household_members\",\n",
    "    }\n",
    ")"
   ]
  },
  {
   "cell_type": "code",
   "execution_count": 58,
   "id": "2837bded",
   "metadata": {},
   "outputs": [
    {
     "data": {
      "image/png": "[encoded data removed]",
      "text/plain": [
       "<Figure size 640x480 with 1 Axes>"
      ]
     },
     "metadata": {},
     "output_type": "display_data"
    }
   ],
   "source": [
    "clean_cols.append(\"id_mat_18_plus_household_members\")\n",
    "plt.hist(df_survey.id_mat_18_plus_household_members)\n",
    "plt.xlabel(\"Members\")\n",
    "plt.ylabel(\"Frequency\")\n",
    "plt.title(\"Distribution of Members over 18\")\n",
    "plt.show()"
   ]
  },
  {
   "cell_type": "code",
   "execution_count": 59,
   "id": "0723362e",
   "metadata": {
    "lines_to_next_cell": 0
   },
   "outputs": [
    {
     "data": {
      "image/png": "[encoded data removed]",
      "text/plain": [
       "<Figure size 640x480 with 1 Axes>"
      ]
     },
     "metadata": {},
     "output_type": "display_data"
    }
   ],
   "source": [
    "clean_cols.append(\"id_mat_total_household_members\")\n",
    "plt.hist(df_survey.id_mat_total_household_members)\n",
    "plt.xlabel(\"Members\")\n",
    "plt.ylabel(\"Frequency\")\n",
    "plt.title(\"Distribution of Total Members\")\n",
    "plt.show()"
   ]
  },
  {
   "cell_type": "code",
   "execution_count": 60,
   "id": "f5311c11",
   "metadata": {},
   "outputs": [
    {
     "data": {
      "text/plain": [
       "['covid19',\n",
       " 'id_beh_percep_contag',\n",
       " 'id_beh_percep_severity',\n",
       " 'id_bio_bubble_contag',\n",
       " 'id_bio_outside_bubble_contag',\n",
       " 'id_bio_death_covid',\n",
       " 'id_beh_risk_personal',\n",
       " 'id_beh_risk_others',\n",
       " 'id_beh_physical_act',\n",
       " 'id_psy_vaccination_myths',\n",
       " 'id_bio_vaccination_status',\n",
       " 'id_psy_anxiety_sympt',\n",
       " 'sd_inc_income_problems',\n",
       " 'sd_inc_income_level',\n",
       " 'sd_cul_holiday_season',\n",
       " 'id_bio_masculine',\n",
       " 'id_bio_age',\n",
       " 'id_bio_weight',\n",
       " 'id_bio_height',\n",
       " 'sd_edu_scholarity',\n",
       " 'sd_occ_current_job',\n",
       " 'sd_eth_is_costa_rican',\n",
       " 'id_bio_comorbidities',\n",
       " 'sd_cul_religion',\n",
       " 'id_bio_disability',\n",
       " 'id_mat_18_plus_household_members',\n",
       " 'id_mat_total_household_members']"
      ]
     },
     "execution_count": 60,
     "metadata": {},
     "output_type": "execute_result"
    }
   ],
   "source": [
    "clean_cols"
   ]
  },
  {
   "cell_type": "code",
   "execution_count": 61,
   "id": "8dcb1897",
   "metadata": {
    "collapsed": false,
    "jupyter": {
     "outputs_hidden": false
    }
   },
   "outputs": [
    {
     "data": {
      "text/html": [
       "<div>\n",
       "<style scoped>\n",
       "    .dataframe tbody tr th:only-of-type {\n",
       "        vertical-align: middle;\n",
       "    }\n",
       "\n",
       "    .dataframe tbody tr th {\n",
       "        vertical-align: top;\n",
       "    }\n",
       "\n",
       "    .dataframe thead th {\n",
       "        text-align: right;\n",
       "    }\n",
       "</style>\n",
       "<table border=\"1\" class=\"dataframe\">\n",
       "  <thead>\n",
       "    <tr style=\"text-align: right;\">\n",
       "      <th></th>\n",
       "      <th>covid19</th>\n",
       "      <th>id_beh_percep_contag</th>\n",
       "      <th>id_beh_percep_severity</th>\n",
       "      <th>id_bio_bubble_contag</th>\n",
       "      <th>id_bio_outside_bubble_contag</th>\n",
       "      <th>id_bio_death_covid</th>\n",
       "      <th>id_beh_risk_personal</th>\n",
       "      <th>id_beh_risk_others</th>\n",
       "      <th>id_beh_physical_act</th>\n",
       "      <th>id_psy_vaccination_myths</th>\n",
       "      <th>...</th>\n",
       "      <th>id_bio_weight</th>\n",
       "      <th>id_bio_height</th>\n",
       "      <th>sd_edu_scholarity</th>\n",
       "      <th>sd_occ_current_job</th>\n",
       "      <th>sd_eth_is_costa_rican</th>\n",
       "      <th>id_bio_comorbidities</th>\n",
       "      <th>sd_cul_religion</th>\n",
       "      <th>id_bio_disability</th>\n",
       "      <th>id_mat_18_plus_household_members</th>\n",
       "      <th>id_mat_total_household_members</th>\n",
       "    </tr>\n",
       "  </thead>\n",
       "  <tbody>\n",
       "    <tr>\n",
       "      <th>0</th>\n",
       "      <td>False</td>\n",
       "      <td>1</td>\n",
       "      <td>1</td>\n",
       "      <td>True</td>\n",
       "      <td>True</td>\n",
       "      <td>False</td>\n",
       "      <td>0.0</td>\n",
       "      <td>0</td>\n",
       "      <td>1</td>\n",
       "      <td>0</td>\n",
       "      <td>...</td>\n",
       "      <td>83.0</td>\n",
       "      <td>178.0</td>\n",
       "      <td>False</td>\n",
       "      <td>True</td>\n",
       "      <td>True</td>\n",
       "      <td>False</td>\n",
       "      <td>True</td>\n",
       "      <td>False</td>\n",
       "      <td>3.0</td>\n",
       "      <td>3.0</td>\n",
       "    </tr>\n",
       "    <tr>\n",
       "      <th>1</th>\n",
       "      <td>False</td>\n",
       "      <td>0</td>\n",
       "      <td>2</td>\n",
       "      <td>False</td>\n",
       "      <td>False</td>\n",
       "      <td>False</td>\n",
       "      <td>0.0</td>\n",
       "      <td>0</td>\n",
       "      <td>0</td>\n",
       "      <td>0</td>\n",
       "      <td>...</td>\n",
       "      <td>68.0</td>\n",
       "      <td>171.0</td>\n",
       "      <td>True</td>\n",
       "      <td>False</td>\n",
       "      <td>True</td>\n",
       "      <td>True</td>\n",
       "      <td>True</td>\n",
       "      <td>False</td>\n",
       "      <td>3.0</td>\n",
       "      <td>3.0</td>\n",
       "    </tr>\n",
       "    <tr>\n",
       "      <th>2</th>\n",
       "      <td>False</td>\n",
       "      <td>1</td>\n",
       "      <td>1</td>\n",
       "      <td>False</td>\n",
       "      <td>True</td>\n",
       "      <td>False</td>\n",
       "      <td>0.0</td>\n",
       "      <td>0</td>\n",
       "      <td>1</td>\n",
       "      <td>0</td>\n",
       "      <td>...</td>\n",
       "      <td>90.0</td>\n",
       "      <td>171.0</td>\n",
       "      <td>False</td>\n",
       "      <td>True</td>\n",
       "      <td>True</td>\n",
       "      <td>True</td>\n",
       "      <td>True</td>\n",
       "      <td>False</td>\n",
       "      <td>2.0</td>\n",
       "      <td>3.0</td>\n",
       "    </tr>\n",
       "    <tr>\n",
       "      <th>3</th>\n",
       "      <td>False</td>\n",
       "      <td>1</td>\n",
       "      <td>2</td>\n",
       "      <td>False</td>\n",
       "      <td>False</td>\n",
       "      <td>False</td>\n",
       "      <td>0.0</td>\n",
       "      <td>0</td>\n",
       "      <td>1</td>\n",
       "      <td>0</td>\n",
       "      <td>...</td>\n",
       "      <td>57.0</td>\n",
       "      <td>150.0</td>\n",
       "      <td>True</td>\n",
       "      <td>True</td>\n",
       "      <td>True</td>\n",
       "      <td>False</td>\n",
       "      <td>True</td>\n",
       "      <td>False</td>\n",
       "      <td>2.0</td>\n",
       "      <td>2.0</td>\n",
       "    </tr>\n",
       "    <tr>\n",
       "      <th>4</th>\n",
       "      <td>False</td>\n",
       "      <td>1</td>\n",
       "      <td>0</td>\n",
       "      <td>False</td>\n",
       "      <td>True</td>\n",
       "      <td>False</td>\n",
       "      <td>0.0</td>\n",
       "      <td>0</td>\n",
       "      <td>1</td>\n",
       "      <td>0</td>\n",
       "      <td>...</td>\n",
       "      <td>78.0</td>\n",
       "      <td>180.0</td>\n",
       "      <td>False</td>\n",
       "      <td>True</td>\n",
       "      <td>True</td>\n",
       "      <td>True</td>\n",
       "      <td>False</td>\n",
       "      <td>False</td>\n",
       "      <td>5.0</td>\n",
       "      <td>5.0</td>\n",
       "    </tr>\n",
       "  </tbody>\n",
       "</table>\n",
       "<p>5 rows × 27 columns</p>\n",
       "</div>"
      ],
      "text/plain": [
       "   covid19 id_beh_percep_contag id_beh_percep_severity  id_bio_bubble_contag  \\\n",
       "0    False                    1                      1                  True   \n",
       "1    False                    0                      2                 False   \n",
       "2    False                    1                      1                 False   \n",
       "3    False                    1                      2                 False   \n",
       "4    False                    1                      0                 False   \n",
       "\n",
       "   id_bio_outside_bubble_contag  id_bio_death_covid id_beh_risk_personal  \\\n",
       "0                          True               False                  0.0   \n",
       "1                         False               False                  0.0   \n",
       "2                          True               False                  0.0   \n",
       "3                         False               False                  0.0   \n",
       "4                          True               False                  0.0   \n",
       "\n",
       "  id_beh_risk_others id_beh_physical_act id_psy_vaccination_myths  ...  \\\n",
       "0                  0                   1                        0  ...   \n",
       "1                  0                   0                        0  ...   \n",
       "2                  0                   1                        0  ...   \n",
       "3                  0                   1                        0  ...   \n",
       "4                  0                   1                        0  ...   \n",
       "\n",
       "  id_bio_weight id_bio_height  sd_edu_scholarity sd_occ_current_job  \\\n",
       "0          83.0         178.0              False               True   \n",
       "1          68.0         171.0               True              False   \n",
       "2          90.0         171.0              False               True   \n",
       "3          57.0         150.0               True               True   \n",
       "4          78.0         180.0              False               True   \n",
       "\n",
       "  sd_eth_is_costa_rican  id_bio_comorbidities  sd_cul_religion  \\\n",
       "0                  True                 False             True   \n",
       "1                  True                  True             True   \n",
       "2                  True                  True             True   \n",
       "3                  True                 False             True   \n",
       "4                  True                  True            False   \n",
       "\n",
       "   id_bio_disability  id_mat_18_plus_household_members  \\\n",
       "0              False                               3.0   \n",
       "1              False                               3.0   \n",
       "2              False                               2.0   \n",
       "3              False                               2.0   \n",
       "4              False                               5.0   \n",
       "\n",
       "   id_mat_total_household_members  \n",
       "0                             3.0  \n",
       "1                             3.0  \n",
       "2                             3.0  \n",
       "3                             2.0  \n",
       "4                             5.0  \n",
       "\n",
       "[5 rows x 27 columns]"
      ]
     },
     "execution_count": 61,
     "metadata": {},
     "output_type": "execute_result"
    }
   ],
   "source": [
    "df_survey = df_survey[clean_cols]\n",
    "df_survey.head()"
   ]
  },
  {
   "cell_type": "code",
   "execution_count": 62,
   "id": "940a0194",
   "metadata": {
    "collapsed": false,
    "jupyter": {
     "outputs_hidden": false
    }
   },
   "outputs": [],
   "source": [
    "df_survey.to_pickle(path=\"data/df_survey.pkl\")"
   ]
  }
 ],
 "metadata": {
  "jupytext": {
   "formats": "ipynb,py:percent"
  },
  "kernelspec": {
   "display_name": "Python 3 (ipykernel)",
   "language": "python",
   "name": "python3"
  },
  "language_info": {
   "codemirror_mode": {
    "name": "ipython",
    "version": 3
   },
   "file_extension": ".py",
   "mimetype": "text/x-python",
   "name": "python",
   "nbconvert_exporter": "python",
   "pygments_lexer": "ipython3",
   "version": "3.11.5"
  },
  "name": "a_data_clean.ipynb"
 },
 "nbformat": 4,
 "nbformat_minor": 5
}
