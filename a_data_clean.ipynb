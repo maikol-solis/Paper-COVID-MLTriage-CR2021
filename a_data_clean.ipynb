{
 "cells": [
  {
   "cell_type": "markdown",
   "id": "c82ea1b2-6011-423f-a4fe-2324f8b348d3",
   "metadata": {},
   "source": [
    "# Load libraries\n",
    "\n",
    "\n"
   ]
  },
  {
   "cell_type": "code",
   "execution_count": 201,
   "id": "989e0980",
   "metadata": {
    "collapsed": false,
    "jupyter": {
     "outputs_hidden": false
    }
   },
   "outputs": [],
   "source": [
    "import warnings\n",
    "\n",
    "import matplotlib.pyplot as plt\n",
    "import numpy as np\n",
    "import pandas as pd\n",
    "import pingouin as pg\n",
    "import pyreadstat\n",
    "import skimpy\n",
    "from prettytable import PrettyTable\n",
    "from scipy.stats import pearsonr\n",
    "\n",
    "warnings.filterwarnings(\"ignore\")"
   ]
  },
  {
   "cell_type": "markdown",
   "id": "7d0993d2",
   "metadata": {},
   "source": [
    "# Load the data"
   ]
  },
  {
   "cell_type": "code",
   "execution_count": 202,
   "id": "e7a705c0",
   "metadata": {
    "collapsed": false,
    "jupyter": {
     "outputs_hidden": false
    },
    "lines_to_next_cell": 2
   },
   "outputs": [
    {
     "data": {
      "application/vnd.microsoft.datawrangler.viewer.v0+json": {
       "columns": [
        {
         "name": "index",
         "rawType": "int64",
         "type": "integer"
        },
        {
         "name": "cuestionario",
         "rawType": "float64",
         "type": "float"
        },
        {
         "name": "id",
         "rawType": "float64",
         "type": "float"
        },
        {
         "name": "hi",
         "rawType": "float64",
         "type": "float"
        },
        {
         "name": "mi",
         "rawType": "float64",
         "type": "float"
        },
        {
         "name": "hf",
         "rawType": "float64",
         "type": "float"
        },
        {
         "name": "mf",
         "rawType": "float64",
         "type": "float"
        },
        {
         "name": "sp_1",
         "rawType": "float64",
         "type": "float"
        },
        {
         "name": "sp_2",
         "rawType": "float64",
         "type": "float"
        },
        {
         "name": "sp_3",
         "rawType": "float64",
         "type": "float"
        },
        {
         "name": "sp_4",
         "rawType": "float64",
         "type": "float"
        },
        {
         "name": "sp_5",
         "rawType": "float64",
         "type": "float"
        },
        {
         "name": "sp_6",
         "rawType": "float64",
         "type": "float"
        },
        {
         "name": "rp_1",
         "rawType": "float64",
         "type": "float"
        },
        {
         "name": "rp_2",
         "rawType": "float64",
         "type": "float"
        },
        {
         "name": "rp_3",
         "rawType": "float64",
         "type": "float"
        },
        {
         "name": "rp_4",
         "rawType": "float64",
         "type": "float"
        },
        {
         "name": "rp_5",
         "rawType": "float64",
         "type": "float"
        },
        {
         "name": "rp_6",
         "rawType": "float64",
         "type": "float"
        },
        {
         "name": "rp_7",
         "rawType": "float64",
         "type": "float"
        },
        {
         "name": "cr_1",
         "rawType": "float64",
         "type": "float"
        },
        {
         "name": "cr_2",
         "rawType": "float64",
         "type": "float"
        },
        {
         "name": "cr_3",
         "rawType": "float64",
         "type": "float"
        },
        {
         "name": "cr_4",
         "rawType": "float64",
         "type": "float"
        },
        {
         "name": "af_1",
         "rawType": "float64",
         "type": "float"
        },
        {
         "name": "af_2_horas",
         "rawType": "float64",
         "type": "float"
        },
        {
         "name": "af_2_minutos",
         "rawType": "float64",
         "type": "float"
        },
        {
         "name": "af_3",
         "rawType": "float64",
         "type": "float"
        },
        {
         "name": "af_4_horas",
         "rawType": "float64",
         "type": "float"
        },
        {
         "name": "af_4_minutos",
         "rawType": "float64",
         "type": "float"
        },
        {
         "name": "af_5",
         "rawType": "float64",
         "type": "float"
        },
        {
         "name": "af_6_horas",
         "rawType": "float64",
         "type": "float"
        },
        {
         "name": "af_6_minutos",
         "rawType": "float64",
         "type": "float"
        },
        {
         "name": "af_7_horas",
         "rawType": "float64",
         "type": "float"
        },
        {
         "name": "af_7_minutos",
         "rawType": "float64",
         "type": "float"
        },
        {
         "name": "af_8",
         "rawType": "float64",
         "type": "float"
        },
        {
         "name": "rv_1",
         "rawType": "float64",
         "type": "float"
        },
        {
         "name": "rv_2",
         "rawType": "float64",
         "type": "float"
        },
        {
         "name": "rv_3",
         "rawType": "float64",
         "type": "float"
        },
        {
         "name": "rv_4",
         "rawType": "float64",
         "type": "float"
        },
        {
         "name": "rv_5",
         "rawType": "float64",
         "type": "float"
        },
        {
         "name": "rv_6",
         "rawType": "float64",
         "type": "float"
        },
        {
         "name": "rv_7",
         "rawType": "float64",
         "type": "float"
        },
        {
         "name": "rv_8",
         "rawType": "float64",
         "type": "float"
        },
        {
         "name": "rv_9",
         "rawType": "float64",
         "type": "float"
        },
        {
         "name": "rv_10",
         "rawType": "float64",
         "type": "float"
        },
        {
         "name": "rv_11",
         "rawType": "float64",
         "type": "float"
        },
        {
         "name": "rv_12",
         "rawType": "float64",
         "type": "float"
        },
        {
         "name": "rv_13",
         "rawType": "float64",
         "type": "float"
        },
        {
         "name": "rv_14",
         "rawType": "float64",
         "type": "float"
        },
        {
         "name": "vm_1",
         "rawType": "float64",
         "type": "float"
        },
        {
         "name": "vm_2",
         "rawType": "float64",
         "type": "float"
        },
        {
         "name": "vm_3",
         "rawType": "float64",
         "type": "float"
        },
        {
         "name": "vm_4",
         "rawType": "float64",
         "type": "float"
        },
        {
         "name": "vm_5",
         "rawType": "float64",
         "type": "float"
        },
        {
         "name": "vm_6",
         "rawType": "float64",
         "type": "float"
        },
        {
         "name": "cv_1",
         "rawType": "float64",
         "type": "float"
        },
        {
         "name": "cv_2",
         "rawType": "float64",
         "type": "float"
        },
        {
         "name": "cv_3",
         "rawType": "float64",
         "type": "float"
        },
        {
         "name": "cv_4",
         "rawType": "float64",
         "type": "float"
        },
        {
         "name": "cv_5",
         "rawType": "float64",
         "type": "float"
        },
        {
         "name": "cv_6",
         "rawType": "float64",
         "type": "float"
        },
        {
         "name": "cv_7",
         "rawType": "float64",
         "type": "float"
        },
        {
         "name": "cv_8",
         "rawType": "float64",
         "type": "float"
        },
        {
         "name": "va_1",
         "rawType": "float64",
         "type": "float"
        },
        {
         "name": "va_2",
         "rawType": "object",
         "type": "string"
        },
        {
         "name": "va_3",
         "rawType": "float64",
         "type": "float"
        },
        {
         "name": "va_4",
         "rawType": "float64",
         "type": "float"
        },
        {
         "name": "va_5",
         "rawType": "float64",
         "type": "float"
        },
        {
         "name": "va_6",
         "rawType": "float64",
         "type": "float"
        },
        {
         "name": "va_7",
         "rawType": "object",
         "type": "string"
        },
        {
         "name": "va_7_r",
         "rawType": "float64",
         "type": "float"
        },
        {
         "name": "an_1",
         "rawType": "float64",
         "type": "float"
        },
        {
         "name": "an_2",
         "rawType": "float64",
         "type": "float"
        },
        {
         "name": "an_3",
         "rawType": "float64",
         "type": "float"
        },
        {
         "name": "an_4",
         "rawType": "float64",
         "type": "float"
        },
        {
         "name": "an_5",
         "rawType": "float64",
         "type": "float"
        },
        {
         "name": "an_6",
         "rawType": "float64",
         "type": "float"
        },
        {
         "name": "an_7",
         "rawType": "float64",
         "type": "float"
        },
        {
         "name": "an_8",
         "rawType": "float64",
         "type": "float"
        },
        {
         "name": "an_9",
         "rawType": "float64",
         "type": "float"
        },
        {
         "name": "an_10",
         "rawType": "float64",
         "type": "float"
        },
        {
         "name": "an_11",
         "rawType": "float64",
         "type": "float"
        },
        {
         "name": "an_12",
         "rawType": "float64",
         "type": "float"
        },
        {
         "name": "ef_1",
         "rawType": "float64",
         "type": "float"
        },
        {
         "name": "ef_2",
         "rawType": "float64",
         "type": "float"
        },
        {
         "name": "ef_3",
         "rawType": "float64",
         "type": "float"
        },
        {
         "name": "ef_4",
         "rawType": "float64",
         "type": "float"
        },
        {
         "name": "ef_5",
         "rawType": "float64",
         "type": "float"
        },
        {
         "name": "ef_6",
         "rawType": "float64",
         "type": "float"
        },
        {
         "name": "ef_7",
         "rawType": "float64",
         "type": "float"
        },
        {
         "name": "ef_8",
         "rawType": "float64",
         "type": "float"
        },
        {
         "name": "ef_9",
         "rawType": "float64",
         "type": "float"
        },
        {
         "name": "ef_10",
         "rawType": "float64",
         "type": "float"
        },
        {
         "name": "nf_1",
         "rawType": "float64",
         "type": "float"
        },
        {
         "name": "nf_2",
         "rawType": "float64",
         "type": "float"
        },
        {
         "name": "nf_3",
         "rawType": "float64",
         "type": "float"
        },
        {
         "name": "nf_3_aa",
         "rawType": "object",
         "type": "string"
        },
        {
         "name": "nf_4",
         "rawType": "float64",
         "type": "float"
        },
        {
         "name": "nf_4_a",
         "rawType": "object",
         "type": "string"
        },
        {
         "name": "nf_5",
         "rawType": "float64",
         "type": "float"
        },
        {
         "name": "nf_5_a",
         "rawType": "object",
         "type": "string"
        },
        {
         "name": "fa_1",
         "rawType": "float64",
         "type": "float"
        },
        {
         "name": "fa_2",
         "rawType": "float64",
         "type": "float"
        },
        {
         "name": "fa_3",
         "rawType": "float64",
         "type": "float"
        },
        {
         "name": "fa_4",
         "rawType": "float64",
         "type": "float"
        },
        {
         "name": "cs_1",
         "rawType": "float64",
         "type": "float"
        },
        {
         "name": "cs_2",
         "rawType": "float64",
         "type": "float"
        },
        {
         "name": "cs_3",
         "rawType": "float64",
         "type": "float"
        },
        {
         "name": "cs_4",
         "rawType": "float64",
         "type": "float"
        },
        {
         "name": "cs_5",
         "rawType": "float64",
         "type": "float"
        },
        {
         "name": "cs_6_a",
         "rawType": "float64",
         "type": "float"
        },
        {
         "name": "cs_6_b",
         "rawType": "object",
         "type": "string"
        },
        {
         "name": "cs_7",
         "rawType": "float64",
         "type": "float"
        },
        {
         "name": "cs_8",
         "rawType": "float64",
         "type": "float"
        },
        {
         "name": "cs_9",
         "rawType": "float64",
         "type": "float"
        },
        {
         "name": "cs_10_a",
         "rawType": "float64",
         "type": "float"
        },
        {
         "name": "cs_10_b",
         "rawType": "object",
         "type": "string"
        },
        {
         "name": "cs_10_br",
         "rawType": "float64",
         "type": "float"
        },
        {
         "name": "cs_10_br_2",
         "rawType": "float64",
         "type": "float"
        },
        {
         "name": "cs_10_c",
         "rawType": "float64",
         "type": "float"
        },
        {
         "name": "cs_11_a",
         "rawType": "float64",
         "type": "float"
        },
        {
         "name": "cs_11_b",
         "rawType": "float64",
         "type": "float"
        },
        {
         "name": "cs_11_c",
         "rawType": "float64",
         "type": "float"
        },
        {
         "name": "cs_15_a",
         "rawType": "float64",
         "type": "float"
        },
        {
         "name": "cs_15_b",
         "rawType": "float64",
         "type": "float"
        },
        {
         "name": "cs_16",
         "rawType": "float64",
         "type": "float"
        },
        {
         "name": "cs_18",
         "rawType": "float64",
         "type": "float"
        },
        {
         "name": "edad_3",
         "rawType": "float64",
         "type": "float"
        },
        {
         "name": "educa_3",
         "rawType": "float64",
         "type": "float"
        },
        {
         "name": "factor",
         "rawType": "float64",
         "type": "float"
        }
       ],
       "conversionMethod": "pd.DataFrame",
       "ref": "1ecd795c-e5f8-4cfb-80d6-2451b90da8ff",
       "rows": [
        [
         "0",
         "1.0",
         "2.0",
         "19.0",
         "7.0",
         "19.0",
         "23.0",
         "6.0",
         "4.0",
         "7.0",
         "4.0",
         "5.0",
         "5.0",
         "3.0",
         null,
         "4.0",
         "4.0",
         "1.0",
         "1.0",
         "2.0",
         "5.0",
         "5.0",
         "3.0",
         "2.0",
         "0.0",
         null,
         null,
         "2.0",
         "0.0",
         "30.0",
         "3.0",
         "0.0",
         "40.0",
         "2.0",
         "0.0",
         "1.0",
         "2.0",
         "2.0",
         "2.0",
         "1.0",
         "1.0",
         "2.0",
         "2.0",
         "2.0",
         "1.0",
         "1.0",
         "2.0",
         "2.0",
         "3.0",
         "1.0",
         "1.0",
         "2.0",
         "1.0",
         "1.0",
         "1.0",
         "1.0",
         "5.0",
         "5.0",
         "5.0",
         "5.0",
         "4.0",
         "4.0",
         "4.0",
         "2.0",
         "1.0",
         "",
         "1.0",
         "1.0",
         "2.0",
         "2.0",
         "",
         null,
         "0.0",
         "0.0",
         "0.0",
         "0.0",
         "0.0",
         "1.0",
         "2.0",
         "2.0",
         "2.0",
         "2.0",
         "4.0",
         "2.0",
         "1.0",
         "4.0",
         "2.0",
         "2.0",
         "1.0",
         "1.0",
         "1.0",
         "1.0",
         "1.0",
         "2.0",
         "2.0",
         null,
         null,
         "",
         null,
         "",
         null,
         "",
         "1.0",
         "2.0",
         "1.0",
         "2.0",
         "1.0",
         "52.0",
         "83.0",
         "178.0",
         "6.0",
         "7.0",
         "",
         "1.0",
         "2.0",
         "2.0",
         "1.0",
         "Catolica",
         "1.0",
         "1.0",
         "2.0",
         "3.0",
         "3.0",
         "0.0",
         "20.0",
         "10.0",
         "1.0",
         "4954.0",
         "3.0",
         "3.0",
         "0.5518761311"
        ],
        [
         "1",
         "2.0",
         "3.0",
         "19.0",
         "36.0",
         "19.0",
         "59.0",
         "6.0",
         "6.0",
         "9.0",
         "3.0",
         "5.0",
         "3.0",
         "3.0",
         null,
         "0.0",
         "10.0",
         "2.0",
         "2.0",
         null,
         "5.0",
         "5.0",
         "1.0",
         "1.0",
         "1.0",
         "1.0",
         "0.0",
         "2.0",
         "0.0",
         "50.0",
         "2.0",
         "0.0",
         "50.0",
         "1.0",
         "0.0",
         "1.0",
         "1.0",
         "1.0",
         "1.0",
         "1.0",
         "1.0",
         "2.0",
         "7.0",
         "7.0",
         "7.0",
         "2.0",
         "2.0",
         "3.0",
         "3.0",
         "3.0",
         "2.0",
         "2.0",
         "1.0",
         "4.0",
         "2.0",
         "2.0",
         "4.0",
         "2.0",
         "4.0",
         "4.0",
         "4.0",
         "4.0",
         "4.0",
         "4.0",
         "1.0",
         "",
         "1.0",
         "9.0",
         "2.0",
         "2.0",
         "",
         null,
         "0.0",
         "0.0",
         "0.0",
         "0.0",
         "0.0",
         "1.0",
         "2.0",
         "4.0",
         "2.0",
         "4.0",
         "2.0",
         "2.0",
         "2.0",
         null,
         "2.0",
         "2.0",
         "2.0",
         "2.0",
         "2.0",
         "2.0",
         "2.0",
         "4.0",
         "2.0",
         null,
         null,
         "",
         null,
         "",
         null,
         "",
         "1.0",
         "2.0",
         "1.0",
         "2.0",
         "1.0",
         "68.0",
         "68.0",
         "171.0",
         "2.0",
         "5.0",
         "",
         "1.0",
         "1.0",
         "2.0",
         "1.0",
         "Catolico",
         "1.0",
         "1.0",
         "2.0",
         "3.0",
         "3.0",
         "0.0",
         "20.0",
         "10.0",
         "1.0",
         "4954.0",
         "3.0",
         "1.0",
         "1.9291008398"
        ],
        [
         "2",
         "3.0",
         "4.0",
         "20.0",
         "3.0",
         "20.0",
         "21.0",
         "6.0",
         "6.0",
         "8.0",
         "6.0",
         "6.0",
         "6.0",
         "3.0",
         null,
         "5.0",
         "4.0",
         "2.0",
         "1.0",
         "2.0",
         "5.0",
         "5.0",
         "2.0",
         "1.0",
         "0.0",
         null,
         null,
         "0.0",
         null,
         null,
         "3.0",
         "0.0",
         "30.0",
         "8.0",
         "0.0",
         "1.0",
         "1.0",
         "1.0",
         "1.0",
         "2.0",
         "1.0",
         "2.0",
         "1.0",
         "1.0",
         "7.0",
         "1.0",
         "3.0",
         "3.0",
         "3.0",
         "1.0",
         "1.0",
         "1.0",
         "1.0",
         "1.0",
         "2.0",
         "1.0",
         "4.0",
         "4.0",
         "5.0",
         "5.0",
         "5.0",
         "5.0",
         "5.0",
         "5.0",
         "1.0",
         "",
         "1.0",
         "1.0",
         "9.0",
         "2.0",
         "",
         null,
         "0.0",
         "0.0",
         "0.0",
         "0.0",
         "0.0",
         "1.0",
         "2.0",
         "2.0",
         "2.0",
         "2.0",
         "2.0",
         "2.0",
         "1.0",
         "4.0",
         "1.0",
         "1.0",
         "2.0",
         "1.0",
         "1.0",
         "1.0",
         "2.0",
         "3.0",
         "1.0",
         "2.0",
         "1.0",
         "",
         "4.0",
         "",
         "5.0",
         "",
         "1.0",
         "1.0",
         "1.0",
         "1.0",
         "1.0",
         "36.0",
         "90.0",
         "171.0",
         "6.0",
         "1.0",
         "",
         "1.0",
         "1.0",
         "2.0",
         "1.0",
         "Catolica",
         "1.0",
         "1.0",
         "2.0",
         "3.0",
         "2.0",
         "1.0",
         "20.0",
         "10.0",
         "1.0",
         "4954.0",
         "2.0",
         "3.0",
         "0.5810813063"
        ],
        [
         "3",
         "4.0",
         "5.0",
         "17.0",
         "45.0",
         "18.0",
         "20.0",
         "8.0",
         "7.0",
         "9.0",
         "5.0",
         "7.0",
         "7.0",
         "3.0",
         null,
         "4.0",
         "10.0",
         "2.0",
         "2.0",
         null,
         "5.0",
         "5.0",
         "1.0",
         "2.0",
         "0.0",
         null,
         null,
         "0.0",
         null,
         null,
         "4.0",
         "2.0",
         "0.0",
         "1.0",
         "0.0",
         "1.0",
         "2.0",
         "2.0",
         "2.0",
         "2.0",
         "2.0",
         null,
         "9.0",
         "2.0",
         "2.0",
         "2.0",
         "3.0",
         "3.0",
         "3.0",
         "2.0",
         "1.0",
         "1.0",
         "1.0",
         "1.0",
         "1.0",
         "1.0",
         "4.0",
         "4.0",
         "3.0",
         "2.0",
         "2.0",
         "4.0",
         "4.0",
         "4.0",
         "2.0",
         "Es muy drastico que sea obligatoria",
         "2.0",
         "2.0",
         "2.0",
         "2.0",
         "",
         null,
         "0.0",
         "0.0",
         "0.0",
         "0.0",
         "0.0",
         "1.0",
         "1.0",
         "1.0",
         "1.0",
         "4.0",
         "2.0",
         "1.0",
         "2.0",
         null,
         "2.0",
         "1.0",
         "2.0",
         "2.0",
         "2.0",
         "2.0",
         "2.0",
         "3.0",
         "2.0",
         null,
         null,
         "",
         null,
         "",
         null,
         "",
         "1.0",
         "2.0",
         "1.0",
         "2.0",
         "2.0",
         "78.0",
         "57.0",
         "150.0",
         "3.0",
         "1.0",
         "",
         "1.0",
         "2.0",
         "2.0",
         "1.0",
         "Catolica",
         "1.0",
         "1.0",
         "2.0",
         "2.0",
         "2.0",
         "0.0",
         "21.0",
         "10.0",
         "2.0",
         "4956.0",
         "3.0",
         "2.0",
         "1.0244224878"
        ],
        [
         "4",
         "5.0",
         "6.0",
         "18.0",
         "55.0",
         "19.0",
         "19.0",
         "6.0",
         "2.0",
         "8.0",
         "10.0",
         "3.0",
         "4.0",
         "3.0",
         null,
         "4.0",
         "2.0",
         "2.0",
         "1.0",
         "2.0",
         "4.0",
         "4.0",
         "1.0",
         "1.0",
         "0.0",
         null,
         null,
         "1.0",
         "1.0",
         "0.0",
         "0.0",
         null,
         null,
         "12.0",
         "0.0",
         "3.0",
         "3.0",
         "3.0",
         "3.0",
         "1.0",
         "1.0",
         "1.0",
         "2.0",
         "1.0",
         "2.0",
         "2.0",
         "3.0",
         "3.0",
         "3.0",
         "1.0",
         "2.0",
         "2.0",
         "1.0",
         "1.0",
         "1.0",
         "1.0",
         "4.0",
         "2.0",
         "5.0",
         "4.0",
         "4.0",
         "4.0",
         "4.0",
         "5.0",
         "1.0",
         "",
         "1.0",
         "1.0",
         "2.0",
         "1.0",
         "",
         null,
         "0.0",
         "0.0",
         "0.0",
         "0.0",
         "0.0",
         "1.0",
         "2.0",
         "2.0",
         "1.0",
         "4.0",
         "2.0",
         "1.0",
         "2.0",
         null,
         "2.0",
         "2.0",
         "2.0",
         "2.0",
         "1.0",
         "1.0",
         "1.0",
         "4.0",
         "1.0",
         "2.0",
         "5.0",
         "",
         "5.0",
         "",
         "5.0",
         "",
         "1.0",
         "2.0",
         "1.0",
         "1.0",
         "1.0",
         "20.0",
         "78.0",
         "180.0",
         "5.0",
         "2.0",
         "",
         "1.0",
         "2.0",
         "1.0",
         "2.0",
         "",
         "20.0",
         "20.0",
         "2.0",
         "5.0",
         "5.0",
         "0.0",
         "21.0",
         "10.0",
         "1.0",
         "4957.0",
         "1.0",
         "3.0",
         "0.4959904425"
        ]
       ],
       "shape": {
        "columns": 130,
        "rows": 5
       }
      },
      "text/html": [
       "<div>\n",
       "<style scoped>\n",
       "    .dataframe tbody tr th:only-of-type {\n",
       "        vertical-align: middle;\n",
       "    }\n",
       "\n",
       "    .dataframe tbody tr th {\n",
       "        vertical-align: top;\n",
       "    }\n",
       "\n",
       "    .dataframe thead th {\n",
       "        text-align: right;\n",
       "    }\n",
       "</style>\n",
       "<table border=\"1\" class=\"dataframe\">\n",
       "  <thead>\n",
       "    <tr style=\"text-align: right;\">\n",
       "      <th></th>\n",
       "      <th>cuestionario</th>\n",
       "      <th>id</th>\n",
       "      <th>hi</th>\n",
       "      <th>mi</th>\n",
       "      <th>hf</th>\n",
       "      <th>mf</th>\n",
       "      <th>sp_1</th>\n",
       "      <th>sp_2</th>\n",
       "      <th>sp_3</th>\n",
       "      <th>sp_4</th>\n",
       "      <th>...</th>\n",
       "      <th>cs_11_a</th>\n",
       "      <th>cs_11_b</th>\n",
       "      <th>cs_11_c</th>\n",
       "      <th>cs_15_a</th>\n",
       "      <th>cs_15_b</th>\n",
       "      <th>cs_16</th>\n",
       "      <th>cs_18</th>\n",
       "      <th>edad_3</th>\n",
       "      <th>educa_3</th>\n",
       "      <th>factor</th>\n",
       "    </tr>\n",
       "  </thead>\n",
       "  <tbody>\n",
       "    <tr>\n",
       "      <th>0</th>\n",
       "      <td>1.0</td>\n",
       "      <td>2.0</td>\n",
       "      <td>19.0</td>\n",
       "      <td>7.0</td>\n",
       "      <td>19.0</td>\n",
       "      <td>23.0</td>\n",
       "      <td>6.0</td>\n",
       "      <td>4.0</td>\n",
       "      <td>7.0</td>\n",
       "      <td>4.0</td>\n",
       "      <td>...</td>\n",
       "      <td>3.0</td>\n",
       "      <td>3.0</td>\n",
       "      <td>0.0</td>\n",
       "      <td>20.0</td>\n",
       "      <td>10.0</td>\n",
       "      <td>1.0</td>\n",
       "      <td>4954.0</td>\n",
       "      <td>3.0</td>\n",
       "      <td>3.0</td>\n",
       "      <td>0.551876</td>\n",
       "    </tr>\n",
       "    <tr>\n",
       "      <th>1</th>\n",
       "      <td>2.0</td>\n",
       "      <td>3.0</td>\n",
       "      <td>19.0</td>\n",
       "      <td>36.0</td>\n",
       "      <td>19.0</td>\n",
       "      <td>59.0</td>\n",
       "      <td>6.0</td>\n",
       "      <td>6.0</td>\n",
       "      <td>9.0</td>\n",
       "      <td>3.0</td>\n",
       "      <td>...</td>\n",
       "      <td>3.0</td>\n",
       "      <td>3.0</td>\n",
       "      <td>0.0</td>\n",
       "      <td>20.0</td>\n",
       "      <td>10.0</td>\n",
       "      <td>1.0</td>\n",
       "      <td>4954.0</td>\n",
       "      <td>3.0</td>\n",
       "      <td>1.0</td>\n",
       "      <td>1.929101</td>\n",
       "    </tr>\n",
       "    <tr>\n",
       "      <th>2</th>\n",
       "      <td>3.0</td>\n",
       "      <td>4.0</td>\n",
       "      <td>20.0</td>\n",
       "      <td>3.0</td>\n",
       "      <td>20.0</td>\n",
       "      <td>21.0</td>\n",
       "      <td>6.0</td>\n",
       "      <td>6.0</td>\n",
       "      <td>8.0</td>\n",
       "      <td>6.0</td>\n",
       "      <td>...</td>\n",
       "      <td>3.0</td>\n",
       "      <td>2.0</td>\n",
       "      <td>1.0</td>\n",
       "      <td>20.0</td>\n",
       "      <td>10.0</td>\n",
       "      <td>1.0</td>\n",
       "      <td>4954.0</td>\n",
       "      <td>2.0</td>\n",
       "      <td>3.0</td>\n",
       "      <td>0.581081</td>\n",
       "    </tr>\n",
       "    <tr>\n",
       "      <th>3</th>\n",
       "      <td>4.0</td>\n",
       "      <td>5.0</td>\n",
       "      <td>17.0</td>\n",
       "      <td>45.0</td>\n",
       "      <td>18.0</td>\n",
       "      <td>20.0</td>\n",
       "      <td>8.0</td>\n",
       "      <td>7.0</td>\n",
       "      <td>9.0</td>\n",
       "      <td>5.0</td>\n",
       "      <td>...</td>\n",
       "      <td>2.0</td>\n",
       "      <td>2.0</td>\n",
       "      <td>0.0</td>\n",
       "      <td>21.0</td>\n",
       "      <td>10.0</td>\n",
       "      <td>2.0</td>\n",
       "      <td>4956.0</td>\n",
       "      <td>3.0</td>\n",
       "      <td>2.0</td>\n",
       "      <td>1.024422</td>\n",
       "    </tr>\n",
       "    <tr>\n",
       "      <th>4</th>\n",
       "      <td>5.0</td>\n",
       "      <td>6.0</td>\n",
       "      <td>18.0</td>\n",
       "      <td>55.0</td>\n",
       "      <td>19.0</td>\n",
       "      <td>19.0</td>\n",
       "      <td>6.0</td>\n",
       "      <td>2.0</td>\n",
       "      <td>8.0</td>\n",
       "      <td>10.0</td>\n",
       "      <td>...</td>\n",
       "      <td>5.0</td>\n",
       "      <td>5.0</td>\n",
       "      <td>0.0</td>\n",
       "      <td>21.0</td>\n",
       "      <td>10.0</td>\n",
       "      <td>1.0</td>\n",
       "      <td>4957.0</td>\n",
       "      <td>1.0</td>\n",
       "      <td>3.0</td>\n",
       "      <td>0.495990</td>\n",
       "    </tr>\n",
       "  </tbody>\n",
       "</table>\n",
       "<p>5 rows × 130 columns</p>\n",
       "</div>"
      ],
      "text/plain": [
       "   cuestionario   id    hi    mi    hf    mf  sp_1  sp_2  sp_3  sp_4  ...  \\\n",
       "0           1.0  2.0  19.0   7.0  19.0  23.0   6.0   4.0   7.0   4.0  ...   \n",
       "1           2.0  3.0  19.0  36.0  19.0  59.0   6.0   6.0   9.0   3.0  ...   \n",
       "2           3.0  4.0  20.0   3.0  20.0  21.0   6.0   6.0   8.0   6.0  ...   \n",
       "3           4.0  5.0  17.0  45.0  18.0  20.0   8.0   7.0   9.0   5.0  ...   \n",
       "4           5.0  6.0  18.0  55.0  19.0  19.0   6.0   2.0   8.0  10.0  ...   \n",
       "\n",
       "   cs_11_a  cs_11_b  cs_11_c  cs_15_a  cs_15_b  cs_16   cs_18  edad_3  \\\n",
       "0      3.0      3.0      0.0     20.0     10.0    1.0  4954.0     3.0   \n",
       "1      3.0      3.0      0.0     20.0     10.0    1.0  4954.0     3.0   \n",
       "2      3.0      2.0      1.0     20.0     10.0    1.0  4954.0     2.0   \n",
       "3      2.0      2.0      0.0     21.0     10.0    2.0  4956.0     3.0   \n",
       "4      5.0      5.0      0.0     21.0     10.0    1.0  4957.0     1.0   \n",
       "\n",
       "   educa_3    factor  \n",
       "0      3.0  0.551876  \n",
       "1      1.0  1.929101  \n",
       "2      3.0  0.581081  \n",
       "3      2.0  1.024422  \n",
       "4      3.0  0.495990  \n",
       "\n",
       "[5 rows x 130 columns]"
      ]
     },
     "execution_count": 202,
     "metadata": {},
     "output_type": "execute_result"
    }
   ],
   "source": [
    "# Import data from SPSS and clean columns\n",
    "df_survey, metadata = pyreadstat.read_sav(\"data/2021_ACTUALIDADES_DATOS.sav\")\n",
    "df_survey = skimpy.clean_columns(df_survey)\n",
    "df_survey.head()"
   ]
  },
  {
   "cell_type": "code",
   "execution_count": 203,
   "id": "8d08d4c7",
   "metadata": {},
   "outputs": [
    {
     "data": {
      "text/html": [
       "<pre style=\"white-space:pre;overflow-x:auto;line-height:normal;font-family:Menlo,'DejaVu Sans Mono',consolas,'Courier New',monospace\">╭──────────────────────────────────────────────── skimpy summary ─────────────────────────────────────────────────╮\n",
       "│ <span style=\"font-style: italic\">         Data Summary         </span> <span style=\"font-style: italic\">      Data Types       </span>                                                          │\n",
       "│ ┏━━━━━━━━━━━━━━━━━━━┳━━━━━━━━┓ ┏━━━━━━━━━━━━━┳━━━━━━━┓                                                          │\n",
       "│ ┃<span style=\"color: #008080; text-decoration-color: #008080; font-weight: bold\"> dataframe         </span>┃<span style=\"color: #008080; text-decoration-color: #008080; font-weight: bold\"> Values </span>┃ ┃<span style=\"color: #008080; text-decoration-color: #008080; font-weight: bold\"> Column Type </span>┃<span style=\"color: #008080; text-decoration-color: #008080; font-weight: bold\"> Count </span>┃                                                          │\n",
       "│ ┡━━━━━━━━━━━━━━━━━━━╇━━━━━━━━┩ ┡━━━━━━━━━━━━━╇━━━━━━━┩                                                          │\n",
       "│ │ Number of rows    │ 2003   │ │ float64     │ 123   │                                                          │\n",
       "│ │ Number of columns │ 130    │ │ string      │ 7     │                                                          │\n",
       "│ └───────────────────┴────────┘ └─────────────┴───────┘                                                          │\n",
       "│ <span style=\"font-style: italic\">                                                    number                                                    </span>  │\n",
       "│ ┏━━━━━━━━━━━━━━━━┳━━━━━━━┳━━━━━━━━┳━━━━━━━━━━┳━━━━━━━━━┳━━━━━━━━━┳━━━━━━━━━┳━━━━━━━━━┳━━━━━━━┳━━━━━━┳━━━━━━━━┓  │\n",
       "│ ┃<span style=\"font-weight: bold\"> column_name    </span>┃<span style=\"font-weight: bold\"> NA    </span>┃<span style=\"font-weight: bold\"> NA %   </span>┃<span style=\"font-weight: bold\"> mean     </span>┃<span style=\"font-weight: bold\"> sd      </span>┃<span style=\"font-weight: bold\"> p0      </span>┃<span style=\"font-weight: bold\"> p25     </span>┃<span style=\"font-weight: bold\"> p50     </span>┃<span style=\"font-weight: bold\"> p75   </span>┃<span style=\"font-weight: bold\"> p100 </span>┃<span style=\"font-weight: bold\"> hist   </span>┃  │\n",
       "│ ┡━━━━━━━━━━━━━━━━╇━━━━━━━╇━━━━━━━━╇━━━━━━━━━━╇━━━━━━━━━╇━━━━━━━━━╇━━━━━━━━━╇━━━━━━━━━╇━━━━━━━╇━━━━━━╇━━━━━━━━┩  │\n",
       "│ │ <span style=\"color: #af87ff; text-decoration-color: #af87ff\">cuestionario  </span> │ <span style=\"color: #008080; text-decoration-color: #008080\">    0</span> │ <span style=\"color: #008080; text-decoration-color: #008080\">     0</span> │ <span style=\"color: #008080; text-decoration-color: #008080\">    1002</span> │ <span style=\"color: #008080; text-decoration-color: #008080\">  578.4</span> │ <span style=\"color: #008080; text-decoration-color: #008080\">      1</span> │ <span style=\"color: #008080; text-decoration-color: #008080\">  501.5</span> │ <span style=\"color: #008080; text-decoration-color: #008080\">   1002</span> │ <span style=\"color: #008080; text-decoration-color: #008080\"> 1502</span> │ <span style=\"color: #008080; text-decoration-color: #008080\">2003</span> │ <span style=\"color: #008000; text-decoration-color: #008000\">▇▇▇▇▇▇</span> │  │\n",
       "│ │ <span style=\"color: #af87ff; text-decoration-color: #af87ff\">id            </span> │ <span style=\"color: #008080; text-decoration-color: #008080\">    0</span> │ <span style=\"color: #008080; text-decoration-color: #008080\">     0</span> │ <span style=\"color: #008080; text-decoration-color: #008080\">    17.3</span> │ <span style=\"color: #008080; text-decoration-color: #008080\">  10.35</span> │ <span style=\"color: #008080; text-decoration-color: #008080\">      1</span> │ <span style=\"color: #008080; text-decoration-color: #008080\">      8</span> │ <span style=\"color: #008080; text-decoration-color: #008080\">     17</span> │ <span style=\"color: #008080; text-decoration-color: #008080\">   26</span> │ <span style=\"color: #008080; text-decoration-color: #008080\">  38</span> │ <span style=\"color: #008000; text-decoration-color: #008000\">▇▆▆▆▅▃</span> │  │\n",
       "│ │ <span style=\"color: #af87ff; text-decoration-color: #af87ff\">hi            </span> │ <span style=\"color: #008080; text-decoration-color: #008080\">    0</span> │ <span style=\"color: #008080; text-decoration-color: #008080\">     0</span> │ <span style=\"color: #008080; text-decoration-color: #008080\">   14.82</span> │ <span style=\"color: #008080; text-decoration-color: #008080\">  2.992</span> │ <span style=\"color: #008080; text-decoration-color: #008080\">      8</span> │ <span style=\"color: #008080; text-decoration-color: #008080\">     13</span> │ <span style=\"color: #008080; text-decoration-color: #008080\">     15</span> │ <span style=\"color: #008080; text-decoration-color: #008080\">   17</span> │ <span style=\"color: #008080; text-decoration-color: #008080\">  21</span> │ <span style=\"color: #008000; text-decoration-color: #008000\">▃▃▅▇▇▃</span> │  │\n",
       "│ │ <span style=\"color: #af87ff; text-decoration-color: #af87ff\">mi            </span> │ <span style=\"color: #008080; text-decoration-color: #008080\">    0</span> │ <span style=\"color: #008080; text-decoration-color: #008080\">     0</span> │ <span style=\"color: #008080; text-decoration-color: #008080\">   28.57</span> │ <span style=\"color: #008080; text-decoration-color: #008080\">  17.12</span> │ <span style=\"color: #008080; text-decoration-color: #008080\">      0</span> │ <span style=\"color: #008080; text-decoration-color: #008080\">     14</span> │ <span style=\"color: #008080; text-decoration-color: #008080\">     29</span> │ <span style=\"color: #008080; text-decoration-color: #008080\">   43</span> │ <span style=\"color: #008080; text-decoration-color: #008080\">  59</span> │ <span style=\"color: #008000; text-decoration-color: #008000\">▇▇▇▇▇▆</span> │  │\n",
       "│ │ <span style=\"color: #af87ff; text-decoration-color: #af87ff\">hf            </span> │ <span style=\"color: #008080; text-decoration-color: #008080\">    0</span> │ <span style=\"color: #008080; text-decoration-color: #008080\">     0</span> │ <span style=\"color: #008080; text-decoration-color: #008080\">   15.16</span> │ <span style=\"color: #008080; text-decoration-color: #008080\">  3.547</span> │ <span style=\"color: #008080; text-decoration-color: #008080\">      8</span> │ <span style=\"color: #008080; text-decoration-color: #008080\">     13</span> │ <span style=\"color: #008080; text-decoration-color: #008080\">     16</span> │ <span style=\"color: #008080; text-decoration-color: #008080\">   18</span> │ <span style=\"color: #008080; text-decoration-color: #008080\">  99</span> │ <span style=\"color: #008000; text-decoration-color: #008000\">  ▇   </span> │  │\n",
       "│ │ <span style=\"color: #af87ff; text-decoration-color: #af87ff\">mf            </span> │ <span style=\"color: #008080; text-decoration-color: #008080\">    0</span> │ <span style=\"color: #008080; text-decoration-color: #008080\">     0</span> │ <span style=\"color: #008080; text-decoration-color: #008080\">   29.89</span> │ <span style=\"color: #008080; text-decoration-color: #008080\">  17.36</span> │ <span style=\"color: #008080; text-decoration-color: #008080\">      0</span> │ <span style=\"color: #008080; text-decoration-color: #008080\">     15</span> │ <span style=\"color: #008080; text-decoration-color: #008080\">     30</span> │ <span style=\"color: #008080; text-decoration-color: #008080\">   45</span> │ <span style=\"color: #008080; text-decoration-color: #008080\">  99</span> │ <span style=\"color: #008000; text-decoration-color: #008000\"> ▇▇▇▅ </span> │  │\n",
       "│ │ <span style=\"color: #af87ff; text-decoration-color: #af87ff\">sp_1          </span> │ <span style=\"color: #008080; text-decoration-color: #008080\">    0</span> │ <span style=\"color: #008080; text-decoration-color: #008080\">     0</span> │ <span style=\"color: #008080; text-decoration-color: #008080\">   6.925</span> │ <span style=\"color: #008080; text-decoration-color: #008080\">  8.598</span> │ <span style=\"color: #008080; text-decoration-color: #008080\">      0</span> │ <span style=\"color: #008080; text-decoration-color: #008080\">      5</span> │ <span style=\"color: #008080; text-decoration-color: #008080\">      7</span> │ <span style=\"color: #008080; text-decoration-color: #008080\">    8</span> │ <span style=\"color: #008080; text-decoration-color: #008080\">  99</span> │ <span style=\"color: #008000; text-decoration-color: #008000\">  ▇   </span> │  │\n",
       "│ │ <span style=\"color: #af87ff; text-decoration-color: #af87ff\">sp_2          </span> │ <span style=\"color: #008080; text-decoration-color: #008080\">    0</span> │ <span style=\"color: #008080; text-decoration-color: #008080\">     0</span> │ <span style=\"color: #008080; text-decoration-color: #008080\">    5.65</span> │ <span style=\"color: #008080; text-decoration-color: #008080\">  9.639</span> │ <span style=\"color: #008080; text-decoration-color: #008080\">      0</span> │ <span style=\"color: #008080; text-decoration-color: #008080\">      4</span> │ <span style=\"color: #008080; text-decoration-color: #008080\">      5</span> │ <span style=\"color: #008080; text-decoration-color: #008080\">    6</span> │ <span style=\"color: #008080; text-decoration-color: #008080\">  99</span> │ <span style=\"color: #008000; text-decoration-color: #008000\">  ▇   </span> │  │\n",
       "│ │ <span style=\"color: #af87ff; text-decoration-color: #af87ff\">sp_3          </span> │ <span style=\"color: #008080; text-decoration-color: #008080\">    0</span> │ <span style=\"color: #008080; text-decoration-color: #008080\">     0</span> │ <span style=\"color: #008080; text-decoration-color: #008080\">   8.273</span> │ <span style=\"color: #008080; text-decoration-color: #008080\">  7.329</span> │ <span style=\"color: #008080; text-decoration-color: #008080\">      0</span> │ <span style=\"color: #008080; text-decoration-color: #008080\">      7</span> │ <span style=\"color: #008080; text-decoration-color: #008080\">      8</span> │ <span style=\"color: #008080; text-decoration-color: #008080\">    9</span> │ <span style=\"color: #008080; text-decoration-color: #008080\">  99</span> │ <span style=\"color: #008000; text-decoration-color: #008000\">  ▇   </span> │  │\n",
       "│ │ <span style=\"color: #af87ff; text-decoration-color: #af87ff\">sp_4          </span> │ <span style=\"color: #008080; text-decoration-color: #008080\">    0</span> │ <span style=\"color: #008080; text-decoration-color: #008080\">     0</span> │ <span style=\"color: #008080; text-decoration-color: #008080\">   5.207</span> │ <span style=\"color: #008080; text-decoration-color: #008080\">  10.24</span> │ <span style=\"color: #008080; text-decoration-color: #008080\">      0</span> │ <span style=\"color: #008080; text-decoration-color: #008080\">      2</span> │ <span style=\"color: #008080; text-decoration-color: #008080\">      5</span> │ <span style=\"color: #008080; text-decoration-color: #008080\">    6</span> │ <span style=\"color: #008080; text-decoration-color: #008080\">  99</span> │ <span style=\"color: #008000; text-decoration-color: #008000\">  ▇   </span> │  │\n",
       "│ │ <span style=\"color: #af87ff; text-decoration-color: #af87ff\">sp_5          </span> │ <span style=\"color: #008080; text-decoration-color: #008080\">    0</span> │ <span style=\"color: #008080; text-decoration-color: #008080\">     0</span> │ <span style=\"color: #008080; text-decoration-color: #008080\">   5.169</span> │ <span style=\"color: #008080; text-decoration-color: #008080\">  9.727</span> │ <span style=\"color: #008080; text-decoration-color: #008080\">      0</span> │ <span style=\"color: #008080; text-decoration-color: #008080\">      3</span> │ <span style=\"color: #008080; text-decoration-color: #008080\">      5</span> │ <span style=\"color: #008080; text-decoration-color: #008080\">    6</span> │ <span style=\"color: #008080; text-decoration-color: #008080\">  99</span> │ <span style=\"color: #008000; text-decoration-color: #008000\">  ▇   </span> │  │\n",
       "│ │ <span style=\"color: #af87ff; text-decoration-color: #af87ff\">sp_6          </span> │ <span style=\"color: #008080; text-decoration-color: #008080\">    0</span> │ <span style=\"color: #008080; text-decoration-color: #008080\">     0</span> │ <span style=\"color: #008080; text-decoration-color: #008080\">   5.478</span> │ <span style=\"color: #008080; text-decoration-color: #008080\">  11.38</span> │ <span style=\"color: #008080; text-decoration-color: #008080\">      0</span> │ <span style=\"color: #008080; text-decoration-color: #008080\">      3</span> │ <span style=\"color: #008080; text-decoration-color: #008080\">      5</span> │ <span style=\"color: #008080; text-decoration-color: #008080\">    6</span> │ <span style=\"color: #008080; text-decoration-color: #008080\">  99</span> │ <span style=\"color: #008000; text-decoration-color: #008000\">  ▇   </span> │  │\n",
       "│ │ <span style=\"color: #af87ff; text-decoration-color: #af87ff\">rp_1          </span> │ <span style=\"color: #008080; text-decoration-color: #008080\">    0</span> │ <span style=\"color: #008080; text-decoration-color: #008080\">     0</span> │ <span style=\"color: #008080; text-decoration-color: #008080\">   2.581</span> │ <span style=\"color: #008080; text-decoration-color: #008080\">  1.096</span> │ <span style=\"color: #008080; text-decoration-color: #008080\">      1</span> │ <span style=\"color: #008080; text-decoration-color: #008080\">      2</span> │ <span style=\"color: #008080; text-decoration-color: #008080\">      3</span> │ <span style=\"color: #008080; text-decoration-color: #008080\">    3</span> │ <span style=\"color: #008080; text-decoration-color: #008080\">   9</span> │ <span style=\"color: #008000; text-decoration-color: #008000\">  ▃▇  </span> │  │\n",
       "│ │ <span style=\"color: #af87ff; text-decoration-color: #af87ff\">rp_2          </span> │ <span style=\"color: #008080; text-decoration-color: #008080\"> 1495</span> │ <span style=\"color: #008080; text-decoration-color: #008080\"> 74.64</span> │ <span style=\"color: #008080; text-decoration-color: #008080\">   1.967</span> │ <span style=\"color: #008080; text-decoration-color: #008080\">  1.974</span> │ <span style=\"color: #008080; text-decoration-color: #008080\">      1</span> │ <span style=\"color: #008080; text-decoration-color: #008080\">      1</span> │ <span style=\"color: #008080; text-decoration-color: #008080\">      1</span> │ <span style=\"color: #008080; text-decoration-color: #008080\">    2</span> │ <span style=\"color: #008080; text-decoration-color: #008080\">   9</span> │ <span style=\"color: #008000; text-decoration-color: #008000\">▇    ▁</span> │  │\n",
       "│ │ <span style=\"color: #af87ff; text-decoration-color: #af87ff\">rp_3          </span> │ <span style=\"color: #008080; text-decoration-color: #008080\">    0</span> │ <span style=\"color: #008080; text-decoration-color: #008080\">     0</span> │ <span style=\"color: #008080; text-decoration-color: #008080\">   8.409</span> │ <span style=\"color: #008080; text-decoration-color: #008080\">  16.85</span> │ <span style=\"color: #008080; text-decoration-color: #008080\">      0</span> │ <span style=\"color: #008080; text-decoration-color: #008080\">      3</span> │ <span style=\"color: #008080; text-decoration-color: #008080\">      5</span> │ <span style=\"color: #008080; text-decoration-color: #008080\">    8</span> │ <span style=\"color: #008080; text-decoration-color: #008080\">  99</span> │ <span style=\"color: #008000; text-decoration-color: #008000\">  ▇   </span> │  │\n",
       "│ │ <span style=\"color: #af87ff; text-decoration-color: #af87ff\">rp_4          </span> │ <span style=\"color: #008080; text-decoration-color: #008080\">    0</span> │ <span style=\"color: #008080; text-decoration-color: #008080\">     0</span> │ <span style=\"color: #008080; text-decoration-color: #008080\">    9.96</span> │ <span style=\"color: #008080; text-decoration-color: #008080\">  20.09</span> │ <span style=\"color: #008080; text-decoration-color: #008080\">      0</span> │ <span style=\"color: #008080; text-decoration-color: #008080\">      3</span> │ <span style=\"color: #008080; text-decoration-color: #008080\">      5</span> │ <span style=\"color: #008080; text-decoration-color: #008080\">    8</span> │ <span style=\"color: #008080; text-decoration-color: #008080\">  99</span> │ <span style=\"color: #008000; text-decoration-color: #008000\">  ▇   </span> │  │\n",
       "│ │ <span style=\"color: #af87ff; text-decoration-color: #af87ff\">rp_5          </span> │ <span style=\"color: #008080; text-decoration-color: #008080\">    0</span> │ <span style=\"color: #008080; text-decoration-color: #008080\">     0</span> │ <span style=\"color: #008080; text-decoration-color: #008080\">   1.675</span> │ <span style=\"color: #008080; text-decoration-color: #008080\"> 0.7261</span> │ <span style=\"color: #008080; text-decoration-color: #008080\">      1</span> │ <span style=\"color: #008080; text-decoration-color: #008080\">      1</span> │ <span style=\"color: #008080; text-decoration-color: #008080\">      2</span> │ <span style=\"color: #008080; text-decoration-color: #008080\">    2</span> │ <span style=\"color: #008080; text-decoration-color: #008080\">   9</span> │ <span style=\"color: #008000; text-decoration-color: #008000\">  ▇   </span> │  │\n",
       "│ │ <span style=\"color: #af87ff; text-decoration-color: #af87ff\">rp_6          </span> │ <span style=\"color: #008080; text-decoration-color: #008080\">    0</span> │ <span style=\"color: #008080; text-decoration-color: #008080\">     0</span> │ <span style=\"color: #008080; text-decoration-color: #008080\">   1.288</span> │ <span style=\"color: #008080; text-decoration-color: #008080\"> 0.7541</span> │ <span style=\"color: #008080; text-decoration-color: #008080\">      1</span> │ <span style=\"color: #008080; text-decoration-color: #008080\">      1</span> │ <span style=\"color: #008080; text-decoration-color: #008080\">      1</span> │ <span style=\"color: #008080; text-decoration-color: #008080\">    1</span> │ <span style=\"color: #008080; text-decoration-color: #008080\">   9</span> │ <span style=\"color: #008000; text-decoration-color: #008000\">  ▇   </span> │  │\n",
       "│ │ <span style=\"color: #af87ff; text-decoration-color: #af87ff\">rp_7          </span> │ <span style=\"color: #008080; text-decoration-color: #008080\">  361</span> │ <span style=\"color: #008080; text-decoration-color: #008080\"> 18.02</span> │ <span style=\"color: #008080; text-decoration-color: #008080\">   1.695</span> │ <span style=\"color: #008080; text-decoration-color: #008080\"> 0.6187</span> │ <span style=\"color: #008080; text-decoration-color: #008080\">      1</span> │ <span style=\"color: #008080; text-decoration-color: #008080\">      1</span> │ <span style=\"color: #008080; text-decoration-color: #008080\">      2</span> │ <span style=\"color: #008080; text-decoration-color: #008080\">    2</span> │ <span style=\"color: #008080; text-decoration-color: #008080\">   9</span> │ <span style=\"color: #008000; text-decoration-color: #008000\">  ▇   </span> │  │\n",
       "│ │ <span style=\"color: #af87ff; text-decoration-color: #af87ff\">cr_1          </span> │ <span style=\"color: #008080; text-decoration-color: #008080\">    0</span> │ <span style=\"color: #008080; text-decoration-color: #008080\">     0</span> │ <span style=\"color: #008080; text-decoration-color: #008080\">   4.672</span> │ <span style=\"color: #008080; text-decoration-color: #008080\"> 0.6642</span> │ <span style=\"color: #008080; text-decoration-color: #008080\">      1</span> │ <span style=\"color: #008080; text-decoration-color: #008080\">      4</span> │ <span style=\"color: #008080; text-decoration-color: #008080\">      5</span> │ <span style=\"color: #008080; text-decoration-color: #008080\">    5</span> │ <span style=\"color: #008080; text-decoration-color: #008080\">   5</span> │ <span style=\"color: #008000; text-decoration-color: #008000\">    ▂▇</span> │  │\n",
       "│ │ <span style=\"color: #af87ff; text-decoration-color: #af87ff\">cr_2          </span> │ <span style=\"color: #008080; text-decoration-color: #008080\">    0</span> │ <span style=\"color: #008080; text-decoration-color: #008080\">     0</span> │ <span style=\"color: #008080; text-decoration-color: #008080\">   4.696</span> │ <span style=\"color: #008080; text-decoration-color: #008080\"> 0.6554</span> │ <span style=\"color: #008080; text-decoration-color: #008080\">      1</span> │ <span style=\"color: #008080; text-decoration-color: #008080\">      5</span> │ <span style=\"color: #008080; text-decoration-color: #008080\">      5</span> │ <span style=\"color: #008080; text-decoration-color: #008080\">    5</span> │ <span style=\"color: #008080; text-decoration-color: #008080\">   5</span> │ <span style=\"color: #008000; text-decoration-color: #008000\">    ▂▇</span> │  │\n",
       "│ │ <span style=\"color: #af87ff; text-decoration-color: #af87ff\">cr_3          </span> │ <span style=\"color: #008080; text-decoration-color: #008080\">    0</span> │ <span style=\"color: #008080; text-decoration-color: #008080\">     0</span> │ <span style=\"color: #008080; text-decoration-color: #008080\">   1.899</span> │ <span style=\"color: #008080; text-decoration-color: #008080\">  1.091</span> │ <span style=\"color: #008080; text-decoration-color: #008080\">      1</span> │ <span style=\"color: #008080; text-decoration-color: #008080\">      1</span> │ <span style=\"color: #008080; text-decoration-color: #008080\">      2</span> │ <span style=\"color: #008080; text-decoration-color: #008080\">    2</span> │ <span style=\"color: #008080; text-decoration-color: #008080\">   5</span> │ <span style=\"color: #008000; text-decoration-color: #008000\">▇▇ ▁▂▁</span> │  │\n",
       "│ │ <span style=\"color: #af87ff; text-decoration-color: #af87ff\">cr_4          </span> │ <span style=\"color: #008080; text-decoration-color: #008080\">    0</span> │ <span style=\"color: #008080; text-decoration-color: #008080\">     0</span> │ <span style=\"color: #008080; text-decoration-color: #008080\">   1.695</span> │ <span style=\"color: #008080; text-decoration-color: #008080\"> 0.9265</span> │ <span style=\"color: #008080; text-decoration-color: #008080\">      1</span> │ <span style=\"color: #008080; text-decoration-color: #008080\">      1</span> │ <span style=\"color: #008080; text-decoration-color: #008080\">      1</span> │ <span style=\"color: #008080; text-decoration-color: #008080\">    2</span> │ <span style=\"color: #008080; text-decoration-color: #008080\">   9</span> │ <span style=\"color: #008000; text-decoration-color: #008000\">  ▇▁  </span> │  │\n",
       "│ │ <span style=\"color: #af87ff; text-decoration-color: #af87ff\">af_1          </span> │ <span style=\"color: #008080; text-decoration-color: #008080\">    0</span> │ <span style=\"color: #008080; text-decoration-color: #008080\">     0</span> │ <span style=\"color: #008080; text-decoration-color: #008080\">   1.646</span> │ <span style=\"color: #008080; text-decoration-color: #008080\">  2.363</span> │ <span style=\"color: #008080; text-decoration-color: #008080\">      0</span> │ <span style=\"color: #008080; text-decoration-color: #008080\">      0</span> │ <span style=\"color: #008080; text-decoration-color: #008080\">      0</span> │ <span style=\"color: #008080; text-decoration-color: #008080\">    3</span> │ <span style=\"color: #008080; text-decoration-color: #008080\">   9</span> │ <span style=\"color: #008000; text-decoration-color: #008000\">▇▁▂▁▁ </span> │  │\n",
       "│ │ <span style=\"color: #af87ff; text-decoration-color: #af87ff\">af_2_horas    </span> │ <span style=\"color: #008080; text-decoration-color: #008080\"> 1183</span> │ <span style=\"color: #008080; text-decoration-color: #008080\"> 59.06</span> │ <span style=\"color: #008080; text-decoration-color: #008080\">   2.728</span> │ <span style=\"color: #008080; text-decoration-color: #008080\">  11.34</span> │ <span style=\"color: #008080; text-decoration-color: #008080\">      0</span> │ <span style=\"color: #008080; text-decoration-color: #008080\">      0</span> │ <span style=\"color: #008080; text-decoration-color: #008080\">      1</span> │ <span style=\"color: #008080; text-decoration-color: #008080\">    2</span> │ <span style=\"color: #008080; text-decoration-color: #008080\">  99</span> │ <span style=\"color: #008000; text-decoration-color: #008000\">  ▇   </span> │  │\n",
       "│ │ <span style=\"color: #af87ff; text-decoration-color: #af87ff\">af_2_minutos  </span> │ <span style=\"color: #008080; text-decoration-color: #008080\"> 1183</span> │ <span style=\"color: #008080; text-decoration-color: #008080\"> 59.06</span> │ <span style=\"color: #008080; text-decoration-color: #008080\">   15.01</span> │ <span style=\"color: #008080; text-decoration-color: #008080\">  18.64</span> │ <span style=\"color: #008080; text-decoration-color: #008080\">      0</span> │ <span style=\"color: #008080; text-decoration-color: #008080\">      0</span> │ <span style=\"color: #008080; text-decoration-color: #008080\">      0</span> │ <span style=\"color: #008080; text-decoration-color: #008080\">   30</span> │ <span style=\"color: #008080; text-decoration-color: #008080\">  99</span> │ <span style=\"color: #008000; text-decoration-color: #008000\"> ▇▅▁  </span> │  │\n",
       "│ │ <span style=\"color: #af87ff; text-decoration-color: #af87ff\">af_3          </span> │ <span style=\"color: #008080; text-decoration-color: #008080\">    0</span> │ <span style=\"color: #008080; text-decoration-color: #008080\">     0</span> │ <span style=\"color: #008080; text-decoration-color: #008080\">   1.677</span> │ <span style=\"color: #008080; text-decoration-color: #008080\">  2.515</span> │ <span style=\"color: #008080; text-decoration-color: #008080\">      0</span> │ <span style=\"color: #008080; text-decoration-color: #008080\">      0</span> │ <span style=\"color: #008080; text-decoration-color: #008080\">      0</span> │ <span style=\"color: #008080; text-decoration-color: #008080\">    3</span> │ <span style=\"color: #008080; text-decoration-color: #008080\">   9</span> │ <span style=\"color: #008000; text-decoration-color: #008000\">▇▁▁ ▂ </span> │  │\n",
       "│ │ <span style=\"color: #af87ff; text-decoration-color: #af87ff\">af_4_horas    </span> │ <span style=\"color: #008080; text-decoration-color: #008080\"> 1234</span> │ <span style=\"color: #008080; text-decoration-color: #008080\"> 61.61</span> │ <span style=\"color: #008080; text-decoration-color: #008080\">   2.967</span> │ <span style=\"color: #008080; text-decoration-color: #008080\">  11.22</span> │ <span style=\"color: #008080; text-decoration-color: #008080\">      0</span> │ <span style=\"color: #008080; text-decoration-color: #008080\">      0</span> │ <span style=\"color: #008080; text-decoration-color: #008080\">      1</span> │ <span style=\"color: #008080; text-decoration-color: #008080\">    2</span> │ <span style=\"color: #008080; text-decoration-color: #008080\">  99</span> │ <span style=\"color: #008000; text-decoration-color: #008000\">  ▇   </span> │  │\n",
       "│ │ <span style=\"color: #af87ff; text-decoration-color: #af87ff\">af_4_minutos  </span> │ <span style=\"color: #008080; text-decoration-color: #008080\"> 1234</span> │ <span style=\"color: #008080; text-decoration-color: #008080\"> 61.61</span> │ <span style=\"color: #008080; text-decoration-color: #008080\">   13.78</span> │ <span style=\"color: #008080; text-decoration-color: #008080\">  17.68</span> │ <span style=\"color: #008080; text-decoration-color: #008080\">      0</span> │ <span style=\"color: #008080; text-decoration-color: #008080\">      0</span> │ <span style=\"color: #008080; text-decoration-color: #008080\">      0</span> │ <span style=\"color: #008080; text-decoration-color: #008080\">   30</span> │ <span style=\"color: #008080; text-decoration-color: #008080\">  99</span> │ <span style=\"color: #008000; text-decoration-color: #008000\"> ▇▃▁  </span> │  │\n",
       "│ │ <span style=\"color: #af87ff; text-decoration-color: #af87ff\">af_5          </span> │ <span style=\"color: #008080; text-decoration-color: #008080\">    0</span> │ <span style=\"color: #008080; text-decoration-color: #008080\">     0</span> │ <span style=\"color: #008080; text-decoration-color: #008080\">   4.218</span> │ <span style=\"color: #008080; text-decoration-color: #008080\">   2.76</span> │ <span style=\"color: #008080; text-decoration-color: #008080\">      0</span> │ <span style=\"color: #008080; text-decoration-color: #008080\">      2</span> │ <span style=\"color: #008080; text-decoration-color: #008080\">      5</span> │ <span style=\"color: #008080; text-decoration-color: #008080\">    7</span> │ <span style=\"color: #008080; text-decoration-color: #008080\">   9</span> │ <span style=\"color: #008000; text-decoration-color: #008000\">▅▂▃▂▇ </span> │  │\n",
       "│ │ <span style=\"color: #af87ff; text-decoration-color: #af87ff\">af_6_horas    </span> │ <span style=\"color: #008080; text-decoration-color: #008080\">  386</span> │ <span style=\"color: #008080; text-decoration-color: #008080\"> 19.27</span> │ <span style=\"color: #008080; text-decoration-color: #008080\">   5.173</span> │ <span style=\"color: #008080; text-decoration-color: #008080\">  18.32</span> │ <span style=\"color: #008080; text-decoration-color: #008080\">      0</span> │ <span style=\"color: #008080; text-decoration-color: #008080\">      0</span> │ <span style=\"color: #008080; text-decoration-color: #008080\">      1</span> │ <span style=\"color: #008080; text-decoration-color: #008080\">    2</span> │ <span style=\"color: #008080; text-decoration-color: #008080\">  99</span> │ <span style=\"color: #008000; text-decoration-color: #008000\">  ▇   </span> │  │\n",
       "│ │ <span style=\"color: #af87ff; text-decoration-color: #af87ff\">af_6_minutos  </span> │ <span style=\"color: #008080; text-decoration-color: #008080\">  386</span> │ <span style=\"color: #008080; text-decoration-color: #008080\"> 19.27</span> │ <span style=\"color: #008080; text-decoration-color: #008080\">   17.68</span> │ <span style=\"color: #008080; text-decoration-color: #008080\">   21.5</span> │ <span style=\"color: #008080; text-decoration-color: #008080\">      0</span> │ <span style=\"color: #008080; text-decoration-color: #008080\">      0</span> │ <span style=\"color: #008080; text-decoration-color: #008080\">     15</span> │ <span style=\"color: #008080; text-decoration-color: #008080\">   30</span> │ <span style=\"color: #008080; text-decoration-color: #008080\">  99</span> │ <span style=\"color: #008000; text-decoration-color: #008000\">▇▅▁  ▁</span> │  │\n",
       "│ │ <span style=\"color: #af87ff; text-decoration-color: #af87ff\">af_7_horas    </span> │ <span style=\"color: #008080; text-decoration-color: #008080\">    0</span> │ <span style=\"color: #008080; text-decoration-color: #008080\">     0</span> │ <span style=\"color: #008080; text-decoration-color: #008080\">   7.466</span> │ <span style=\"color: #008080; text-decoration-color: #008080\">  17.11</span> │ <span style=\"color: #008080; text-decoration-color: #008080\">      0</span> │ <span style=\"color: #008080; text-decoration-color: #008080\">      2</span> │ <span style=\"color: #008080; text-decoration-color: #008080\">      4</span> │ <span style=\"color: #008080; text-decoration-color: #008080\">    7</span> │ <span style=\"color: #008080; text-decoration-color: #008080\">  99</span> │ <span style=\"color: #008000; text-decoration-color: #008000\">  ▇   </span> │  │\n",
       "│ │ <span style=\"color: #af87ff; text-decoration-color: #af87ff\">af_7_minutos  </span> │ <span style=\"color: #008080; text-decoration-color: #008080\">    0</span> │ <span style=\"color: #008080; text-decoration-color: #008080\">     0</span> │ <span style=\"color: #008080; text-decoration-color: #008080\">   7.069</span> │ <span style=\"color: #008080; text-decoration-color: #008080\">  19.61</span> │ <span style=\"color: #008080; text-decoration-color: #008080\">      0</span> │ <span style=\"color: #008080; text-decoration-color: #008080\">      0</span> │ <span style=\"color: #008080; text-decoration-color: #008080\">      0</span> │ <span style=\"color: #008080; text-decoration-color: #008080\">    0</span> │ <span style=\"color: #008080; text-decoration-color: #008080\">  99</span> │ <span style=\"color: #008000; text-decoration-color: #008000\">  ▇▁  </span> │  │\n",
       "│ │ <span style=\"color: #af87ff; text-decoration-color: #af87ff\">af_8          </span> │ <span style=\"color: #008080; text-decoration-color: #008080\">    0</span> │ <span style=\"color: #008080; text-decoration-color: #008080\">     0</span> │ <span style=\"color: #008080; text-decoration-color: #008080\">   1.839</span> │ <span style=\"color: #008080; text-decoration-color: #008080\">  1.017</span> │ <span style=\"color: #008080; text-decoration-color: #008080\">      1</span> │ <span style=\"color: #008080; text-decoration-color: #008080\">      1</span> │ <span style=\"color: #008080; text-decoration-color: #008080\">      2</span> │ <span style=\"color: #008080; text-decoration-color: #008080\">    2</span> │ <span style=\"color: #008080; text-decoration-color: #008080\">   9</span> │ <span style=\"color: #008000; text-decoration-color: #008000\">  ▇▂  </span> │  │\n",
       "│ │ <span style=\"color: #af87ff; text-decoration-color: #af87ff\">rv_1          </span> │ <span style=\"color: #008080; text-decoration-color: #008080\">    0</span> │ <span style=\"color: #008080; text-decoration-color: #008080\">     0</span> │ <span style=\"color: #008080; text-decoration-color: #008080\">   2.292</span> │ <span style=\"color: #008080; text-decoration-color: #008080\">  1.427</span> │ <span style=\"color: #008080; text-decoration-color: #008080\">      1</span> │ <span style=\"color: #008080; text-decoration-color: #008080\">      1</span> │ <span style=\"color: #008080; text-decoration-color: #008080\">      2</span> │ <span style=\"color: #008080; text-decoration-color: #008080\">    3</span> │ <span style=\"color: #008080; text-decoration-color: #008080\">   9</span> │ <span style=\"color: #008000; text-decoration-color: #008000\"> ▇▃▂  </span> │  │\n",
       "│ │ <span style=\"color: #af87ff; text-decoration-color: #af87ff\">rv_2          </span> │ <span style=\"color: #008080; text-decoration-color: #008080\">    0</span> │ <span style=\"color: #008080; text-decoration-color: #008080\">     0</span> │ <span style=\"color: #008080; text-decoration-color: #008080\">   2.416</span> │ <span style=\"color: #008080; text-decoration-color: #008080\">  1.478</span> │ <span style=\"color: #008080; text-decoration-color: #008080\">      1</span> │ <span style=\"color: #008080; text-decoration-color: #008080\">      1</span> │ <span style=\"color: #008080; text-decoration-color: #008080\">      2</span> │ <span style=\"color: #008080; text-decoration-color: #008080\">    3</span> │ <span style=\"color: #008080; text-decoration-color: #008080\">   9</span> │ <span style=\"color: #008000; text-decoration-color: #008000\"> ▇▃▃  </span> │  │\n",
       "│ │ <span style=\"color: #af87ff; text-decoration-color: #af87ff\">rv_3          </span> │ <span style=\"color: #008080; text-decoration-color: #008080\">    0</span> │ <span style=\"color: #008080; text-decoration-color: #008080\">     0</span> │ <span style=\"color: #008080; text-decoration-color: #008080\">   2.557</span> │ <span style=\"color: #008080; text-decoration-color: #008080\">  1.515</span> │ <span style=\"color: #008080; text-decoration-color: #008080\">      1</span> │ <span style=\"color: #008080; text-decoration-color: #008080\">      1</span> │ <span style=\"color: #008080; text-decoration-color: #008080\">      2</span> │ <span style=\"color: #008080; text-decoration-color: #008080\">    4</span> │ <span style=\"color: #008080; text-decoration-color: #008080\">   9</span> │ <span style=\"color: #008000; text-decoration-color: #008000\"> ▇▃▅  </span> │  │\n",
       "│ │ <span style=\"color: #af87ff; text-decoration-color: #af87ff\">rv_4          </span> │ <span style=\"color: #008080; text-decoration-color: #008080\">    0</span> │ <span style=\"color: #008080; text-decoration-color: #008080\">     0</span> │ <span style=\"color: #008080; text-decoration-color: #008080\">   2.138</span> │ <span style=\"color: #008080; text-decoration-color: #008080\">  1.742</span> │ <span style=\"color: #008080; text-decoration-color: #008080\">      1</span> │ <span style=\"color: #008080; text-decoration-color: #008080\">      1</span> │ <span style=\"color: #008080; text-decoration-color: #008080\">      2</span> │ <span style=\"color: #008080; text-decoration-color: #008080\">    2</span> │ <span style=\"color: #008080; text-decoration-color: #008080\">   9</span> │ <span style=\"color: #008000; text-decoration-color: #008000\">▇▁   ▁</span> │  │\n",
       "│ │ <span style=\"color: #af87ff; text-decoration-color: #af87ff\">rv_5          </span> │ <span style=\"color: #008080; text-decoration-color: #008080\">    0</span> │ <span style=\"color: #008080; text-decoration-color: #008080\">     0</span> │ <span style=\"color: #008080; text-decoration-color: #008080\">   1.599</span> │ <span style=\"color: #008080; text-decoration-color: #008080\"> 0.6605</span> │ <span style=\"color: #008080; text-decoration-color: #008080\">      1</span> │ <span style=\"color: #008080; text-decoration-color: #008080\">      1</span> │ <span style=\"color: #008080; text-decoration-color: #008080\">      2</span> │ <span style=\"color: #008080; text-decoration-color: #008080\">    2</span> │ <span style=\"color: #008080; text-decoration-color: #008080\">   9</span> │ <span style=\"color: #008000; text-decoration-color: #008000\">  ▇   </span> │  │\n",
       "│ │ <span style=\"color: #af87ff; text-decoration-color: #af87ff\">rv_6          </span> │ <span style=\"color: #008080; text-decoration-color: #008080\"> 1150</span> │ <span style=\"color: #008080; text-decoration-color: #008080\"> 57.41</span> │ <span style=\"color: #008080; text-decoration-color: #008080\">   1.564</span> │ <span style=\"color: #008080; text-decoration-color: #008080\"> 0.5585</span> │ <span style=\"color: #008080; text-decoration-color: #008080\">      1</span> │ <span style=\"color: #008080; text-decoration-color: #008080\">      1</span> │ <span style=\"color: #008080; text-decoration-color: #008080\">      2</span> │ <span style=\"color: #008080; text-decoration-color: #008080\">    2</span> │ <span style=\"color: #008080; text-decoration-color: #008080\">   9</span> │ <span style=\"color: #008000; text-decoration-color: #008000\">  ▇   </span> │  │\n",
       "│ │ <span style=\"color: #af87ff; text-decoration-color: #af87ff\">rv_7          </span> │ <span style=\"color: #008080; text-decoration-color: #008080\">    0</span> │ <span style=\"color: #008080; text-decoration-color: #008080\">     0</span> │ <span style=\"color: #008080; text-decoration-color: #008080\">   2.579</span> │ <span style=\"color: #008080; text-decoration-color: #008080\">   2.29</span> │ <span style=\"color: #008080; text-decoration-color: #008080\">      1</span> │ <span style=\"color: #008080; text-decoration-color: #008080\">      1</span> │ <span style=\"color: #008080; text-decoration-color: #008080\">      2</span> │ <span style=\"color: #008080; text-decoration-color: #008080\">    2</span> │ <span style=\"color: #008080; text-decoration-color: #008080\">   9</span> │ <span style=\"color: #008000; text-decoration-color: #008000\">▇▁  ▁▁</span> │  │\n",
       "│ │ <span style=\"color: #af87ff; text-decoration-color: #af87ff\">rv_8          </span> │ <span style=\"color: #008080; text-decoration-color: #008080\">    0</span> │ <span style=\"color: #008080; text-decoration-color: #008080\">     0</span> │ <span style=\"color: #008080; text-decoration-color: #008080\">   2.185</span> │ <span style=\"color: #008080; text-decoration-color: #008080\">  1.508</span> │ <span style=\"color: #008080; text-decoration-color: #008080\">      1</span> │ <span style=\"color: #008080; text-decoration-color: #008080\">      1</span> │ <span style=\"color: #008080; text-decoration-color: #008080\">      2</span> │ <span style=\"color: #008080; text-decoration-color: #008080\">    3</span> │ <span style=\"color: #008080; text-decoration-color: #008080\">   9</span> │ <span style=\"color: #008000; text-decoration-color: #008000\">  ▇▂  </span> │  │\n",
       "│ │ <span style=\"color: #af87ff; text-decoration-color: #af87ff\">rv_9          </span> │ <span style=\"color: #008080; text-decoration-color: #008080\">    0</span> │ <span style=\"color: #008080; text-decoration-color: #008080\">     0</span> │ <span style=\"color: #008080; text-decoration-color: #008080\">   2.225</span> │ <span style=\"color: #008080; text-decoration-color: #008080\">  1.879</span> │ <span style=\"color: #008080; text-decoration-color: #008080\">      1</span> │ <span style=\"color: #008080; text-decoration-color: #008080\">      1</span> │ <span style=\"color: #008080; text-decoration-color: #008080\">      2</span> │ <span style=\"color: #008080; text-decoration-color: #008080\">    2</span> │ <span style=\"color: #008080; text-decoration-color: #008080\">   9</span> │ <span style=\"color: #008000; text-decoration-color: #008000\">▇▁  ▁ </span> │  │\n",
       "│ │ <span style=\"color: #af87ff; text-decoration-color: #af87ff\">rv_10         </span> │ <span style=\"color: #008080; text-decoration-color: #008080\">    0</span> │ <span style=\"color: #008080; text-decoration-color: #008080\">     0</span> │ <span style=\"color: #008080; text-decoration-color: #008080\">   1.905</span> │ <span style=\"color: #008080; text-decoration-color: #008080\">  1.408</span> │ <span style=\"color: #008080; text-decoration-color: #008080\">      1</span> │ <span style=\"color: #008080; text-decoration-color: #008080\">      1</span> │ <span style=\"color: #008080; text-decoration-color: #008080\">      2</span> │ <span style=\"color: #008080; text-decoration-color: #008080\">    2</span> │ <span style=\"color: #008080; text-decoration-color: #008080\">   9</span> │ <span style=\"color: #008000; text-decoration-color: #008000\">  ▇▁  </span> │  │\n",
       "│ │ <span style=\"color: #af87ff; text-decoration-color: #af87ff\">rv_11         </span> │ <span style=\"color: #008080; text-decoration-color: #008080\">    0</span> │ <span style=\"color: #008080; text-decoration-color: #008080\">     0</span> │ <span style=\"color: #008080; text-decoration-color: #008080\">    2.45</span> │ <span style=\"color: #008080; text-decoration-color: #008080\">  1.702</span> │ <span style=\"color: #008080; text-decoration-color: #008080\">      1</span> │ <span style=\"color: #008080; text-decoration-color: #008080\">      1</span> │ <span style=\"color: #008080; text-decoration-color: #008080\">      2</span> │ <span style=\"color: #008080; text-decoration-color: #008080\">    3</span> │ <span style=\"color: #008080; text-decoration-color: #008080\">   9</span> │ <span style=\"color: #008000; text-decoration-color: #008000\">▇▆   ▁</span> │  │\n",
       "│ │ <span style=\"color: #af87ff; text-decoration-color: #af87ff\">rv_12         </span> │ <span style=\"color: #008080; text-decoration-color: #008080\">    0</span> │ <span style=\"color: #008080; text-decoration-color: #008080\">     0</span> │ <span style=\"color: #008080; text-decoration-color: #008080\">   2.631</span> │ <span style=\"color: #008080; text-decoration-color: #008080\">  1.401</span> │ <span style=\"color: #008080; text-decoration-color: #008080\">      1</span> │ <span style=\"color: #008080; text-decoration-color: #008080\">      2</span> │ <span style=\"color: #008080; text-decoration-color: #008080\">      3</span> │ <span style=\"color: #008080; text-decoration-color: #008080\">    3</span> │ <span style=\"color: #008080; text-decoration-color: #008080\">   9</span> │ <span style=\"color: #008000; text-decoration-color: #008000\">  ▅▇  </span> │  │\n",
       "│ │ <span style=\"color: #af87ff; text-decoration-color: #af87ff\">rv_13         </span> │ <span style=\"color: #008080; text-decoration-color: #008080\">    0</span> │ <span style=\"color: #008080; text-decoration-color: #008080\">     0</span> │ <span style=\"color: #008080; text-decoration-color: #008080\">     2.9</span> │ <span style=\"color: #008080; text-decoration-color: #008080\">  1.084</span> │ <span style=\"color: #008080; text-decoration-color: #008080\">      1</span> │ <span style=\"color: #008080; text-decoration-color: #008080\">      3</span> │ <span style=\"color: #008080; text-decoration-color: #008080\">      3</span> │ <span style=\"color: #008080; text-decoration-color: #008080\">    3</span> │ <span style=\"color: #008080; text-decoration-color: #008080\">   9</span> │ <span style=\"color: #008000; text-decoration-color: #008000\">  ▂▇  </span> │  │\n",
       "│ │ <span style=\"color: #af87ff; text-decoration-color: #af87ff\">rv_14         </span> │ <span style=\"color: #008080; text-decoration-color: #008080\">    0</span> │ <span style=\"color: #008080; text-decoration-color: #008080\">     0</span> │ <span style=\"color: #008080; text-decoration-color: #008080\">   1.781</span> │ <span style=\"color: #008080; text-decoration-color: #008080\">  1.454</span> │ <span style=\"color: #008080; text-decoration-color: #008080\">      1</span> │ <span style=\"color: #008080; text-decoration-color: #008080\">      1</span> │ <span style=\"color: #008080; text-decoration-color: #008080\">      1</span> │ <span style=\"color: #008080; text-decoration-color: #008080\">    2</span> │ <span style=\"color: #008080; text-decoration-color: #008080\">   9</span> │ <span style=\"color: #008000; text-decoration-color: #008000\">  ▇▁  </span> │  │\n",
       "│ │ <span style=\"color: #af87ff; text-decoration-color: #af87ff\">vm_1          </span> │ <span style=\"color: #008080; text-decoration-color: #008080\">    0</span> │ <span style=\"color: #008080; text-decoration-color: #008080\">     0</span> │ <span style=\"color: #008080; text-decoration-color: #008080\">    2.83</span> │ <span style=\"color: #008080; text-decoration-color: #008080\">  1.965</span> │ <span style=\"color: #008080; text-decoration-color: #008080\">      1</span> │ <span style=\"color: #008080; text-decoration-color: #008080\">      2</span> │ <span style=\"color: #008080; text-decoration-color: #008080\">      2</span> │ <span style=\"color: #008080; text-decoration-color: #008080\">    4</span> │ <span style=\"color: #008080; text-decoration-color: #008080\">   9</span> │ <span style=\"color: #008000; text-decoration-color: #008000\">▇▁▂  ▁</span> │  │\n",
       "│ │ <span style=\"color: #af87ff; text-decoration-color: #af87ff\">vm_2          </span> │ <span style=\"color: #008080; text-decoration-color: #008080\">    0</span> │ <span style=\"color: #008080; text-decoration-color: #008080\">     0</span> │ <span style=\"color: #008080; text-decoration-color: #008080\">   3.103</span> │ <span style=\"color: #008080; text-decoration-color: #008080\">  2.639</span> │ <span style=\"color: #008080; text-decoration-color: #008080\">      1</span> │ <span style=\"color: #008080; text-decoration-color: #008080\">      2</span> │ <span style=\"color: #008080; text-decoration-color: #008080\">      2</span> │ <span style=\"color: #008080; text-decoration-color: #008080\">    3</span> │ <span style=\"color: #008080; text-decoration-color: #008080\">   9</span> │ <span style=\"color: #008000; text-decoration-color: #008000\">▇▁   ▂</span> │  │\n",
       "│ │ <span style=\"color: #af87ff; text-decoration-color: #af87ff\">vm_3          </span> │ <span style=\"color: #008080; text-decoration-color: #008080\">    0</span> │ <span style=\"color: #008080; text-decoration-color: #008080\">     0</span> │ <span style=\"color: #008080; text-decoration-color: #008080\">   2.163</span> │ <span style=\"color: #008080; text-decoration-color: #008080\">  1.818</span> │ <span style=\"color: #008080; text-decoration-color: #008080\">      1</span> │ <span style=\"color: #008080; text-decoration-color: #008080\">      1</span> │ <span style=\"color: #008080; text-decoration-color: #008080\">      2</span> │ <span style=\"color: #008080; text-decoration-color: #008080\">    2</span> │ <span style=\"color: #008080; text-decoration-color: #008080\">   9</span> │ <span style=\"color: #008000; text-decoration-color: #008000\">▇    ▁</span> │  │\n",
       "│ │ <span style=\"color: #af87ff; text-decoration-color: #af87ff\">vm_4          </span> │ <span style=\"color: #008080; text-decoration-color: #008080\">    0</span> │ <span style=\"color: #008080; text-decoration-color: #008080\">     0</span> │ <span style=\"color: #008080; text-decoration-color: #008080\">   2.649</span> │ <span style=\"color: #008080; text-decoration-color: #008080\">  1.808</span> │ <span style=\"color: #008080; text-decoration-color: #008080\">      1</span> │ <span style=\"color: #008080; text-decoration-color: #008080\">      2</span> │ <span style=\"color: #008080; text-decoration-color: #008080\">      2</span> │ <span style=\"color: #008080; text-decoration-color: #008080\">    3</span> │ <span style=\"color: #008080; text-decoration-color: #008080\">   9</span> │ <span style=\"color: #008000; text-decoration-color: #008000\">▇▁▂  ▁</span> │  │\n",
       "│ │ <span style=\"color: #af87ff; text-decoration-color: #af87ff\">vm_5          </span> │ <span style=\"color: #008080; text-decoration-color: #008080\">    0</span> │ <span style=\"color: #008080; text-decoration-color: #008080\">     0</span> │ <span style=\"color: #008080; text-decoration-color: #008080\">   2.626</span> │ <span style=\"color: #008080; text-decoration-color: #008080\">    2.3</span> │ <span style=\"color: #008080; text-decoration-color: #008080\">      1</span> │ <span style=\"color: #008080; text-decoration-color: #008080\">      2</span> │ <span style=\"color: #008080; text-decoration-color: #008080\">      2</span> │ <span style=\"color: #008080; text-decoration-color: #008080\">    2</span> │ <span style=\"color: #008080; text-decoration-color: #008080\">   9</span> │ <span style=\"color: #008000; text-decoration-color: #008000\">▇    ▁</span> │  │\n",
       "│ │ <span style=\"color: #af87ff; text-decoration-color: #af87ff\">vm_6          </span> │ <span style=\"color: #008080; text-decoration-color: #008080\">    0</span> │ <span style=\"color: #008080; text-decoration-color: #008080\">     0</span> │ <span style=\"color: #008080; text-decoration-color: #008080\">   2.682</span> │ <span style=\"color: #008080; text-decoration-color: #008080\">  2.354</span> │ <span style=\"color: #008080; text-decoration-color: #008080\">      1</span> │ <span style=\"color: #008080; text-decoration-color: #008080\">      2</span> │ <span style=\"color: #008080; text-decoration-color: #008080\">      2</span> │ <span style=\"color: #008080; text-decoration-color: #008080\">    2</span> │ <span style=\"color: #008080; text-decoration-color: #008080\">   9</span> │ <span style=\"color: #008000; text-decoration-color: #008000\">▇    ▁</span> │  │\n",
       "│ │ <span style=\"color: #af87ff; text-decoration-color: #af87ff\">cv_1          </span> │ <span style=\"color: #008080; text-decoration-color: #008080\">    0</span> │ <span style=\"color: #008080; text-decoration-color: #008080\">     0</span> │ <span style=\"color: #008080; text-decoration-color: #008080\">   3.583</span> │ <span style=\"color: #008080; text-decoration-color: #008080\">  1.301</span> │ <span style=\"color: #008080; text-decoration-color: #008080\">      1</span> │ <span style=\"color: #008080; text-decoration-color: #008080\">      2</span> │ <span style=\"color: #008080; text-decoration-color: #008080\">      4</span> │ <span style=\"color: #008080; text-decoration-color: #008080\">    4</span> │ <span style=\"color: #008080; text-decoration-color: #008080\">   9</span> │ <span style=\"color: #008000; text-decoration-color: #008000\"> ▅ ▇▃ </span> │  │\n",
       "│ │ <span style=\"color: #af87ff; text-decoration-color: #af87ff\">cv_2          </span> │ <span style=\"color: #008080; text-decoration-color: #008080\">    0</span> │ <span style=\"color: #008080; text-decoration-color: #008080\">     0</span> │ <span style=\"color: #008080; text-decoration-color: #008080\">   3.761</span> │ <span style=\"color: #008080; text-decoration-color: #008080\">  1.283</span> │ <span style=\"color: #008080; text-decoration-color: #008080\">      1</span> │ <span style=\"color: #008080; text-decoration-color: #008080\">      4</span> │ <span style=\"color: #008080; text-decoration-color: #008080\">      4</span> │ <span style=\"color: #008080; text-decoration-color: #008080\">    5</span> │ <span style=\"color: #008080; text-decoration-color: #008080\">   9</span> │ <span style=\"color: #008000; text-decoration-color: #008000\"> ▃ ▇▅ </span> │  │\n",
       "│ │ <span style=\"color: #af87ff; text-decoration-color: #af87ff\">cv_3          </span> │ <span style=\"color: #008080; text-decoration-color: #008080\">    0</span> │ <span style=\"color: #008080; text-decoration-color: #008080\">     0</span> │ <span style=\"color: #008080; text-decoration-color: #008080\">   3.592</span> │ <span style=\"color: #008080; text-decoration-color: #008080\">  1.313</span> │ <span style=\"color: #008080; text-decoration-color: #008080\">      1</span> │ <span style=\"color: #008080; text-decoration-color: #008080\">      2</span> │ <span style=\"color: #008080; text-decoration-color: #008080\">      4</span> │ <span style=\"color: #008080; text-decoration-color: #008080\">    4</span> │ <span style=\"color: #008080; text-decoration-color: #008080\">   9</span> │ <span style=\"color: #008000; text-decoration-color: #008000\"> ▅ ▇▃ </span> │  │\n",
       "│ │ <span style=\"color: #af87ff; text-decoration-color: #af87ff\">cv_4          </span> │ <span style=\"color: #008080; text-decoration-color: #008080\">    0</span> │ <span style=\"color: #008080; text-decoration-color: #008080\">     0</span> │ <span style=\"color: #008080; text-decoration-color: #008080\">   3.771</span> │ <span style=\"color: #008080; text-decoration-color: #008080\">  1.264</span> │ <span style=\"color: #008080; text-decoration-color: #008080\">      1</span> │ <span style=\"color: #008080; text-decoration-color: #008080\">      4</span> │ <span style=\"color: #008080; text-decoration-color: #008080\">      4</span> │ <span style=\"color: #008080; text-decoration-color: #008080\">    5</span> │ <span style=\"color: #008080; text-decoration-color: #008080\">   9</span> │ <span style=\"color: #008000; text-decoration-color: #008000\"> ▃ ▇▅ </span> │  │\n",
       "│ │ <span style=\"color: #af87ff; text-decoration-color: #af87ff\">cv_5          </span> │ <span style=\"color: #008080; text-decoration-color: #008080\">    0</span> │ <span style=\"color: #008080; text-decoration-color: #008080\">     0</span> │ <span style=\"color: #008080; text-decoration-color: #008080\">   3.565</span> │ <span style=\"color: #008080; text-decoration-color: #008080\">  1.335</span> │ <span style=\"color: #008080; text-decoration-color: #008080\">      1</span> │ <span style=\"color: #008080; text-decoration-color: #008080\">      2</span> │ <span style=\"color: #008080; text-decoration-color: #008080\">      4</span> │ <span style=\"color: #008080; text-decoration-color: #008080\">    4</span> │ <span style=\"color: #008080; text-decoration-color: #008080\">   9</span> │ <span style=\"color: #008000; text-decoration-color: #008000\"> ▅ ▇▃ </span> │  │\n",
       "│ │ <span style=\"color: #af87ff; text-decoration-color: #af87ff\">cv_6          </span> │ <span style=\"color: #008080; text-decoration-color: #008080\">    0</span> │ <span style=\"color: #008080; text-decoration-color: #008080\">     0</span> │ <span style=\"color: #008080; text-decoration-color: #008080\">   3.702</span> │ <span style=\"color: #008080; text-decoration-color: #008080\">  1.286</span> │ <span style=\"color: #008080; text-decoration-color: #008080\">      1</span> │ <span style=\"color: #008080; text-decoration-color: #008080\">      3</span> │ <span style=\"color: #008080; text-decoration-color: #008080\">      4</span> │ <span style=\"color: #008080; text-decoration-color: #008080\">    4</span> │ <span style=\"color: #008080; text-decoration-color: #008080\">   9</span> │ <span style=\"color: #008000; text-decoration-color: #008000\"> ▃ ▇▃ </span> │  │\n",
       "│ │ <span style=\"color: #af87ff; text-decoration-color: #af87ff\">cv_7          </span> │ <span style=\"color: #008080; text-decoration-color: #008080\">    0</span> │ <span style=\"color: #008080; text-decoration-color: #008080\">     0</span> │ <span style=\"color: #008080; text-decoration-color: #008080\">   3.518</span> │ <span style=\"color: #008080; text-decoration-color: #008080\">  1.326</span> │ <span style=\"color: #008080; text-decoration-color: #008080\">      1</span> │ <span style=\"color: #008080; text-decoration-color: #008080\">      2</span> │ <span style=\"color: #008080; text-decoration-color: #008080\">      4</span> │ <span style=\"color: #008080; text-decoration-color: #008080\">    4</span> │ <span style=\"color: #008080; text-decoration-color: #008080\">   9</span> │ <span style=\"color: #008000; text-decoration-color: #008000\"> ▅ ▇▃ </span> │  │\n",
       "│ │ <span style=\"color: #af87ff; text-decoration-color: #af87ff\">cv_8          </span> │ <span style=\"color: #008080; text-decoration-color: #008080\">    0</span> │ <span style=\"color: #008080; text-decoration-color: #008080\">     0</span> │ <span style=\"color: #008080; text-decoration-color: #008080\">   3.583</span> │ <span style=\"color: #008080; text-decoration-color: #008080\">  1.308</span> │ <span style=\"color: #008080; text-decoration-color: #008080\">      1</span> │ <span style=\"color: #008080; text-decoration-color: #008080\">      2</span> │ <span style=\"color: #008080; text-decoration-color: #008080\">      4</span> │ <span style=\"color: #008080; text-decoration-color: #008080\">    4</span> │ <span style=\"color: #008080; text-decoration-color: #008080\">   9</span> │ <span style=\"color: #008000; text-decoration-color: #008000\"> ▅ ▇▃ </span> │  │\n",
       "│ │ <span style=\"color: #af87ff; text-decoration-color: #af87ff\">va_1          </span> │ <span style=\"color: #008080; text-decoration-color: #008080\">    0</span> │ <span style=\"color: #008080; text-decoration-color: #008080\">     0</span> │ <span style=\"color: #008080; text-decoration-color: #008080\">   1.327</span> │ <span style=\"color: #008080; text-decoration-color: #008080\"> 0.8507</span> │ <span style=\"color: #008080; text-decoration-color: #008080\">      1</span> │ <span style=\"color: #008080; text-decoration-color: #008080\">      1</span> │ <span style=\"color: #008080; text-decoration-color: #008080\">      1</span> │ <span style=\"color: #008080; text-decoration-color: #008080\">    2</span> │ <span style=\"color: #008080; text-decoration-color: #008080\">   9</span> │ <span style=\"color: #008000; text-decoration-color: #008000\">  ▇   </span> │  │\n",
       "│ │ <span style=\"color: #af87ff; text-decoration-color: #af87ff\">va_3          </span> │ <span style=\"color: #008080; text-decoration-color: #008080\">    0</span> │ <span style=\"color: #008080; text-decoration-color: #008080\">     0</span> │ <span style=\"color: #008080; text-decoration-color: #008080\">   1.455</span> │ <span style=\"color: #008080; text-decoration-color: #008080\">  1.108</span> │ <span style=\"color: #008080; text-decoration-color: #008080\">      1</span> │ <span style=\"color: #008080; text-decoration-color: #008080\">      1</span> │ <span style=\"color: #008080; text-decoration-color: #008080\">      1</span> │ <span style=\"color: #008080; text-decoration-color: #008080\">    2</span> │ <span style=\"color: #008080; text-decoration-color: #008080\">   9</span> │ <span style=\"color: #008000; text-decoration-color: #008000\">  ▇   </span> │  │\n",
       "│ │ <span style=\"color: #af87ff; text-decoration-color: #af87ff\">va_4          </span> │ <span style=\"color: #008080; text-decoration-color: #008080\">    0</span> │ <span style=\"color: #008080; text-decoration-color: #008080\">     0</span> │ <span style=\"color: #008080; text-decoration-color: #008080\">   1.721</span> │ <span style=\"color: #008080; text-decoration-color: #008080\">  1.544</span> │ <span style=\"color: #008080; text-decoration-color: #008080\">      1</span> │ <span style=\"color: #008080; text-decoration-color: #008080\">      1</span> │ <span style=\"color: #008080; text-decoration-color: #008080\">      1</span> │ <span style=\"color: #008080; text-decoration-color: #008080\">    2</span> │ <span style=\"color: #008080; text-decoration-color: #008080\">   9</span> │ <span style=\"color: #008000; text-decoration-color: #008000\">  ▇   </span> │  │\n",
       "│ │ <span style=\"color: #af87ff; text-decoration-color: #af87ff\">va_5          </span> │ <span style=\"color: #008080; text-decoration-color: #008080\">    0</span> │ <span style=\"color: #008080; text-decoration-color: #008080\">     0</span> │ <span style=\"color: #008080; text-decoration-color: #008080\">   2.036</span> │ <span style=\"color: #008080; text-decoration-color: #008080\">  1.345</span> │ <span style=\"color: #008080; text-decoration-color: #008080\">      1</span> │ <span style=\"color: #008080; text-decoration-color: #008080\">      2</span> │ <span style=\"color: #008080; text-decoration-color: #008080\">      2</span> │ <span style=\"color: #008080; text-decoration-color: #008080\">    2</span> │ <span style=\"color: #008080; text-decoration-color: #008080\">   9</span> │ <span style=\"color: #008000; text-decoration-color: #008000\">  ▇   </span> │  │\n",
       "│ │ <span style=\"color: #af87ff; text-decoration-color: #af87ff\">va_6          </span> │ <span style=\"color: #008080; text-decoration-color: #008080\">    0</span> │ <span style=\"color: #008080; text-decoration-color: #008080\">     0</span> │ <span style=\"color: #008080; text-decoration-color: #008080\">   1.952</span> │ <span style=\"color: #008080; text-decoration-color: #008080\"> 0.7881</span> │ <span style=\"color: #008080; text-decoration-color: #008080\">      1</span> │ <span style=\"color: #008080; text-decoration-color: #008080\">      2</span> │ <span style=\"color: #008080; text-decoration-color: #008080\">      2</span> │ <span style=\"color: #008080; text-decoration-color: #008080\">    2</span> │ <span style=\"color: #008080; text-decoration-color: #008080\">   9</span> │ <span style=\"color: #008000; text-decoration-color: #008000\">  ▇   </span> │  │\n",
       "│ │ <span style=\"color: #af87ff; text-decoration-color: #af87ff\">va_7_r        </span> │ <span style=\"color: #008080; text-decoration-color: #008080\"> 1906</span> │ <span style=\"color: #008080; text-decoration-color: #008080\"> 95.16</span> │ <span style=\"color: #008080; text-decoration-color: #008080\">   3.763</span> │ <span style=\"color: #008080; text-decoration-color: #008080\">   2.23</span> │ <span style=\"color: #008080; text-decoration-color: #008080\">      1</span> │ <span style=\"color: #008080; text-decoration-color: #008080\">      2</span> │ <span style=\"color: #008080; text-decoration-color: #008080\">      3</span> │ <span style=\"color: #008080; text-decoration-color: #008080\">    6</span> │ <span style=\"color: #008080; text-decoration-color: #008080\">   9</span> │ <span style=\"color: #008000; text-decoration-color: #008000\">▇▇▃▅▁▃</span> │  │\n",
       "│ │ <span style=\"color: #af87ff; text-decoration-color: #af87ff\">an_1          </span> │ <span style=\"color: #008080; text-decoration-color: #008080\">    0</span> │ <span style=\"color: #008080; text-decoration-color: #008080\">     0</span> │ <span style=\"color: #008080; text-decoration-color: #008080\">  0.1253</span> │ <span style=\"color: #008080; text-decoration-color: #008080\"> 0.7171</span> │ <span style=\"color: #008080; text-decoration-color: #008080\">      0</span> │ <span style=\"color: #008080; text-decoration-color: #008080\">      0</span> │ <span style=\"color: #008080; text-decoration-color: #008080\">      0</span> │ <span style=\"color: #008080; text-decoration-color: #008080\">    0</span> │ <span style=\"color: #008080; text-decoration-color: #008080\">   9</span> │ <span style=\"color: #008000; text-decoration-color: #008000\">  ▇   </span> │  │\n",
       "│ │ <span style=\"color: #af87ff; text-decoration-color: #af87ff\">an_2          </span> │ <span style=\"color: #008080; text-decoration-color: #008080\">    0</span> │ <span style=\"color: #008080; text-decoration-color: #008080\">     0</span> │ <span style=\"color: #008080; text-decoration-color: #008080\">  0.1208</span> │ <span style=\"color: #008080; text-decoration-color: #008080\"> 0.6956</span> │ <span style=\"color: #008080; text-decoration-color: #008080\">      0</span> │ <span style=\"color: #008080; text-decoration-color: #008080\">      0</span> │ <span style=\"color: #008080; text-decoration-color: #008080\">      0</span> │ <span style=\"color: #008080; text-decoration-color: #008080\">    0</span> │ <span style=\"color: #008080; text-decoration-color: #008080\">   9</span> │ <span style=\"color: #008000; text-decoration-color: #008000\">  ▇   </span> │  │\n",
       "│ │ <span style=\"color: #af87ff; text-decoration-color: #af87ff\">an_3          </span> │ <span style=\"color: #008080; text-decoration-color: #008080\">    0</span> │ <span style=\"color: #008080; text-decoration-color: #008080\">     0</span> │ <span style=\"color: #008080; text-decoration-color: #008080\">  0.1243</span> │ <span style=\"color: #008080; text-decoration-color: #008080\"> 0.7131</span> │ <span style=\"color: #008080; text-decoration-color: #008080\">      0</span> │ <span style=\"color: #008080; text-decoration-color: #008080\">      0</span> │ <span style=\"color: #008080; text-decoration-color: #008080\">      0</span> │ <span style=\"color: #008080; text-decoration-color: #008080\">    0</span> │ <span style=\"color: #008080; text-decoration-color: #008080\">   9</span> │ <span style=\"color: #008000; text-decoration-color: #008000\">  ▇   </span> │  │\n",
       "│ │ <span style=\"color: #af87ff; text-decoration-color: #af87ff\">an_4          </span> │ <span style=\"color: #008080; text-decoration-color: #008080\">    0</span> │ <span style=\"color: #008080; text-decoration-color: #008080\">     0</span> │ <span style=\"color: #008080; text-decoration-color: #008080\"> 0.07788</span> │ <span style=\"color: #008080; text-decoration-color: #008080\"> 0.6546</span> │ <span style=\"color: #008080; text-decoration-color: #008080\">      0</span> │ <span style=\"color: #008080; text-decoration-color: #008080\">      0</span> │ <span style=\"color: #008080; text-decoration-color: #008080\">      0</span> │ <span style=\"color: #008080; text-decoration-color: #008080\">    0</span> │ <span style=\"color: #008080; text-decoration-color: #008080\">   9</span> │ <span style=\"color: #008000; text-decoration-color: #008000\">  ▇   </span> │  │\n",
       "│ │ <span style=\"color: #af87ff; text-decoration-color: #af87ff\">an_5          </span> │ <span style=\"color: #008080; text-decoration-color: #008080\">    0</span> │ <span style=\"color: #008080; text-decoration-color: #008080\">     0</span> │ <span style=\"color: #008080; text-decoration-color: #008080\"> 0.08387</span> │ <span style=\"color: #008080; text-decoration-color: #008080\"> 0.6584</span> │ <span style=\"color: #008080; text-decoration-color: #008080\">      0</span> │ <span style=\"color: #008080; text-decoration-color: #008080\">      0</span> │ <span style=\"color: #008080; text-decoration-color: #008080\">      0</span> │ <span style=\"color: #008080; text-decoration-color: #008080\">    0</span> │ <span style=\"color: #008080; text-decoration-color: #008080\">   9</span> │ <span style=\"color: #008000; text-decoration-color: #008000\">  ▇   </span> │  │\n",
       "│ │ <span style=\"color: #af87ff; text-decoration-color: #af87ff\">an_6          </span> │ <span style=\"color: #008080; text-decoration-color: #008080\">    0</span> │ <span style=\"color: #008080; text-decoration-color: #008080\">     0</span> │ <span style=\"color: #008080; text-decoration-color: #008080\">    1.76</span> │ <span style=\"color: #008080; text-decoration-color: #008080\">  1.211</span> │ <span style=\"color: #008080; text-decoration-color: #008080\">      1</span> │ <span style=\"color: #008080; text-decoration-color: #008080\">      1</span> │ <span style=\"color: #008080; text-decoration-color: #008080\">      1</span> │ <span style=\"color: #008080; text-decoration-color: #008080\">    3</span> │ <span style=\"color: #008080; text-decoration-color: #008080\">   9</span> │ <span style=\"color: #008000; text-decoration-color: #008000\">  ▇▃  </span> │  │\n",
       "│ │ <span style=\"color: #af87ff; text-decoration-color: #af87ff\">an_7          </span> │ <span style=\"color: #008080; text-decoration-color: #008080\">  610</span> │ <span style=\"color: #008080; text-decoration-color: #008080\"> 30.45</span> │ <span style=\"color: #008080; text-decoration-color: #008080\">   2.379</span> │ <span style=\"color: #008080; text-decoration-color: #008080\">  1.358</span> │ <span style=\"color: #008080; text-decoration-color: #008080\">      1</span> │ <span style=\"color: #008080; text-decoration-color: #008080\">      2</span> │ <span style=\"color: #008080; text-decoration-color: #008080\">      2</span> │ <span style=\"color: #008080; text-decoration-color: #008080\">    3</span> │ <span style=\"color: #008080; text-decoration-color: #008080\">   9</span> │ <span style=\"color: #008000; text-decoration-color: #008000\"> ▇ ▂  </span> │  │\n",
       "│ │ <span style=\"color: #af87ff; text-decoration-color: #af87ff\">an_8          </span> │ <span style=\"color: #008080; text-decoration-color: #008080\">  610</span> │ <span style=\"color: #008080; text-decoration-color: #008080\"> 30.45</span> │ <span style=\"color: #008080; text-decoration-color: #008080\">   2.111</span> │ <span style=\"color: #008080; text-decoration-color: #008080\">  1.061</span> │ <span style=\"color: #008080; text-decoration-color: #008080\">      1</span> │ <span style=\"color: #008080; text-decoration-color: #008080\">      2</span> │ <span style=\"color: #008080; text-decoration-color: #008080\">      2</span> │ <span style=\"color: #008080; text-decoration-color: #008080\">    2</span> │ <span style=\"color: #008080; text-decoration-color: #008080\">   9</span> │ <span style=\"color: #008000; text-decoration-color: #008000\"> ▇ ▁  </span> │  │\n",
       "│ │ <span style=\"color: #af87ff; text-decoration-color: #af87ff\">an_9          </span> │ <span style=\"color: #008080; text-decoration-color: #008080\">  610</span> │ <span style=\"color: #008080; text-decoration-color: #008080\"> 30.45</span> │ <span style=\"color: #008080; text-decoration-color: #008080\">   1.828</span> │ <span style=\"color: #008080; text-decoration-color: #008080\"> 0.9176</span> │ <span style=\"color: #008080; text-decoration-color: #008080\">      1</span> │ <span style=\"color: #008080; text-decoration-color: #008080\">      1</span> │ <span style=\"color: #008080; text-decoration-color: #008080\">      2</span> │ <span style=\"color: #008080; text-decoration-color: #008080\">    2</span> │ <span style=\"color: #008080; text-decoration-color: #008080\">   9</span> │ <span style=\"color: #008000; text-decoration-color: #008000\">  ▇   </span> │  │\n",
       "│ │ <span style=\"color: #af87ff; text-decoration-color: #af87ff\">an_10         </span> │ <span style=\"color: #008080; text-decoration-color: #008080\">  610</span> │ <span style=\"color: #008080; text-decoration-color: #008080\"> 30.45</span> │ <span style=\"color: #008080; text-decoration-color: #008080\">   3.284</span> │ <span style=\"color: #008080; text-decoration-color: #008080\">  1.364</span> │ <span style=\"color: #008080; text-decoration-color: #008080\">      1</span> │ <span style=\"color: #008080; text-decoration-color: #008080\">      2</span> │ <span style=\"color: #008080; text-decoration-color: #008080\">      4</span> │ <span style=\"color: #008080; text-decoration-color: #008080\">    4</span> │ <span style=\"color: #008080; text-decoration-color: #008080\">   9</span> │ <span style=\"color: #008000; text-decoration-color: #008000\"> ▅▁▇▁ </span> │  │\n",
       "│ │ <span style=\"color: #af87ff; text-decoration-color: #af87ff\">an_11         </span> │ <span style=\"color: #008080; text-decoration-color: #008080\">  610</span> │ <span style=\"color: #008080; text-decoration-color: #008080\"> 30.45</span> │ <span style=\"color: #008080; text-decoration-color: #008080\">   2.671</span> │ <span style=\"color: #008080; text-decoration-color: #008080\">  1.647</span> │ <span style=\"color: #008080; text-decoration-color: #008080\">      1</span> │ <span style=\"color: #008080; text-decoration-color: #008080\">      2</span> │ <span style=\"color: #008080; text-decoration-color: #008080\">      2</span> │ <span style=\"color: #008080; text-decoration-color: #008080\">    3</span> │ <span style=\"color: #008080; text-decoration-color: #008080\">   9</span> │ <span style=\"color: #008000; text-decoration-color: #008000\">▇▁▂  ▁</span> │  │\n",
       "│ │ <span style=\"color: #af87ff; text-decoration-color: #af87ff\">an_12         </span> │ <span style=\"color: #008080; text-decoration-color: #008080\">  610</span> │ <span style=\"color: #008080; text-decoration-color: #008080\"> 30.45</span> │ <span style=\"color: #008080; text-decoration-color: #008080\">   2.391</span> │ <span style=\"color: #008080; text-decoration-color: #008080\">  1.647</span> │ <span style=\"color: #008080; text-decoration-color: #008080\">      1</span> │ <span style=\"color: #008080; text-decoration-color: #008080\">      2</span> │ <span style=\"color: #008080; text-decoration-color: #008080\">      2</span> │ <span style=\"color: #008080; text-decoration-color: #008080\">    2</span> │ <span style=\"color: #008080; text-decoration-color: #008080\">   9</span> │ <span style=\"color: #008000; text-decoration-color: #008000\"> ▇ ▁  </span> │  │\n",
       "│ │ <span style=\"color: #af87ff; text-decoration-color: #af87ff\">ef_1          </span> │ <span style=\"color: #008080; text-decoration-color: #008080\">    0</span> │ <span style=\"color: #008080; text-decoration-color: #008080\">     0</span> │ <span style=\"color: #008080; text-decoration-color: #008080\">   1.592</span> │ <span style=\"color: #008080; text-decoration-color: #008080\"> 0.9067</span> │ <span style=\"color: #008080; text-decoration-color: #008080\">      1</span> │ <span style=\"color: #008080; text-decoration-color: #008080\">      1</span> │ <span style=\"color: #008080; text-decoration-color: #008080\">      1</span> │ <span style=\"color: #008080; text-decoration-color: #008080\">    2</span> │ <span style=\"color: #008080; text-decoration-color: #008080\">   9</span> │ <span style=\"color: #008000; text-decoration-color: #008000\">  ▇   </span> │  │\n",
       "│ │ <span style=\"color: #af87ff; text-decoration-color: #af87ff\">ef_2          </span> │ <span style=\"color: #008080; text-decoration-color: #008080\">  982</span> │ <span style=\"color: #008080; text-decoration-color: #008080\"> 49.03</span> │ <span style=\"color: #008080; text-decoration-color: #008080\">   3.634</span> │ <span style=\"color: #008080; text-decoration-color: #008080\">  1.914</span> │ <span style=\"color: #008080; text-decoration-color: #008080\">      1</span> │ <span style=\"color: #008080; text-decoration-color: #008080\">      2</span> │ <span style=\"color: #008080; text-decoration-color: #008080\">      4</span> │ <span style=\"color: #008080; text-decoration-color: #008080\">    5</span> │ <span style=\"color: #008080; text-decoration-color: #008080\">   9</span> │ <span style=\"color: #008000; text-decoration-color: #008000\">▇▃▇▅ ▁</span> │  │\n",
       "│ │ <span style=\"color: #af87ff; text-decoration-color: #af87ff\">ef_3          </span> │ <span style=\"color: #008080; text-decoration-color: #008080\">    0</span> │ <span style=\"color: #008080; text-decoration-color: #008080\">     0</span> │ <span style=\"color: #008080; text-decoration-color: #008080\">   1.867</span> │ <span style=\"color: #008080; text-decoration-color: #008080\"> 0.7119</span> │ <span style=\"color: #008080; text-decoration-color: #008080\">      1</span> │ <span style=\"color: #008080; text-decoration-color: #008080\">      2</span> │ <span style=\"color: #008080; text-decoration-color: #008080\">      2</span> │ <span style=\"color: #008080; text-decoration-color: #008080\">    2</span> │ <span style=\"color: #008080; text-decoration-color: #008080\">   9</span> │ <span style=\"color: #008000; text-decoration-color: #008000\">  ▇   </span> │  │\n",
       "│ │ <span style=\"color: #af87ff; text-decoration-color: #af87ff\">ef_4          </span> │ <span style=\"color: #008080; text-decoration-color: #008080\">    0</span> │ <span style=\"color: #008080; text-decoration-color: #008080\">     0</span> │ <span style=\"color: #008080; text-decoration-color: #008080\">   1.856</span> │ <span style=\"color: #008080; text-decoration-color: #008080\"> 0.8432</span> │ <span style=\"color: #008080; text-decoration-color: #008080\">      1</span> │ <span style=\"color: #008080; text-decoration-color: #008080\">      2</span> │ <span style=\"color: #008080; text-decoration-color: #008080\">      2</span> │ <span style=\"color: #008080; text-decoration-color: #008080\">    2</span> │ <span style=\"color: #008080; text-decoration-color: #008080\">   9</span> │ <span style=\"color: #008000; text-decoration-color: #008000\">  ▇   </span> │  │\n",
       "│ │ <span style=\"color: #af87ff; text-decoration-color: #af87ff\">ef_5          </span> │ <span style=\"color: #008080; text-decoration-color: #008080\">    0</span> │ <span style=\"color: #008080; text-decoration-color: #008080\">     0</span> │ <span style=\"color: #008080; text-decoration-color: #008080\">   1.859</span> │ <span style=\"color: #008080; text-decoration-color: #008080\"> 0.7903</span> │ <span style=\"color: #008080; text-decoration-color: #008080\">      1</span> │ <span style=\"color: #008080; text-decoration-color: #008080\">      2</span> │ <span style=\"color: #008080; text-decoration-color: #008080\">      2</span> │ <span style=\"color: #008080; text-decoration-color: #008080\">    2</span> │ <span style=\"color: #008080; text-decoration-color: #008080\">   9</span> │ <span style=\"color: #008000; text-decoration-color: #008000\">  ▇   </span> │  │\n",
       "│ │ <span style=\"color: #af87ff; text-decoration-color: #af87ff\">ef_6          </span> │ <span style=\"color: #008080; text-decoration-color: #008080\">    0</span> │ <span style=\"color: #008080; text-decoration-color: #008080\">     0</span> │ <span style=\"color: #008080; text-decoration-color: #008080\">   1.944</span> │ <span style=\"color: #008080; text-decoration-color: #008080\"> 0.7825</span> │ <span style=\"color: #008080; text-decoration-color: #008080\">      1</span> │ <span style=\"color: #008080; text-decoration-color: #008080\">      2</span> │ <span style=\"color: #008080; text-decoration-color: #008080\">      2</span> │ <span style=\"color: #008080; text-decoration-color: #008080\">    2</span> │ <span style=\"color: #008080; text-decoration-color: #008080\">   9</span> │ <span style=\"color: #008000; text-decoration-color: #008000\">  ▇   </span> │  │\n",
       "│ │ <span style=\"color: #af87ff; text-decoration-color: #af87ff\">ef_7          </span> │ <span style=\"color: #008080; text-decoration-color: #008080\">    0</span> │ <span style=\"color: #008080; text-decoration-color: #008080\">     0</span> │ <span style=\"color: #008080; text-decoration-color: #008080\">   1.727</span> │ <span style=\"color: #008080; text-decoration-color: #008080\"> 0.8544</span> │ <span style=\"color: #008080; text-decoration-color: #008080\">      1</span> │ <span style=\"color: #008080; text-decoration-color: #008080\">      1</span> │ <span style=\"color: #008080; text-decoration-color: #008080\">      2</span> │ <span style=\"color: #008080; text-decoration-color: #008080\">    2</span> │ <span style=\"color: #008080; text-decoration-color: #008080\">   9</span> │ <span style=\"color: #008000; text-decoration-color: #008000\">  ▇   </span> │  │\n",
       "│ │ <span style=\"color: #af87ff; text-decoration-color: #af87ff\">ef_8          </span> │ <span style=\"color: #008080; text-decoration-color: #008080\">    0</span> │ <span style=\"color: #008080; text-decoration-color: #008080\">     0</span> │ <span style=\"color: #008080; text-decoration-color: #008080\">   1.576</span> │ <span style=\"color: #008080; text-decoration-color: #008080\"> 0.9422</span> │ <span style=\"color: #008080; text-decoration-color: #008080\">      1</span> │ <span style=\"color: #008080; text-decoration-color: #008080\">      1</span> │ <span style=\"color: #008080; text-decoration-color: #008080\">      1</span> │ <span style=\"color: #008080; text-decoration-color: #008080\">    2</span> │ <span style=\"color: #008080; text-decoration-color: #008080\">   9</span> │ <span style=\"color: #008000; text-decoration-color: #008000\">  ▇   </span> │  │\n",
       "│ │ <span style=\"color: #af87ff; text-decoration-color: #af87ff\">ef_9          </span> │ <span style=\"color: #008080; text-decoration-color: #008080\">    0</span> │ <span style=\"color: #008080; text-decoration-color: #008080\">     0</span> │ <span style=\"color: #008080; text-decoration-color: #008080\">   1.755</span> │ <span style=\"color: #008080; text-decoration-color: #008080\"> 0.8465</span> │ <span style=\"color: #008080; text-decoration-color: #008080\">      1</span> │ <span style=\"color: #008080; text-decoration-color: #008080\">      1</span> │ <span style=\"color: #008080; text-decoration-color: #008080\">      2</span> │ <span style=\"color: #008080; text-decoration-color: #008080\">    2</span> │ <span style=\"color: #008080; text-decoration-color: #008080\">   9</span> │ <span style=\"color: #008000; text-decoration-color: #008000\">  ▇   </span> │  │\n",
       "│ │ <span style=\"color: #af87ff; text-decoration-color: #af87ff\">ef_10         </span> │ <span style=\"color: #008080; text-decoration-color: #008080\">    0</span> │ <span style=\"color: #008080; text-decoration-color: #008080\">     0</span> │ <span style=\"color: #008080; text-decoration-color: #008080\">   2.862</span> │ <span style=\"color: #008080; text-decoration-color: #008080\">   1.07</span> │ <span style=\"color: #008080; text-decoration-color: #008080\">      1</span> │ <span style=\"color: #008080; text-decoration-color: #008080\">      2</span> │ <span style=\"color: #008080; text-decoration-color: #008080\">      3</span> │ <span style=\"color: #008080; text-decoration-color: #008080\">    3</span> │ <span style=\"color: #008080; text-decoration-color: #008080\">   9</span> │ <span style=\"color: #008000; text-decoration-color: #008000\"> ▅▇▃  </span> │  │\n",
       "│ │ <span style=\"color: #af87ff; text-decoration-color: #af87ff\">nf_1          </span> │ <span style=\"color: #008080; text-decoration-color: #008080\">    0</span> │ <span style=\"color: #008080; text-decoration-color: #008080\">     0</span> │ <span style=\"color: #008080; text-decoration-color: #008080\">   1.728</span> │ <span style=\"color: #008080; text-decoration-color: #008080\"> 0.9472</span> │ <span style=\"color: #008080; text-decoration-color: #008080\">      1</span> │ <span style=\"color: #008080; text-decoration-color: #008080\">      1</span> │ <span style=\"color: #008080; text-decoration-color: #008080\">      2</span> │ <span style=\"color: #008080; text-decoration-color: #008080\">    2</span> │ <span style=\"color: #008080; text-decoration-color: #008080\">   9</span> │ <span style=\"color: #008000; text-decoration-color: #008000\">  ▇   </span> │  │\n",
       "│ │ <span style=\"color: #af87ff; text-decoration-color: #af87ff\">nf_2          </span> │ <span style=\"color: #008080; text-decoration-color: #008080\"> 1284</span> │ <span style=\"color: #008080; text-decoration-color: #008080\">  64.1</span> │ <span style=\"color: #008080; text-decoration-color: #008080\">   1.862</span> │ <span style=\"color: #008080; text-decoration-color: #008080\"> 0.4437</span> │ <span style=\"color: #008080; text-decoration-color: #008080\">      1</span> │ <span style=\"color: #008080; text-decoration-color: #008080\">      2</span> │ <span style=\"color: #008080; text-decoration-color: #008080\">      2</span> │ <span style=\"color: #008080; text-decoration-color: #008080\">    2</span> │ <span style=\"color: #008080; text-decoration-color: #008080\">   9</span> │ <span style=\"color: #008000; text-decoration-color: #008000\">  ▇   </span> │  │\n",
       "│ │ <span style=\"color: #af87ff; text-decoration-color: #af87ff\">nf_3          </span> │ <span style=\"color: #008080; text-decoration-color: #008080\"> 1285</span> │ <span style=\"color: #008080; text-decoration-color: #008080\"> 64.15</span> │ <span style=\"color: #008080; text-decoration-color: #008080\">     2.1</span> │ <span style=\"color: #008080; text-decoration-color: #008080\">  1.869</span> │ <span style=\"color: #008080; text-decoration-color: #008080\">      1</span> │ <span style=\"color: #008080; text-decoration-color: #008080\">      1</span> │ <span style=\"color: #008080; text-decoration-color: #008080\">      1</span> │ <span style=\"color: #008080; text-decoration-color: #008080\">    3</span> │ <span style=\"color: #008080; text-decoration-color: #008080\">   9</span> │ <span style=\"color: #008000; text-decoration-color: #008000\"> ▇ ▁▁ </span> │  │\n",
       "│ │ <span style=\"color: #af87ff; text-decoration-color: #af87ff\">nf_4          </span> │ <span style=\"color: #008080; text-decoration-color: #008080\"> 1295</span> │ <span style=\"color: #008080; text-decoration-color: #008080\"> 64.65</span> │ <span style=\"color: #008080; text-decoration-color: #008080\">   3.446</span> │ <span style=\"color: #008080; text-decoration-color: #008080\">  2.592</span> │ <span style=\"color: #008080; text-decoration-color: #008080\">      1</span> │ <span style=\"color: #008080; text-decoration-color: #008080\">      1</span> │ <span style=\"color: #008080; text-decoration-color: #008080\">      3</span> │ <span style=\"color: #008080; text-decoration-color: #008080\">    5</span> │ <span style=\"color: #008080; text-decoration-color: #008080\">   9</span> │ <span style=\"color: #008000; text-decoration-color: #008000\">▇▁▂▃▁▂</span> │  │\n",
       "│ │ <span style=\"color: #af87ff; text-decoration-color: #af87ff\">nf_5          </span> │ <span style=\"color: #008080; text-decoration-color: #008080\"> 1285</span> │ <span style=\"color: #008080; text-decoration-color: #008080\"> 64.15</span> │ <span style=\"color: #008080; text-decoration-color: #008080\">   5.113</span> │ <span style=\"color: #008080; text-decoration-color: #008080\">  2.617</span> │ <span style=\"color: #008080; text-decoration-color: #008080\">      1</span> │ <span style=\"color: #008080; text-decoration-color: #008080\">      3</span> │ <span style=\"color: #008080; text-decoration-color: #008080\">      6</span> │ <span style=\"color: #008080; text-decoration-color: #008080\">    6</span> │ <span style=\"color: #008080; text-decoration-color: #008080\">   9</span> │ <span style=\"color: #008000; text-decoration-color: #008000\">▃▅▁▇ ▅</span> │  │\n",
       "│ │ <span style=\"color: #af87ff; text-decoration-color: #af87ff\">fa_1          </span> │ <span style=\"color: #008080; text-decoration-color: #008080\">    0</span> │ <span style=\"color: #008080; text-decoration-color: #008080\">     0</span> │ <span style=\"color: #008080; text-decoration-color: #008080\">   1.323</span> │ <span style=\"color: #008080; text-decoration-color: #008080\">  1.221</span> │ <span style=\"color: #008080; text-decoration-color: #008080\">      1</span> │ <span style=\"color: #008080; text-decoration-color: #008080\">      1</span> │ <span style=\"color: #008080; text-decoration-color: #008080\">      1</span> │ <span style=\"color: #008080; text-decoration-color: #008080\">    1</span> │ <span style=\"color: #008080; text-decoration-color: #008080\">   9</span> │ <span style=\"color: #008000; text-decoration-color: #008000\">  ▇   </span> │  │\n",
       "│ │ <span style=\"color: #af87ff; text-decoration-color: #af87ff\">fa_2          </span> │ <span style=\"color: #008080; text-decoration-color: #008080\">    0</span> │ <span style=\"color: #008080; text-decoration-color: #008080\">     0</span> │ <span style=\"color: #008080; text-decoration-color: #008080\">   2.033</span> │ <span style=\"color: #008080; text-decoration-color: #008080\">  1.573</span> │ <span style=\"color: #008080; text-decoration-color: #008080\">      1</span> │ <span style=\"color: #008080; text-decoration-color: #008080\">      1</span> │ <span style=\"color: #008080; text-decoration-color: #008080\">      2</span> │ <span style=\"color: #008080; text-decoration-color: #008080\">    2</span> │ <span style=\"color: #008080; text-decoration-color: #008080\">   9</span> │ <span style=\"color: #008000; text-decoration-color: #008000\">  ▇   </span> │  │\n",
       "│ │ <span style=\"color: #af87ff; text-decoration-color: #af87ff\">fa_3          </span> │ <span style=\"color: #008080; text-decoration-color: #008080\">    0</span> │ <span style=\"color: #008080; text-decoration-color: #008080\">     0</span> │ <span style=\"color: #008080; text-decoration-color: #008080\">   1.311</span> │ <span style=\"color: #008080; text-decoration-color: #008080\">  1.174</span> │ <span style=\"color: #008080; text-decoration-color: #008080\">      1</span> │ <span style=\"color: #008080; text-decoration-color: #008080\">      1</span> │ <span style=\"color: #008080; text-decoration-color: #008080\">      1</span> │ <span style=\"color: #008080; text-decoration-color: #008080\">    1</span> │ <span style=\"color: #008080; text-decoration-color: #008080\">   9</span> │ <span style=\"color: #008000; text-decoration-color: #008000\">  ▇   </span> │  │\n",
       "│ │ <span style=\"color: #af87ff; text-decoration-color: #af87ff\">fa_4          </span> │ <span style=\"color: #008080; text-decoration-color: #008080\">    0</span> │ <span style=\"color: #008080; text-decoration-color: #008080\">     0</span> │ <span style=\"color: #008080; text-decoration-color: #008080\">   2.068</span> │ <span style=\"color: #008080; text-decoration-color: #008080\">  1.675</span> │ <span style=\"color: #008080; text-decoration-color: #008080\">      1</span> │ <span style=\"color: #008080; text-decoration-color: #008080\">      1</span> │ <span style=\"color: #008080; text-decoration-color: #008080\">      2</span> │ <span style=\"color: #008080; text-decoration-color: #008080\">    2</span> │ <span style=\"color: #008080; text-decoration-color: #008080\">   9</span> │ <span style=\"color: #008000; text-decoration-color: #008000\">▇    ▁</span> │  │\n",
       "│ │ <span style=\"color: #af87ff; text-decoration-color: #af87ff\">cs_1          </span> │ <span style=\"color: #008080; text-decoration-color: #008080\">    0</span> │ <span style=\"color: #008080; text-decoration-color: #008080\">     0</span> │ <span style=\"color: #008080; text-decoration-color: #008080\">   1.537</span> │ <span style=\"color: #008080; text-decoration-color: #008080\"> 0.4987</span> │ <span style=\"color: #008080; text-decoration-color: #008080\">      1</span> │ <span style=\"color: #008080; text-decoration-color: #008080\">      1</span> │ <span style=\"color: #008080; text-decoration-color: #008080\">      2</span> │ <span style=\"color: #008080; text-decoration-color: #008080\">    2</span> │ <span style=\"color: #008080; text-decoration-color: #008080\">   2</span> │ <span style=\"color: #008000; text-decoration-color: #008000\">▇    ▇</span> │  │\n",
       "│ │ <span style=\"color: #af87ff; text-decoration-color: #af87ff\">cs_2          </span> │ <span style=\"color: #008080; text-decoration-color: #008080\">    0</span> │ <span style=\"color: #008080; text-decoration-color: #008080\">     0</span> │ <span style=\"color: #008080; text-decoration-color: #008080\">   41.17</span> │ <span style=\"color: #008080; text-decoration-color: #008080\">  15.75</span> │ <span style=\"color: #008080; text-decoration-color: #008080\">     18</span> │ <span style=\"color: #008080; text-decoration-color: #008080\">     28</span> │ <span style=\"color: #008080; text-decoration-color: #008080\">     39</span> │ <span style=\"color: #008080; text-decoration-color: #008080\">   53</span> │ <span style=\"color: #008080; text-decoration-color: #008080\">  87</span> │ <span style=\"color: #008000; text-decoration-color: #008000\">▇▇▅▅▂ </span> │  │\n",
       "│ │ <span style=\"color: #af87ff; text-decoration-color: #af87ff\">cs_3          </span> │ <span style=\"color: #008080; text-decoration-color: #008080\">    0</span> │ <span style=\"color: #008080; text-decoration-color: #008080\">     0</span> │ <span style=\"color: #008080; text-decoration-color: #008080\">   150.8</span> │ <span style=\"color: #008080; text-decoration-color: #008080\">  255.6</span> │ <span style=\"color: #008080; text-decoration-color: #008080\">     31</span> │ <span style=\"color: #008080; text-decoration-color: #008080\">     64</span> │ <span style=\"color: #008080; text-decoration-color: #008080\">     74</span> │ <span style=\"color: #008080; text-decoration-color: #008080\">   87</span> │ <span style=\"color: #008080; text-decoration-color: #008080\"> 999</span> │ <span style=\"color: #008000; text-decoration-color: #008000\">▇    ▁</span> │  │\n",
       "│ │ <span style=\"color: #af87ff; text-decoration-color: #af87ff\">cs_4          </span> │ <span style=\"color: #008080; text-decoration-color: #008080\">    0</span> │ <span style=\"color: #008080; text-decoration-color: #008080\">     0</span> │ <span style=\"color: #008080; text-decoration-color: #008080\">     221</span> │ <span style=\"color: #008080; text-decoration-color: #008080\">  207.8</span> │ <span style=\"color: #008080; text-decoration-color: #008080\">    100</span> │ <span style=\"color: #008080; text-decoration-color: #008080\">    160</span> │ <span style=\"color: #008080; text-decoration-color: #008080\">    167</span> │ <span style=\"color: #008080; text-decoration-color: #008080\">  174</span> │ <span style=\"color: #008080; text-decoration-color: #008080\"> 999</span> │ <span style=\"color: #008000; text-decoration-color: #008000\">▇    ▁</span> │  │\n",
       "│ │ <span style=\"color: #af87ff; text-decoration-color: #af87ff\">cs_5          </span> │ <span style=\"color: #008080; text-decoration-color: #008080\">    0</span> │ <span style=\"color: #008080; text-decoration-color: #008080\">     0</span> │ <span style=\"color: #008080; text-decoration-color: #008080\">   3.935</span> │ <span style=\"color: #008080; text-decoration-color: #008080\">  1.607</span> │ <span style=\"color: #008080; text-decoration-color: #008080\">      1</span> │ <span style=\"color: #008080; text-decoration-color: #008080\">      3</span> │ <span style=\"color: #008080; text-decoration-color: #008080\">      4</span> │ <span style=\"color: #008080; text-decoration-color: #008080\">    5</span> │ <span style=\"color: #008080; text-decoration-color: #008080\">   6</span> │ <span style=\"color: #008000; text-decoration-color: #008000\">▂▅▅▇▅▇</span> │  │\n",
       "│ │ <span style=\"color: #af87ff; text-decoration-color: #af87ff\">cs_6_a        </span> │ <span style=\"color: #008080; text-decoration-color: #008080\">    0</span> │ <span style=\"color: #008080; text-decoration-color: #008080\">     0</span> │ <span style=\"color: #008080; text-decoration-color: #008080\">   2.341</span> │ <span style=\"color: #008080; text-decoration-color: #008080\">  1.778</span> │ <span style=\"color: #008080; text-decoration-color: #008080\">      1</span> │ <span style=\"color: #008080; text-decoration-color: #008080\">      1</span> │ <span style=\"color: #008080; text-decoration-color: #008080\">      1</span> │ <span style=\"color: #008080; text-decoration-color: #008080\">    4</span> │ <span style=\"color: #008080; text-decoration-color: #008080\">   9</span> │ <span style=\"color: #008000; text-decoration-color: #008000\"> ▇▁▂▁ </span> │  │\n",
       "│ │ <span style=\"color: #af87ff; text-decoration-color: #af87ff\">cs_7          </span> │ <span style=\"color: #008080; text-decoration-color: #008080\">    0</span> │ <span style=\"color: #008080; text-decoration-color: #008080\">     0</span> │ <span style=\"color: #008080; text-decoration-color: #008080\">   1.157</span> │ <span style=\"color: #008080; text-decoration-color: #008080\"> 0.6633</span> │ <span style=\"color: #008080; text-decoration-color: #008080\">      1</span> │ <span style=\"color: #008080; text-decoration-color: #008080\">      1</span> │ <span style=\"color: #008080; text-decoration-color: #008080\">      1</span> │ <span style=\"color: #008080; text-decoration-color: #008080\">    1</span> │ <span style=\"color: #008080; text-decoration-color: #008080\">   9</span> │ <span style=\"color: #008000; text-decoration-color: #008000\">  ▇   </span> │  │\n",
       "│ │ <span style=\"color: #af87ff; text-decoration-color: #af87ff\">cs_8          </span> │ <span style=\"color: #008080; text-decoration-color: #008080\">    0</span> │ <span style=\"color: #008080; text-decoration-color: #008080\">     0</span> │ <span style=\"color: #008080; text-decoration-color: #008080\">   1.742</span> │ <span style=\"color: #008080; text-decoration-color: #008080\"> 0.8982</span> │ <span style=\"color: #008080; text-decoration-color: #008080\">      1</span> │ <span style=\"color: #008080; text-decoration-color: #008080\">      1</span> │ <span style=\"color: #008080; text-decoration-color: #008080\">      2</span> │ <span style=\"color: #008080; text-decoration-color: #008080\">    2</span> │ <span style=\"color: #008080; text-decoration-color: #008080\">   9</span> │ <span style=\"color: #008000; text-decoration-color: #008000\">  ▇   </span> │  │\n",
       "│ │ <span style=\"color: #af87ff; text-decoration-color: #af87ff\">cs_9          </span> │ <span style=\"color: #008080; text-decoration-color: #008080\">    0</span> │ <span style=\"color: #008080; text-decoration-color: #008080\">     0</span> │ <span style=\"color: #008080; text-decoration-color: #008080\">   1.981</span> │ <span style=\"color: #008080; text-decoration-color: #008080\"> 0.7229</span> │ <span style=\"color: #008080; text-decoration-color: #008080\">      1</span> │ <span style=\"color: #008080; text-decoration-color: #008080\">      2</span> │ <span style=\"color: #008080; text-decoration-color: #008080\">      2</span> │ <span style=\"color: #008080; text-decoration-color: #008080\">    2</span> │ <span style=\"color: #008080; text-decoration-color: #008080\">   9</span> │ <span style=\"color: #008000; text-decoration-color: #008000\">  ▇   </span> │  │\n",
       "│ │ <span style=\"color: #af87ff; text-decoration-color: #af87ff\">cs_10_a       </span> │ <span style=\"color: #008080; text-decoration-color: #008080\">    0</span> │ <span style=\"color: #008080; text-decoration-color: #008080\">     0</span> │ <span style=\"color: #008080; text-decoration-color: #008080\">    1.46</span> │ <span style=\"color: #008080; text-decoration-color: #008080\"> 0.9143</span> │ <span style=\"color: #008080; text-decoration-color: #008080\">      1</span> │ <span style=\"color: #008080; text-decoration-color: #008080\">      1</span> │ <span style=\"color: #008080; text-decoration-color: #008080\">      1</span> │ <span style=\"color: #008080; text-decoration-color: #008080\">    2</span> │ <span style=\"color: #008080; text-decoration-color: #008080\">   9</span> │ <span style=\"color: #008000; text-decoration-color: #008000\">  ▇   </span> │  │\n",
       "│ │ <span style=\"color: #af87ff; text-decoration-color: #af87ff\">cs_10_br      </span> │ <span style=\"color: #008080; text-decoration-color: #008080\">    0</span> │ <span style=\"color: #008080; text-decoration-color: #008080\">     0</span> │ <span style=\"color: #008080; text-decoration-color: #008080\">   9.493</span> │ <span style=\"color: #008080; text-decoration-color: #008080\">  8.628</span> │ <span style=\"color: #008080; text-decoration-color: #008080\">      1</span> │ <span style=\"color: #008080; text-decoration-color: #008080\">      1</span> │ <span style=\"color: #008080; text-decoration-color: #008080\">      6</span> │ <span style=\"color: #008080; text-decoration-color: #008080\">   20</span> │ <span style=\"color: #008080; text-decoration-color: #008080\">  20</span> │ <span style=\"color: #008000; text-decoration-color: #008000\">▇▃   ▇</span> │  │\n",
       "│ │ <span style=\"color: #af87ff; text-decoration-color: #af87ff\">cs_10_br_2    </span> │ <span style=\"color: #008080; text-decoration-color: #008080\">    0</span> │ <span style=\"color: #008080; text-decoration-color: #008080\">     0</span> │ <span style=\"color: #008080; text-decoration-color: #008080\">   8.669</span> │ <span style=\"color: #008080; text-decoration-color: #008080\">  9.051</span> │ <span style=\"color: #008080; text-decoration-color: #008080\">      1</span> │ <span style=\"color: #008080; text-decoration-color: #008080\">      1</span> │ <span style=\"color: #008080; text-decoration-color: #008080\">      2</span> │ <span style=\"color: #008080; text-decoration-color: #008080\">   20</span> │ <span style=\"color: #008080; text-decoration-color: #008080\">  20</span> │ <span style=\"color: #008000; text-decoration-color: #008000\">▇    ▅</span> │  │\n",
       "│ │ <span style=\"color: #af87ff; text-decoration-color: #af87ff\">cs_10_c       </span> │ <span style=\"color: #008080; text-decoration-color: #008080\">    0</span> │ <span style=\"color: #008080; text-decoration-color: #008080\">     0</span> │ <span style=\"color: #008080; text-decoration-color: #008080\">   2.029</span> │ <span style=\"color: #008080; text-decoration-color: #008080\"> 0.9302</span> │ <span style=\"color: #008080; text-decoration-color: #008080\">      1</span> │ <span style=\"color: #008080; text-decoration-color: #008080\">      2</span> │ <span style=\"color: #008080; text-decoration-color: #008080\">      2</span> │ <span style=\"color: #008080; text-decoration-color: #008080\">    2</span> │ <span style=\"color: #008080; text-decoration-color: #008080\">   9</span> │ <span style=\"color: #008000; text-decoration-color: #008000\">  ▇   </span> │  │\n",
       "│ │ <span style=\"color: #af87ff; text-decoration-color: #af87ff\">cs_11_a       </span> │ <span style=\"color: #008080; text-decoration-color: #008080\">    0</span> │ <span style=\"color: #008080; text-decoration-color: #008080\">     0</span> │ <span style=\"color: #008080; text-decoration-color: #008080\">   6.331</span> │ <span style=\"color: #008080; text-decoration-color: #008080\">  15.53</span> │ <span style=\"color: #008080; text-decoration-color: #008080\">      1</span> │ <span style=\"color: #008080; text-decoration-color: #008080\">      3</span> │ <span style=\"color: #008080; text-decoration-color: #008080\">      4</span> │ <span style=\"color: #008080; text-decoration-color: #008080\">    5</span> │ <span style=\"color: #008080; text-decoration-color: #008080\">  99</span> │ <span style=\"color: #008000; text-decoration-color: #008000\">  ▇   </span> │  │\n",
       "│ │ <span style=\"color: #af87ff; text-decoration-color: #af87ff\">cs_11_b       </span> │ <span style=\"color: #008080; text-decoration-color: #008080\">   54</span> │ <span style=\"color: #008080; text-decoration-color: #008080\">   2.7</span> │ <span style=\"color: #008080; text-decoration-color: #008080\">   2.923</span> │ <span style=\"color: #008080; text-decoration-color: #008080\">  1.478</span> │ <span style=\"color: #008080; text-decoration-color: #008080\">      1</span> │ <span style=\"color: #008080; text-decoration-color: #008080\">      2</span> │ <span style=\"color: #008080; text-decoration-color: #008080\">      3</span> │ <span style=\"color: #008080; text-decoration-color: #008080\">    4</span> │ <span style=\"color: #008080; text-decoration-color: #008080\">  20</span> │ <span style=\"color: #008000; text-decoration-color: #008000\">  ▇▁  </span> │  │\n",
       "│ │ <span style=\"color: #af87ff; text-decoration-color: #af87ff\">cs_11_c       </span> │ <span style=\"color: #008080; text-decoration-color: #008080\">   54</span> │ <span style=\"color: #008080; text-decoration-color: #008080\">   2.7</span> │ <span style=\"color: #008080; text-decoration-color: #008080\">  0.8409</span> │ <span style=\"color: #008080; text-decoration-color: #008080\">  1.109</span> │ <span style=\"color: #008080; text-decoration-color: #008080\">      0</span> │ <span style=\"color: #008080; text-decoration-color: #008080\">      0</span> │ <span style=\"color: #008080; text-decoration-color: #008080\">      0</span> │ <span style=\"color: #008080; text-decoration-color: #008080\">    1</span> │ <span style=\"color: #008080; text-decoration-color: #008080\">   6</span> │ <span style=\"color: #008000; text-decoration-color: #008000\"> ▇▃▂▁ </span> │  │\n",
       "│ │ <span style=\"color: #af87ff; text-decoration-color: #af87ff\">cs_15_a       </span> │ <span style=\"color: #008080; text-decoration-color: #008080\">    0</span> │ <span style=\"color: #008080; text-decoration-color: #008080\">     0</span> │ <span style=\"color: #008080; text-decoration-color: #008080\">   22.01</span> │ <span style=\"color: #008080; text-decoration-color: #008080\">  2.024</span> │ <span style=\"color: #008080; text-decoration-color: #008080\">     19</span> │ <span style=\"color: #008080; text-decoration-color: #008080\">     20</span> │ <span style=\"color: #008080; text-decoration-color: #008080\">     22</span> │ <span style=\"color: #008080; text-decoration-color: #008080\">   23</span> │ <span style=\"color: #008080; text-decoration-color: #008080\">  28</span> │ <span style=\"color: #008000; text-decoration-color: #008000\">▆▃▇▁▃ </span> │  │\n",
       "│ │ <span style=\"color: #af87ff; text-decoration-color: #af87ff\">cs_15_b       </span> │ <span style=\"color: #008080; text-decoration-color: #008080\">    0</span> │ <span style=\"color: #008080; text-decoration-color: #008080\">     0</span> │ <span style=\"color: #008080; text-decoration-color: #008080\">      10</span> │ <span style=\"color: #008080; text-decoration-color: #008080\">      0</span> │ <span style=\"color: #008080; text-decoration-color: #008080\">     10</span> │ <span style=\"color: #008080; text-decoration-color: #008080\">     10</span> │ <span style=\"color: #008080; text-decoration-color: #008080\">     10</span> │ <span style=\"color: #008080; text-decoration-color: #008080\">   10</span> │ <span style=\"color: #008080; text-decoration-color: #008080\">  10</span> │ <span style=\"color: #008000; text-decoration-color: #008000\">    ▇ </span> │  │\n",
       "│ │ <span style=\"color: #af87ff; text-decoration-color: #af87ff\">cs_16         </span> │ <span style=\"color: #008080; text-decoration-color: #008080\">    0</span> │ <span style=\"color: #008080; text-decoration-color: #008080\">     0</span> │ <span style=\"color: #008080; text-decoration-color: #008080\">   1.312</span> │ <span style=\"color: #008080; text-decoration-color: #008080\"> 0.6248</span> │ <span style=\"color: #008080; text-decoration-color: #008080\">      1</span> │ <span style=\"color: #008080; text-decoration-color: #008080\">      1</span> │ <span style=\"color: #008080; text-decoration-color: #008080\">      1</span> │ <span style=\"color: #008080; text-decoration-color: #008080\">    1</span> │ <span style=\"color: #008080; text-decoration-color: #008080\">   7</span> │ <span style=\"color: #008000; text-decoration-color: #008000\">  ▇▂  </span> │  │\n",
       "│ │ <span style=\"color: #af87ff; text-decoration-color: #af87ff\">cs_18         </span> │ <span style=\"color: #008080; text-decoration-color: #008080\">    0</span> │ <span style=\"color: #008080; text-decoration-color: #008080\">     0</span> │ <span style=\"color: #008080; text-decoration-color: #008080\">    2460</span> │ <span style=\"color: #008080; text-decoration-color: #008080\">   1475</span> │ <span style=\"color: #008080; text-decoration-color: #008080\">      0</span> │ <span style=\"color: #008080; text-decoration-color: #008080\">   1188</span> │ <span style=\"color: #008080; text-decoration-color: #008080\">   2435</span> │ <span style=\"color: #008080; text-decoration-color: #008080\"> 3722</span> │ <span style=\"color: #008080; text-decoration-color: #008080\">4993</span> │ <span style=\"color: #008000; text-decoration-color: #008000\">▇▇▇▆▇▇</span> │  │\n",
       "│ │ <span style=\"color: #af87ff; text-decoration-color: #af87ff\">edad_3        </span> │ <span style=\"color: #008080; text-decoration-color: #008080\">    0</span> │ <span style=\"color: #008080; text-decoration-color: #008080\">     0</span> │ <span style=\"color: #008080; text-decoration-color: #008080\">   2.024</span> │ <span style=\"color: #008080; text-decoration-color: #008080\"> 0.7812</span> │ <span style=\"color: #008080; text-decoration-color: #008080\">      1</span> │ <span style=\"color: #008080; text-decoration-color: #008080\">      1</span> │ <span style=\"color: #008080; text-decoration-color: #008080\">      2</span> │ <span style=\"color: #008080; text-decoration-color: #008080\">    3</span> │ <span style=\"color: #008080; text-decoration-color: #008080\">   3</span> │ <span style=\"color: #008000; text-decoration-color: #008000\">▆  ▇ ▇</span> │  │\n",
       "│ │ <span style=\"color: #af87ff; text-decoration-color: #af87ff\">educa_3       </span> │ <span style=\"color: #008080; text-decoration-color: #008080\">    0</span> │ <span style=\"color: #008080; text-decoration-color: #008080\">     0</span> │ <span style=\"color: #008080; text-decoration-color: #008080\">   2.158</span> │ <span style=\"color: #008080; text-decoration-color: #008080\"> 0.7706</span> │ <span style=\"color: #008080; text-decoration-color: #008080\">      1</span> │ <span style=\"color: #008080; text-decoration-color: #008080\">      2</span> │ <span style=\"color: #008080; text-decoration-color: #008080\">      2</span> │ <span style=\"color: #008080; text-decoration-color: #008080\">    3</span> │ <span style=\"color: #008080; text-decoration-color: #008080\">   3</span> │ <span style=\"color: #008000; text-decoration-color: #008000\">▅  ▇ ▇</span> │  │\n",
       "│ │ <span style=\"color: #af87ff; text-decoration-color: #af87ff\">factor        </span> │ <span style=\"color: #008080; text-decoration-color: #008080\">    0</span> │ <span style=\"color: #008080; text-decoration-color: #008080\">     0</span> │ <span style=\"color: #008080; text-decoration-color: #008080\">       1</span> │ <span style=\"color: #008080; text-decoration-color: #008080\"> 0.4742</span> │ <span style=\"color: #008080; text-decoration-color: #008080\"> 0.4357</span> │ <span style=\"color: #008080; text-decoration-color: #008080\"> 0.5811</span> │ <span style=\"color: #008080; text-decoration-color: #008080\"> 0.8949</span> │ <span style=\"color: #008080; text-decoration-color: #008080\">1.205</span> │ <span style=\"color: #008080; text-decoration-color: #008080\">2.85</span> │ <span style=\"color: #008000; text-decoration-color: #008000\"> ▇▇▁▃ </span> │  │\n",
       "│ └────────────────┴───────┴────────┴──────────┴─────────┴─────────┴─────────┴─────────┴───────┴──────┴────────┘  │\n",
       "│ <span style=\"font-style: italic\">                                                    string                                                    </span>  │\n",
       "│ ┏━━━━━━━━━━━━━━━━━━━━━━━━━━━┳━━━━━━━━━┳━━━━━━━━━━━━┳━━━━━━━━━━━━━━━━━━━━━━━━━━━━━━┳━━━━━━━━━━━━━━━━━━━━━━━━━━┓  │\n",
       "│ ┃<span style=\"font-weight: bold\"> column_name               </span>┃<span style=\"font-weight: bold\"> NA      </span>┃<span style=\"font-weight: bold\"> NA %       </span>┃<span style=\"font-weight: bold\"> words per row                </span>┃<span style=\"font-weight: bold\"> total words              </span>┃  │\n",
       "│ ┡━━━━━━━━━━━━━━━━━━━━━━━━━━━╇━━━━━━━━━╇━━━━━━━━━━━━╇━━━━━━━━━━━━━━━━━━━━━━━━━━━━━━╇━━━━━━━━━━━━━━━━━━━━━━━━━━┩  │\n",
       "│ │ <span style=\"color: #af87ff; text-decoration-color: #af87ff\">va_2                     </span> │ <span style=\"color: #008080; text-decoration-color: #008080\">      0</span> │ <span style=\"color: #008080; text-decoration-color: #008080\">         0</span> │ <span style=\"color: #008080; text-decoration-color: #008080\">                         2.5</span> │ <span style=\"color: #008080; text-decoration-color: #008080\">                    4974</span> │  │\n",
       "│ │ <span style=\"color: #af87ff; text-decoration-color: #af87ff\">va_7                     </span> │ <span style=\"color: #008080; text-decoration-color: #008080\">      0</span> │ <span style=\"color: #008080; text-decoration-color: #008080\">         0</span> │ <span style=\"color: #008080; text-decoration-color: #008080\">                         1.3</span> │ <span style=\"color: #008080; text-decoration-color: #008080\">                    2631</span> │  │\n",
       "│ │ <span style=\"color: #af87ff; text-decoration-color: #af87ff\">nf_3_aa                  </span> │ <span style=\"color: #008080; text-decoration-color: #008080\">      0</span> │ <span style=\"color: #008080; text-decoration-color: #008080\">         0</span> │ <span style=\"color: #008080; text-decoration-color: #008080\">                           1</span> │ <span style=\"color: #008080; text-decoration-color: #008080\">                    2046</span> │  │\n",
       "│ │ <span style=\"color: #af87ff; text-decoration-color: #af87ff\">nf_4_a                   </span> │ <span style=\"color: #008080; text-decoration-color: #008080\">      0</span> │ <span style=\"color: #008080; text-decoration-color: #008080\">         0</span> │ <span style=\"color: #008080; text-decoration-color: #008080\">                         1.1</span> │ <span style=\"color: #008080; text-decoration-color: #008080\">                    2247</span> │  │\n",
       "│ │ <span style=\"color: #af87ff; text-decoration-color: #af87ff\">nf_5_a                   </span> │ <span style=\"color: #008080; text-decoration-color: #008080\">      0</span> │ <span style=\"color: #008080; text-decoration-color: #008080\">         0</span> │ <span style=\"color: #008080; text-decoration-color: #008080\">                         1.1</span> │ <span style=\"color: #008080; text-decoration-color: #008080\">                    2111</span> │  │\n",
       "│ │ <span style=\"color: #af87ff; text-decoration-color: #af87ff\">cs_6_b                   </span> │ <span style=\"color: #008080; text-decoration-color: #008080\">      0</span> │ <span style=\"color: #008080; text-decoration-color: #008080\">         0</span> │ <span style=\"color: #008080; text-decoration-color: #008080\">                           1</span> │ <span style=\"color: #008080; text-decoration-color: #008080\">                    2041</span> │  │\n",
       "│ │ <span style=\"color: #af87ff; text-decoration-color: #af87ff\">cs_10_b                  </span> │ <span style=\"color: #008080; text-decoration-color: #008080\">      0</span> │ <span style=\"color: #008080; text-decoration-color: #008080\">         0</span> │ <span style=\"color: #008080; text-decoration-color: #008080\">                           1</span> │ <span style=\"color: #008080; text-decoration-color: #008080\">                    2073</span> │  │\n",
       "│ └───────────────────────────┴─────────┴────────────┴──────────────────────────────┴──────────────────────────┘  │\n",
       "╰────────────────────────────────────────────────────── End ──────────────────────────────────────────────────────╯\n",
       "</pre>\n"
      ],
      "text/plain": [
       "╭──────────────────────────────────────────────── skimpy summary ─────────────────────────────────────────────────╮\n",
       "│ \u001b[3m         Data Summary         \u001b[0m \u001b[3m      Data Types       \u001b[0m                                                          │\n",
       "│ ┏━━━━━━━━━━━━━━━━━━━┳━━━━━━━━┓ ┏━━━━━━━━━━━━━┳━━━━━━━┓                                                          │\n",
       "│ ┃\u001b[1;36m \u001b[0m\u001b[1;36mdataframe        \u001b[0m\u001b[1;36m \u001b[0m┃\u001b[1;36m \u001b[0m\u001b[1;36mValues\u001b[0m\u001b[1;36m \u001b[0m┃ ┃\u001b[1;36m \u001b[0m\u001b[1;36mColumn Type\u001b[0m\u001b[1;36m \u001b[0m┃\u001b[1;36m \u001b[0m\u001b[1;36mCount\u001b[0m\u001b[1;36m \u001b[0m┃                                                          │\n",
       "│ ┡━━━━━━━━━━━━━━━━━━━╇━━━━━━━━┩ ┡━━━━━━━━━━━━━╇━━━━━━━┩                                                          │\n",
       "│ │ Number of rows    │ 2003   │ │ float64     │ 123   │                                                          │\n",
       "│ │ Number of columns │ 130    │ │ string      │ 7     │                                                          │\n",
       "│ └───────────────────┴────────┘ └─────────────┴───────┘                                                          │\n",
       "│ \u001b[3m                                                    number                                                    \u001b[0m  │\n",
       "│ ┏━━━━━━━━━━━━━━━━┳━━━━━━━┳━━━━━━━━┳━━━━━━━━━━┳━━━━━━━━━┳━━━━━━━━━┳━━━━━━━━━┳━━━━━━━━━┳━━━━━━━┳━━━━━━┳━━━━━━━━┓  │\n",
       "│ ┃\u001b[1m \u001b[0m\u001b[1mcolumn_name   \u001b[0m\u001b[1m \u001b[0m┃\u001b[1m \u001b[0m\u001b[1mNA   \u001b[0m\u001b[1m \u001b[0m┃\u001b[1m \u001b[0m\u001b[1mNA %  \u001b[0m\u001b[1m \u001b[0m┃\u001b[1m \u001b[0m\u001b[1mmean    \u001b[0m\u001b[1m \u001b[0m┃\u001b[1m \u001b[0m\u001b[1msd     \u001b[0m\u001b[1m \u001b[0m┃\u001b[1m \u001b[0m\u001b[1mp0     \u001b[0m\u001b[1m \u001b[0m┃\u001b[1m \u001b[0m\u001b[1mp25    \u001b[0m\u001b[1m \u001b[0m┃\u001b[1m \u001b[0m\u001b[1mp50    \u001b[0m\u001b[1m \u001b[0m┃\u001b[1m \u001b[0m\u001b[1mp75  \u001b[0m\u001b[1m \u001b[0m┃\u001b[1m \u001b[0m\u001b[1mp100\u001b[0m\u001b[1m \u001b[0m┃\u001b[1m \u001b[0m\u001b[1mhist  \u001b[0m\u001b[1m \u001b[0m┃  │\n",
       "│ ┡━━━━━━━━━━━━━━━━╇━━━━━━━╇━━━━━━━━╇━━━━━━━━━━╇━━━━━━━━━╇━━━━━━━━━╇━━━━━━━━━╇━━━━━━━━━╇━━━━━━━╇━━━━━━╇━━━━━━━━┩  │\n",
       "│ │ \u001b[38;5;141mcuestionario  \u001b[0m │ \u001b[36m    0\u001b[0m │ \u001b[36m     0\u001b[0m │ \u001b[36m    1002\u001b[0m │ \u001b[36m  578.4\u001b[0m │ \u001b[36m      1\u001b[0m │ \u001b[36m  501.5\u001b[0m │ \u001b[36m   1002\u001b[0m │ \u001b[36m 1502\u001b[0m │ \u001b[36m2003\u001b[0m │ \u001b[32m▇▇▇▇▇▇\u001b[0m │  │\n",
       "│ │ \u001b[38;5;141mid            \u001b[0m │ \u001b[36m    0\u001b[0m │ \u001b[36m     0\u001b[0m │ \u001b[36m    17.3\u001b[0m │ \u001b[36m  10.35\u001b[0m │ \u001b[36m      1\u001b[0m │ \u001b[36m      8\u001b[0m │ \u001b[36m     17\u001b[0m │ \u001b[36m   26\u001b[0m │ \u001b[36m  38\u001b[0m │ \u001b[32m▇▆▆▆▅▃\u001b[0m │  │\n",
       "│ │ \u001b[38;5;141mhi            \u001b[0m │ \u001b[36m    0\u001b[0m │ \u001b[36m     0\u001b[0m │ \u001b[36m   14.82\u001b[0m │ \u001b[36m  2.992\u001b[0m │ \u001b[36m      8\u001b[0m │ \u001b[36m     13\u001b[0m │ \u001b[36m     15\u001b[0m │ \u001b[36m   17\u001b[0m │ \u001b[36m  21\u001b[0m │ \u001b[32m▃▃▅▇▇▃\u001b[0m │  │\n",
       "│ │ \u001b[38;5;141mmi            \u001b[0m │ \u001b[36m    0\u001b[0m │ \u001b[36m     0\u001b[0m │ \u001b[36m   28.57\u001b[0m │ \u001b[36m  17.12\u001b[0m │ \u001b[36m      0\u001b[0m │ \u001b[36m     14\u001b[0m │ \u001b[36m     29\u001b[0m │ \u001b[36m   43\u001b[0m │ \u001b[36m  59\u001b[0m │ \u001b[32m▇▇▇▇▇▆\u001b[0m │  │\n",
       "│ │ \u001b[38;5;141mhf            \u001b[0m │ \u001b[36m    0\u001b[0m │ \u001b[36m     0\u001b[0m │ \u001b[36m   15.16\u001b[0m │ \u001b[36m  3.547\u001b[0m │ \u001b[36m      8\u001b[0m │ \u001b[36m     13\u001b[0m │ \u001b[36m     16\u001b[0m │ \u001b[36m   18\u001b[0m │ \u001b[36m  99\u001b[0m │ \u001b[32m  ▇   \u001b[0m │  │\n",
       "│ │ \u001b[38;5;141mmf            \u001b[0m │ \u001b[36m    0\u001b[0m │ \u001b[36m     0\u001b[0m │ \u001b[36m   29.89\u001b[0m │ \u001b[36m  17.36\u001b[0m │ \u001b[36m      0\u001b[0m │ \u001b[36m     15\u001b[0m │ \u001b[36m     30\u001b[0m │ \u001b[36m   45\u001b[0m │ \u001b[36m  99\u001b[0m │ \u001b[32m ▇▇▇▅ \u001b[0m │  │\n",
       "│ │ \u001b[38;5;141msp_1          \u001b[0m │ \u001b[36m    0\u001b[0m │ \u001b[36m     0\u001b[0m │ \u001b[36m   6.925\u001b[0m │ \u001b[36m  8.598\u001b[0m │ \u001b[36m      0\u001b[0m │ \u001b[36m      5\u001b[0m │ \u001b[36m      7\u001b[0m │ \u001b[36m    8\u001b[0m │ \u001b[36m  99\u001b[0m │ \u001b[32m  ▇   \u001b[0m │  │\n",
       "│ │ \u001b[38;5;141msp_2          \u001b[0m │ \u001b[36m    0\u001b[0m │ \u001b[36m     0\u001b[0m │ \u001b[36m    5.65\u001b[0m │ \u001b[36m  9.639\u001b[0m │ \u001b[36m      0\u001b[0m │ \u001b[36m      4\u001b[0m │ \u001b[36m      5\u001b[0m │ \u001b[36m    6\u001b[0m │ \u001b[36m  99\u001b[0m │ \u001b[32m  ▇   \u001b[0m │  │\n",
       "│ │ \u001b[38;5;141msp_3          \u001b[0m │ \u001b[36m    0\u001b[0m │ \u001b[36m     0\u001b[0m │ \u001b[36m   8.273\u001b[0m │ \u001b[36m  7.329\u001b[0m │ \u001b[36m      0\u001b[0m │ \u001b[36m      7\u001b[0m │ \u001b[36m      8\u001b[0m │ \u001b[36m    9\u001b[0m │ \u001b[36m  99\u001b[0m │ \u001b[32m  ▇   \u001b[0m │  │\n",
       "│ │ \u001b[38;5;141msp_4          \u001b[0m │ \u001b[36m    0\u001b[0m │ \u001b[36m     0\u001b[0m │ \u001b[36m   5.207\u001b[0m │ \u001b[36m  10.24\u001b[0m │ \u001b[36m      0\u001b[0m │ \u001b[36m      2\u001b[0m │ \u001b[36m      5\u001b[0m │ \u001b[36m    6\u001b[0m │ \u001b[36m  99\u001b[0m │ \u001b[32m  ▇   \u001b[0m │  │\n",
       "│ │ \u001b[38;5;141msp_5          \u001b[0m │ \u001b[36m    0\u001b[0m │ \u001b[36m     0\u001b[0m │ \u001b[36m   5.169\u001b[0m │ \u001b[36m  9.727\u001b[0m │ \u001b[36m      0\u001b[0m │ \u001b[36m      3\u001b[0m │ \u001b[36m      5\u001b[0m │ \u001b[36m    6\u001b[0m │ \u001b[36m  99\u001b[0m │ \u001b[32m  ▇   \u001b[0m │  │\n",
       "│ │ \u001b[38;5;141msp_6          \u001b[0m │ \u001b[36m    0\u001b[0m │ \u001b[36m     0\u001b[0m │ \u001b[36m   5.478\u001b[0m │ \u001b[36m  11.38\u001b[0m │ \u001b[36m      0\u001b[0m │ \u001b[36m      3\u001b[0m │ \u001b[36m      5\u001b[0m │ \u001b[36m    6\u001b[0m │ \u001b[36m  99\u001b[0m │ \u001b[32m  ▇   \u001b[0m │  │\n",
       "│ │ \u001b[38;5;141mrp_1          \u001b[0m │ \u001b[36m    0\u001b[0m │ \u001b[36m     0\u001b[0m │ \u001b[36m   2.581\u001b[0m │ \u001b[36m  1.096\u001b[0m │ \u001b[36m      1\u001b[0m │ \u001b[36m      2\u001b[0m │ \u001b[36m      3\u001b[0m │ \u001b[36m    3\u001b[0m │ \u001b[36m   9\u001b[0m │ \u001b[32m  ▃▇  \u001b[0m │  │\n",
       "│ │ \u001b[38;5;141mrp_2          \u001b[0m │ \u001b[36m 1495\u001b[0m │ \u001b[36m 74.64\u001b[0m │ \u001b[36m   1.967\u001b[0m │ \u001b[36m  1.974\u001b[0m │ \u001b[36m      1\u001b[0m │ \u001b[36m      1\u001b[0m │ \u001b[36m      1\u001b[0m │ \u001b[36m    2\u001b[0m │ \u001b[36m   9\u001b[0m │ \u001b[32m▇    ▁\u001b[0m │  │\n",
       "│ │ \u001b[38;5;141mrp_3          \u001b[0m │ \u001b[36m    0\u001b[0m │ \u001b[36m     0\u001b[0m │ \u001b[36m   8.409\u001b[0m │ \u001b[36m  16.85\u001b[0m │ \u001b[36m      0\u001b[0m │ \u001b[36m      3\u001b[0m │ \u001b[36m      5\u001b[0m │ \u001b[36m    8\u001b[0m │ \u001b[36m  99\u001b[0m │ \u001b[32m  ▇   \u001b[0m │  │\n",
       "│ │ \u001b[38;5;141mrp_4          \u001b[0m │ \u001b[36m    0\u001b[0m │ \u001b[36m     0\u001b[0m │ \u001b[36m    9.96\u001b[0m │ \u001b[36m  20.09\u001b[0m │ \u001b[36m      0\u001b[0m │ \u001b[36m      3\u001b[0m │ \u001b[36m      5\u001b[0m │ \u001b[36m    8\u001b[0m │ \u001b[36m  99\u001b[0m │ \u001b[32m  ▇   \u001b[0m │  │\n",
       "│ │ \u001b[38;5;141mrp_5          \u001b[0m │ \u001b[36m    0\u001b[0m │ \u001b[36m     0\u001b[0m │ \u001b[36m   1.675\u001b[0m │ \u001b[36m 0.7261\u001b[0m │ \u001b[36m      1\u001b[0m │ \u001b[36m      1\u001b[0m │ \u001b[36m      2\u001b[0m │ \u001b[36m    2\u001b[0m │ \u001b[36m   9\u001b[0m │ \u001b[32m  ▇   \u001b[0m │  │\n",
       "│ │ \u001b[38;5;141mrp_6          \u001b[0m │ \u001b[36m    0\u001b[0m │ \u001b[36m     0\u001b[0m │ \u001b[36m   1.288\u001b[0m │ \u001b[36m 0.7541\u001b[0m │ \u001b[36m      1\u001b[0m │ \u001b[36m      1\u001b[0m │ \u001b[36m      1\u001b[0m │ \u001b[36m    1\u001b[0m │ \u001b[36m   9\u001b[0m │ \u001b[32m  ▇   \u001b[0m │  │\n",
       "│ │ \u001b[38;5;141mrp_7          \u001b[0m │ \u001b[36m  361\u001b[0m │ \u001b[36m 18.02\u001b[0m │ \u001b[36m   1.695\u001b[0m │ \u001b[36m 0.6187\u001b[0m │ \u001b[36m      1\u001b[0m │ \u001b[36m      1\u001b[0m │ \u001b[36m      2\u001b[0m │ \u001b[36m    2\u001b[0m │ \u001b[36m   9\u001b[0m │ \u001b[32m  ▇   \u001b[0m │  │\n",
       "│ │ \u001b[38;5;141mcr_1          \u001b[0m │ \u001b[36m    0\u001b[0m │ \u001b[36m     0\u001b[0m │ \u001b[36m   4.672\u001b[0m │ \u001b[36m 0.6642\u001b[0m │ \u001b[36m      1\u001b[0m │ \u001b[36m      4\u001b[0m │ \u001b[36m      5\u001b[0m │ \u001b[36m    5\u001b[0m │ \u001b[36m   5\u001b[0m │ \u001b[32m    ▂▇\u001b[0m │  │\n",
       "│ │ \u001b[38;5;141mcr_2          \u001b[0m │ \u001b[36m    0\u001b[0m │ \u001b[36m     0\u001b[0m │ \u001b[36m   4.696\u001b[0m │ \u001b[36m 0.6554\u001b[0m │ \u001b[36m      1\u001b[0m │ \u001b[36m      5\u001b[0m │ \u001b[36m      5\u001b[0m │ \u001b[36m    5\u001b[0m │ \u001b[36m   5\u001b[0m │ \u001b[32m    ▂▇\u001b[0m │  │\n",
       "│ │ \u001b[38;5;141mcr_3          \u001b[0m │ \u001b[36m    0\u001b[0m │ \u001b[36m     0\u001b[0m │ \u001b[36m   1.899\u001b[0m │ \u001b[36m  1.091\u001b[0m │ \u001b[36m      1\u001b[0m │ \u001b[36m      1\u001b[0m │ \u001b[36m      2\u001b[0m │ \u001b[36m    2\u001b[0m │ \u001b[36m   5\u001b[0m │ \u001b[32m▇▇ ▁▂▁\u001b[0m │  │\n",
       "│ │ \u001b[38;5;141mcr_4          \u001b[0m │ \u001b[36m    0\u001b[0m │ \u001b[36m     0\u001b[0m │ \u001b[36m   1.695\u001b[0m │ \u001b[36m 0.9265\u001b[0m │ \u001b[36m      1\u001b[0m │ \u001b[36m      1\u001b[0m │ \u001b[36m      1\u001b[0m │ \u001b[36m    2\u001b[0m │ \u001b[36m   9\u001b[0m │ \u001b[32m  ▇▁  \u001b[0m │  │\n",
       "│ │ \u001b[38;5;141maf_1          \u001b[0m │ \u001b[36m    0\u001b[0m │ \u001b[36m     0\u001b[0m │ \u001b[36m   1.646\u001b[0m │ \u001b[36m  2.363\u001b[0m │ \u001b[36m      0\u001b[0m │ \u001b[36m      0\u001b[0m │ \u001b[36m      0\u001b[0m │ \u001b[36m    3\u001b[0m │ \u001b[36m   9\u001b[0m │ \u001b[32m▇▁▂▁▁ \u001b[0m │  │\n",
       "│ │ \u001b[38;5;141maf_2_horas    \u001b[0m │ \u001b[36m 1183\u001b[0m │ \u001b[36m 59.06\u001b[0m │ \u001b[36m   2.728\u001b[0m │ \u001b[36m  11.34\u001b[0m │ \u001b[36m      0\u001b[0m │ \u001b[36m      0\u001b[0m │ \u001b[36m      1\u001b[0m │ \u001b[36m    2\u001b[0m │ \u001b[36m  99\u001b[0m │ \u001b[32m  ▇   \u001b[0m │  │\n",
       "│ │ \u001b[38;5;141maf_2_minutos  \u001b[0m │ \u001b[36m 1183\u001b[0m │ \u001b[36m 59.06\u001b[0m │ \u001b[36m   15.01\u001b[0m │ \u001b[36m  18.64\u001b[0m │ \u001b[36m      0\u001b[0m │ \u001b[36m      0\u001b[0m │ \u001b[36m      0\u001b[0m │ \u001b[36m   30\u001b[0m │ \u001b[36m  99\u001b[0m │ \u001b[32m ▇▅▁  \u001b[0m │  │\n",
       "│ │ \u001b[38;5;141maf_3          \u001b[0m │ \u001b[36m    0\u001b[0m │ \u001b[36m     0\u001b[0m │ \u001b[36m   1.677\u001b[0m │ \u001b[36m  2.515\u001b[0m │ \u001b[36m      0\u001b[0m │ \u001b[36m      0\u001b[0m │ \u001b[36m      0\u001b[0m │ \u001b[36m    3\u001b[0m │ \u001b[36m   9\u001b[0m │ \u001b[32m▇▁▁ ▂ \u001b[0m │  │\n",
       "│ │ \u001b[38;5;141maf_4_horas    \u001b[0m │ \u001b[36m 1234\u001b[0m │ \u001b[36m 61.61\u001b[0m │ \u001b[36m   2.967\u001b[0m │ \u001b[36m  11.22\u001b[0m │ \u001b[36m      0\u001b[0m │ \u001b[36m      0\u001b[0m │ \u001b[36m      1\u001b[0m │ \u001b[36m    2\u001b[0m │ \u001b[36m  99\u001b[0m │ \u001b[32m  ▇   \u001b[0m │  │\n",
       "│ │ \u001b[38;5;141maf_4_minutos  \u001b[0m │ \u001b[36m 1234\u001b[0m │ \u001b[36m 61.61\u001b[0m │ \u001b[36m   13.78\u001b[0m │ \u001b[36m  17.68\u001b[0m │ \u001b[36m      0\u001b[0m │ \u001b[36m      0\u001b[0m │ \u001b[36m      0\u001b[0m │ \u001b[36m   30\u001b[0m │ \u001b[36m  99\u001b[0m │ \u001b[32m ▇▃▁  \u001b[0m │  │\n",
       "│ │ \u001b[38;5;141maf_5          \u001b[0m │ \u001b[36m    0\u001b[0m │ \u001b[36m     0\u001b[0m │ \u001b[36m   4.218\u001b[0m │ \u001b[36m   2.76\u001b[0m │ \u001b[36m      0\u001b[0m │ \u001b[36m      2\u001b[0m │ \u001b[36m      5\u001b[0m │ \u001b[36m    7\u001b[0m │ \u001b[36m   9\u001b[0m │ \u001b[32m▅▂▃▂▇ \u001b[0m │  │\n",
       "│ │ \u001b[38;5;141maf_6_horas    \u001b[0m │ \u001b[36m  386\u001b[0m │ \u001b[36m 19.27\u001b[0m │ \u001b[36m   5.173\u001b[0m │ \u001b[36m  18.32\u001b[0m │ \u001b[36m      0\u001b[0m │ \u001b[36m      0\u001b[0m │ \u001b[36m      1\u001b[0m │ \u001b[36m    2\u001b[0m │ \u001b[36m  99\u001b[0m │ \u001b[32m  ▇   \u001b[0m │  │\n",
       "│ │ \u001b[38;5;141maf_6_minutos  \u001b[0m │ \u001b[36m  386\u001b[0m │ \u001b[36m 19.27\u001b[0m │ \u001b[36m   17.68\u001b[0m │ \u001b[36m   21.5\u001b[0m │ \u001b[36m      0\u001b[0m │ \u001b[36m      0\u001b[0m │ \u001b[36m     15\u001b[0m │ \u001b[36m   30\u001b[0m │ \u001b[36m  99\u001b[0m │ \u001b[32m▇▅▁  ▁\u001b[0m │  │\n",
       "│ │ \u001b[38;5;141maf_7_horas    \u001b[0m │ \u001b[36m    0\u001b[0m │ \u001b[36m     0\u001b[0m │ \u001b[36m   7.466\u001b[0m │ \u001b[36m  17.11\u001b[0m │ \u001b[36m      0\u001b[0m │ \u001b[36m      2\u001b[0m │ \u001b[36m      4\u001b[0m │ \u001b[36m    7\u001b[0m │ \u001b[36m  99\u001b[0m │ \u001b[32m  ▇   \u001b[0m │  │\n",
       "│ │ \u001b[38;5;141maf_7_minutos  \u001b[0m │ \u001b[36m    0\u001b[0m │ \u001b[36m     0\u001b[0m │ \u001b[36m   7.069\u001b[0m │ \u001b[36m  19.61\u001b[0m │ \u001b[36m      0\u001b[0m │ \u001b[36m      0\u001b[0m │ \u001b[36m      0\u001b[0m │ \u001b[36m    0\u001b[0m │ \u001b[36m  99\u001b[0m │ \u001b[32m  ▇▁  \u001b[0m │  │\n",
       "│ │ \u001b[38;5;141maf_8          \u001b[0m │ \u001b[36m    0\u001b[0m │ \u001b[36m     0\u001b[0m │ \u001b[36m   1.839\u001b[0m │ \u001b[36m  1.017\u001b[0m │ \u001b[36m      1\u001b[0m │ \u001b[36m      1\u001b[0m │ \u001b[36m      2\u001b[0m │ \u001b[36m    2\u001b[0m │ \u001b[36m   9\u001b[0m │ \u001b[32m  ▇▂  \u001b[0m │  │\n",
       "│ │ \u001b[38;5;141mrv_1          \u001b[0m │ \u001b[36m    0\u001b[0m │ \u001b[36m     0\u001b[0m │ \u001b[36m   2.292\u001b[0m │ \u001b[36m  1.427\u001b[0m │ \u001b[36m      1\u001b[0m │ \u001b[36m      1\u001b[0m │ \u001b[36m      2\u001b[0m │ \u001b[36m    3\u001b[0m │ \u001b[36m   9\u001b[0m │ \u001b[32m ▇▃▂  \u001b[0m │  │\n",
       "│ │ \u001b[38;5;141mrv_2          \u001b[0m │ \u001b[36m    0\u001b[0m │ \u001b[36m     0\u001b[0m │ \u001b[36m   2.416\u001b[0m │ \u001b[36m  1.478\u001b[0m │ \u001b[36m      1\u001b[0m │ \u001b[36m      1\u001b[0m │ \u001b[36m      2\u001b[0m │ \u001b[36m    3\u001b[0m │ \u001b[36m   9\u001b[0m │ \u001b[32m ▇▃▃  \u001b[0m │  │\n",
       "│ │ \u001b[38;5;141mrv_3          \u001b[0m │ \u001b[36m    0\u001b[0m │ \u001b[36m     0\u001b[0m │ \u001b[36m   2.557\u001b[0m │ \u001b[36m  1.515\u001b[0m │ \u001b[36m      1\u001b[0m │ \u001b[36m      1\u001b[0m │ \u001b[36m      2\u001b[0m │ \u001b[36m    4\u001b[0m │ \u001b[36m   9\u001b[0m │ \u001b[32m ▇▃▅  \u001b[0m │  │\n",
       "│ │ \u001b[38;5;141mrv_4          \u001b[0m │ \u001b[36m    0\u001b[0m │ \u001b[36m     0\u001b[0m │ \u001b[36m   2.138\u001b[0m │ \u001b[36m  1.742\u001b[0m │ \u001b[36m      1\u001b[0m │ \u001b[36m      1\u001b[0m │ \u001b[36m      2\u001b[0m │ \u001b[36m    2\u001b[0m │ \u001b[36m   9\u001b[0m │ \u001b[32m▇▁   ▁\u001b[0m │  │\n",
       "│ │ \u001b[38;5;141mrv_5          \u001b[0m │ \u001b[36m    0\u001b[0m │ \u001b[36m     0\u001b[0m │ \u001b[36m   1.599\u001b[0m │ \u001b[36m 0.6605\u001b[0m │ \u001b[36m      1\u001b[0m │ \u001b[36m      1\u001b[0m │ \u001b[36m      2\u001b[0m │ \u001b[36m    2\u001b[0m │ \u001b[36m   9\u001b[0m │ \u001b[32m  ▇   \u001b[0m │  │\n",
       "│ │ \u001b[38;5;141mrv_6          \u001b[0m │ \u001b[36m 1150\u001b[0m │ \u001b[36m 57.41\u001b[0m │ \u001b[36m   1.564\u001b[0m │ \u001b[36m 0.5585\u001b[0m │ \u001b[36m      1\u001b[0m │ \u001b[36m      1\u001b[0m │ \u001b[36m      2\u001b[0m │ \u001b[36m    2\u001b[0m │ \u001b[36m   9\u001b[0m │ \u001b[32m  ▇   \u001b[0m │  │\n",
       "│ │ \u001b[38;5;141mrv_7          \u001b[0m │ \u001b[36m    0\u001b[0m │ \u001b[36m     0\u001b[0m │ \u001b[36m   2.579\u001b[0m │ \u001b[36m   2.29\u001b[0m │ \u001b[36m      1\u001b[0m │ \u001b[36m      1\u001b[0m │ \u001b[36m      2\u001b[0m │ \u001b[36m    2\u001b[0m │ \u001b[36m   9\u001b[0m │ \u001b[32m▇▁  ▁▁\u001b[0m │  │\n",
       "│ │ \u001b[38;5;141mrv_8          \u001b[0m │ \u001b[36m    0\u001b[0m │ \u001b[36m     0\u001b[0m │ \u001b[36m   2.185\u001b[0m │ \u001b[36m  1.508\u001b[0m │ \u001b[36m      1\u001b[0m │ \u001b[36m      1\u001b[0m │ \u001b[36m      2\u001b[0m │ \u001b[36m    3\u001b[0m │ \u001b[36m   9\u001b[0m │ \u001b[32m  ▇▂  \u001b[0m │  │\n",
       "│ │ \u001b[38;5;141mrv_9          \u001b[0m │ \u001b[36m    0\u001b[0m │ \u001b[36m     0\u001b[0m │ \u001b[36m   2.225\u001b[0m │ \u001b[36m  1.879\u001b[0m │ \u001b[36m      1\u001b[0m │ \u001b[36m      1\u001b[0m │ \u001b[36m      2\u001b[0m │ \u001b[36m    2\u001b[0m │ \u001b[36m   9\u001b[0m │ \u001b[32m▇▁  ▁ \u001b[0m │  │\n",
       "│ │ \u001b[38;5;141mrv_10         \u001b[0m │ \u001b[36m    0\u001b[0m │ \u001b[36m     0\u001b[0m │ \u001b[36m   1.905\u001b[0m │ \u001b[36m  1.408\u001b[0m │ \u001b[36m      1\u001b[0m │ \u001b[36m      1\u001b[0m │ \u001b[36m      2\u001b[0m │ \u001b[36m    2\u001b[0m │ \u001b[36m   9\u001b[0m │ \u001b[32m  ▇▁  \u001b[0m │  │\n",
       "│ │ \u001b[38;5;141mrv_11         \u001b[0m │ \u001b[36m    0\u001b[0m │ \u001b[36m     0\u001b[0m │ \u001b[36m    2.45\u001b[0m │ \u001b[36m  1.702\u001b[0m │ \u001b[36m      1\u001b[0m │ \u001b[36m      1\u001b[0m │ \u001b[36m      2\u001b[0m │ \u001b[36m    3\u001b[0m │ \u001b[36m   9\u001b[0m │ \u001b[32m▇▆   ▁\u001b[0m │  │\n",
       "│ │ \u001b[38;5;141mrv_12         \u001b[0m │ \u001b[36m    0\u001b[0m │ \u001b[36m     0\u001b[0m │ \u001b[36m   2.631\u001b[0m │ \u001b[36m  1.401\u001b[0m │ \u001b[36m      1\u001b[0m │ \u001b[36m      2\u001b[0m │ \u001b[36m      3\u001b[0m │ \u001b[36m    3\u001b[0m │ \u001b[36m   9\u001b[0m │ \u001b[32m  ▅▇  \u001b[0m │  │\n",
       "│ │ \u001b[38;5;141mrv_13         \u001b[0m │ \u001b[36m    0\u001b[0m │ \u001b[36m     0\u001b[0m │ \u001b[36m     2.9\u001b[0m │ \u001b[36m  1.084\u001b[0m │ \u001b[36m      1\u001b[0m │ \u001b[36m      3\u001b[0m │ \u001b[36m      3\u001b[0m │ \u001b[36m    3\u001b[0m │ \u001b[36m   9\u001b[0m │ \u001b[32m  ▂▇  \u001b[0m │  │\n",
       "│ │ \u001b[38;5;141mrv_14         \u001b[0m │ \u001b[36m    0\u001b[0m │ \u001b[36m     0\u001b[0m │ \u001b[36m   1.781\u001b[0m │ \u001b[36m  1.454\u001b[0m │ \u001b[36m      1\u001b[0m │ \u001b[36m      1\u001b[0m │ \u001b[36m      1\u001b[0m │ \u001b[36m    2\u001b[0m │ \u001b[36m   9\u001b[0m │ \u001b[32m  ▇▁  \u001b[0m │  │\n",
       "│ │ \u001b[38;5;141mvm_1          \u001b[0m │ \u001b[36m    0\u001b[0m │ \u001b[36m     0\u001b[0m │ \u001b[36m    2.83\u001b[0m │ \u001b[36m  1.965\u001b[0m │ \u001b[36m      1\u001b[0m │ \u001b[36m      2\u001b[0m │ \u001b[36m      2\u001b[0m │ \u001b[36m    4\u001b[0m │ \u001b[36m   9\u001b[0m │ \u001b[32m▇▁▂  ▁\u001b[0m │  │\n",
       "│ │ \u001b[38;5;141mvm_2          \u001b[0m │ \u001b[36m    0\u001b[0m │ \u001b[36m     0\u001b[0m │ \u001b[36m   3.103\u001b[0m │ \u001b[36m  2.639\u001b[0m │ \u001b[36m      1\u001b[0m │ \u001b[36m      2\u001b[0m │ \u001b[36m      2\u001b[0m │ \u001b[36m    3\u001b[0m │ \u001b[36m   9\u001b[0m │ \u001b[32m▇▁   ▂\u001b[0m │  │\n",
       "│ │ \u001b[38;5;141mvm_3          \u001b[0m │ \u001b[36m    0\u001b[0m │ \u001b[36m     0\u001b[0m │ \u001b[36m   2.163\u001b[0m │ \u001b[36m  1.818\u001b[0m │ \u001b[36m      1\u001b[0m │ \u001b[36m      1\u001b[0m │ \u001b[36m      2\u001b[0m │ \u001b[36m    2\u001b[0m │ \u001b[36m   9\u001b[0m │ \u001b[32m▇    ▁\u001b[0m │  │\n",
       "│ │ \u001b[38;5;141mvm_4          \u001b[0m │ \u001b[36m    0\u001b[0m │ \u001b[36m     0\u001b[0m │ \u001b[36m   2.649\u001b[0m │ \u001b[36m  1.808\u001b[0m │ \u001b[36m      1\u001b[0m │ \u001b[36m      2\u001b[0m │ \u001b[36m      2\u001b[0m │ \u001b[36m    3\u001b[0m │ \u001b[36m   9\u001b[0m │ \u001b[32m▇▁▂  ▁\u001b[0m │  │\n",
       "│ │ \u001b[38;5;141mvm_5          \u001b[0m │ \u001b[36m    0\u001b[0m │ \u001b[36m     0\u001b[0m │ \u001b[36m   2.626\u001b[0m │ \u001b[36m    2.3\u001b[0m │ \u001b[36m      1\u001b[0m │ \u001b[36m      2\u001b[0m │ \u001b[36m      2\u001b[0m │ \u001b[36m    2\u001b[0m │ \u001b[36m   9\u001b[0m │ \u001b[32m▇    ▁\u001b[0m │  │\n",
       "│ │ \u001b[38;5;141mvm_6          \u001b[0m │ \u001b[36m    0\u001b[0m │ \u001b[36m     0\u001b[0m │ \u001b[36m   2.682\u001b[0m │ \u001b[36m  2.354\u001b[0m │ \u001b[36m      1\u001b[0m │ \u001b[36m      2\u001b[0m │ \u001b[36m      2\u001b[0m │ \u001b[36m    2\u001b[0m │ \u001b[36m   9\u001b[0m │ \u001b[32m▇    ▁\u001b[0m │  │\n",
       "│ │ \u001b[38;5;141mcv_1          \u001b[0m │ \u001b[36m    0\u001b[0m │ \u001b[36m     0\u001b[0m │ \u001b[36m   3.583\u001b[0m │ \u001b[36m  1.301\u001b[0m │ \u001b[36m      1\u001b[0m │ \u001b[36m      2\u001b[0m │ \u001b[36m      4\u001b[0m │ \u001b[36m    4\u001b[0m │ \u001b[36m   9\u001b[0m │ \u001b[32m ▅ ▇▃ \u001b[0m │  │\n",
       "│ │ \u001b[38;5;141mcv_2          \u001b[0m │ \u001b[36m    0\u001b[0m │ \u001b[36m     0\u001b[0m │ \u001b[36m   3.761\u001b[0m │ \u001b[36m  1.283\u001b[0m │ \u001b[36m      1\u001b[0m │ \u001b[36m      4\u001b[0m │ \u001b[36m      4\u001b[0m │ \u001b[36m    5\u001b[0m │ \u001b[36m   9\u001b[0m │ \u001b[32m ▃ ▇▅ \u001b[0m │  │\n",
       "│ │ \u001b[38;5;141mcv_3          \u001b[0m │ \u001b[36m    0\u001b[0m │ \u001b[36m     0\u001b[0m │ \u001b[36m   3.592\u001b[0m │ \u001b[36m  1.313\u001b[0m │ \u001b[36m      1\u001b[0m │ \u001b[36m      2\u001b[0m │ \u001b[36m      4\u001b[0m │ \u001b[36m    4\u001b[0m │ \u001b[36m   9\u001b[0m │ \u001b[32m ▅ ▇▃ \u001b[0m │  │\n",
       "│ │ \u001b[38;5;141mcv_4          \u001b[0m │ \u001b[36m    0\u001b[0m │ \u001b[36m     0\u001b[0m │ \u001b[36m   3.771\u001b[0m │ \u001b[36m  1.264\u001b[0m │ \u001b[36m      1\u001b[0m │ \u001b[36m      4\u001b[0m │ \u001b[36m      4\u001b[0m │ \u001b[36m    5\u001b[0m │ \u001b[36m   9\u001b[0m │ \u001b[32m ▃ ▇▅ \u001b[0m │  │\n",
       "│ │ \u001b[38;5;141mcv_5          \u001b[0m │ \u001b[36m    0\u001b[0m │ \u001b[36m     0\u001b[0m │ \u001b[36m   3.565\u001b[0m │ \u001b[36m  1.335\u001b[0m │ \u001b[36m      1\u001b[0m │ \u001b[36m      2\u001b[0m │ \u001b[36m      4\u001b[0m │ \u001b[36m    4\u001b[0m │ \u001b[36m   9\u001b[0m │ \u001b[32m ▅ ▇▃ \u001b[0m │  │\n",
       "│ │ \u001b[38;5;141mcv_6          \u001b[0m │ \u001b[36m    0\u001b[0m │ \u001b[36m     0\u001b[0m │ \u001b[36m   3.702\u001b[0m │ \u001b[36m  1.286\u001b[0m │ \u001b[36m      1\u001b[0m │ \u001b[36m      3\u001b[0m │ \u001b[36m      4\u001b[0m │ \u001b[36m    4\u001b[0m │ \u001b[36m   9\u001b[0m │ \u001b[32m ▃ ▇▃ \u001b[0m │  │\n",
       "│ │ \u001b[38;5;141mcv_7          \u001b[0m │ \u001b[36m    0\u001b[0m │ \u001b[36m     0\u001b[0m │ \u001b[36m   3.518\u001b[0m │ \u001b[36m  1.326\u001b[0m │ \u001b[36m      1\u001b[0m │ \u001b[36m      2\u001b[0m │ \u001b[36m      4\u001b[0m │ \u001b[36m    4\u001b[0m │ \u001b[36m   9\u001b[0m │ \u001b[32m ▅ ▇▃ \u001b[0m │  │\n",
       "│ │ \u001b[38;5;141mcv_8          \u001b[0m │ \u001b[36m    0\u001b[0m │ \u001b[36m     0\u001b[0m │ \u001b[36m   3.583\u001b[0m │ \u001b[36m  1.308\u001b[0m │ \u001b[36m      1\u001b[0m │ \u001b[36m      2\u001b[0m │ \u001b[36m      4\u001b[0m │ \u001b[36m    4\u001b[0m │ \u001b[36m   9\u001b[0m │ \u001b[32m ▅ ▇▃ \u001b[0m │  │\n",
       "│ │ \u001b[38;5;141mva_1          \u001b[0m │ \u001b[36m    0\u001b[0m │ \u001b[36m     0\u001b[0m │ \u001b[36m   1.327\u001b[0m │ \u001b[36m 0.8507\u001b[0m │ \u001b[36m      1\u001b[0m │ \u001b[36m      1\u001b[0m │ \u001b[36m      1\u001b[0m │ \u001b[36m    2\u001b[0m │ \u001b[36m   9\u001b[0m │ \u001b[32m  ▇   \u001b[0m │  │\n",
       "│ │ \u001b[38;5;141mva_3          \u001b[0m │ \u001b[36m    0\u001b[0m │ \u001b[36m     0\u001b[0m │ \u001b[36m   1.455\u001b[0m │ \u001b[36m  1.108\u001b[0m │ \u001b[36m      1\u001b[0m │ \u001b[36m      1\u001b[0m │ \u001b[36m      1\u001b[0m │ \u001b[36m    2\u001b[0m │ \u001b[36m   9\u001b[0m │ \u001b[32m  ▇   \u001b[0m │  │\n",
       "│ │ \u001b[38;5;141mva_4          \u001b[0m │ \u001b[36m    0\u001b[0m │ \u001b[36m     0\u001b[0m │ \u001b[36m   1.721\u001b[0m │ \u001b[36m  1.544\u001b[0m │ \u001b[36m      1\u001b[0m │ \u001b[36m      1\u001b[0m │ \u001b[36m      1\u001b[0m │ \u001b[36m    2\u001b[0m │ \u001b[36m   9\u001b[0m │ \u001b[32m  ▇   \u001b[0m │  │\n",
       "│ │ \u001b[38;5;141mva_5          \u001b[0m │ \u001b[36m    0\u001b[0m │ \u001b[36m     0\u001b[0m │ \u001b[36m   2.036\u001b[0m │ \u001b[36m  1.345\u001b[0m │ \u001b[36m      1\u001b[0m │ \u001b[36m      2\u001b[0m │ \u001b[36m      2\u001b[0m │ \u001b[36m    2\u001b[0m │ \u001b[36m   9\u001b[0m │ \u001b[32m  ▇   \u001b[0m │  │\n",
       "│ │ \u001b[38;5;141mva_6          \u001b[0m │ \u001b[36m    0\u001b[0m │ \u001b[36m     0\u001b[0m │ \u001b[36m   1.952\u001b[0m │ \u001b[36m 0.7881\u001b[0m │ \u001b[36m      1\u001b[0m │ \u001b[36m      2\u001b[0m │ \u001b[36m      2\u001b[0m │ \u001b[36m    2\u001b[0m │ \u001b[36m   9\u001b[0m │ \u001b[32m  ▇   \u001b[0m │  │\n",
       "│ │ \u001b[38;5;141mva_7_r        \u001b[0m │ \u001b[36m 1906\u001b[0m │ \u001b[36m 95.16\u001b[0m │ \u001b[36m   3.763\u001b[0m │ \u001b[36m   2.23\u001b[0m │ \u001b[36m      1\u001b[0m │ \u001b[36m      2\u001b[0m │ \u001b[36m      3\u001b[0m │ \u001b[36m    6\u001b[0m │ \u001b[36m   9\u001b[0m │ \u001b[32m▇▇▃▅▁▃\u001b[0m │  │\n",
       "│ │ \u001b[38;5;141man_1          \u001b[0m │ \u001b[36m    0\u001b[0m │ \u001b[36m     0\u001b[0m │ \u001b[36m  0.1253\u001b[0m │ \u001b[36m 0.7171\u001b[0m │ \u001b[36m      0\u001b[0m │ \u001b[36m      0\u001b[0m │ \u001b[36m      0\u001b[0m │ \u001b[36m    0\u001b[0m │ \u001b[36m   9\u001b[0m │ \u001b[32m  ▇   \u001b[0m │  │\n",
       "│ │ \u001b[38;5;141man_2          \u001b[0m │ \u001b[36m    0\u001b[0m │ \u001b[36m     0\u001b[0m │ \u001b[36m  0.1208\u001b[0m │ \u001b[36m 0.6956\u001b[0m │ \u001b[36m      0\u001b[0m │ \u001b[36m      0\u001b[0m │ \u001b[36m      0\u001b[0m │ \u001b[36m    0\u001b[0m │ \u001b[36m   9\u001b[0m │ \u001b[32m  ▇   \u001b[0m │  │\n",
       "│ │ \u001b[38;5;141man_3          \u001b[0m │ \u001b[36m    0\u001b[0m │ \u001b[36m     0\u001b[0m │ \u001b[36m  0.1243\u001b[0m │ \u001b[36m 0.7131\u001b[0m │ \u001b[36m      0\u001b[0m │ \u001b[36m      0\u001b[0m │ \u001b[36m      0\u001b[0m │ \u001b[36m    0\u001b[0m │ \u001b[36m   9\u001b[0m │ \u001b[32m  ▇   \u001b[0m │  │\n",
       "│ │ \u001b[38;5;141man_4          \u001b[0m │ \u001b[36m    0\u001b[0m │ \u001b[36m     0\u001b[0m │ \u001b[36m 0.07788\u001b[0m │ \u001b[36m 0.6546\u001b[0m │ \u001b[36m      0\u001b[0m │ \u001b[36m      0\u001b[0m │ \u001b[36m      0\u001b[0m │ \u001b[36m    0\u001b[0m │ \u001b[36m   9\u001b[0m │ \u001b[32m  ▇   \u001b[0m │  │\n",
       "│ │ \u001b[38;5;141man_5          \u001b[0m │ \u001b[36m    0\u001b[0m │ \u001b[36m     0\u001b[0m │ \u001b[36m 0.08387\u001b[0m │ \u001b[36m 0.6584\u001b[0m │ \u001b[36m      0\u001b[0m │ \u001b[36m      0\u001b[0m │ \u001b[36m      0\u001b[0m │ \u001b[36m    0\u001b[0m │ \u001b[36m   9\u001b[0m │ \u001b[32m  ▇   \u001b[0m │  │\n",
       "│ │ \u001b[38;5;141man_6          \u001b[0m │ \u001b[36m    0\u001b[0m │ \u001b[36m     0\u001b[0m │ \u001b[36m    1.76\u001b[0m │ \u001b[36m  1.211\u001b[0m │ \u001b[36m      1\u001b[0m │ \u001b[36m      1\u001b[0m │ \u001b[36m      1\u001b[0m │ \u001b[36m    3\u001b[0m │ \u001b[36m   9\u001b[0m │ \u001b[32m  ▇▃  \u001b[0m │  │\n",
       "│ │ \u001b[38;5;141man_7          \u001b[0m │ \u001b[36m  610\u001b[0m │ \u001b[36m 30.45\u001b[0m │ \u001b[36m   2.379\u001b[0m │ \u001b[36m  1.358\u001b[0m │ \u001b[36m      1\u001b[0m │ \u001b[36m      2\u001b[0m │ \u001b[36m      2\u001b[0m │ \u001b[36m    3\u001b[0m │ \u001b[36m   9\u001b[0m │ \u001b[32m ▇ ▂  \u001b[0m │  │\n",
       "│ │ \u001b[38;5;141man_8          \u001b[0m │ \u001b[36m  610\u001b[0m │ \u001b[36m 30.45\u001b[0m │ \u001b[36m   2.111\u001b[0m │ \u001b[36m  1.061\u001b[0m │ \u001b[36m      1\u001b[0m │ \u001b[36m      2\u001b[0m │ \u001b[36m      2\u001b[0m │ \u001b[36m    2\u001b[0m │ \u001b[36m   9\u001b[0m │ \u001b[32m ▇ ▁  \u001b[0m │  │\n",
       "│ │ \u001b[38;5;141man_9          \u001b[0m │ \u001b[36m  610\u001b[0m │ \u001b[36m 30.45\u001b[0m │ \u001b[36m   1.828\u001b[0m │ \u001b[36m 0.9176\u001b[0m │ \u001b[36m      1\u001b[0m │ \u001b[36m      1\u001b[0m │ \u001b[36m      2\u001b[0m │ \u001b[36m    2\u001b[0m │ \u001b[36m   9\u001b[0m │ \u001b[32m  ▇   \u001b[0m │  │\n",
       "│ │ \u001b[38;5;141man_10         \u001b[0m │ \u001b[36m  610\u001b[0m │ \u001b[36m 30.45\u001b[0m │ \u001b[36m   3.284\u001b[0m │ \u001b[36m  1.364\u001b[0m │ \u001b[36m      1\u001b[0m │ \u001b[36m      2\u001b[0m │ \u001b[36m      4\u001b[0m │ \u001b[36m    4\u001b[0m │ \u001b[36m   9\u001b[0m │ \u001b[32m ▅▁▇▁ \u001b[0m │  │\n",
       "│ │ \u001b[38;5;141man_11         \u001b[0m │ \u001b[36m  610\u001b[0m │ \u001b[36m 30.45\u001b[0m │ \u001b[36m   2.671\u001b[0m │ \u001b[36m  1.647\u001b[0m │ \u001b[36m      1\u001b[0m │ \u001b[36m      2\u001b[0m │ \u001b[36m      2\u001b[0m │ \u001b[36m    3\u001b[0m │ \u001b[36m   9\u001b[0m │ \u001b[32m▇▁▂  ▁\u001b[0m │  │\n",
       "│ │ \u001b[38;5;141man_12         \u001b[0m │ \u001b[36m  610\u001b[0m │ \u001b[36m 30.45\u001b[0m │ \u001b[36m   2.391\u001b[0m │ \u001b[36m  1.647\u001b[0m │ \u001b[36m      1\u001b[0m │ \u001b[36m      2\u001b[0m │ \u001b[36m      2\u001b[0m │ \u001b[36m    2\u001b[0m │ \u001b[36m   9\u001b[0m │ \u001b[32m ▇ ▁  \u001b[0m │  │\n",
       "│ │ \u001b[38;5;141mef_1          \u001b[0m │ \u001b[36m    0\u001b[0m │ \u001b[36m     0\u001b[0m │ \u001b[36m   1.592\u001b[0m │ \u001b[36m 0.9067\u001b[0m │ \u001b[36m      1\u001b[0m │ \u001b[36m      1\u001b[0m │ \u001b[36m      1\u001b[0m │ \u001b[36m    2\u001b[0m │ \u001b[36m   9\u001b[0m │ \u001b[32m  ▇   \u001b[0m │  │\n",
       "│ │ \u001b[38;5;141mef_2          \u001b[0m │ \u001b[36m  982\u001b[0m │ \u001b[36m 49.03\u001b[0m │ \u001b[36m   3.634\u001b[0m │ \u001b[36m  1.914\u001b[0m │ \u001b[36m      1\u001b[0m │ \u001b[36m      2\u001b[0m │ \u001b[36m      4\u001b[0m │ \u001b[36m    5\u001b[0m │ \u001b[36m   9\u001b[0m │ \u001b[32m▇▃▇▅ ▁\u001b[0m │  │\n",
       "│ │ \u001b[38;5;141mef_3          \u001b[0m │ \u001b[36m    0\u001b[0m │ \u001b[36m     0\u001b[0m │ \u001b[36m   1.867\u001b[0m │ \u001b[36m 0.7119\u001b[0m │ \u001b[36m      1\u001b[0m │ \u001b[36m      2\u001b[0m │ \u001b[36m      2\u001b[0m │ \u001b[36m    2\u001b[0m │ \u001b[36m   9\u001b[0m │ \u001b[32m  ▇   \u001b[0m │  │\n",
       "│ │ \u001b[38;5;141mef_4          \u001b[0m │ \u001b[36m    0\u001b[0m │ \u001b[36m     0\u001b[0m │ \u001b[36m   1.856\u001b[0m │ \u001b[36m 0.8432\u001b[0m │ \u001b[36m      1\u001b[0m │ \u001b[36m      2\u001b[0m │ \u001b[36m      2\u001b[0m │ \u001b[36m    2\u001b[0m │ \u001b[36m   9\u001b[0m │ \u001b[32m  ▇   \u001b[0m │  │\n",
       "│ │ \u001b[38;5;141mef_5          \u001b[0m │ \u001b[36m    0\u001b[0m │ \u001b[36m     0\u001b[0m │ \u001b[36m   1.859\u001b[0m │ \u001b[36m 0.7903\u001b[0m │ \u001b[36m      1\u001b[0m │ \u001b[36m      2\u001b[0m │ \u001b[36m      2\u001b[0m │ \u001b[36m    2\u001b[0m │ \u001b[36m   9\u001b[0m │ \u001b[32m  ▇   \u001b[0m │  │\n",
       "│ │ \u001b[38;5;141mef_6          \u001b[0m │ \u001b[36m    0\u001b[0m │ \u001b[36m     0\u001b[0m │ \u001b[36m   1.944\u001b[0m │ \u001b[36m 0.7825\u001b[0m │ \u001b[36m      1\u001b[0m │ \u001b[36m      2\u001b[0m │ \u001b[36m      2\u001b[0m │ \u001b[36m    2\u001b[0m │ \u001b[36m   9\u001b[0m │ \u001b[32m  ▇   \u001b[0m │  │\n",
       "│ │ \u001b[38;5;141mef_7          \u001b[0m │ \u001b[36m    0\u001b[0m │ \u001b[36m     0\u001b[0m │ \u001b[36m   1.727\u001b[0m │ \u001b[36m 0.8544\u001b[0m │ \u001b[36m      1\u001b[0m │ \u001b[36m      1\u001b[0m │ \u001b[36m      2\u001b[0m │ \u001b[36m    2\u001b[0m │ \u001b[36m   9\u001b[0m │ \u001b[32m  ▇   \u001b[0m │  │\n",
       "│ │ \u001b[38;5;141mef_8          \u001b[0m │ \u001b[36m    0\u001b[0m │ \u001b[36m     0\u001b[0m │ \u001b[36m   1.576\u001b[0m │ \u001b[36m 0.9422\u001b[0m │ \u001b[36m      1\u001b[0m │ \u001b[36m      1\u001b[0m │ \u001b[36m      1\u001b[0m │ \u001b[36m    2\u001b[0m │ \u001b[36m   9\u001b[0m │ \u001b[32m  ▇   \u001b[0m │  │\n",
       "│ │ \u001b[38;5;141mef_9          \u001b[0m │ \u001b[36m    0\u001b[0m │ \u001b[36m     0\u001b[0m │ \u001b[36m   1.755\u001b[0m │ \u001b[36m 0.8465\u001b[0m │ \u001b[36m      1\u001b[0m │ \u001b[36m      1\u001b[0m │ \u001b[36m      2\u001b[0m │ \u001b[36m    2\u001b[0m │ \u001b[36m   9\u001b[0m │ \u001b[32m  ▇   \u001b[0m │  │\n",
       "│ │ \u001b[38;5;141mef_10         \u001b[0m │ \u001b[36m    0\u001b[0m │ \u001b[36m     0\u001b[0m │ \u001b[36m   2.862\u001b[0m │ \u001b[36m   1.07\u001b[0m │ \u001b[36m      1\u001b[0m │ \u001b[36m      2\u001b[0m │ \u001b[36m      3\u001b[0m │ \u001b[36m    3\u001b[0m │ \u001b[36m   9\u001b[0m │ \u001b[32m ▅▇▃  \u001b[0m │  │\n",
       "│ │ \u001b[38;5;141mnf_1          \u001b[0m │ \u001b[36m    0\u001b[0m │ \u001b[36m     0\u001b[0m │ \u001b[36m   1.728\u001b[0m │ \u001b[36m 0.9472\u001b[0m │ \u001b[36m      1\u001b[0m │ \u001b[36m      1\u001b[0m │ \u001b[36m      2\u001b[0m │ \u001b[36m    2\u001b[0m │ \u001b[36m   9\u001b[0m │ \u001b[32m  ▇   \u001b[0m │  │\n",
       "│ │ \u001b[38;5;141mnf_2          \u001b[0m │ \u001b[36m 1284\u001b[0m │ \u001b[36m  64.1\u001b[0m │ \u001b[36m   1.862\u001b[0m │ \u001b[36m 0.4437\u001b[0m │ \u001b[36m      1\u001b[0m │ \u001b[36m      2\u001b[0m │ \u001b[36m      2\u001b[0m │ \u001b[36m    2\u001b[0m │ \u001b[36m   9\u001b[0m │ \u001b[32m  ▇   \u001b[0m │  │\n",
       "│ │ \u001b[38;5;141mnf_3          \u001b[0m │ \u001b[36m 1285\u001b[0m │ \u001b[36m 64.15\u001b[0m │ \u001b[36m     2.1\u001b[0m │ \u001b[36m  1.869\u001b[0m │ \u001b[36m      1\u001b[0m │ \u001b[36m      1\u001b[0m │ \u001b[36m      1\u001b[0m │ \u001b[36m    3\u001b[0m │ \u001b[36m   9\u001b[0m │ \u001b[32m ▇ ▁▁ \u001b[0m │  │\n",
       "│ │ \u001b[38;5;141mnf_4          \u001b[0m │ \u001b[36m 1295\u001b[0m │ \u001b[36m 64.65\u001b[0m │ \u001b[36m   3.446\u001b[0m │ \u001b[36m  2.592\u001b[0m │ \u001b[36m      1\u001b[0m │ \u001b[36m      1\u001b[0m │ \u001b[36m      3\u001b[0m │ \u001b[36m    5\u001b[0m │ \u001b[36m   9\u001b[0m │ \u001b[32m▇▁▂▃▁▂\u001b[0m │  │\n",
       "│ │ \u001b[38;5;141mnf_5          \u001b[0m │ \u001b[36m 1285\u001b[0m │ \u001b[36m 64.15\u001b[0m │ \u001b[36m   5.113\u001b[0m │ \u001b[36m  2.617\u001b[0m │ \u001b[36m      1\u001b[0m │ \u001b[36m      3\u001b[0m │ \u001b[36m      6\u001b[0m │ \u001b[36m    6\u001b[0m │ \u001b[36m   9\u001b[0m │ \u001b[32m▃▅▁▇ ▅\u001b[0m │  │\n",
       "│ │ \u001b[38;5;141mfa_1          \u001b[0m │ \u001b[36m    0\u001b[0m │ \u001b[36m     0\u001b[0m │ \u001b[36m   1.323\u001b[0m │ \u001b[36m  1.221\u001b[0m │ \u001b[36m      1\u001b[0m │ \u001b[36m      1\u001b[0m │ \u001b[36m      1\u001b[0m │ \u001b[36m    1\u001b[0m │ \u001b[36m   9\u001b[0m │ \u001b[32m  ▇   \u001b[0m │  │\n",
       "│ │ \u001b[38;5;141mfa_2          \u001b[0m │ \u001b[36m    0\u001b[0m │ \u001b[36m     0\u001b[0m │ \u001b[36m   2.033\u001b[0m │ \u001b[36m  1.573\u001b[0m │ \u001b[36m      1\u001b[0m │ \u001b[36m      1\u001b[0m │ \u001b[36m      2\u001b[0m │ \u001b[36m    2\u001b[0m │ \u001b[36m   9\u001b[0m │ \u001b[32m  ▇   \u001b[0m │  │\n",
       "│ │ \u001b[38;5;141mfa_3          \u001b[0m │ \u001b[36m    0\u001b[0m │ \u001b[36m     0\u001b[0m │ \u001b[36m   1.311\u001b[0m │ \u001b[36m  1.174\u001b[0m │ \u001b[36m      1\u001b[0m │ \u001b[36m      1\u001b[0m │ \u001b[36m      1\u001b[0m │ \u001b[36m    1\u001b[0m │ \u001b[36m   9\u001b[0m │ \u001b[32m  ▇   \u001b[0m │  │\n",
       "│ │ \u001b[38;5;141mfa_4          \u001b[0m │ \u001b[36m    0\u001b[0m │ \u001b[36m     0\u001b[0m │ \u001b[36m   2.068\u001b[0m │ \u001b[36m  1.675\u001b[0m │ \u001b[36m      1\u001b[0m │ \u001b[36m      1\u001b[0m │ \u001b[36m      2\u001b[0m │ \u001b[36m    2\u001b[0m │ \u001b[36m   9\u001b[0m │ \u001b[32m▇    ▁\u001b[0m │  │\n",
       "│ │ \u001b[38;5;141mcs_1          \u001b[0m │ \u001b[36m    0\u001b[0m │ \u001b[36m     0\u001b[0m │ \u001b[36m   1.537\u001b[0m │ \u001b[36m 0.4987\u001b[0m │ \u001b[36m      1\u001b[0m │ \u001b[36m      1\u001b[0m │ \u001b[36m      2\u001b[0m │ \u001b[36m    2\u001b[0m │ \u001b[36m   2\u001b[0m │ \u001b[32m▇    ▇\u001b[0m │  │\n",
       "│ │ \u001b[38;5;141mcs_2          \u001b[0m │ \u001b[36m    0\u001b[0m │ \u001b[36m     0\u001b[0m │ \u001b[36m   41.17\u001b[0m │ \u001b[36m  15.75\u001b[0m │ \u001b[36m     18\u001b[0m │ \u001b[36m     28\u001b[0m │ \u001b[36m     39\u001b[0m │ \u001b[36m   53\u001b[0m │ \u001b[36m  87\u001b[0m │ \u001b[32m▇▇▅▅▂ \u001b[0m │  │\n",
       "│ │ \u001b[38;5;141mcs_3          \u001b[0m │ \u001b[36m    0\u001b[0m │ \u001b[36m     0\u001b[0m │ \u001b[36m   150.8\u001b[0m │ \u001b[36m  255.6\u001b[0m │ \u001b[36m     31\u001b[0m │ \u001b[36m     64\u001b[0m │ \u001b[36m     74\u001b[0m │ \u001b[36m   87\u001b[0m │ \u001b[36m 999\u001b[0m │ \u001b[32m▇    ▁\u001b[0m │  │\n",
       "│ │ \u001b[38;5;141mcs_4          \u001b[0m │ \u001b[36m    0\u001b[0m │ \u001b[36m     0\u001b[0m │ \u001b[36m     221\u001b[0m │ \u001b[36m  207.8\u001b[0m │ \u001b[36m    100\u001b[0m │ \u001b[36m    160\u001b[0m │ \u001b[36m    167\u001b[0m │ \u001b[36m  174\u001b[0m │ \u001b[36m 999\u001b[0m │ \u001b[32m▇    ▁\u001b[0m │  │\n",
       "│ │ \u001b[38;5;141mcs_5          \u001b[0m │ \u001b[36m    0\u001b[0m │ \u001b[36m     0\u001b[0m │ \u001b[36m   3.935\u001b[0m │ \u001b[36m  1.607\u001b[0m │ \u001b[36m      1\u001b[0m │ \u001b[36m      3\u001b[0m │ \u001b[36m      4\u001b[0m │ \u001b[36m    5\u001b[0m │ \u001b[36m   6\u001b[0m │ \u001b[32m▂▅▅▇▅▇\u001b[0m │  │\n",
       "│ │ \u001b[38;5;141mcs_6_a        \u001b[0m │ \u001b[36m    0\u001b[0m │ \u001b[36m     0\u001b[0m │ \u001b[36m   2.341\u001b[0m │ \u001b[36m  1.778\u001b[0m │ \u001b[36m      1\u001b[0m │ \u001b[36m      1\u001b[0m │ \u001b[36m      1\u001b[0m │ \u001b[36m    4\u001b[0m │ \u001b[36m   9\u001b[0m │ \u001b[32m ▇▁▂▁ \u001b[0m │  │\n",
       "│ │ \u001b[38;5;141mcs_7          \u001b[0m │ \u001b[36m    0\u001b[0m │ \u001b[36m     0\u001b[0m │ \u001b[36m   1.157\u001b[0m │ \u001b[36m 0.6633\u001b[0m │ \u001b[36m      1\u001b[0m │ \u001b[36m      1\u001b[0m │ \u001b[36m      1\u001b[0m │ \u001b[36m    1\u001b[0m │ \u001b[36m   9\u001b[0m │ \u001b[32m  ▇   \u001b[0m │  │\n",
       "│ │ \u001b[38;5;141mcs_8          \u001b[0m │ \u001b[36m    0\u001b[0m │ \u001b[36m     0\u001b[0m │ \u001b[36m   1.742\u001b[0m │ \u001b[36m 0.8982\u001b[0m │ \u001b[36m      1\u001b[0m │ \u001b[36m      1\u001b[0m │ \u001b[36m      2\u001b[0m │ \u001b[36m    2\u001b[0m │ \u001b[36m   9\u001b[0m │ \u001b[32m  ▇   \u001b[0m │  │\n",
       "│ │ \u001b[38;5;141mcs_9          \u001b[0m │ \u001b[36m    0\u001b[0m │ \u001b[36m     0\u001b[0m │ \u001b[36m   1.981\u001b[0m │ \u001b[36m 0.7229\u001b[0m │ \u001b[36m      1\u001b[0m │ \u001b[36m      2\u001b[0m │ \u001b[36m      2\u001b[0m │ \u001b[36m    2\u001b[0m │ \u001b[36m   9\u001b[0m │ \u001b[32m  ▇   \u001b[0m │  │\n",
       "│ │ \u001b[38;5;141mcs_10_a       \u001b[0m │ \u001b[36m    0\u001b[0m │ \u001b[36m     0\u001b[0m │ \u001b[36m    1.46\u001b[0m │ \u001b[36m 0.9143\u001b[0m │ \u001b[36m      1\u001b[0m │ \u001b[36m      1\u001b[0m │ \u001b[36m      1\u001b[0m │ \u001b[36m    2\u001b[0m │ \u001b[36m   9\u001b[0m │ \u001b[32m  ▇   \u001b[0m │  │\n",
       "│ │ \u001b[38;5;141mcs_10_br      \u001b[0m │ \u001b[36m    0\u001b[0m │ \u001b[36m     0\u001b[0m │ \u001b[36m   9.493\u001b[0m │ \u001b[36m  8.628\u001b[0m │ \u001b[36m      1\u001b[0m │ \u001b[36m      1\u001b[0m │ \u001b[36m      6\u001b[0m │ \u001b[36m   20\u001b[0m │ \u001b[36m  20\u001b[0m │ \u001b[32m▇▃   ▇\u001b[0m │  │\n",
       "│ │ \u001b[38;5;141mcs_10_br_2    \u001b[0m │ \u001b[36m    0\u001b[0m │ \u001b[36m     0\u001b[0m │ \u001b[36m   8.669\u001b[0m │ \u001b[36m  9.051\u001b[0m │ \u001b[36m      1\u001b[0m │ \u001b[36m      1\u001b[0m │ \u001b[36m      2\u001b[0m │ \u001b[36m   20\u001b[0m │ \u001b[36m  20\u001b[0m │ \u001b[32m▇    ▅\u001b[0m │  │\n",
       "│ │ \u001b[38;5;141mcs_10_c       \u001b[0m │ \u001b[36m    0\u001b[0m │ \u001b[36m     0\u001b[0m │ \u001b[36m   2.029\u001b[0m │ \u001b[36m 0.9302\u001b[0m │ \u001b[36m      1\u001b[0m │ \u001b[36m      2\u001b[0m │ \u001b[36m      2\u001b[0m │ \u001b[36m    2\u001b[0m │ \u001b[36m   9\u001b[0m │ \u001b[32m  ▇   \u001b[0m │  │\n",
       "│ │ \u001b[38;5;141mcs_11_a       \u001b[0m │ \u001b[36m    0\u001b[0m │ \u001b[36m     0\u001b[0m │ \u001b[36m   6.331\u001b[0m │ \u001b[36m  15.53\u001b[0m │ \u001b[36m      1\u001b[0m │ \u001b[36m      3\u001b[0m │ \u001b[36m      4\u001b[0m │ \u001b[36m    5\u001b[0m │ \u001b[36m  99\u001b[0m │ \u001b[32m  ▇   \u001b[0m │  │\n",
       "│ │ \u001b[38;5;141mcs_11_b       \u001b[0m │ \u001b[36m   54\u001b[0m │ \u001b[36m   2.7\u001b[0m │ \u001b[36m   2.923\u001b[0m │ \u001b[36m  1.478\u001b[0m │ \u001b[36m      1\u001b[0m │ \u001b[36m      2\u001b[0m │ \u001b[36m      3\u001b[0m │ \u001b[36m    4\u001b[0m │ \u001b[36m  20\u001b[0m │ \u001b[32m  ▇▁  \u001b[0m │  │\n",
       "│ │ \u001b[38;5;141mcs_11_c       \u001b[0m │ \u001b[36m   54\u001b[0m │ \u001b[36m   2.7\u001b[0m │ \u001b[36m  0.8409\u001b[0m │ \u001b[36m  1.109\u001b[0m │ \u001b[36m      0\u001b[0m │ \u001b[36m      0\u001b[0m │ \u001b[36m      0\u001b[0m │ \u001b[36m    1\u001b[0m │ \u001b[36m   6\u001b[0m │ \u001b[32m ▇▃▂▁ \u001b[0m │  │\n",
       "│ │ \u001b[38;5;141mcs_15_a       \u001b[0m │ \u001b[36m    0\u001b[0m │ \u001b[36m     0\u001b[0m │ \u001b[36m   22.01\u001b[0m │ \u001b[36m  2.024\u001b[0m │ \u001b[36m     19\u001b[0m │ \u001b[36m     20\u001b[0m │ \u001b[36m     22\u001b[0m │ \u001b[36m   23\u001b[0m │ \u001b[36m  28\u001b[0m │ \u001b[32m▆▃▇▁▃ \u001b[0m │  │\n",
       "│ │ \u001b[38;5;141mcs_15_b       \u001b[0m │ \u001b[36m    0\u001b[0m │ \u001b[36m     0\u001b[0m │ \u001b[36m      10\u001b[0m │ \u001b[36m      0\u001b[0m │ \u001b[36m     10\u001b[0m │ \u001b[36m     10\u001b[0m │ \u001b[36m     10\u001b[0m │ \u001b[36m   10\u001b[0m │ \u001b[36m  10\u001b[0m │ \u001b[32m    ▇ \u001b[0m │  │\n",
       "│ │ \u001b[38;5;141mcs_16         \u001b[0m │ \u001b[36m    0\u001b[0m │ \u001b[36m     0\u001b[0m │ \u001b[36m   1.312\u001b[0m │ \u001b[36m 0.6248\u001b[0m │ \u001b[36m      1\u001b[0m │ \u001b[36m      1\u001b[0m │ \u001b[36m      1\u001b[0m │ \u001b[36m    1\u001b[0m │ \u001b[36m   7\u001b[0m │ \u001b[32m  ▇▂  \u001b[0m │  │\n",
       "│ │ \u001b[38;5;141mcs_18         \u001b[0m │ \u001b[36m    0\u001b[0m │ \u001b[36m     0\u001b[0m │ \u001b[36m    2460\u001b[0m │ \u001b[36m   1475\u001b[0m │ \u001b[36m      0\u001b[0m │ \u001b[36m   1188\u001b[0m │ \u001b[36m   2435\u001b[0m │ \u001b[36m 3722\u001b[0m │ \u001b[36m4993\u001b[0m │ \u001b[32m▇▇▇▆▇▇\u001b[0m │  │\n",
       "│ │ \u001b[38;5;141medad_3        \u001b[0m │ \u001b[36m    0\u001b[0m │ \u001b[36m     0\u001b[0m │ \u001b[36m   2.024\u001b[0m │ \u001b[36m 0.7812\u001b[0m │ \u001b[36m      1\u001b[0m │ \u001b[36m      1\u001b[0m │ \u001b[36m      2\u001b[0m │ \u001b[36m    3\u001b[0m │ \u001b[36m   3\u001b[0m │ \u001b[32m▆  ▇ ▇\u001b[0m │  │\n",
       "│ │ \u001b[38;5;141meduca_3       \u001b[0m │ \u001b[36m    0\u001b[0m │ \u001b[36m     0\u001b[0m │ \u001b[36m   2.158\u001b[0m │ \u001b[36m 0.7706\u001b[0m │ \u001b[36m      1\u001b[0m │ \u001b[36m      2\u001b[0m │ \u001b[36m      2\u001b[0m │ \u001b[36m    3\u001b[0m │ \u001b[36m   3\u001b[0m │ \u001b[32m▅  ▇ ▇\u001b[0m │  │\n",
       "│ │ \u001b[38;5;141mfactor        \u001b[0m │ \u001b[36m    0\u001b[0m │ \u001b[36m     0\u001b[0m │ \u001b[36m       1\u001b[0m │ \u001b[36m 0.4742\u001b[0m │ \u001b[36m 0.4357\u001b[0m │ \u001b[36m 0.5811\u001b[0m │ \u001b[36m 0.8949\u001b[0m │ \u001b[36m1.205\u001b[0m │ \u001b[36m2.85\u001b[0m │ \u001b[32m ▇▇▁▃ \u001b[0m │  │\n",
       "│ └────────────────┴───────┴────────┴──────────┴─────────┴─────────┴─────────┴─────────┴───────┴──────┴────────┘  │\n",
       "│ \u001b[3m                                                    string                                                    \u001b[0m  │\n",
       "│ ┏━━━━━━━━━━━━━━━━━━━━━━━━━━━┳━━━━━━━━━┳━━━━━━━━━━━━┳━━━━━━━━━━━━━━━━━━━━━━━━━━━━━━┳━━━━━━━━━━━━━━━━━━━━━━━━━━┓  │\n",
       "│ ┃\u001b[1m \u001b[0m\u001b[1mcolumn_name              \u001b[0m\u001b[1m \u001b[0m┃\u001b[1m \u001b[0m\u001b[1mNA     \u001b[0m\u001b[1m \u001b[0m┃\u001b[1m \u001b[0m\u001b[1mNA %      \u001b[0m\u001b[1m \u001b[0m┃\u001b[1m \u001b[0m\u001b[1mwords per row               \u001b[0m\u001b[1m \u001b[0m┃\u001b[1m \u001b[0m\u001b[1mtotal words             \u001b[0m\u001b[1m \u001b[0m┃  │\n",
       "│ ┡━━━━━━━━━━━━━━━━━━━━━━━━━━━╇━━━━━━━━━╇━━━━━━━━━━━━╇━━━━━━━━━━━━━━━━━━━━━━━━━━━━━━╇━━━━━━━━━━━━━━━━━━━━━━━━━━┩  │\n",
       "│ │ \u001b[38;5;141mva_2                     \u001b[0m │ \u001b[36m      0\u001b[0m │ \u001b[36m         0\u001b[0m │ \u001b[36m                         2.5\u001b[0m │ \u001b[36m                    4974\u001b[0m │  │\n",
       "│ │ \u001b[38;5;141mva_7                     \u001b[0m │ \u001b[36m      0\u001b[0m │ \u001b[36m         0\u001b[0m │ \u001b[36m                         1.3\u001b[0m │ \u001b[36m                    2631\u001b[0m │  │\n",
       "│ │ \u001b[38;5;141mnf_3_aa                  \u001b[0m │ \u001b[36m      0\u001b[0m │ \u001b[36m         0\u001b[0m │ \u001b[36m                           1\u001b[0m │ \u001b[36m                    2046\u001b[0m │  │\n",
       "│ │ \u001b[38;5;141mnf_4_a                   \u001b[0m │ \u001b[36m      0\u001b[0m │ \u001b[36m         0\u001b[0m │ \u001b[36m                         1.1\u001b[0m │ \u001b[36m                    2247\u001b[0m │  │\n",
       "│ │ \u001b[38;5;141mnf_5_a                   \u001b[0m │ \u001b[36m      0\u001b[0m │ \u001b[36m         0\u001b[0m │ \u001b[36m                         1.1\u001b[0m │ \u001b[36m                    2111\u001b[0m │  │\n",
       "│ │ \u001b[38;5;141mcs_6_b                   \u001b[0m │ \u001b[36m      0\u001b[0m │ \u001b[36m         0\u001b[0m │ \u001b[36m                           1\u001b[0m │ \u001b[36m                    2041\u001b[0m │  │\n",
       "│ │ \u001b[38;5;141mcs_10_b                  \u001b[0m │ \u001b[36m      0\u001b[0m │ \u001b[36m         0\u001b[0m │ \u001b[36m                           1\u001b[0m │ \u001b[36m                    2073\u001b[0m │  │\n",
       "│ └───────────────────────────┴─────────┴────────────┴──────────────────────────────┴──────────────────────────┘  │\n",
       "╰────────────────────────────────────────────────────── End ──────────────────────────────────────────────────────╯\n"
      ]
     },
     "metadata": {},
     "output_type": "display_data"
    }
   ],
   "source": [
    "skimpy.skim(df_survey)"
   ]
  },
  {
   "cell_type": "markdown",
   "id": "af12e1f7",
   "metadata": {},
   "source": [
    "# Data preparation and cleaning"
   ]
  },
  {
   "cell_type": "markdown",
   "id": "118e11ef",
   "metadata": {},
   "source": [
    "## Data preparation"
   ]
  },
  {
   "cell_type": "code",
   "execution_count": 204,
   "id": "87691b29-73a0-4f17-a49f-6242a33abd77",
   "metadata": {},
   "outputs": [],
   "source": [
    "# Remove some unnecesary variables\n",
    "df_survey = df_survey.drop(\n",
    "    columns=[\n",
    "        \"cs_10_br_2\",\n",
    "        \"cs_11_c\",\n",
    "        \"cs_15_a\",\n",
    "        \"cs_15_b\",\n",
    "        \"cs_16\",\n",
    "        \"cs_18\",\n",
    "        \"edad_3\",\n",
    "        \"educa_3\",\n",
    "        \"factor\",\n",
    "        \"id\",\n",
    "        \"cuestionario\",\n",
    "        \"hi\",\n",
    "        \"mi\",\n",
    "        \"hf\",\n",
    "        \"mf\",\n",
    "    ]\n",
    ")"
   ]
  },
  {
   "cell_type": "code",
   "execution_count": 205,
   "id": "5ed1a39a",
   "metadata": {},
   "outputs": [],
   "source": [
    "# Drop NA values which are code as 99, 98 or 999\n",
    "df_survey.replace(\n",
    "    {99: np.nan, 98: np.nan, 999: np.nan},\n",
    "    inplace=True,\n",
    ")\n",
    "\n",
    "\n",
    "# Drop columns with more than 50% of NA values\n",
    "df_tmp = df_survey.drop(\n",
    "    columns=[\n",
    "        \"rp_3\",\n",
    "        \"rp_4\",\n",
    "        \"af_2_minutos\",\n",
    "        \"af_2_horas\",\n",
    "        \"af_4_minutos\",\n",
    "        \"af_4_horas\",\n",
    "        \"af_6_minutos\",\n",
    "        \"af_6_horas\",\n",
    "        \"af_7_minutos\",\n",
    "        \"af_7_horas\",\n",
    "        \"cs_2\",\n",
    "        \"cs_4\",\n",
    "    ],\n",
    "    axis=1,\n",
    ")\n",
    "\n",
    "for i in df_tmp.columns:\n",
    "    df_survey[i] = np.where(df_survey[i] == 9, np.nan, df_survey[i])\n",
    "    df_survey[i] = np.where(df_survey[i] == 8, np.nan, df_survey[i])"
   ]
  },
  {
   "cell_type": "code",
   "execution_count": 206,
   "id": "f1fc12ea",
   "metadata": {
    "lines_to_next_cell": 2,
    "tags": []
   },
   "outputs": [],
   "source": [
    "# Remove String variables are dropped because we only need the numeric ones\n",
    "idx = df_survey.select_dtypes(object).columns\n",
    "df_survey = df_survey.drop(idx, axis=1)"
   ]
  },
  {
   "cell_type": "markdown",
   "id": "d64aa4b2",
   "metadata": {
    "lines_to_next_cell": 0
   },
   "source": [
    "After a throughfully revision, we notices that many variables aren't related with the infection risk. They are more opinions postures about some topic. \n",
    "\n",
    "We will exclude all the variables starting with \"sp\", \"rv\", \"cv\", \"va\" (except va6 because is related with the vaccination status) and \"nf\".\n",
    "\n"
   ]
  },
  {
   "cell_type": "markdown",
   "id": "e891b3bf",
   "metadata": {},
   "source": [
    "## Creation of class of variable with 3 levels\n",
    "\n",
    "This ways we can order the variables between `Low` (0), `Medium` (1) and `High` (2) risk."
   ]
  },
  {
   "cell_type": "code",
   "execution_count": 207,
   "id": "a8735c0c",
   "metadata": {
    "collapsed": false,
    "jupyter": {
     "outputs_hidden": false
    },
    "lines_to_next_cell": 2
   },
   "outputs": [],
   "source": [
    "cat_012_ord = pd.CategoricalDtype(categories=[0, 1, 2], ordered=True)"
   ]
  },
  {
   "cell_type": "code",
   "execution_count": 208,
   "id": "dc1035f3",
   "metadata": {},
   "outputs": [],
   "source": [
    "# This variable will contain the final set of variables to be used in the analysis\n",
    "clean_cols = []"
   ]
  },
  {
   "cell_type": "markdown",
   "id": "27e99694",
   "metadata": {},
   "source": [
    "# Data cleaning"
   ]
  },
  {
   "cell_type": "markdown",
   "id": "edefe5d3",
   "metadata": {},
   "source": [
    "The paper links the determinants of the health with each of the variables in the dataset.  For a better understanding of the data, we will rename the variables with the name of the determinant of the health that they are related with.\n",
    "\n",
    "![Alt text](image.png)\n",
    "_Source: https://www.ncbi.nlm.nih.gov/pmc/articles/PMC7005090/ _\n",
    "\n",
    "In this spirit the variable will have a prefix with the determinant of the health that they are related with:\n",
    "\n",
    "- `sd`: Structural determinant \n",
    "- `id`: Intermediate determinant\n",
    "\n",
    "Then, it follow the type of determinant. So for the structural determinants:\n",
    "\n",
    "- `sd_edu`: Education\n",
    "- `sd_eco`: Economic\n",
    "- `sd_occ`: Occupation\n",
    "- `sd_inc`: Income\n",
    "- `sd_eth`: Ethnicity\n",
    "- `sd_gen`: Gender\n",
    "- `sd_cul`: Cultural\n",
    "\n",
    "And for the intermediate determinants:\n",
    "\n",
    "- `id_beh`: Behavioral\n",
    "- `id_bio`: Biological\n",
    "- `id_psy`: Psychosocial\n",
    "- `id_mat`: Material\n",
    "\n",
    "Finally, the variable will have a suffix with the determinant of the health that they are related with. \n",
    "\n",
    "\n",
    " Determinantes sociales\n",
    "  Determinantes estructurales\n",
    " contexto socioeconomico = de_cs\n",
    " gobernanza = de_go\n",
    " politicas (macroeconomicas, salud, sociedad)  = de_po\n",
    " normas y valores culturales = de_cu\n",
    " eduacion = de_ed\n",
    " ocupacion = de_oc\n",
    " ingresos = de_in\n",
    " genero = de_ge\n",
    " etnia = de_et\n",
    " Determinantes intermedios\n",
    " factores materiales = di_fm\n",
    " factores psicosociales = di_fp\n",
    " factores conductuales = di_fc\n",
    " factores biológicos = di_fb"
   ]
  },
  {
   "cell_type": "markdown",
   "id": "b61be90e",
   "metadata": {},
   "source": [
    "## Covid-19 variable"
   ]
  },
  {
   "cell_type": "code",
   "execution_count": 209,
   "id": "e9c2eac9",
   "metadata": {
    "collapsed": false,
    "jupyter": {
     "outputs_hidden": false
    },
    "lines_to_next_cell": 2
   },
   "outputs": [],
   "source": [
    "df_survey = (\n",
    "    df_survey.assign(\n",
    "        covid19=lambda df: np.select(\n",
    "            [\n",
    "                (df.rp_1 == 1) | (df.rp_1 == 2),\n",
    "                (df.rp_1 == 3),\n",
    "                (df.rp_1 == 8) | (df.rp_1 == 9),\n",
    "            ],\n",
    "            [1, 0, np.nan],\n",
    "            default=np.nan,\n",
    "        )\n",
    "    )\n",
    "    .assign(covid19=lambda df: df.covid19.astype(\"bool\"))\n",
    "    .drop([\"rp_1\"], axis=1)\n",
    ")"
   ]
  },
  {
   "cell_type": "code",
   "execution_count": 210,
   "id": "fad5a82d-7476-4835-8aca-f1e8298a600d",
   "metadata": {
    "collapsed": false,
    "jupyter": {
     "outputs_hidden": false
    },
    "tags": []
   },
   "outputs": [
    {
     "data": {
      "text/plain": [
       "covid19\n",
       "False    1464\n",
       "True      539\n",
       "Name: count, dtype: int64"
      ]
     },
     "execution_count": 210,
     "metadata": {},
     "output_type": "execute_result"
    }
   ],
   "source": [
    "clean_cols.append(\"covid19\")\n",
    "df_survey.covid19.value_counts()"
   ]
  },
  {
   "cell_type": "markdown",
   "id": "e8be8ef4",
   "metadata": {},
   "source": [
    "## Self-perception of contagion risk\n",
    "\n",
    "The variable `rp_3 is the self contagiuos perception. We will change the values to 0 (Low), 1 (Medium) and 2 (High).\n",
    " "
   ]
  },
  {
   "cell_type": "code",
   "execution_count": 211,
   "id": "c7fe7ed5-e4ed-4fba-b634-f992cc0a411a",
   "metadata": {
    "collapsed": false,
    "jupyter": {
     "outputs_hidden": false
    },
    "lines_to_next_cell": 2,
    "tags": []
   },
   "outputs": [],
   "source": [
    "df_survey = (\n",
    "    df_survey.assign(\n",
    "        id_beh_contag_percep=lambda df: np.select(\n",
    "            [\n",
    "                df.rp_3.between(0, 3),\n",
    "                df.rp_3.between(4, 6),\n",
    "                df.rp_3.between(7, 10),\n",
    "                df.rp_3 == 99,\n",
    "            ],\n",
    "            [0, 1, 2, np.nan],\n",
    "            default=np.nan,\n",
    "        )\n",
    "    )\n",
    "    .assign(id_beh_contag_percep=lambda df: df.id_beh_contag_percep.astype(cat_012_ord))\n",
    "    .drop([\"rp_3\"], axis=1)\n",
    ")"
   ]
  },
  {
   "cell_type": "code",
   "execution_count": 212,
   "id": "15a0cda9-ec5a-4e2f-a4b7-453051afa8ac",
   "metadata": {
    "collapsed": false,
    "jupyter": {
     "outputs_hidden": false
    },
    "tags": []
   },
   "outputs": [
    {
     "data": {
      "text/plain": [
       "id_beh_contag_percep\n",
       "2      724\n",
       "1      707\n",
       "0      507\n",
       "NaN     65\n",
       "Name: count, dtype: int64"
      ]
     },
     "execution_count": 212,
     "metadata": {},
     "output_type": "execute_result"
    }
   ],
   "source": [
    "clean_cols.append(\"id_beh_contag_percep\")\n",
    "df_survey.id_beh_contag_percep.value_counts(dropna=False)"
   ]
  },
  {
   "cell_type": "markdown",
   "id": "25afa016",
   "metadata": {},
   "source": [
    "## Self-perception of severity of the disease"
   ]
  },
  {
   "cell_type": "code",
   "execution_count": 213,
   "id": "6310f724-d476-46ed-8cbb-deac3c580a1d",
   "metadata": {
    "collapsed": false,
    "jupyter": {
     "outputs_hidden": false
    },
    "lines_to_next_cell": 2,
    "tags": []
   },
   "outputs": [],
   "source": [
    "# Covid-19: Autopercepción gravedad\n",
    "df_survey = (\n",
    "    df_survey.assign(\n",
    "        id_beh_severity_percep=lambda df: np.select(\n",
    "            [\n",
    "                df.rp_4.between(0, 3),\n",
    "                df.rp_4.between(4, 6),\n",
    "                df.rp_4.between(7, 10),\n",
    "                df.rp_4 == 99,\n",
    "            ],\n",
    "            [0, 1, 2, np.nan],\n",
    "            default=0,\n",
    "        )\n",
    "    )\n",
    "    .assign(\n",
    "        id_beh_severity_percep=lambda df: df.id_beh_severity_percep.astype(cat_012_ord)\n",
    "    )\n",
    "    .drop([\"rp_4\"], axis=1)\n",
    ")"
   ]
  },
  {
   "cell_type": "code",
   "execution_count": 214,
   "id": "9b202ae5",
   "metadata": {
    "collapsed": false,
    "jupyter": {
     "outputs_hidden": false
    }
   },
   "outputs": [
    {
     "data": {
      "text/plain": [
       "id_beh_severity_percep\n",
       "2    762\n",
       "0    627\n",
       "1    614\n",
       "Name: count, dtype: int64"
      ]
     },
     "execution_count": 214,
     "metadata": {},
     "output_type": "execute_result"
    }
   ],
   "source": [
    "clean_cols.append(\"id_beh_severity_percep\")\n",
    "df_survey.id_beh_severity_percep.value_counts(dropna=False)"
   ]
  },
  {
   "cell_type": "markdown",
   "id": "65c8e068",
   "metadata": {},
   "source": [
    "## Contagion inside the household (Bubble)"
   ]
  },
  {
   "cell_type": "code",
   "execution_count": 215,
   "id": "34a5b541-8d10-41aa-9470-8fbfe4926901",
   "metadata": {
    "collapsed": false,
    "jupyter": {
     "outputs_hidden": false
    },
    "lines_to_next_cell": 2,
    "tags": []
   },
   "outputs": [],
   "source": [
    "df_survey = (\n",
    "    df_survey.assign(\n",
    "        id_bio_bubble_contag=lambda df: np.select(\n",
    "            [\n",
    "                (df.rp_5 == 1) | (df.rp_5 == 9),\n",
    "                (df.rp_5 == 2),\n",
    "            ],\n",
    "            [1, 0],\n",
    "            default=0,\n",
    "        )\n",
    "    )\n",
    "    .assign(id_bio_bubble_contag=lambda df: df.id_bio_bubble_contag.astype(\"bool\"))\n",
    "    .drop([\"rp_5\"], axis=1)\n",
    ")"
   ]
  },
  {
   "cell_type": "code",
   "execution_count": 216,
   "id": "1ecc7ab2",
   "metadata": {},
   "outputs": [
    {
     "data": {
      "text/plain": [
       "id_bio_bubble_contag\n",
       "False    1275\n",
       "True      728\n",
       "Name: count, dtype: int64"
      ]
     },
     "execution_count": 216,
     "metadata": {},
     "output_type": "execute_result"
    }
   ],
   "source": [
    "clean_cols.append(\"id_bio_bubble_contag\")\n",
    "df_survey.id_bio_bubble_contag.value_counts(dropna=False)"
   ]
  },
  {
   "cell_type": "markdown",
   "id": "d3895333",
   "metadata": {},
   "source": [
    "## Contagion outside the household (Bubble)"
   ]
  },
  {
   "cell_type": "code",
   "execution_count": 217,
   "id": "1466a23c-e982-4b14-b2f0-0dc5feb371a1",
   "metadata": {
    "collapsed": false,
    "jupyter": {
     "outputs_hidden": false
    },
    "lines_to_next_cell": 2,
    "tags": []
   },
   "outputs": [],
   "source": [
    "df_survey = (\n",
    "    df_survey.assign(\n",
    "        id_bio_out_bubble_contag=lambda df: np.select(\n",
    "            [\n",
    "                (df.rp_6 == 1) | (df.rp_6 == 9),\n",
    "                (df.rp_6 == 2),\n",
    "            ],\n",
    "            [1, 0],\n",
    "            default=0,\n",
    "        )\n",
    "    )\n",
    "    .assign(\n",
    "        id_bio_out_bubble_contag=lambda df: df.id_bio_out_bubble_contag.astype(\"bool\")\n",
    "    )\n",
    "    .drop([\"rp_6\"], axis=1)\n",
    ")"
   ]
  },
  {
   "cell_type": "code",
   "execution_count": 218,
   "id": "b47da426",
   "metadata": {},
   "outputs": [
    {
     "data": {
      "text/plain": [
       "id_bio_out_bubble_contag\n",
       "True     1518\n",
       "False     485\n",
       "Name: count, dtype: int64"
      ]
     },
     "execution_count": 218,
     "metadata": {},
     "output_type": "execute_result"
    }
   ],
   "source": [
    "clean_cols.append(\"id_bio_out_bubble_contag\")\n",
    "df_survey.id_bio_out_bubble_contag.value_counts(dropna=False)"
   ]
  },
  {
   "cell_type": "markdown",
   "id": "afe5d62f",
   "metadata": {
    "lines_to_next_cell": 0
   },
   "source": [
    "## Aware of deaths by Covid-19"
   ]
  },
  {
   "cell_type": "code",
   "execution_count": 219,
   "id": "8d9516e4",
   "metadata": {},
   "outputs": [],
   "source": [
    "df_survey = (\n",
    "    df_survey.assign(\n",
    "        id_bio_death_covid=lambda df: np.select(\n",
    "            [\n",
    "                (df.rp_7 == 1) | (df.rp_7 == 9),\n",
    "                (df.rp_7 == 2),\n",
    "            ],\n",
    "            [1, 0],\n",
    "            default=0,\n",
    "        )\n",
    "    )\n",
    "    .assign(id_bio_death_covid=lambda df: df.id_bio_death_covid.astype(\"bool\"))\n",
    "    .drop([\"rp_7\"], axis=1)\n",
    ")"
   ]
  },
  {
   "cell_type": "code",
   "execution_count": 220,
   "id": "0ca737d0",
   "metadata": {},
   "outputs": [
    {
     "data": {
      "text/plain": [
       "id_bio_death_covid\n",
       "False    1467\n",
       "True      536\n",
       "Name: count, dtype: int64"
      ]
     },
     "execution_count": 220,
     "metadata": {},
     "output_type": "execute_result"
    }
   ],
   "source": [
    "clean_cols.append(\"id_bio_death_covid\")\n",
    "df_survey.id_bio_death_covid.value_counts(dropna=False)"
   ]
  },
  {
   "cell_type": "markdown",
   "id": "8e8aeba6",
   "metadata": {},
   "source": [
    "## Risk behavior"
   ]
  },
  {
   "cell_type": "code",
   "execution_count": 221,
   "id": "2c03a1ee",
   "metadata": {
    "collapsed": false,
    "jupyter": {
     "outputs_hidden": false
    },
    "lines_to_next_cell": 2
   },
   "outputs": [],
   "source": [
    "df_survey = (\n",
    "    df_survey.assign(\n",
    "        cr_1=lambda df: np.where(df.cr_1 == 9, np.nan, df.cr_1),\n",
    "        cr_2=lambda df: np.where(df.cr_2 == 9, np.nan, df.cr_2),\n",
    "    )\n",
    "    .assign(\n",
    "        cr_1=lambda df: np.select(\n",
    "            [\n",
    "                df.cr_1.between(1, 2),\n",
    "                df.cr_1.between(3, 3),\n",
    "                df.cr_1.between(4, 5),\n",
    "                df.cr_1 == 9,\n",
    "            ],\n",
    "            [2, 1, 0, np.nan],\n",
    "            default=np.nan,\n",
    "        ),\n",
    "        cr_2=lambda df: np.select(\n",
    "            [\n",
    "                df.cr_2.between(1, 2),\n",
    "                df.cr_2.between(3, 3),\n",
    "                df.cr_2.between(4, 5),\n",
    "                df.cr_2 == 9,\n",
    "            ],\n",
    "            [2, 1, 0, np.nan],\n",
    "            default=np.nan,\n",
    "        ),\n",
    "    )\n",
    "    .assign(id_beh_risk_personal=lambda df: df[[\"cr_1\", \"cr_2\"]].median(axis=1).round())\n",
    "    .assign(\n",
    "        id_beh_risk_personal=lambda df: df.id_beh_risk_personal.astype(\n",
    "            pd.CategoricalDtype(ordered=True)\n",
    "        )\n",
    "    )\n",
    "    .drop([\"cr_1\", \"cr_2\"], axis=1)\n",
    ")"
   ]
  },
  {
   "cell_type": "code",
   "execution_count": 222,
   "id": "5c9c3d63-361d-4e48-b3ed-d9f787b14f6c",
   "metadata": {
    "collapsed": false,
    "jupyter": {
     "outputs_hidden": false
    },
    "tags": []
   },
   "outputs": [
    {
     "data": {
      "text/plain": [
       "id_beh_risk_personal\n",
       "0.0    1903\n",
       "1.0      82\n",
       "2.0      18\n",
       "Name: count, dtype: int64"
      ]
     },
     "execution_count": 222,
     "metadata": {},
     "output_type": "execute_result"
    }
   ],
   "source": [
    "clean_cols.append(\"id_beh_risk_personal\")\n",
    "df_survey.id_beh_risk_personal.value_counts()"
   ]
  },
  {
   "cell_type": "markdown",
   "id": "030706f5",
   "metadata": {},
   "source": [
    "## Covid risk behaviors towards other people"
   ]
  },
  {
   "cell_type": "code",
   "execution_count": 223,
   "id": "f3f7f5a8-101a-465d-a814-9444dfe7044d",
   "metadata": {
    "collapsed": false,
    "jupyter": {
     "outputs_hidden": false
    },
    "lines_to_next_cell": 2
   },
   "outputs": [],
   "source": [
    "df_survey = (\n",
    "    # change the value of 9 in cr_3 and cr_4 by np.nan\n",
    "    df_survey.assign(\n",
    "        cr_3=lambda df: np.where(df.cr_3 == 9, np.nan, df.cr_3),\n",
    "        cr_4=lambda df: np.where(df.cr_4 == 9, np.nan, df.cr_4),\n",
    "    )\n",
    "    # change the values of cr_3 and cr_4 by 0, 1, 2\n",
    "    .assign(\n",
    "        cr_3=lambda df: np.select(\n",
    "            [\n",
    "                df.cr_3.between(1, 2),\n",
    "                df.cr_3.between(3, 3),\n",
    "                df.cr_3.between(4, 5),\n",
    "                df.cr_3 == 9,\n",
    "            ],\n",
    "            [0, 1, 2, np.nan],\n",
    "            default=np.nan,\n",
    "        ),\n",
    "        cr_4=lambda df: np.select(\n",
    "            [\n",
    "                df.cr_4.between(1, 2),\n",
    "                df.cr_4.between(3, 3),\n",
    "                df.cr_4.between(4, 5),\n",
    "                df.cr_4 == 9,\n",
    "            ],\n",
    "            [0, 1, 2, np.nan],\n",
    "            default=np.nan,\n",
    "        ),\n",
    "    )\n",
    "    .assign(id_beh_risk_others=lambda df: df[[\"cr_3\", \"cr_4\"]].median(axis=1).round())\n",
    "    .assign(id_beh_risk_others=lambda df: df.id_beh_risk_others.astype(cat_012_ord))\n",
    "    .drop([\"cr_3\", \"cr_4\"], axis=1)\n",
    ")"
   ]
  },
  {
   "cell_type": "code",
   "execution_count": 224,
   "id": "7ee4c545-b063-4919-a551-e368f5d617c3",
   "metadata": {
    "collapsed": false,
    "jupyter": {
     "outputs_hidden": false
    },
    "tags": []
   },
   "outputs": [
    {
     "data": {
      "text/plain": [
       "id_beh_risk_others\n",
       "0    1650\n",
       "1     267\n",
       "2      86\n",
       "Name: count, dtype: int64"
      ]
     },
     "execution_count": 224,
     "metadata": {},
     "output_type": "execute_result"
    }
   ],
   "source": [
    "clean_cols.append(\"id_beh_risk_others\")\n",
    "df_survey.id_beh_risk_others.value_counts()"
   ]
  },
  {
   "cell_type": "markdown",
   "id": "c3e16927",
   "metadata": {},
   "source": [
    "## Physical activity\n",
    "\n",
    "The rationale behind this variable is that people who do physical activity are more likely to have a better health and therefore, a better immune system.\n",
    "\n",
    "To create the variable we use the following assumitions: \n",
    "\n",
    "- If people don't do any physical activity, they are in the `High` (2) risk group.\n",
    "- If people at least do moderate or light physical activity, they are in the `Medium` (1) risk group.\n",
    "- If people do intense physical activity, they are in the `Low` (0) risk group."
   ]
  },
  {
   "cell_type": "code",
   "execution_count": 225,
   "id": "7f73a1c7",
   "metadata": {
    "collapsed": false,
    "jupyter": {
     "outputs_hidden": false
    },
    "lines_to_next_cell": 2
   },
   "outputs": [],
   "source": [
    "df_survey = (\n",
    "    df_survey.assign(\n",
    "        af_1=lambda df: df.af_1.astype(\"float\"),\n",
    "        af_3=lambda df: df.af_3.astype(\"float\"),\n",
    "        af_5=lambda df: df.af_5.astype(\"float\"),\n",
    "        af_7_horas=lambda df: df.af_7_horas.astype(\"float\"),\n",
    "        af_7_minutos=lambda df: df.af_7_minutos.astype(\"float\"),\n",
    "    )\n",
    "    .assign(\n",
    "        af_1=lambda df: df.af_1.fillna(0),\n",
    "        af_3=lambda df: df.af_3.fillna(0),\n",
    "        af_5=lambda df: df.af_5.fillna(0),\n",
    "        af_7_horas=lambda df: df.af_7_horas.fillna(0),\n",
    "        af_7_minutos=lambda df: df.af_7_minutos.fillna(0),\n",
    "    )\n",
    "    # Transform each variable such as:\n",
    "    # af_1, af_3, af_5 is 1 if less than 3 and 0 otherwise.\n",
    "    .assign(\n",
    "        id_beh_physical_act=lambda df: np.select(\n",
    "            [\n",
    "                (df.af_1 == 9) & (df.af_3 == 9) & (df.af_5 == 9),\n",
    "                (df.af_1 == 0) & (df.af_3 == 0) & (df.af_5 == 0),\n",
    "                ((df.af_3 > 0) | (df.af_5 > 0)) & (df.af_1 == 0),\n",
    "                (df.af_1 > 0),\n",
    "            ],\n",
    "            [np.nan, 2, 1, 0],\n",
    "            default=np.nan,\n",
    "        )\n",
    "    )\n",
    "    .assign(id_beh_physical_act=lambda df: df.id_beh_physical_act.astype(cat_012_ord))\n",
    ")"
   ]
  },
  {
   "cell_type": "code",
   "execution_count": 226,
   "id": "b47537d1",
   "metadata": {
    "collapsed": false,
    "jupyter": {
     "outputs_hidden": false
    }
   },
   "outputs": [
    {
     "data": {
      "text/plain": [
       "id_beh_physical_act\n",
       "1    978\n",
       "0    814\n",
       "2    211\n",
       "Name: count, dtype: int64"
      ]
     },
     "execution_count": 226,
     "metadata": {},
     "output_type": "execute_result"
    }
   ],
   "source": [
    "clean_cols.append(\"id_beh_physical_act\")\n",
    "df_survey.id_beh_physical_act.value_counts(dropna=False)"
   ]
  },
  {
   "cell_type": "markdown",
   "id": "d4b7f5f0",
   "metadata": {},
   "source": [
    "## Vaccination myths"
   ]
  },
  {
   "cell_type": "code",
   "execution_count": 227,
   "id": "e8191d2a",
   "metadata": {
    "collapsed": false,
    "jupyter": {
     "outputs_hidden": false
    }
   },
   "outputs": [],
   "source": [
    "# Vacunacion\n",
    "\n",
    "# Get the list of columns starting with 'vm'\n",
    "vm_columns = [col for col in df_survey.columns if col.startswith(\"vm\")]\n",
    "\n",
    "# Apply the assign and np.select operations to each 'vm' column\n",
    "for col in vm_columns:\n",
    "    df_survey[col] = np.select(\n",
    "        [\n",
    "            df_survey[col].between(1, 2),\n",
    "            df_survey[col] == 3,\n",
    "            df_survey[col].between(4, 5),\n",
    "            df_survey[col] == 9,\n",
    "        ],\n",
    "        [0, 1, 2, np.nan],\n",
    "    )\n",
    "\n",
    "df_survey = (\n",
    "    df_survey.assign(id_psy_vacc_myths=lambda df: df[vm_columns].median(axis=1).round())\n",
    "    .assign(id_psy_vacc_myths=lambda df: df.id_psy_vacc_myths.astype(cat_012_ord))\n",
    "    .drop(columns=vm_columns)\n",
    ")"
   ]
  },
  {
   "cell_type": "code",
   "execution_count": 228,
   "id": "0b2cda4c",
   "metadata": {
    "collapsed": false,
    "jupyter": {
     "outputs_hidden": false
    },
    "lines_to_next_cell": 0
   },
   "outputs": [
    {
     "data": {
      "text/plain": [
       "id_psy_vacc_myths\n",
       "0    1869\n",
       "1      77\n",
       "2      57\n",
       "Name: count, dtype: int64"
      ]
     },
     "execution_count": 228,
     "metadata": {},
     "output_type": "execute_result"
    }
   ],
   "source": [
    "clean_cols.append(\"id_psy_vacc_myths\")\n",
    "df_survey.id_psy_vacc_myths.value_counts()"
   ]
  },
  {
   "cell_type": "markdown",
   "id": "8dc729a1",
   "metadata": {},
   "source": [
    "## Vaccination status"
   ]
  },
  {
   "cell_type": "code",
   "execution_count": 229,
   "id": "e9e42585",
   "metadata": {
    "collapsed": false,
    "jupyter": {
     "outputs_hidden": false
    },
    "lines_to_next_cell": 2
   },
   "outputs": [],
   "source": [
    "df_survey = (\n",
    "    df_survey.assign(\n",
    "        id_bio_vacc_status=lambda df: np.select(\n",
    "            [df.va_6.between(1, 2), df.va_6.between(3, 4), df.va_6 == 9],\n",
    "            [0, 1, np.nan],\n",
    "            default=np.nan,\n",
    "        )\n",
    "    )\n",
    "    .assign(id_bio_vacc_status=lambda df: df.id_bio_vacc_status.astype(\"bool\"))\n",
    "    .drop(columns=[\"va_6\"])\n",
    ")"
   ]
  },
  {
   "cell_type": "code",
   "execution_count": 230,
   "id": "de3101c3",
   "metadata": {
    "collapsed": false,
    "jupyter": {
     "outputs_hidden": false
    }
   },
   "outputs": [
    {
     "data": {
      "text/plain": [
       "id_bio_vacc_status\n",
       "False    1837\n",
       "True      166\n",
       "Name: count, dtype: int64"
      ]
     },
     "execution_count": 230,
     "metadata": {},
     "output_type": "execute_result"
    }
   ],
   "source": [
    "clean_cols.append(\"id_bio_vacc_status\")\n",
    "df_survey.id_bio_vacc_status.value_counts()"
   ]
  },
  {
   "cell_type": "markdown",
   "id": "ca3a8d8e",
   "metadata": {},
   "source": [
    "## Anxiety disorders"
   ]
  },
  {
   "cell_type": "code",
   "execution_count": 231,
   "id": "03a0405a",
   "metadata": {
    "collapsed": false,
    "jupyter": {
     "outputs_hidden": false
    },
    "lines_to_next_cell": 2
   },
   "outputs": [],
   "source": [
    "df_survey = df_survey.assign(\n",
    "    an_1=lambda df: np.select(\n",
    "        [df.an_1.between(0, 1), df.an_1 == 2, df.an_1.between(3, 4), df.an_1 == 9],\n",
    "        [0, 1, 2, np.nan],\n",
    "        default=np.nan,\n",
    "    ),\n",
    "    an_2=lambda df: np.select(\n",
    "        [df.an_2.between(0, 1), df.an_2 == 2, df.an_2.between(3, 4), df.an_2 == 9],\n",
    "        [0, 1, 2, np.nan],\n",
    "        default=np.nan,\n",
    "    ),\n",
    "    an_3=lambda df: np.select(\n",
    "        [df.an_3.between(0, 1), df.an_3 == 2, df.an_3.between(3, 4), df.an_3 == 9],\n",
    "        [0, 1, 2, np.nan],\n",
    "        default=np.nan,\n",
    "    ),\n",
    "    an_4=lambda df: np.select(\n",
    "        [df.an_4.between(0, 1), df.an_4 == 2, df.an_4.between(3, 4), df.an_4 == 9],\n",
    "        [0, 1, 2, np.nan],\n",
    "        default=np.nan,\n",
    "    ),\n",
    "    an_5=lambda df: np.select(\n",
    "        [df.an_5.between(0, 1), df.an_5 == 2, df.an_5.between(3, 4), df.an_5 == 9],\n",
    "        [0, 1, 2, np.nan],\n",
    "        default=np.nan,\n",
    "    ),\n",
    "    an_6=lambda df: np.select(\n",
    "        [df.an_6 == 1, df.an_6 == 2, df.an_6 == 3, df.an_6 == 9],\n",
    "        [0, 1, 2, np.nan],\n",
    "        default=np.nan,\n",
    "    ),\n",
    ")\n",
    "\n",
    "df_survey = (\n",
    "    df_survey.assign(\n",
    "        id_psy_anxiety_sympt=lambda df: df[\n",
    "            [\n",
    "                \"an_1\",\n",
    "                \"an_2\",\n",
    "                \"an_3\",\n",
    "                \"an_4\",\n",
    "                \"an_5\",\n",
    "                \"an_6\",\n",
    "            ]\n",
    "        ]\n",
    "        .median(axis=1)\n",
    "        .round()\n",
    "    )\n",
    "    .assign(id_psy_anxiety_sympt=lambda df: df.id_psy_anxiety_sympt.astype(cat_012_ord))\n",
    "    .drop(\n",
    "        columns=[\n",
    "            \"an_1\",\n",
    "            \"an_2\",\n",
    "            \"an_3\",\n",
    "            \"an_4\",\n",
    "            \"an_5\",\n",
    "            \"an_6\",\n",
    "        ]\n",
    "    )\n",
    ")"
   ]
  },
  {
   "cell_type": "code",
   "execution_count": 232,
   "id": "8861f8ad",
   "metadata": {
    "collapsed": false,
    "jupyter": {
     "outputs_hidden": false
    },
    "lines_to_next_cell": 2
   },
   "outputs": [
    {
     "data": {
      "text/plain": [
       "id_psy_anxiety_sympt\n",
       "0    1981\n",
       "1      14\n",
       "2       3\n",
       "Name: count, dtype: int64"
      ]
     },
     "execution_count": 232,
     "metadata": {},
     "output_type": "execute_result"
    }
   ],
   "source": [
    "clean_cols.append(\"id_psy_anxiety_sympt\")\n",
    "df_survey.id_psy_anxiety_sympt.value_counts()"
   ]
  },
  {
   "cell_type": "markdown",
   "id": "48bcb2e6",
   "metadata": {},
   "source": [
    "## Household income issues and levels"
   ]
  },
  {
   "cell_type": "code",
   "execution_count": 233,
   "id": "6f1166d0",
   "metadata": {
    "collapsed": false,
    "jupyter": {
     "outputs_hidden": false
    },
    "lines_to_next_cell": 2
   },
   "outputs": [],
   "source": [
    "# Problemas con ingresos familiares\n",
    "#\n",
    "df_survey = (\n",
    "    df_survey.assign(\n",
    "        ef_1=lambda df: np.select(\n",
    "            [df.ef_1 == 1, df.ef_1 == 2, df.ef_1 == 3, df.ef_1 == 9], [2, 1, 0, np.nan]\n",
    "        ),\n",
    "        ef_10=lambda df: np.select(\n",
    "            [df.ef_10.between(1, 2), df.ef_10 == 3, df.ef_10 == 4, df.ef_10 == 9],\n",
    "            [2, 1, 0, np.nan],\n",
    "        ),\n",
    "        sd_inc_income_level=lambda df: df[[\"ef_1\", \"ef_10\"]].median(axis=1).round(),\n",
    "    )\n",
    "    .assign(sd_inc_income_level=lambda df: df.sd_inc_income_level.astype(cat_012_ord))\n",
    "    .assign(\n",
    "        ef_3=lambda df: np.select(\n",
    "            [df.ef_3 == 1, df.ef_3 == 2, df.ef_3 == 9], [1, 0, np.nan]\n",
    "        ),\n",
    "        ef_4=lambda df: np.select(\n",
    "            [df.ef_4 == 1, df.ef_4 == 2, df.ef_4 == 9], [1, 0, np.nan]\n",
    "        ),\n",
    "        ef_5=lambda df: np.select(\n",
    "            [df.ef_5 == 1, df.ef_5 == 2, df.ef_5 == 9], [1, 0, np.nan]\n",
    "        ),\n",
    "        ef_6=lambda df: np.select(\n",
    "            [df.ef_6 == 1, df.ef_6 == 2, df.ef_6 == 9], [1, 0, np.nan]\n",
    "        ),\n",
    "        ef_7=lambda df: np.select(\n",
    "            [df.ef_7 == 1, df.ef_7 == 2, df.ef_7 == 9], [0, 1, np.nan]\n",
    "        ),\n",
    "        ef_8=lambda df: np.select(\n",
    "            [df.ef_8 == 1, df.ef_8 == 2, df.ef_8 == 9], [0, 1, np.nan]\n",
    "        ),\n",
    "        ef_9=lambda df: np.select(\n",
    "            [df.ef_9 == 1, df.ef_9 == 2, df.ef_9 == 9], [0, 1, np.nan]\n",
    "        ),\n",
    "    )\n",
    "    .assign(\n",
    "        sd_inc_income_problems=lambda df: df[\n",
    "            [\n",
    "                \"ef_3\",\n",
    "                \"ef_4\",\n",
    "                \"ef_5\",\n",
    "                \"ef_6\",\n",
    "                \"ef_7\",\n",
    "                \"ef_8\",\n",
    "                \"ef_9\",\n",
    "            ]\n",
    "        ]\n",
    "        .median(axis=1)\n",
    "        .round()\n",
    "    )\n",
    "    .assign(sd_inc_income_problems=lambda df: df.sd_inc_income_problems.astype(\"bool\"))\n",
    "    .drop(\n",
    "        columns=[\n",
    "            \"ef_1\",\n",
    "            \"ef_3\",\n",
    "            \"ef_4\",\n",
    "            \"ef_5\",\n",
    "            \"ef_6\",\n",
    "            \"ef_7\",\n",
    "            \"ef_8\",\n",
    "            \"ef_9\",\n",
    "            \"ef_10\",\n",
    "        ]\n",
    "    )\n",
    ")"
   ]
  },
  {
   "cell_type": "code",
   "execution_count": 234,
   "id": "99229925",
   "metadata": {
    "collapsed": false,
    "jupyter": {
     "outputs_hidden": false
    }
   },
   "outputs": [
    {
     "data": {
      "text/plain": [
       "sd_inc_income_problems\n",
       "False    1685\n",
       "True      318\n",
       "Name: count, dtype: int64"
      ]
     },
     "execution_count": 234,
     "metadata": {},
     "output_type": "execute_result"
    }
   ],
   "source": [
    "clean_cols.append(\"sd_inc_income_problems\")\n",
    "df_survey.sd_inc_income_problems.value_counts()"
   ]
  },
  {
   "cell_type": "code",
   "execution_count": 235,
   "id": "a352cb86",
   "metadata": {
    "collapsed": false,
    "jupyter": {
     "outputs_hidden": false
    }
   },
   "outputs": [
    {
     "data": {
      "text/plain": [
       "sd_inc_income_level\n",
       "2    1079\n",
       "1     557\n",
       "0     367\n",
       "Name: count, dtype: int64"
      ]
     },
     "execution_count": 235,
     "metadata": {},
     "output_type": "execute_result"
    }
   ],
   "source": [
    "clean_cols.append(\"sd_inc_income_level\")\n",
    "df_survey.sd_inc_income_level.value_counts()"
   ]
  },
  {
   "cell_type": "markdown",
   "id": "140d3a1d",
   "metadata": {},
   "source": [
    "## Behavioral risk on  Holiday festivities"
   ]
  },
  {
   "cell_type": "code",
   "execution_count": 236,
   "id": "847ac15e-01ce-4ce3-90d3-91894acc9601",
   "metadata": {
    "collapsed": false,
    "jupyter": {
     "outputs_hidden": false
    },
    "lines_to_next_cell": 2
   },
   "outputs": [],
   "source": [
    "fa_columns = [col for col in df_survey.columns if col.startswith(\"fa\")]\n",
    "\n",
    "for col in fa_columns:\n",
    "    df_survey[col] = np.select(\n",
    "        [\n",
    "            df_survey[col] == 1,\n",
    "            df_survey[col] == 2,\n",
    "            df_survey[col] == 3,\n",
    "            df_survey[col] > 8,\n",
    "        ],\n",
    "        [2, 1, 0, np.nan],\n",
    "    )\n",
    "\n",
    "df_survey = (\n",
    "    df_survey.assign(\n",
    "        sd_cul_holiday_season=lambda df: df[fa_columns].median(axis=1).round()\n",
    "    )\n",
    "    .assign(\n",
    "        sd_cul_holiday_season=lambda df: df.sd_cul_holiday_season.astype(cat_012_ord)\n",
    "    )\n",
    "    .drop(columns=fa_columns)\n",
    ")"
   ]
  },
  {
   "cell_type": "code",
   "execution_count": 237,
   "id": "22de5c7b-8bb0-431f-8f35-f7528a936036",
   "metadata": {
    "collapsed": false,
    "jupyter": {
     "outputs_hidden": false
    },
    "tags": []
   },
   "outputs": [
    {
     "data": {
      "text/plain": [
       "sd_cul_holiday_season\n",
       "2    1708\n",
       "1     209\n",
       "0      86\n",
       "Name: count, dtype: int64"
      ]
     },
     "execution_count": 237,
     "metadata": {},
     "output_type": "execute_result"
    }
   ],
   "source": [
    "clean_cols.append(\"sd_cul_holiday_season\")\n",
    "df_survey.sd_cul_holiday_season.value_counts()"
   ]
  },
  {
   "cell_type": "markdown",
   "id": "0a2aca98",
   "metadata": {},
   "source": [
    "## Gender"
   ]
  },
  {
   "cell_type": "code",
   "execution_count": 238,
   "id": "6b913224-5e9b-4c61-b8cf-d24f2fcc8a7a",
   "metadata": {
    "collapsed": false,
    "jupyter": {
     "outputs_hidden": false
    },
    "lines_to_next_cell": 2
   },
   "outputs": [],
   "source": [
    "# Variables Sociodograficas\n",
    "# Sexo y Edad\n",
    "df_survey = (\n",
    "    df_survey.rename(\n",
    "        columns={\n",
    "            \"cs_1\": \"id_bio_gender\",\n",
    "        }\n",
    "    )\n",
    "    .assign(\n",
    "        id_bio_gender=lambda df: np.select(\n",
    "            [df.id_bio_gender == 1, df.id_bio_gender == 2], [1, 0]\n",
    "        )\n",
    "    )\n",
    "    .assign(id_bio_gender=lambda df: df.id_bio_gender.astype(\"bool\"))\n",
    ")"
   ]
  },
  {
   "cell_type": "code",
   "execution_count": 239,
   "id": "c1749524-7d90-492a-9371-bd887d836106",
   "metadata": {
    "collapsed": false,
    "jupyter": {
     "outputs_hidden": false
    },
    "tags": []
   },
   "outputs": [
    {
     "data": {
      "text/plain": [
       "id_bio_gender\n",
       "False    1076\n",
       "True      927\n",
       "Name: count, dtype: int64"
      ]
     },
     "execution_count": 239,
     "metadata": {},
     "output_type": "execute_result"
    }
   ],
   "source": [
    "clean_cols.append(\"id_bio_gender\")\n",
    "df_survey.id_bio_gender.value_counts()"
   ]
  },
  {
   "cell_type": "markdown",
   "id": "cee3a760",
   "metadata": {},
   "source": [
    "## Age"
   ]
  },
  {
   "cell_type": "code",
   "execution_count": 240,
   "id": "a9d6b354-d62a-4a36-b9c3-1fe051a183c4",
   "metadata": {
    "collapsed": false,
    "jupyter": {
     "outputs_hidden": false
    },
    "lines_to_next_cell": 0,
    "tags": []
   },
   "outputs": [],
   "source": [
    "df_survey = df_survey.rename(columns={\"cs_2\": \"id_bio_age\"}).assign(\n",
    "    id_bio_age=lambda df: df.id_bio_age.astype(\"float\")\n",
    ")"
   ]
  },
  {
   "cell_type": "code",
   "execution_count": 241,
   "id": "0583bae4-8749-4da1-84d7-105d215832a2",
   "metadata": {
    "collapsed": false,
    "jupyter": {
     "outputs_hidden": false
    }
   },
   "outputs": [
    {
     "data": {
      "image/png": "[encoded data removed]",
      "text/plain": [
       "<Figure size 640x480 with 1 Axes>"
      ]
     },
     "metadata": {},
     "output_type": "display_data"
    }
   ],
   "source": [
    "clean_cols.append(\"id_bio_age\")\n",
    "\n",
    "plt.hist(df_survey.id_bio_age)\n",
    "plt.xlabel(\"Age\")\n",
    "plt.ylabel(\"Frequency\")\n",
    "plt.title(\"Distribution of Age\")\n",
    "plt.show()"
   ]
  },
  {
   "cell_type": "markdown",
   "id": "d4898882",
   "metadata": {},
   "source": [
    "## Height and weight"
   ]
  },
  {
   "cell_type": "code",
   "execution_count": 242,
   "id": "ecfbca86-b895-4130-8983-389406031cda",
   "metadata": {
    "collapsed": false,
    "jupyter": {
     "outputs_hidden": false
    },
    "lines_to_next_cell": 0,
    "tags": []
   },
   "outputs": [],
   "source": [
    "df_survey = df_survey.assign(\n",
    "    cs_3=lambda df: np.where(df.cs_3 >= 98, np.nan, df.cs_3),\n",
    "    cs_4=lambda df: np.where(df.cs_4 == 999, np.nan, df.cs_4),\n",
    ")\n",
    "\n",
    "\n",
    "df_survey = df_survey.assign(\n",
    "    cs_3=lambda df: df.cs_3.astype(\"float\"),\n",
    "    cs_4=lambda df: df.cs_4.astype(\"float\"),\n",
    ").rename(columns={\"cs_3\": \"id_bio_weight\", \"cs_4\": \"id_bio_height\"})"
   ]
  },
  {
   "cell_type": "code",
   "execution_count": 243,
   "id": "a5d5a411-c46b-4abb-8234-56bfbd231455",
   "metadata": {
    "collapsed": false,
    "jupyter": {
     "outputs_hidden": false
    },
    "tags": []
   },
   "outputs": [
    {
     "data": {
      "image/png": "[encoded data removed]",
      "text/plain": [
       "<Figure size 640x480 with 1 Axes>"
      ]
     },
     "metadata": {},
     "output_type": "display_data"
    }
   ],
   "source": [
    "clean_cols.append(\"id_bio_weight\")\n",
    "\n",
    "counts = df_survey.id_bio_weight\n",
    "plt.hist(counts)\n",
    "plt.xlabel(\"Kilogrames\")\n",
    "plt.ylabel(\"Frequency\")\n",
    "plt.title(\"Distribution of Weight\")\n",
    "plt.show()"
   ]
  },
  {
   "cell_type": "code",
   "execution_count": 244,
   "id": "90976305-8c11-42b4-91d8-6f99fa11fdd9",
   "metadata": {
    "collapsed": false,
    "jupyter": {
     "outputs_hidden": false
    },
    "lines_to_next_cell": 0,
    "tags": []
   },
   "outputs": [
    {
     "data": {
      "image/png": "[encoded data removed]",
      "text/plain": [
       "<Figure size 640x480 with 1 Axes>"
      ]
     },
     "metadata": {},
     "output_type": "display_data"
    }
   ],
   "source": [
    "clean_cols.append(\"id_bio_height\")\n",
    "plt.hist(df_survey.id_bio_height)\n",
    "plt.xlabel(\"Meters\")\n",
    "plt.ylabel(\"Frequency\")\n",
    "plt.title(\"Distribution of Height\")\n",
    "plt.show()"
   ]
  },
  {
   "cell_type": "code",
   "execution_count": 245,
   "id": "da904499",
   "metadata": {},
   "outputs": [],
   "source": [
    "aa = np.sort(df_survey.id_bio_weight / (df_survey.id_bio_height / 100) ** 2)"
   ]
  },
  {
   "cell_type": "code",
   "execution_count": 246,
   "id": "dbe5231f",
   "metadata": {},
   "outputs": [
    {
     "data": {
      "image/png": "[encoded data removed]",
      "text/plain": [
       "<Figure size 640x480 with 1 Axes>"
      ]
     },
     "metadata": {},
     "output_type": "display_data"
    }
   ],
   "source": [
    "plt.hist(df_survey.id_bio_weight / (df_survey.id_bio_height / 100) ** 2, bins=20)\n",
    "plt.xlabel(\"BMI\")\n",
    "plt.ylabel(\"Frequency\")\n",
    "plt.title(\"Distribution of BMI\")\n",
    "plt.show()"
   ]
  },
  {
   "cell_type": "markdown",
   "id": "35231d1b",
   "metadata": {},
   "source": [
    "## Education"
   ]
  },
  {
   "cell_type": "code",
   "execution_count": 247,
   "id": "5b67ad60",
   "metadata": {
    "collapsed": false,
    "jupyter": {
     "outputs_hidden": false
    },
    "lines_to_next_cell": 2
   },
   "outputs": [
    {
     "data": {
      "text/plain": [
       "sd_edu_level\n",
       "0    778\n",
       "1    764\n",
       "2    461\n",
       "Name: count, dtype: int64"
      ]
     },
     "execution_count": 247,
     "metadata": {},
     "output_type": "execute_result"
    }
   ],
   "source": [
    "df_survey = df_survey.assign(\n",
    "    sd_edu_level=lambda df: np.select(\n",
    "        [\n",
    "            df.cs_5.between(1, 2),\n",
    "            df.cs_5.between(3, 4),\n",
    "            df.cs_5.between(5, 6),\n",
    "            df.cs_5 == 9,\n",
    "        ],\n",
    "        [2, 1, 0, np.nan],\n",
    "    )\n",
    ").assign(sd_edu_level=lambda df: df.sd_edu_level.astype(cat_012_ord))\n",
    "\n",
    "clean_cols.append(\"sd_edu_level\")\n",
    "df_survey.sd_edu_level.value_counts()"
   ]
  },
  {
   "cell_type": "markdown",
   "id": "5b33b28a",
   "metadata": {},
   "source": [
    "## Occupation: Working, Studying or Retired"
   ]
  },
  {
   "cell_type": "code",
   "execution_count": 248,
   "id": "78813339",
   "metadata": {
    "collapsed": false,
    "jupyter": {
     "outputs_hidden": false
    },
    "lines_to_next_cell": 2
   },
   "outputs": [],
   "source": [
    "# Ocupacion\n",
    "df_survey = (\n",
    "    df_survey.assign(\n",
    "        sd_occ_current_job=lambda df: np.select(\n",
    "            [\n",
    "                df.cs_6_a.isin([1, 2, 6, 7]),\n",
    "                df.cs_6_a.isin([3, 4, 5]),\n",
    "                df.cs_6_a == 9,\n",
    "            ],\n",
    "            [1, 0, np.nan],\n",
    "        )\n",
    "    )\n",
    "    .assign(sd_occ_current_job=lambda df: df.sd_occ_current_job.astype(\"bool\"))\n",
    "    .drop(columns=[\"cs_6_a\"])\n",
    ")\n"
   ]
  },
  {
   "cell_type": "code",
   "execution_count": 249,
   "id": "816564e5",
   "metadata": {},
   "outputs": [
    {
     "data": {
      "text/plain": [
       "sd_occ_current_job\n",
       "True     1375\n",
       "False     628\n",
       "Name: count, dtype: int64"
      ]
     },
     "execution_count": 249,
     "metadata": {},
     "output_type": "execute_result"
    }
   ],
   "source": [
    "clean_cols.append(\"sd_occ_current_job\")\n",
    "df_survey.sd_occ_current_job.value_counts()"
   ]
  },
  {
   "cell_type": "markdown",
   "id": "98b298e8",
   "metadata": {},
   "source": [
    "## Costa Rican origin"
   ]
  },
  {
   "cell_type": "code",
   "execution_count": 250,
   "id": "e77c1d54-b9c5-4b9c-8712-07b99f47fe6b",
   "metadata": {
    "collapsed": false,
    "jupyter": {
     "outputs_hidden": false
    },
    "lines_to_next_cell": 2
   },
   "outputs": [],
   "source": [
    "df_survey = (\n",
    "    df_survey.assign(\n",
    "        sd_eth_is_costa_rican=lambda df: np.select(\n",
    "            [df.cs_7 == 1, df.cs_7 == 2], [True, False]\n",
    "        )\n",
    "    )\n",
    "    .assign(sd_eth_is_costa_rican=lambda df: df.sd_eth_is_costa_rican.astype(\"bool\"))\n",
    "    .drop(columns=[\"cs_7\"])\n",
    ")"
   ]
  },
  {
   "cell_type": "code",
   "execution_count": 251,
   "id": "2dd5bde6-f340-4b82-81ee-22bc2acf150d",
   "metadata": {
    "collapsed": false,
    "jupyter": {
     "outputs_hidden": false
    },
    "tags": []
   },
   "outputs": [
    {
     "data": {
      "text/plain": [
       "sd_eth_is_costa_rican\n",
       "True     1766\n",
       "False     237\n",
       "Name: count, dtype: int64"
      ]
     },
     "execution_count": 251,
     "metadata": {},
     "output_type": "execute_result"
    }
   ],
   "source": [
    "clean_cols.append(\"sd_eth_is_costa_rican\")\n",
    "df_survey.sd_eth_is_costa_rican.value_counts()"
   ]
  },
  {
   "cell_type": "markdown",
   "id": "4b8f132b",
   "metadata": {},
   "source": [
    "## Comorbidities"
   ]
  },
  {
   "cell_type": "code",
   "execution_count": 252,
   "id": "8329a067-0ff3-480c-bfc4-68baa1f400c4",
   "metadata": {
    "collapsed": false,
    "jupyter": {
     "outputs_hidden": false
    },
    "lines_to_next_cell": 2,
    "tags": []
   },
   "outputs": [],
   "source": [
    "# Comorbilidades\n",
    "df_survey = (\n",
    "    df_survey.assign(\n",
    "        cs_8=lambda df: np.select(\n",
    "            [df.cs_8 == 1, df.cs_8 == 2, df.cs_8 == 9], [1, 0, np.nan]\n",
    "        ),\n",
    "        cs_9=lambda df: np.select(\n",
    "            [df.cs_9 == 1, df.cs_9 == 9, df.cs_9 == 2], [1, 1, 0]\n",
    "        ),\n",
    "    )\n",
    "    .assign(\n",
    "        id_bio_comorbidities=lambda df: df[[\"cs_8\", \"cs_9\"]].sum(axis=1).round()\n",
    "        # .mode(axis=1, dropna=True)\n",
    "        #  .max(axis=1)\n",
    "    )\n",
    "    .assign(id_bio_comorbidities=lambda df: df.id_bio_comorbidities.astype(\"bool\"))\n",
    "    .drop(columns=[\"cs_8\", \"cs_9\"])\n",
    ")"
   ]
  },
  {
   "cell_type": "code",
   "execution_count": 253,
   "id": "30053c93-b685-4be9-8559-e2ce571c147d",
   "metadata": {
    "collapsed": false,
    "jupyter": {
     "outputs_hidden": false
    }
   },
   "outputs": [
    {
     "data": {
      "text/plain": [
       "id_bio_comorbidities\n",
       "False    1219\n",
       "True      784\n",
       "Name: count, dtype: int64"
      ]
     },
     "execution_count": 253,
     "metadata": {},
     "output_type": "execute_result"
    }
   ],
   "source": [
    "clean_cols.append(\"id_bio_comorbidities\")\n",
    "df_survey.id_bio_comorbidities.value_counts()"
   ]
  },
  {
   "cell_type": "code",
   "execution_count": null,
   "id": "14b22864",
   "metadata": {},
   "outputs": [],
   "source": []
  },
  {
   "cell_type": "markdown",
   "id": "5c0b5348",
   "metadata": {},
   "source": [
    "## Religion affiliation"
   ]
  },
  {
   "cell_type": "code",
   "execution_count": 254,
   "id": "04d7cd2e",
   "metadata": {
    "collapsed": false,
    "jupyter": {
     "outputs_hidden": false
    }
   },
   "outputs": [],
   "source": [
    "# Religion\n",
    "df_survey = (\n",
    "    df_survey.rename(columns={\"cs_10_br\": \"sd_cul_religion\"})\n",
    "    .assign(\n",
    "        sd_cul_religion=lambda df: np.select(\n",
    "            [df.sd_cul_religion.isin([1, 7]), ~df.sd_cul_religion.isin([1, 7])],\n",
    "            [1, 0],\n",
    "        )\n",
    "    )\n",
    "    .assign(sd_cul_religion=lambda df: df.sd_cul_religion.astype(\"bool\"))\n",
    "    .drop(columns=[\"cs_10_a\"])\n",
    ")"
   ]
  },
  {
   "cell_type": "code",
   "execution_count": 255,
   "id": "0aa58520",
   "metadata": {
    "collapsed": false,
    "jupyter": {
     "outputs_hidden": false
    }
   },
   "outputs": [
    {
     "data": {
      "text/plain": [
       "sd_cul_religion\n",
       "True     1010\n",
       "False     993\n",
       "Name: count, dtype: int64"
      ]
     },
     "execution_count": 255,
     "metadata": {},
     "output_type": "execute_result"
    }
   ],
   "source": [
    "clean_cols.append(\"sd_cul_religion\")\n",
    "df_survey.sd_cul_religion.value_counts()"
   ]
  },
  {
   "cell_type": "markdown",
   "id": "eb554472",
   "metadata": {},
   "source": [
    "## Disabilities"
   ]
  },
  {
   "cell_type": "code",
   "execution_count": 256,
   "id": "9fc63c80-5532-4f8d-9f9c-bee8f757003d",
   "metadata": {
    "collapsed": false,
    "jupyter": {
     "outputs_hidden": false
    },
    "lines_to_next_cell": 2
   },
   "outputs": [],
   "source": [
    "df_survey = (\n",
    "    df_survey.assign(\n",
    "        id_bio_disability=lambda df: np.select(\n",
    "            [df.cs_10_c == 1, df.cs_10_c == 0], [1, 0]\n",
    "        )\n",
    "    )\n",
    "    .assign(id_bio_disability=lambda df: df.id_bio_disability.astype(\"bool\"))\n",
    "    .drop(columns=[\"cs_10_c\"])\n",
    ")"
   ]
  },
  {
   "cell_type": "code",
   "execution_count": 257,
   "id": "48389294-8861-42c1-ba28-aadb85cb959e",
   "metadata": {
    "collapsed": false,
    "jupyter": {
     "outputs_hidden": false
    },
    "tags": []
   },
   "outputs": [
    {
     "data": {
      "text/plain": [
       "id_bio_disability\n",
       "False    1837\n",
       "True      166\n",
       "Name: count, dtype: int64"
      ]
     },
     "execution_count": 257,
     "metadata": {},
     "output_type": "execute_result"
    }
   ],
   "source": [
    "clean_cols.append(\"id_bio_disability\")\n",
    "df_survey.id_bio_disability.value_counts()"
   ]
  },
  {
   "cell_type": "markdown",
   "id": "e25b2dc1",
   "metadata": {},
   "source": [
    "## Total members in household"
   ]
  },
  {
   "cell_type": "code",
   "execution_count": 258,
   "id": "22dc207b-fba2-42d3-876a-f77f50a81e03",
   "metadata": {
    "collapsed": false,
    "jupyter": {
     "outputs_hidden": false
    }
   },
   "outputs": [],
   "source": [
    "df_survey = df_survey.assign(\n",
    "    cs_11_a=lambda df: df.cs_11_a.astype(\"float\"),\n",
    "    cs_11_b=lambda df: df.cs_11_b.astype(\"float\"),\n",
    ").rename(\n",
    "    columns={\n",
    "        \"cs_11_a\": \"id_mat_total_house_members\",\n",
    "        \"cs_11_b\": \"id_mat_18p_house_members\",\n",
    "    }\n",
    ")"
   ]
  },
  {
   "cell_type": "code",
   "execution_count": 259,
   "id": "2837bded",
   "metadata": {},
   "outputs": [
    {
     "data": {
      "image/png": "[encoded data removed]",
      "text/plain": [
       "<Figure size 640x480 with 1 Axes>"
      ]
     },
     "metadata": {},
     "output_type": "display_data"
    }
   ],
   "source": [
    "clean_cols.append(\"id_mat_18p_house_members\")\n",
    "plt.hist(df_survey.id_mat_18p_house_members)\n",
    "plt.xlabel(\"Members\")\n",
    "plt.ylabel(\"Frequency\")\n",
    "plt.title(\"Distribution of Members over 18\")\n",
    "plt.show()"
   ]
  },
  {
   "cell_type": "code",
   "execution_count": 260,
   "id": "0723362e",
   "metadata": {
    "lines_to_next_cell": 0
   },
   "outputs": [
    {
     "data": {
      "image/png": "[encoded data removed]",
      "text/plain": [
       "<Figure size 640x480 with 1 Axes>"
      ]
     },
     "metadata": {},
     "output_type": "display_data"
    }
   ],
   "source": [
    "clean_cols.append(\"id_mat_total_house_members\")\n",
    "plt.hist(df_survey.id_mat_total_house_members)\n",
    "plt.xlabel(\"Members\")\n",
    "plt.ylabel(\"Frequency\")\n",
    "plt.title(\"Distribution of Total Members\")\n",
    "plt.show()"
   ]
  },
  {
   "cell_type": "code",
   "execution_count": 261,
   "id": "b732ad79",
   "metadata": {},
   "outputs": [
    {
     "data": {
      "image/png": "[encoded data removed]",
      "text/plain": [
       "<Figure size 640x480 with 1 Axes>"
      ]
     },
     "metadata": {},
     "output_type": "display_data"
    }
   ],
   "source": [
    "plt.hist(\n",
    "    df_survey.id_mat_18p_house_members / df_survey.id_mat_total_house_members,\n",
    "    bins=10,\n",
    ")\n",
    "plt.xlabel(\"Members\")\n",
    "plt.ylabel(\"Frequency\")\n",
    "plt.title(\"Distribution of Total Members\")\n",
    "plt.show()"
   ]
  },
  {
   "cell_type": "code",
   "execution_count": 262,
   "id": "f5311c11",
   "metadata": {},
   "outputs": [
    {
     "data": {
      "text/plain": [
       "['covid19',\n",
       " 'id_beh_contag_percep',\n",
       " 'id_beh_severity_percep',\n",
       " 'id_bio_bubble_contag',\n",
       " 'id_bio_out_bubble_contag',\n",
       " 'id_bio_death_covid',\n",
       " 'id_beh_risk_personal',\n",
       " 'id_beh_risk_others',\n",
       " 'id_beh_physical_act',\n",
       " 'id_psy_vacc_myths',\n",
       " 'id_bio_vacc_status',\n",
       " 'id_psy_anxiety_sympt',\n",
       " 'sd_inc_income_problems',\n",
       " 'sd_inc_income_level',\n",
       " 'sd_cul_holiday_season',\n",
       " 'id_bio_gender',\n",
       " 'id_bio_age',\n",
       " 'id_bio_weight',\n",
       " 'id_bio_height',\n",
       " 'sd_edu_level',\n",
       " 'sd_occ_current_job',\n",
       " 'sd_eth_is_costa_rican',\n",
       " 'id_bio_comorbidities',\n",
       " 'sd_cul_religion',\n",
       " 'id_bio_disability',\n",
       " 'id_mat_18p_house_members',\n",
       " 'id_mat_total_house_members']"
      ]
     },
     "execution_count": 262,
     "metadata": {},
     "output_type": "execute_result"
    }
   ],
   "source": [
    "clean_cols"
   ]
  },
  {
   "cell_type": "code",
   "execution_count": 263,
   "id": "8dcb1897",
   "metadata": {
    "collapsed": false,
    "jupyter": {
     "outputs_hidden": false
    }
   },
   "outputs": [
    {
     "data": {
      "application/vnd.microsoft.datawrangler.viewer.v0+json": {
       "columns": [
        {
         "name": "index",
         "rawType": "int64",
         "type": "integer"
        },
        {
         "name": "covid19",
         "rawType": "bool",
         "type": "boolean"
        },
        {
         "name": "id_beh_contag_percep",
         "rawType": "category",
         "type": "unknown"
        },
        {
         "name": "id_beh_severity_percep",
         "rawType": "category",
         "type": "unknown"
        },
        {
         "name": "id_bio_bubble_contag",
         "rawType": "bool",
         "type": "boolean"
        },
        {
         "name": "id_bio_out_bubble_contag",
         "rawType": "bool",
         "type": "boolean"
        },
        {
         "name": "id_bio_death_covid",
         "rawType": "bool",
         "type": "boolean"
        },
        {
         "name": "id_beh_risk_personal",
         "rawType": "category",
         "type": "unknown"
        },
        {
         "name": "id_beh_risk_others",
         "rawType": "category",
         "type": "unknown"
        },
        {
         "name": "id_beh_physical_act",
         "rawType": "category",
         "type": "unknown"
        },
        {
         "name": "id_psy_vacc_myths",
         "rawType": "category",
         "type": "unknown"
        },
        {
         "name": "id_bio_vacc_status",
         "rawType": "bool",
         "type": "boolean"
        },
        {
         "name": "id_psy_anxiety_sympt",
         "rawType": "category",
         "type": "unknown"
        },
        {
         "name": "sd_inc_income_problems",
         "rawType": "bool",
         "type": "boolean"
        },
        {
         "name": "sd_inc_income_level",
         "rawType": "category",
         "type": "unknown"
        },
        {
         "name": "sd_cul_holiday_season",
         "rawType": "category",
         "type": "unknown"
        },
        {
         "name": "id_bio_gender",
         "rawType": "bool",
         "type": "boolean"
        },
        {
         "name": "id_bio_age",
         "rawType": "float64",
         "type": "float"
        },
        {
         "name": "id_bio_weight",
         "rawType": "float64",
         "type": "float"
        },
        {
         "name": "id_bio_height",
         "rawType": "float64",
         "type": "float"
        },
        {
         "name": "sd_edu_level",
         "rawType": "category",
         "type": "unknown"
        },
        {
         "name": "sd_occ_current_job",
         "rawType": "bool",
         "type": "boolean"
        },
        {
         "name": "sd_eth_is_costa_rican",
         "rawType": "bool",
         "type": "boolean"
        },
        {
         "name": "id_bio_comorbidities",
         "rawType": "bool",
         "type": "boolean"
        },
        {
         "name": "sd_cul_religion",
         "rawType": "bool",
         "type": "boolean"
        },
        {
         "name": "id_bio_disability",
         "rawType": "bool",
         "type": "boolean"
        },
        {
         "name": "id_mat_18p_house_members",
         "rawType": "float64",
         "type": "float"
        },
        {
         "name": "id_mat_total_house_members",
         "rawType": "float64",
         "type": "float"
        }
       ],
       "conversionMethod": "pd.DataFrame",
       "ref": "efd4c9da-21f8-49bf-917d-41048855a81f",
       "rows": [
        [
         "0",
         "False",
         "1",
         "1",
         "True",
         "True",
         "False",
         "0.0",
         "0",
         "1",
         "0",
         "False",
         "0",
         "False",
         "2",
         "2",
         "True",
         "52.0",
         "83.0",
         "178.0",
         "0",
         "True",
         "True",
         "False",
         "True",
         "False",
         "3.0",
         "3.0"
        ],
        [
         "1",
         "False",
         "0",
         "2",
         "False",
         "False",
         "False",
         "0.0",
         "0",
         "0",
         "0",
         "False",
         "0",
         "False",
         "0",
         "2",
         "True",
         "68.0",
         "68.0",
         "171.0",
         "2",
         "False",
         "True",
         "True",
         "True",
         "False",
         "3.0",
         "3.0"
        ],
        [
         "2",
         "False",
         "1",
         "1",
         "False",
         "True",
         "False",
         "0.0",
         "0",
         "1",
         "0",
         "False",
         "0",
         "True",
         "2",
         "2",
         "True",
         "36.0",
         "90.0",
         "171.0",
         "0",
         "True",
         "True",
         "True",
         "True",
         "False",
         "2.0",
         "3.0"
        ],
        [
         "3",
         "False",
         "1",
         "2",
         "False",
         "False",
         "False",
         "0.0",
         "0",
         "1",
         "0",
         "False",
         "0",
         "True",
         "1",
         "2",
         "False",
         "78.0",
         "57.0",
         "150.0",
         "1",
         "True",
         "True",
         "False",
         "True",
         "False",
         "2.0",
         "2.0"
        ],
        [
         "4",
         "False",
         "1",
         "0",
         "False",
         "True",
         "False",
         "0.0",
         "0",
         "1",
         "0",
         "False",
         "0",
         "False",
         "0",
         "2",
         "True",
         "20.0",
         "78.0",
         "180.0",
         "0",
         "True",
         "True",
         "True",
         "False",
         "False",
         "5.0",
         "5.0"
        ]
       ],
       "shape": {
        "columns": 27,
        "rows": 5
       }
      },
      "text/html": [
       "<div>\n",
       "<style scoped>\n",
       "    .dataframe tbody tr th:only-of-type {\n",
       "        vertical-align: middle;\n",
       "    }\n",
       "\n",
       "    .dataframe tbody tr th {\n",
       "        vertical-align: top;\n",
       "    }\n",
       "\n",
       "    .dataframe thead th {\n",
       "        text-align: right;\n",
       "    }\n",
       "</style>\n",
       "<table border=\"1\" class=\"dataframe\">\n",
       "  <thead>\n",
       "    <tr style=\"text-align: right;\">\n",
       "      <th></th>\n",
       "      <th>covid19</th>\n",
       "      <th>id_beh_contag_percep</th>\n",
       "      <th>id_beh_severity_percep</th>\n",
       "      <th>id_bio_bubble_contag</th>\n",
       "      <th>id_bio_out_bubble_contag</th>\n",
       "      <th>id_bio_death_covid</th>\n",
       "      <th>id_beh_risk_personal</th>\n",
       "      <th>id_beh_risk_others</th>\n",
       "      <th>id_beh_physical_act</th>\n",
       "      <th>id_psy_vacc_myths</th>\n",
       "      <th>...</th>\n",
       "      <th>id_bio_weight</th>\n",
       "      <th>id_bio_height</th>\n",
       "      <th>sd_edu_level</th>\n",
       "      <th>sd_occ_current_job</th>\n",
       "      <th>sd_eth_is_costa_rican</th>\n",
       "      <th>id_bio_comorbidities</th>\n",
       "      <th>sd_cul_religion</th>\n",
       "      <th>id_bio_disability</th>\n",
       "      <th>id_mat_18p_house_members</th>\n",
       "      <th>id_mat_total_house_members</th>\n",
       "    </tr>\n",
       "  </thead>\n",
       "  <tbody>\n",
       "    <tr>\n",
       "      <th>0</th>\n",
       "      <td>False</td>\n",
       "      <td>1</td>\n",
       "      <td>1</td>\n",
       "      <td>True</td>\n",
       "      <td>True</td>\n",
       "      <td>False</td>\n",
       "      <td>0.0</td>\n",
       "      <td>0</td>\n",
       "      <td>1</td>\n",
       "      <td>0</td>\n",
       "      <td>...</td>\n",
       "      <td>83.0</td>\n",
       "      <td>178.0</td>\n",
       "      <td>0</td>\n",
       "      <td>True</td>\n",
       "      <td>True</td>\n",
       "      <td>False</td>\n",
       "      <td>True</td>\n",
       "      <td>False</td>\n",
       "      <td>3.0</td>\n",
       "      <td>3.0</td>\n",
       "    </tr>\n",
       "    <tr>\n",
       "      <th>1</th>\n",
       "      <td>False</td>\n",
       "      <td>0</td>\n",
       "      <td>2</td>\n",
       "      <td>False</td>\n",
       "      <td>False</td>\n",
       "      <td>False</td>\n",
       "      <td>0.0</td>\n",
       "      <td>0</td>\n",
       "      <td>0</td>\n",
       "      <td>0</td>\n",
       "      <td>...</td>\n",
       "      <td>68.0</td>\n",
       "      <td>171.0</td>\n",
       "      <td>2</td>\n",
       "      <td>False</td>\n",
       "      <td>True</td>\n",
       "      <td>True</td>\n",
       "      <td>True</td>\n",
       "      <td>False</td>\n",
       "      <td>3.0</td>\n",
       "      <td>3.0</td>\n",
       "    </tr>\n",
       "    <tr>\n",
       "      <th>2</th>\n",
       "      <td>False</td>\n",
       "      <td>1</td>\n",
       "      <td>1</td>\n",
       "      <td>False</td>\n",
       "      <td>True</td>\n",
       "      <td>False</td>\n",
       "      <td>0.0</td>\n",
       "      <td>0</td>\n",
       "      <td>1</td>\n",
       "      <td>0</td>\n",
       "      <td>...</td>\n",
       "      <td>90.0</td>\n",
       "      <td>171.0</td>\n",
       "      <td>0</td>\n",
       "      <td>True</td>\n",
       "      <td>True</td>\n",
       "      <td>True</td>\n",
       "      <td>True</td>\n",
       "      <td>False</td>\n",
       "      <td>2.0</td>\n",
       "      <td>3.0</td>\n",
       "    </tr>\n",
       "    <tr>\n",
       "      <th>3</th>\n",
       "      <td>False</td>\n",
       "      <td>1</td>\n",
       "      <td>2</td>\n",
       "      <td>False</td>\n",
       "      <td>False</td>\n",
       "      <td>False</td>\n",
       "      <td>0.0</td>\n",
       "      <td>0</td>\n",
       "      <td>1</td>\n",
       "      <td>0</td>\n",
       "      <td>...</td>\n",
       "      <td>57.0</td>\n",
       "      <td>150.0</td>\n",
       "      <td>1</td>\n",
       "      <td>True</td>\n",
       "      <td>True</td>\n",
       "      <td>False</td>\n",
       "      <td>True</td>\n",
       "      <td>False</td>\n",
       "      <td>2.0</td>\n",
       "      <td>2.0</td>\n",
       "    </tr>\n",
       "    <tr>\n",
       "      <th>4</th>\n",
       "      <td>False</td>\n",
       "      <td>1</td>\n",
       "      <td>0</td>\n",
       "      <td>False</td>\n",
       "      <td>True</td>\n",
       "      <td>False</td>\n",
       "      <td>0.0</td>\n",
       "      <td>0</td>\n",
       "      <td>1</td>\n",
       "      <td>0</td>\n",
       "      <td>...</td>\n",
       "      <td>78.0</td>\n",
       "      <td>180.0</td>\n",
       "      <td>0</td>\n",
       "      <td>True</td>\n",
       "      <td>True</td>\n",
       "      <td>True</td>\n",
       "      <td>False</td>\n",
       "      <td>False</td>\n",
       "      <td>5.0</td>\n",
       "      <td>5.0</td>\n",
       "    </tr>\n",
       "  </tbody>\n",
       "</table>\n",
       "<p>5 rows × 27 columns</p>\n",
       "</div>"
      ],
      "text/plain": [
       "   covid19 id_beh_contag_percep id_beh_severity_percep  id_bio_bubble_contag  \\\n",
       "0    False                    1                      1                  True   \n",
       "1    False                    0                      2                 False   \n",
       "2    False                    1                      1                 False   \n",
       "3    False                    1                      2                 False   \n",
       "4    False                    1                      0                 False   \n",
       "\n",
       "   id_bio_out_bubble_contag  id_bio_death_covid id_beh_risk_personal  \\\n",
       "0                      True               False                  0.0   \n",
       "1                     False               False                  0.0   \n",
       "2                      True               False                  0.0   \n",
       "3                     False               False                  0.0   \n",
       "4                      True               False                  0.0   \n",
       "\n",
       "  id_beh_risk_others id_beh_physical_act id_psy_vacc_myths  ...  \\\n",
       "0                  0                   1                 0  ...   \n",
       "1                  0                   0                 0  ...   \n",
       "2                  0                   1                 0  ...   \n",
       "3                  0                   1                 0  ...   \n",
       "4                  0                   1                 0  ...   \n",
       "\n",
       "   id_bio_weight id_bio_height  sd_edu_level sd_occ_current_job  \\\n",
       "0           83.0         178.0             0               True   \n",
       "1           68.0         171.0             2              False   \n",
       "2           90.0         171.0             0               True   \n",
       "3           57.0         150.0             1               True   \n",
       "4           78.0         180.0             0               True   \n",
       "\n",
       "  sd_eth_is_costa_rican  id_bio_comorbidities  sd_cul_religion  \\\n",
       "0                  True                 False             True   \n",
       "1                  True                  True             True   \n",
       "2                  True                  True             True   \n",
       "3                  True                 False             True   \n",
       "4                  True                  True            False   \n",
       "\n",
       "   id_bio_disability  id_mat_18p_house_members id_mat_total_house_members  \n",
       "0              False                       3.0                        3.0  \n",
       "1              False                       3.0                        3.0  \n",
       "2              False                       2.0                        3.0  \n",
       "3              False                       2.0                        2.0  \n",
       "4              False                       5.0                        5.0  \n",
       "\n",
       "[5 rows x 27 columns]"
      ]
     },
     "execution_count": 263,
     "metadata": {},
     "output_type": "execute_result"
    }
   ],
   "source": [
    "df_survey = df_survey[clean_cols]\n",
    "df_survey.head()"
   ]
  },
  {
   "cell_type": "code",
   "execution_count": 264,
   "id": "de06bb01",
   "metadata": {},
   "outputs": [
    {
     "data": {
      "text/html": [
       "<pre style=\"white-space:pre;overflow-x:auto;line-height:normal;font-family:Menlo,'DejaVu Sans Mono',consolas,'Courier New',monospace\">╭──────────────────────────────────────────────── skimpy summary ─────────────────────────────────────────────────╮\n",
       "│ <span style=\"font-style: italic\">         Data Summary         </span> <span style=\"font-style: italic\">      Data Types       </span> <span style=\"font-style: italic\">        Categories        </span>                               │\n",
       "│ ┏━━━━━━━━━━━━━━━━━━━┳━━━━━━━━┓ ┏━━━━━━━━━━━━━┳━━━━━━━┓ ┏━━━━━━━━━━━━━━━━━━━━━━━━┓                               │\n",
       "│ ┃<span style=\"color: #008080; text-decoration-color: #008080; font-weight: bold\"> dataframe         </span>┃<span style=\"color: #008080; text-decoration-color: #008080; font-weight: bold\"> Values </span>┃ ┃<span style=\"color: #008080; text-decoration-color: #008080; font-weight: bold\"> Column Type </span>┃<span style=\"color: #008080; text-decoration-color: #008080; font-weight: bold\"> Count </span>┃ ┃<span style=\"color: #008080; text-decoration-color: #008080; font-weight: bold\"> Categorical Variables  </span>┃                               │\n",
       "│ ┡━━━━━━━━━━━━━━━━━━━╇━━━━━━━━┩ ┡━━━━━━━━━━━━━╇━━━━━━━┩ ┡━━━━━━━━━━━━━━━━━━━━━━━━┩                               │\n",
       "│ │ Number of rows    │ 2003   │ │ bool        │ 12    │ │ id_beh_contag_percep   │                               │\n",
       "│ │ Number of columns │ 27     │ │ category    │ 10    │ │ id_beh_severity_percep │                               │\n",
       "│ └───────────────────┴────────┘ │ float64     │ 5     │ │ id_beh_risk_personal   │                               │\n",
       "│                                └─────────────┴───────┘ │ id_beh_risk_others     │                               │\n",
       "│                                                        │ id_beh_physical_act    │                               │\n",
       "│                                                        │ id_psy_vacc_myths      │                               │\n",
       "│                                                        │ id_psy_anxiety_sympt   │                               │\n",
       "│                                                        │ sd_inc_income_level    │                               │\n",
       "│                                                        │ sd_cul_holiday_season  │                               │\n",
       "│                                                        │ sd_edu_level           │                               │\n",
       "│                                                        └────────────────────────┘                               │\n",
       "│ <span style=\"font-style: italic\">                                                    number                                                    </span>  │\n",
       "│ ┏━━━━━━━━━━━━━━━━━━━━━━━━━━━┳━━━━━━┳━━━━━━━━━┳━━━━━━━━━┳━━━━━━━━━┳━━━━━━┳━━━━━━┳━━━━━━┳━━━━━━┳━━━━━━┳━━━━━━━━┓  │\n",
       "│ ┃<span style=\"font-weight: bold\"> column_name               </span>┃<span style=\"font-weight: bold\"> NA   </span>┃<span style=\"font-weight: bold\"> NA %    </span>┃<span style=\"font-weight: bold\"> mean    </span>┃<span style=\"font-weight: bold\"> sd      </span>┃<span style=\"font-weight: bold\"> p0   </span>┃<span style=\"font-weight: bold\"> p25  </span>┃<span style=\"font-weight: bold\"> p50  </span>┃<span style=\"font-weight: bold\"> p75  </span>┃<span style=\"font-weight: bold\"> p100 </span>┃<span style=\"font-weight: bold\"> hist   </span>┃  │\n",
       "│ ┡━━━━━━━━━━━━━━━━━━━━━━━━━━━╇━━━━━━╇━━━━━━━━━╇━━━━━━━━━╇━━━━━━━━━╇━━━━━━╇━━━━━━╇━━━━━━╇━━━━━━╇━━━━━━╇━━━━━━━━┩  │\n",
       "│ │ <span style=\"color: #af87ff; text-decoration-color: #af87ff\">id_bio_age               </span> │ <span style=\"color: #008080; text-decoration-color: #008080\">   0</span> │ <span style=\"color: #008080; text-decoration-color: #008080\">      0</span> │ <span style=\"color: #008080; text-decoration-color: #008080\">  41.17</span> │ <span style=\"color: #008080; text-decoration-color: #008080\">  15.75</span> │ <span style=\"color: #008080; text-decoration-color: #008080\">  18</span> │ <span style=\"color: #008080; text-decoration-color: #008080\">  28</span> │ <span style=\"color: #008080; text-decoration-color: #008080\">  39</span> │ <span style=\"color: #008080; text-decoration-color: #008080\">  53</span> │ <span style=\"color: #008080; text-decoration-color: #008080\">  87</span> │ <span style=\"color: #008000; text-decoration-color: #008000\">▇▇▅▅▂ </span> │  │\n",
       "│ │ <span style=\"color: #af87ff; text-decoration-color: #af87ff\">id_bio_weight            </span> │ <span style=\"color: #008080; text-decoration-color: #008080\"> 308</span> │ <span style=\"color: #008080; text-decoration-color: #008080\">  15.38</span> │ <span style=\"color: #008080; text-decoration-color: #008080\">  70.63</span> │ <span style=\"color: #008080; text-decoration-color: #008080\">  12.01</span> │ <span style=\"color: #008080; text-decoration-color: #008080\">  31</span> │ <span style=\"color: #008080; text-decoration-color: #008080\">  62</span> │ <span style=\"color: #008080; text-decoration-color: #008080\">  70</span> │ <span style=\"color: #008080; text-decoration-color: #008080\">  80</span> │ <span style=\"color: #008080; text-decoration-color: #008080\">  97</span> │ <span style=\"color: #008000; text-decoration-color: #008000\"> ▂▆▇▇▃</span> │  │\n",
       "│ │ <span style=\"color: #af87ff; text-decoration-color: #af87ff\">id_bio_height            </span> │ <span style=\"color: #008080; text-decoration-color: #008080\"> 133</span> │ <span style=\"color: #008080; text-decoration-color: #008080\">   6.64</span> │ <span style=\"color: #008080; text-decoration-color: #008080\">  165.6</span> │ <span style=\"color: #008080; text-decoration-color: #008080\">  9.834</span> │ <span style=\"color: #008080; text-decoration-color: #008080\"> 100</span> │ <span style=\"color: #008080; text-decoration-color: #008080\"> 159</span> │ <span style=\"color: #008080; text-decoration-color: #008080\"> 165</span> │ <span style=\"color: #008080; text-decoration-color: #008080\"> 172</span> │ <span style=\"color: #008080; text-decoration-color: #008080\"> 200</span> │ <span style=\"color: #008000; text-decoration-color: #008000\">   ▇▇ </span> │  │\n",
       "│ │ <span style=\"color: #af87ff; text-decoration-color: #af87ff\">id_mat_18p_house_members </span> │ <span style=\"color: #008080; text-decoration-color: #008080\">  64</span> │ <span style=\"color: #008080; text-decoration-color: #008080\">    3.2</span> │ <span style=\"color: #008080; text-decoration-color: #008080\">  2.895</span> │ <span style=\"color: #008080; text-decoration-color: #008080\">  1.432</span> │ <span style=\"color: #008080; text-decoration-color: #008080\">   1</span> │ <span style=\"color: #008080; text-decoration-color: #008080\">   2</span> │ <span style=\"color: #008080; text-decoration-color: #008080\">   3</span> │ <span style=\"color: #008080; text-decoration-color: #008080\">   4</span> │ <span style=\"color: #008080; text-decoration-color: #008080\">  20</span> │ <span style=\"color: #008000; text-decoration-color: #008000\">  ▇▁  </span> │  │\n",
       "│ │ <span style=\"color: #af87ff; text-decoration-color: #af87ff\">id_mat_total_house_member</span> │ <span style=\"color: #008080; text-decoration-color: #008080\">  85</span> │ <span style=\"color: #008080; text-decoration-color: #008080\">   4.24</span> │ <span style=\"color: #008080; text-decoration-color: #008080\">  3.689</span> │ <span style=\"color: #008080; text-decoration-color: #008080\">  1.701</span> │ <span style=\"color: #008080; text-decoration-color: #008080\">   1</span> │ <span style=\"color: #008080; text-decoration-color: #008080\">   3</span> │ <span style=\"color: #008080; text-decoration-color: #008080\">   4</span> │ <span style=\"color: #008080; text-decoration-color: #008080\">   5</span> │ <span style=\"color: #008080; text-decoration-color: #008080\">  20</span> │ <span style=\"color: #008000; text-decoration-color: #008000\">  ▇▃  </span> │  │\n",
       "│ │ <span style=\"color: #af87ff; text-decoration-color: #af87ff\">s                        </span> │      │         │         │         │      │      │      │      │      │        │  │\n",
       "│ └───────────────────────────┴──────┴─────────┴─────────┴─────────┴──────┴──────┴──────┴──────┴──────┴────────┘  │\n",
       "│ <span style=\"font-style: italic\">                                                   category                                                   </span>  │\n",
       "│ ┏━━━━━━━━━━━━━━━━━━━━━━━━━━━━━━━━━━━━━━━━━━━━━━━┳━━━━━━━━━┳━━━━━━━━━━━━━┳━━━━━━━━━━━━━━━━━━━┳━━━━━━━━━━━━━━━━┓  │\n",
       "│ ┃<span style=\"font-weight: bold\"> column_name                                   </span>┃<span style=\"font-weight: bold\"> NA      </span>┃<span style=\"font-weight: bold\"> NA %        </span>┃<span style=\"font-weight: bold\"> ordered           </span>┃<span style=\"font-weight: bold\"> unique         </span>┃  │\n",
       "│ ┡━━━━━━━━━━━━━━━━━━━━━━━━━━━━━━━━━━━━━━━━━━━━━━━╇━━━━━━━━━╇━━━━━━━━━━━━━╇━━━━━━━━━━━━━━━━━━━╇━━━━━━━━━━━━━━━━┩  │\n",
       "│ │ <span style=\"color: #af87ff; text-decoration-color: #af87ff\">id_beh_contag_percep                         </span> │ <span style=\"color: #008080; text-decoration-color: #008080\">     65</span> │ <span style=\"color: #008080; text-decoration-color: #008080\">       3.25</span> │ <span style=\"color: #00d7ff; text-decoration-color: #00d7ff\">True             </span> │ <span style=\"color: #008080; text-decoration-color: #008080\">             4</span> │  │\n",
       "│ │ <span style=\"color: #af87ff; text-decoration-color: #af87ff\">id_beh_severity_percep                       </span> │ <span style=\"color: #008080; text-decoration-color: #008080\">      0</span> │ <span style=\"color: #008080; text-decoration-color: #008080\">          0</span> │ <span style=\"color: #00d7ff; text-decoration-color: #00d7ff\">True             </span> │ <span style=\"color: #008080; text-decoration-color: #008080\">             3</span> │  │\n",
       "│ │ <span style=\"color: #af87ff; text-decoration-color: #af87ff\">id_beh_risk_personal                         </span> │ <span style=\"color: #008080; text-decoration-color: #008080\">      0</span> │ <span style=\"color: #008080; text-decoration-color: #008080\">          0</span> │ <span style=\"color: #00d7ff; text-decoration-color: #00d7ff\">True             </span> │ <span style=\"color: #008080; text-decoration-color: #008080\">             3</span> │  │\n",
       "│ │ <span style=\"color: #af87ff; text-decoration-color: #af87ff\">id_beh_risk_others                           </span> │ <span style=\"color: #008080; text-decoration-color: #008080\">      0</span> │ <span style=\"color: #008080; text-decoration-color: #008080\">          0</span> │ <span style=\"color: #00d7ff; text-decoration-color: #00d7ff\">True             </span> │ <span style=\"color: #008080; text-decoration-color: #008080\">             3</span> │  │\n",
       "│ │ <span style=\"color: #af87ff; text-decoration-color: #af87ff\">id_beh_physical_act                          </span> │ <span style=\"color: #008080; text-decoration-color: #008080\">      0</span> │ <span style=\"color: #008080; text-decoration-color: #008080\">          0</span> │ <span style=\"color: #00d7ff; text-decoration-color: #00d7ff\">True             </span> │ <span style=\"color: #008080; text-decoration-color: #008080\">             3</span> │  │\n",
       "│ │ <span style=\"color: #af87ff; text-decoration-color: #af87ff\">id_psy_vacc_myths                            </span> │ <span style=\"color: #008080; text-decoration-color: #008080\">      0</span> │ <span style=\"color: #008080; text-decoration-color: #008080\">          0</span> │ <span style=\"color: #00d7ff; text-decoration-color: #00d7ff\">True             </span> │ <span style=\"color: #008080; text-decoration-color: #008080\">             3</span> │  │\n",
       "│ │ <span style=\"color: #af87ff; text-decoration-color: #af87ff\">id_psy_anxiety_sympt                         </span> │ <span style=\"color: #008080; text-decoration-color: #008080\">      5</span> │ <span style=\"color: #008080; text-decoration-color: #008080\">       0.25</span> │ <span style=\"color: #00d7ff; text-decoration-color: #00d7ff\">True             </span> │ <span style=\"color: #008080; text-decoration-color: #008080\">             4</span> │  │\n",
       "│ │ <span style=\"color: #af87ff; text-decoration-color: #af87ff\">sd_inc_income_level                          </span> │ <span style=\"color: #008080; text-decoration-color: #008080\">      0</span> │ <span style=\"color: #008080; text-decoration-color: #008080\">          0</span> │ <span style=\"color: #00d7ff; text-decoration-color: #00d7ff\">True             </span> │ <span style=\"color: #008080; text-decoration-color: #008080\">             3</span> │  │\n",
       "│ │ <span style=\"color: #af87ff; text-decoration-color: #af87ff\">sd_cul_holiday_season                        </span> │ <span style=\"color: #008080; text-decoration-color: #008080\">      0</span> │ <span style=\"color: #008080; text-decoration-color: #008080\">          0</span> │ <span style=\"color: #00d7ff; text-decoration-color: #00d7ff\">True             </span> │ <span style=\"color: #008080; text-decoration-color: #008080\">             3</span> │  │\n",
       "│ │ <span style=\"color: #af87ff; text-decoration-color: #af87ff\">sd_edu_level                                 </span> │ <span style=\"color: #008080; text-decoration-color: #008080\">      0</span> │ <span style=\"color: #008080; text-decoration-color: #008080\">          0</span> │ <span style=\"color: #00d7ff; text-decoration-color: #00d7ff\">True             </span> │ <span style=\"color: #008080; text-decoration-color: #008080\">             3</span> │  │\n",
       "│ └───────────────────────────────────────────────┴─────────┴─────────────┴───────────────────┴────────────────┘  │\n",
       "│ <span style=\"font-style: italic\">                                                     bool                                                     </span>  │\n",
       "│ ┏━━━━━━━━━━━━━━━━━━━━━━━━━━━━━━━━━━━━━━━━━━━━━━━━━━┳━━━━━━━━━━━━━━┳━━━━━━━━━━━━━━━━━━━━━━━━┳━━━━━━━━━━━━━━━━━┓  │\n",
       "│ ┃<span style=\"font-weight: bold\"> column_name                                      </span>┃<span style=\"font-weight: bold\"> true         </span>┃<span style=\"font-weight: bold\"> true rate              </span>┃<span style=\"font-weight: bold\"> hist            </span>┃  │\n",
       "│ ┡━━━━━━━━━━━━━━━━━━━━━━━━━━━━━━━━━━━━━━━━━━━━━━━━━━╇━━━━━━━━━━━━━━╇━━━━━━━━━━━━━━━━━━━━━━━━╇━━━━━━━━━━━━━━━━━┩  │\n",
       "│ │ <span style=\"color: #af87ff; text-decoration-color: #af87ff\">covid19                                         </span> │ <span style=\"color: #008080; text-decoration-color: #008080\">         539</span> │ <span style=\"color: #008080; text-decoration-color: #008080\">                  0.27</span> │ <span style=\"color: #008000; text-decoration-color: #008000\">    ▇    ▃     </span> │  │\n",
       "│ │ <span style=\"color: #af87ff; text-decoration-color: #af87ff\">id_bio_bubble_contag                            </span> │ <span style=\"color: #008080; text-decoration-color: #008080\">         728</span> │ <span style=\"color: #008080; text-decoration-color: #008080\">                  0.36</span> │ <span style=\"color: #008000; text-decoration-color: #008000\">    ▇    ▅     </span> │  │\n",
       "│ │ <span style=\"color: #af87ff; text-decoration-color: #af87ff\">id_bio_out_bubble_contag                        </span> │ <span style=\"color: #008080; text-decoration-color: #008080\">        1518</span> │ <span style=\"color: #008080; text-decoration-color: #008080\">                  0.76</span> │ <span style=\"color: #008000; text-decoration-color: #008000\">    ▃    ▇     </span> │  │\n",
       "│ │ <span style=\"color: #af87ff; text-decoration-color: #af87ff\">id_bio_death_covid                              </span> │ <span style=\"color: #008080; text-decoration-color: #008080\">         536</span> │ <span style=\"color: #008080; text-decoration-color: #008080\">                  0.27</span> │ <span style=\"color: #008000; text-decoration-color: #008000\">    ▇    ▃     </span> │  │\n",
       "│ │ <span style=\"color: #af87ff; text-decoration-color: #af87ff\">id_bio_vacc_status                              </span> │ <span style=\"color: #008080; text-decoration-color: #008080\">         166</span> │ <span style=\"color: #008080; text-decoration-color: #008080\">                 0.083</span> │ <span style=\"color: #008000; text-decoration-color: #008000\">    ▇    ▁     </span> │  │\n",
       "│ │ <span style=\"color: #af87ff; text-decoration-color: #af87ff\">sd_inc_income_problems                          </span> │ <span style=\"color: #008080; text-decoration-color: #008080\">         318</span> │ <span style=\"color: #008080; text-decoration-color: #008080\">                  0.16</span> │ <span style=\"color: #008000; text-decoration-color: #008000\">    ▇    ▂     </span> │  │\n",
       "│ │ <span style=\"color: #af87ff; text-decoration-color: #af87ff\">id_bio_gender                                   </span> │ <span style=\"color: #008080; text-decoration-color: #008080\">         927</span> │ <span style=\"color: #008080; text-decoration-color: #008080\">                  0.46</span> │ <span style=\"color: #008000; text-decoration-color: #008000\">    ▇    ▇     </span> │  │\n",
       "│ │ <span style=\"color: #af87ff; text-decoration-color: #af87ff\">sd_occ_current_job                              </span> │ <span style=\"color: #008080; text-decoration-color: #008080\">        1375</span> │ <span style=\"color: #008080; text-decoration-color: #008080\">                  0.69</span> │ <span style=\"color: #008000; text-decoration-color: #008000\">    ▃    ▇     </span> │  │\n",
       "│ │ <span style=\"color: #af87ff; text-decoration-color: #af87ff\">sd_eth_is_costa_rican                           </span> │ <span style=\"color: #008080; text-decoration-color: #008080\">        1766</span> │ <span style=\"color: #008080; text-decoration-color: #008080\">                  0.88</span> │ <span style=\"color: #008000; text-decoration-color: #008000\">    ▁    ▇     </span> │  │\n",
       "│ │ <span style=\"color: #af87ff; text-decoration-color: #af87ff\">id_bio_comorbidities                            </span> │ <span style=\"color: #008080; text-decoration-color: #008080\">         784</span> │ <span style=\"color: #008080; text-decoration-color: #008080\">                  0.39</span> │ <span style=\"color: #008000; text-decoration-color: #008000\">    ▇    ▅     </span> │  │\n",
       "│ │ <span style=\"color: #af87ff; text-decoration-color: #af87ff\">sd_cul_religion                                 </span> │ <span style=\"color: #008080; text-decoration-color: #008080\">        1010</span> │ <span style=\"color: #008080; text-decoration-color: #008080\">                   0.5</span> │ <span style=\"color: #008000; text-decoration-color: #008000\">    ▇    ▇     </span> │  │\n",
       "│ │ <span style=\"color: #af87ff; text-decoration-color: #af87ff\">id_bio_disability                               </span> │ <span style=\"color: #008080; text-decoration-color: #008080\">         166</span> │ <span style=\"color: #008080; text-decoration-color: #008080\">                 0.083</span> │ <span style=\"color: #008000; text-decoration-color: #008000\">    ▇    ▁     </span> │  │\n",
       "│ └──────────────────────────────────────────────────┴──────────────┴────────────────────────┴─────────────────┘  │\n",
       "╰────────────────────────────────────────────────────── End ──────────────────────────────────────────────────────╯\n",
       "</pre>\n"
      ],
      "text/plain": [
       "╭──────────────────────────────────────────────── skimpy summary ─────────────────────────────────────────────────╮\n",
       "│ \u001b[3m         Data Summary         \u001b[0m \u001b[3m      Data Types       \u001b[0m \u001b[3m        Categories        \u001b[0m                               │\n",
       "│ ┏━━━━━━━━━━━━━━━━━━━┳━━━━━━━━┓ ┏━━━━━━━━━━━━━┳━━━━━━━┓ ┏━━━━━━━━━━━━━━━━━━━━━━━━┓                               │\n",
       "│ ┃\u001b[1;36m \u001b[0m\u001b[1;36mdataframe        \u001b[0m\u001b[1;36m \u001b[0m┃\u001b[1;36m \u001b[0m\u001b[1;36mValues\u001b[0m\u001b[1;36m \u001b[0m┃ ┃\u001b[1;36m \u001b[0m\u001b[1;36mColumn Type\u001b[0m\u001b[1;36m \u001b[0m┃\u001b[1;36m \u001b[0m\u001b[1;36mCount\u001b[0m\u001b[1;36m \u001b[0m┃ ┃\u001b[1;36m \u001b[0m\u001b[1;36mCategorical Variables\u001b[0m\u001b[1;36m \u001b[0m\u001b[1;36m \u001b[0m┃                               │\n",
       "│ ┡━━━━━━━━━━━━━━━━━━━╇━━━━━━━━┩ ┡━━━━━━━━━━━━━╇━━━━━━━┩ ┡━━━━━━━━━━━━━━━━━━━━━━━━┩                               │\n",
       "│ │ Number of rows    │ 2003   │ │ bool        │ 12    │ │ id_beh_contag_percep   │                               │\n",
       "│ │ Number of columns │ 27     │ │ category    │ 10    │ │ id_beh_severity_percep │                               │\n",
       "│ └───────────────────┴────────┘ │ float64     │ 5     │ │ id_beh_risk_personal   │                               │\n",
       "│                                └─────────────┴───────┘ │ id_beh_risk_others     │                               │\n",
       "│                                                        │ id_beh_physical_act    │                               │\n",
       "│                                                        │ id_psy_vacc_myths      │                               │\n",
       "│                                                        │ id_psy_anxiety_sympt   │                               │\n",
       "│                                                        │ sd_inc_income_level    │                               │\n",
       "│                                                        │ sd_cul_holiday_season  │                               │\n",
       "│                                                        │ sd_edu_level           │                               │\n",
       "│                                                        └────────────────────────┘                               │\n",
       "│ \u001b[3m                                                    number                                                    \u001b[0m  │\n",
       "│ ┏━━━━━━━━━━━━━━━━━━━━━━━━━━━┳━━━━━━┳━━━━━━━━━┳━━━━━━━━━┳━━━━━━━━━┳━━━━━━┳━━━━━━┳━━━━━━┳━━━━━━┳━━━━━━┳━━━━━━━━┓  │\n",
       "│ ┃\u001b[1m \u001b[0m\u001b[1mcolumn_name              \u001b[0m\u001b[1m \u001b[0m┃\u001b[1m \u001b[0m\u001b[1mNA  \u001b[0m\u001b[1m \u001b[0m┃\u001b[1m \u001b[0m\u001b[1mNA %   \u001b[0m\u001b[1m \u001b[0m┃\u001b[1m \u001b[0m\u001b[1mmean   \u001b[0m\u001b[1m \u001b[0m┃\u001b[1m \u001b[0m\u001b[1msd     \u001b[0m\u001b[1m \u001b[0m┃\u001b[1m \u001b[0m\u001b[1mp0  \u001b[0m\u001b[1m \u001b[0m┃\u001b[1m \u001b[0m\u001b[1mp25 \u001b[0m\u001b[1m \u001b[0m┃\u001b[1m \u001b[0m\u001b[1mp50 \u001b[0m\u001b[1m \u001b[0m┃\u001b[1m \u001b[0m\u001b[1mp75 \u001b[0m\u001b[1m \u001b[0m┃\u001b[1m \u001b[0m\u001b[1mp100\u001b[0m\u001b[1m \u001b[0m┃\u001b[1m \u001b[0m\u001b[1mhist  \u001b[0m\u001b[1m \u001b[0m┃  │\n",
       "│ ┡━━━━━━━━━━━━━━━━━━━━━━━━━━━╇━━━━━━╇━━━━━━━━━╇━━━━━━━━━╇━━━━━━━━━╇━━━━━━╇━━━━━━╇━━━━━━╇━━━━━━╇━━━━━━╇━━━━━━━━┩  │\n",
       "│ │ \u001b[38;5;141mid_bio_age               \u001b[0m │ \u001b[36m   0\u001b[0m │ \u001b[36m      0\u001b[0m │ \u001b[36m  41.17\u001b[0m │ \u001b[36m  15.75\u001b[0m │ \u001b[36m  18\u001b[0m │ \u001b[36m  28\u001b[0m │ \u001b[36m  39\u001b[0m │ \u001b[36m  53\u001b[0m │ \u001b[36m  87\u001b[0m │ \u001b[32m▇▇▅▅▂ \u001b[0m │  │\n",
       "│ │ \u001b[38;5;141mid_bio_weight            \u001b[0m │ \u001b[36m 308\u001b[0m │ \u001b[36m  15.38\u001b[0m │ \u001b[36m  70.63\u001b[0m │ \u001b[36m  12.01\u001b[0m │ \u001b[36m  31\u001b[0m │ \u001b[36m  62\u001b[0m │ \u001b[36m  70\u001b[0m │ \u001b[36m  80\u001b[0m │ \u001b[36m  97\u001b[0m │ \u001b[32m ▂▆▇▇▃\u001b[0m │  │\n",
       "│ │ \u001b[38;5;141mid_bio_height            \u001b[0m │ \u001b[36m 133\u001b[0m │ \u001b[36m   6.64\u001b[0m │ \u001b[36m  165.6\u001b[0m │ \u001b[36m  9.834\u001b[0m │ \u001b[36m 100\u001b[0m │ \u001b[36m 159\u001b[0m │ \u001b[36m 165\u001b[0m │ \u001b[36m 172\u001b[0m │ \u001b[36m 200\u001b[0m │ \u001b[32m   ▇▇ \u001b[0m │  │\n",
       "│ │ \u001b[38;5;141mid_mat_18p_house_members \u001b[0m │ \u001b[36m  64\u001b[0m │ \u001b[36m    3.2\u001b[0m │ \u001b[36m  2.895\u001b[0m │ \u001b[36m  1.432\u001b[0m │ \u001b[36m   1\u001b[0m │ \u001b[36m   2\u001b[0m │ \u001b[36m   3\u001b[0m │ \u001b[36m   4\u001b[0m │ \u001b[36m  20\u001b[0m │ \u001b[32m  ▇▁  \u001b[0m │  │\n",
       "│ │ \u001b[38;5;141mid_mat_total_house_member\u001b[0m │ \u001b[36m  85\u001b[0m │ \u001b[36m   4.24\u001b[0m │ \u001b[36m  3.689\u001b[0m │ \u001b[36m  1.701\u001b[0m │ \u001b[36m   1\u001b[0m │ \u001b[36m   3\u001b[0m │ \u001b[36m   4\u001b[0m │ \u001b[36m   5\u001b[0m │ \u001b[36m  20\u001b[0m │ \u001b[32m  ▇▃  \u001b[0m │  │\n",
       "│ │ \u001b[38;5;141ms                        \u001b[0m │      │         │         │         │      │      │      │      │      │        │  │\n",
       "│ └───────────────────────────┴──────┴─────────┴─────────┴─────────┴──────┴──────┴──────┴──────┴──────┴────────┘  │\n",
       "│ \u001b[3m                                                   category                                                   \u001b[0m  │\n",
       "│ ┏━━━━━━━━━━━━━━━━━━━━━━━━━━━━━━━━━━━━━━━━━━━━━━━┳━━━━━━━━━┳━━━━━━━━━━━━━┳━━━━━━━━━━━━━━━━━━━┳━━━━━━━━━━━━━━━━┓  │\n",
       "│ ┃\u001b[1m \u001b[0m\u001b[1mcolumn_name                                  \u001b[0m\u001b[1m \u001b[0m┃\u001b[1m \u001b[0m\u001b[1mNA     \u001b[0m\u001b[1m \u001b[0m┃\u001b[1m \u001b[0m\u001b[1mNA %       \u001b[0m\u001b[1m \u001b[0m┃\u001b[1m \u001b[0m\u001b[1mordered          \u001b[0m\u001b[1m \u001b[0m┃\u001b[1m \u001b[0m\u001b[1munique        \u001b[0m\u001b[1m \u001b[0m┃  │\n",
       "│ ┡━━━━━━━━━━━━━━━━━━━━━━━━━━━━━━━━━━━━━━━━━━━━━━━╇━━━━━━━━━╇━━━━━━━━━━━━━╇━━━━━━━━━━━━━━━━━━━╇━━━━━━━━━━━━━━━━┩  │\n",
       "│ │ \u001b[38;5;141mid_beh_contag_percep                         \u001b[0m │ \u001b[36m     65\u001b[0m │ \u001b[36m       3.25\u001b[0m │ \u001b[38;5;45mTrue             \u001b[0m │ \u001b[36m             4\u001b[0m │  │\n",
       "│ │ \u001b[38;5;141mid_beh_severity_percep                       \u001b[0m │ \u001b[36m      0\u001b[0m │ \u001b[36m          0\u001b[0m │ \u001b[38;5;45mTrue             \u001b[0m │ \u001b[36m             3\u001b[0m │  │\n",
       "│ │ \u001b[38;5;141mid_beh_risk_personal                         \u001b[0m │ \u001b[36m      0\u001b[0m │ \u001b[36m          0\u001b[0m │ \u001b[38;5;45mTrue             \u001b[0m │ \u001b[36m             3\u001b[0m │  │\n",
       "│ │ \u001b[38;5;141mid_beh_risk_others                           \u001b[0m │ \u001b[36m      0\u001b[0m │ \u001b[36m          0\u001b[0m │ \u001b[38;5;45mTrue             \u001b[0m │ \u001b[36m             3\u001b[0m │  │\n",
       "│ │ \u001b[38;5;141mid_beh_physical_act                          \u001b[0m │ \u001b[36m      0\u001b[0m │ \u001b[36m          0\u001b[0m │ \u001b[38;5;45mTrue             \u001b[0m │ \u001b[36m             3\u001b[0m │  │\n",
       "│ │ \u001b[38;5;141mid_psy_vacc_myths                            \u001b[0m │ \u001b[36m      0\u001b[0m │ \u001b[36m          0\u001b[0m │ \u001b[38;5;45mTrue             \u001b[0m │ \u001b[36m             3\u001b[0m │  │\n",
       "│ │ \u001b[38;5;141mid_psy_anxiety_sympt                         \u001b[0m │ \u001b[36m      5\u001b[0m │ \u001b[36m       0.25\u001b[0m │ \u001b[38;5;45mTrue             \u001b[0m │ \u001b[36m             4\u001b[0m │  │\n",
       "│ │ \u001b[38;5;141msd_inc_income_level                          \u001b[0m │ \u001b[36m      0\u001b[0m │ \u001b[36m          0\u001b[0m │ \u001b[38;5;45mTrue             \u001b[0m │ \u001b[36m             3\u001b[0m │  │\n",
       "│ │ \u001b[38;5;141msd_cul_holiday_season                        \u001b[0m │ \u001b[36m      0\u001b[0m │ \u001b[36m          0\u001b[0m │ \u001b[38;5;45mTrue             \u001b[0m │ \u001b[36m             3\u001b[0m │  │\n",
       "│ │ \u001b[38;5;141msd_edu_level                                 \u001b[0m │ \u001b[36m      0\u001b[0m │ \u001b[36m          0\u001b[0m │ \u001b[38;5;45mTrue             \u001b[0m │ \u001b[36m             3\u001b[0m │  │\n",
       "│ └───────────────────────────────────────────────┴─────────┴─────────────┴───────────────────┴────────────────┘  │\n",
       "│ \u001b[3m                                                     bool                                                     \u001b[0m  │\n",
       "│ ┏━━━━━━━━━━━━━━━━━━━━━━━━━━━━━━━━━━━━━━━━━━━━━━━━━━┳━━━━━━━━━━━━━━┳━━━━━━━━━━━━━━━━━━━━━━━━┳━━━━━━━━━━━━━━━━━┓  │\n",
       "│ ┃\u001b[1m \u001b[0m\u001b[1mcolumn_name                                     \u001b[0m\u001b[1m \u001b[0m┃\u001b[1m \u001b[0m\u001b[1mtrue        \u001b[0m\u001b[1m \u001b[0m┃\u001b[1m \u001b[0m\u001b[1mtrue rate             \u001b[0m\u001b[1m \u001b[0m┃\u001b[1m \u001b[0m\u001b[1mhist           \u001b[0m\u001b[1m \u001b[0m┃  │\n",
       "│ ┡━━━━━━━━━━━━━━━━━━━━━━━━━━━━━━━━━━━━━━━━━━━━━━━━━━╇━━━━━━━━━━━━━━╇━━━━━━━━━━━━━━━━━━━━━━━━╇━━━━━━━━━━━━━━━━━┩  │\n",
       "│ │ \u001b[38;5;141mcovid19                                         \u001b[0m │ \u001b[36m         539\u001b[0m │ \u001b[36m                  0.27\u001b[0m │ \u001b[32m    ▇    ▃     \u001b[0m │  │\n",
       "│ │ \u001b[38;5;141mid_bio_bubble_contag                            \u001b[0m │ \u001b[36m         728\u001b[0m │ \u001b[36m                  0.36\u001b[0m │ \u001b[32m    ▇    ▅     \u001b[0m │  │\n",
       "│ │ \u001b[38;5;141mid_bio_out_bubble_contag                        \u001b[0m │ \u001b[36m        1518\u001b[0m │ \u001b[36m                  0.76\u001b[0m │ \u001b[32m    ▃    ▇     \u001b[0m │  │\n",
       "│ │ \u001b[38;5;141mid_bio_death_covid                              \u001b[0m │ \u001b[36m         536\u001b[0m │ \u001b[36m                  0.27\u001b[0m │ \u001b[32m    ▇    ▃     \u001b[0m │  │\n",
       "│ │ \u001b[38;5;141mid_bio_vacc_status                              \u001b[0m │ \u001b[36m         166\u001b[0m │ \u001b[36m                 0.083\u001b[0m │ \u001b[32m    ▇    ▁     \u001b[0m │  │\n",
       "│ │ \u001b[38;5;141msd_inc_income_problems                          \u001b[0m │ \u001b[36m         318\u001b[0m │ \u001b[36m                  0.16\u001b[0m │ \u001b[32m    ▇    ▂     \u001b[0m │  │\n",
       "│ │ \u001b[38;5;141mid_bio_gender                                   \u001b[0m │ \u001b[36m         927\u001b[0m │ \u001b[36m                  0.46\u001b[0m │ \u001b[32m    ▇    ▇     \u001b[0m │  │\n",
       "│ │ \u001b[38;5;141msd_occ_current_job                              \u001b[0m │ \u001b[36m        1375\u001b[0m │ \u001b[36m                  0.69\u001b[0m │ \u001b[32m    ▃    ▇     \u001b[0m │  │\n",
       "│ │ \u001b[38;5;141msd_eth_is_costa_rican                           \u001b[0m │ \u001b[36m        1766\u001b[0m │ \u001b[36m                  0.88\u001b[0m │ \u001b[32m    ▁    ▇     \u001b[0m │  │\n",
       "│ │ \u001b[38;5;141mid_bio_comorbidities                            \u001b[0m │ \u001b[36m         784\u001b[0m │ \u001b[36m                  0.39\u001b[0m │ \u001b[32m    ▇    ▅     \u001b[0m │  │\n",
       "│ │ \u001b[38;5;141msd_cul_religion                                 \u001b[0m │ \u001b[36m        1010\u001b[0m │ \u001b[36m                   0.5\u001b[0m │ \u001b[32m    ▇    ▇     \u001b[0m │  │\n",
       "│ │ \u001b[38;5;141mid_bio_disability                               \u001b[0m │ \u001b[36m         166\u001b[0m │ \u001b[36m                 0.083\u001b[0m │ \u001b[32m    ▇    ▁     \u001b[0m │  │\n",
       "│ └──────────────────────────────────────────────────┴──────────────┴────────────────────────┴─────────────────┘  │\n",
       "╰────────────────────────────────────────────────────── End ──────────────────────────────────────────────────────╯\n"
      ]
     },
     "metadata": {},
     "output_type": "display_data"
    }
   ],
   "source": [
    "skimpy.skim(df_survey)"
   ]
  },
  {
   "cell_type": "markdown",
   "id": "01570d20",
   "metadata": {},
   "source": [
    "# Save the data"
   ]
  },
  {
   "cell_type": "code",
   "execution_count": 265,
   "id": "940a0194",
   "metadata": {
    "collapsed": false,
    "jupyter": {
     "outputs_hidden": false
    }
   },
   "outputs": [],
   "source": [
    "df_survey.to_pickle(path=\"data/df_survey.pkl\")"
   ]
  },
  {
   "cell_type": "markdown",
   "id": "7fd9d1b1",
   "metadata": {},
   "source": [
    "# Table generation for descriptive statistics"
   ]
  },
  {
   "cell_type": "code",
   "execution_count": 266,
   "id": "6bb08ee5",
   "metadata": {},
   "outputs": [
    {
     "name": "stdout",
     "output_type": "stream",
     "text": [
      "\\begin{tabular}{lrl}\n",
      "\\toprule\n",
      " & Count & Percentage \\\\\n",
      "\\midrule\n",
      "covid19 & 2003 & {False: '1464 (73.09%)', True: '539 (26.91%)'} \\\\\n",
      "id_beh_contag_percep & 1938 & {2: '724 (36.15%)', 1: '707 (35.3%)', 0: '507 (25.31%)'} \\\\\n",
      "id_beh_severity_percep & 2003 & {2: '762 (38.04%)', 0: '627 (31.3%)', 1: '614 (30.65%)'} \\\\\n",
      "id_bio_bubble_contag & 2003 & {False: '1275 (63.65%)', True: '728 (36.35%)'} \\\\\n",
      "id_bio_out_bubble_contag & 2003 & {True: '1518 (75.79%)', False: '485 (24.21%)'} \\\\\n",
      "id_bio_death_covid & 2003 & {False: '1467 (73.24%)', True: '536 (26.76%)'} \\\\\n",
      "id_beh_risk_personal & 2003 & {0.0: '1903 (95.01%)', 1.0: '82 (4.09%)', 2.0: '18 (0.9%)'} \\\\\n",
      "id_beh_risk_others & 2003 & {0: '1650 (82.38%)', 1: '267 (13.33%)', 2: '86 (4.29%)'} \\\\\n",
      "id_beh_physical_act & 2003 & {1: '978 (48.83%)', 0: '814 (40.64%)', 2: '211 (10.53%)'} \\\\\n",
      "id_psy_vacc_myths & 2003 & {0: '1869 (93.31%)', 1: '77 (3.84%)', 2: '57 (2.85%)'} \\\\\n",
      "id_bio_vacc_status & 2003 & {False: '1837 (91.71%)', True: '166 (8.29%)'} \\\\\n",
      "id_psy_anxiety_sympt & 1998 & {0: '1981 (98.9%)', 1: '14 (0.7%)', 2: '3 (0.15%)'} \\\\\n",
      "sd_inc_income_problems & 2003 & {False: '1685 (84.12%)', True: '318 (15.88%)'} \\\\\n",
      "sd_inc_income_level & 2003 & {2: '1079 (53.87%)', 1: '557 (27.81%)', 0: '367 (18.32%)'} \\\\\n",
      "sd_cul_holiday_season & 2003 & {2: '1708 (85.27%)', 1: '209 (10.43%)', 0: '86 (4.29%)'} \\\\\n",
      "id_bio_gender & 2003 & {False: '1076 (53.72%)', True: '927 (46.28%)'} \\\\\n",
      "sd_edu_level & 2003 & {0: '778 (38.84%)', 1: '764 (38.14%)', 2: '461 (23.02%)'} \\\\\n",
      "sd_occ_current_job & 2003 & {True: '1375 (68.65%)', False: '628 (31.35%)'} \\\\\n",
      "sd_eth_is_costa_rican & 2003 & {True: '1766 (88.17%)', False: '237 (11.83%)'} \\\\\n",
      "id_bio_comorbidities & 2003 & {False: '1219 (60.86%)', True: '784 (39.14%)'} \\\\\n",
      "sd_cul_religion & 2003 & {True: '1010 (50.42%)', False: '993 (49.58%)'} \\\\\n",
      "id_bio_disability & 2003 & {False: '1837 (91.71%)', True: '166 (8.29%)'} \\\\\n",
      "\\bottomrule\n",
      "\\end{tabular}\n",
      "\n"
     ]
    }
   ],
   "source": [
    "import pandas as pd\n",
    "\n",
    "# create a copy of the original data frame\n",
    "df = df_survey.copy()\n",
    "\n",
    "# select only categorical and boolean columns\n",
    "cat_cols = df.select_dtypes(include=[\"category\", \"bool\"]).columns\n",
    "\n",
    "# create an empty data frame to store the results\n",
    "result_df = pd.DataFrame(columns=[\"Count\", \"Percentage\"])\n",
    "\n",
    "# iterate over each categorical or boolean column\n",
    "for col in cat_cols:\n",
    "    # count the number of occurrences of each value in the column\n",
    "    value_counts = df[col].value_counts()\n",
    "    # calculate the percentage of each value with respect to the total\n",
    "    percentages = value_counts / len(df) * 100\n",
    "    # combine the count and percentage into a single string\n",
    "    count_percentage = (\n",
    "        value_counts.astype(str) + \" (\" + percentages.round(2).astype(str) + \"%)\"\n",
    "    )\n",
    "    # add the count and percentage to the result data frame\n",
    "    result_df.loc[col] = [value_counts.sum(), count_percentage.to_dict()]\n",
    "\n",
    "# display the result data frame\n",
    "print(result_df.to_latex())"
   ]
  },
  {
   "cell_type": "code",
   "execution_count": 267,
   "id": "57627c12",
   "metadata": {},
   "outputs": [
    {
     "data": {
      "application/vnd.microsoft.datawrangler.viewer.v0+json": {
       "columns": [
        {
         "name": "col_0",
         "rawType": "object",
         "type": "string"
        },
        {
         "name": "False",
         "rawType": "float64",
         "type": "float"
        },
        {
         "name": "True",
         "rawType": "float64",
         "type": "float"
        }
       ],
       "conversionMethod": "pd.DataFrame",
       "ref": "154dc152-1efa-4998-b241-3318669b511e",
       "rows": [
        [
         "% observations",
         "73.09036445332002",
         "26.90963554667998"
        ]
       ],
       "shape": {
        "columns": 2,
        "rows": 1
       }
      },
      "text/html": [
       "<div>\n",
       "<style scoped>\n",
       "    .dataframe tbody tr th:only-of-type {\n",
       "        vertical-align: middle;\n",
       "    }\n",
       "\n",
       "    .dataframe tbody tr th {\n",
       "        vertical-align: top;\n",
       "    }\n",
       "\n",
       "    .dataframe thead th {\n",
       "        text-align: right;\n",
       "    }\n",
       "</style>\n",
       "<table border=\"1\" class=\"dataframe\">\n",
       "  <thead>\n",
       "    <tr style=\"text-align: right;\">\n",
       "      <th>covid19</th>\n",
       "      <th>False</th>\n",
       "      <th>True</th>\n",
       "    </tr>\n",
       "    <tr>\n",
       "      <th>col_0</th>\n",
       "      <th></th>\n",
       "      <th></th>\n",
       "    </tr>\n",
       "  </thead>\n",
       "  <tbody>\n",
       "    <tr>\n",
       "      <th>% observations</th>\n",
       "      <td>73.090364</td>\n",
       "      <td>26.909636</td>\n",
       "    </tr>\n",
       "  </tbody>\n",
       "</table>\n",
       "</div>"
      ],
      "text/plain": [
       "covid19             False      True \n",
       "col_0                               \n",
       "% observations  73.090364  26.909636"
      ]
     },
     "metadata": {},
     "output_type": "display_data"
    },
    {
     "data": {
      "application/vnd.microsoft.datawrangler.viewer.v0+json": {
       "columns": [
        {
         "name": "col_0",
         "rawType": "object",
         "type": "string"
        },
        {
         "name": "False",
         "rawType": "int64",
         "type": "integer"
        },
        {
         "name": "True",
         "rawType": "int64",
         "type": "integer"
        },
        {
         "name": "All",
         "rawType": "int64",
         "type": "integer"
        }
       ],
       "conversionMethod": "pd.DataFrame",
       "ref": "6c4ffdad-f922-42c2-9598-593464110dfe",
       "rows": [
        [
         "count",
         "1464",
         "539",
         "2003"
        ],
        [
         "All",
         "1464",
         "539",
         "2003"
        ]
       ],
       "shape": {
        "columns": 3,
        "rows": 2
       }
      },
      "text/html": [
       "<div>\n",
       "<style scoped>\n",
       "    .dataframe tbody tr th:only-of-type {\n",
       "        vertical-align: middle;\n",
       "    }\n",
       "\n",
       "    .dataframe tbody tr th {\n",
       "        vertical-align: top;\n",
       "    }\n",
       "\n",
       "    .dataframe thead th {\n",
       "        text-align: right;\n",
       "    }\n",
       "</style>\n",
       "<table border=\"1\" class=\"dataframe\">\n",
       "  <thead>\n",
       "    <tr style=\"text-align: right;\">\n",
       "      <th>covid19</th>\n",
       "      <th>False</th>\n",
       "      <th>True</th>\n",
       "      <th>All</th>\n",
       "    </tr>\n",
       "    <tr>\n",
       "      <th>col_0</th>\n",
       "      <th></th>\n",
       "      <th></th>\n",
       "      <th></th>\n",
       "    </tr>\n",
       "  </thead>\n",
       "  <tbody>\n",
       "    <tr>\n",
       "      <th>count</th>\n",
       "      <td>1464</td>\n",
       "      <td>539</td>\n",
       "      <td>2003</td>\n",
       "    </tr>\n",
       "    <tr>\n",
       "      <th>All</th>\n",
       "      <td>1464</td>\n",
       "      <td>539</td>\n",
       "      <td>2003</td>\n",
       "    </tr>\n",
       "  </tbody>\n",
       "</table>\n",
       "</div>"
      ],
      "text/plain": [
       "covid19  False  True   All\n",
       "col_0                     \n",
       "count     1464   539  2003\n",
       "All       1464   539  2003"
      ]
     },
     "metadata": {},
     "output_type": "display_data"
    },
    {
     "data": {
      "application/vnd.microsoft.datawrangler.viewer.v0+json": {
       "columns": [
        {
         "name": "col_0",
         "rawType": "object",
         "type": "string"
        },
        {
         "name": "0",
         "rawType": "float64",
         "type": "float"
        },
        {
         "name": "1",
         "rawType": "float64",
         "type": "float"
        },
        {
         "name": "2",
         "rawType": "float64",
         "type": "float"
        }
       ],
       "conversionMethod": "pd.DataFrame",
       "ref": "5489e49f-ea0d-47ba-a049-8febd9f0a6c8",
       "rows": [
        [
         "% observations",
         "26.160990712074305",
         "36.48090815273478",
         "37.35810113519092"
        ]
       ],
       "shape": {
        "columns": 3,
        "rows": 1
       }
      },
      "text/html": [
       "<div>\n",
       "<style scoped>\n",
       "    .dataframe tbody tr th:only-of-type {\n",
       "        vertical-align: middle;\n",
       "    }\n",
       "\n",
       "    .dataframe tbody tr th {\n",
       "        vertical-align: top;\n",
       "    }\n",
       "\n",
       "    .dataframe thead th {\n",
       "        text-align: right;\n",
       "    }\n",
       "</style>\n",
       "<table border=\"1\" class=\"dataframe\">\n",
       "  <thead>\n",
       "    <tr style=\"text-align: right;\">\n",
       "      <th>id_beh_contag_percep</th>\n",
       "      <th>0</th>\n",
       "      <th>1</th>\n",
       "      <th>2</th>\n",
       "    </tr>\n",
       "    <tr>\n",
       "      <th>col_0</th>\n",
       "      <th></th>\n",
       "      <th></th>\n",
       "      <th></th>\n",
       "    </tr>\n",
       "  </thead>\n",
       "  <tbody>\n",
       "    <tr>\n",
       "      <th>% observations</th>\n",
       "      <td>26.160991</td>\n",
       "      <td>36.480908</td>\n",
       "      <td>37.358101</td>\n",
       "    </tr>\n",
       "  </tbody>\n",
       "</table>\n",
       "</div>"
      ],
      "text/plain": [
       "id_beh_contag_percep          0          1          2\n",
       "col_0                                                \n",
       "% observations        26.160991  36.480908  37.358101"
      ]
     },
     "metadata": {},
     "output_type": "display_data"
    },
    {
     "data": {
      "application/vnd.microsoft.datawrangler.viewer.v0+json": {
       "columns": [
        {
         "name": "col_0",
         "rawType": "object",
         "type": "string"
        },
        {
         "name": "0",
         "rawType": "int64",
         "type": "integer"
        },
        {
         "name": "1",
         "rawType": "int64",
         "type": "integer"
        },
        {
         "name": "2",
         "rawType": "int64",
         "type": "integer"
        },
        {
         "name": "All",
         "rawType": "int64",
         "type": "integer"
        }
       ],
       "conversionMethod": "pd.DataFrame",
       "ref": "35bec06e-e4a1-4726-bdd7-a7abd948ba77",
       "rows": [
        [
         "count",
         "507",
         "707",
         "724",
         "1938"
        ],
        [
         "All",
         "507",
         "707",
         "724",
         "1938"
        ]
       ],
       "shape": {
        "columns": 4,
        "rows": 2
       }
      },
      "text/html": [
       "<div>\n",
       "<style scoped>\n",
       "    .dataframe tbody tr th:only-of-type {\n",
       "        vertical-align: middle;\n",
       "    }\n",
       "\n",
       "    .dataframe tbody tr th {\n",
       "        vertical-align: top;\n",
       "    }\n",
       "\n",
       "    .dataframe thead th {\n",
       "        text-align: right;\n",
       "    }\n",
       "</style>\n",
       "<table border=\"1\" class=\"dataframe\">\n",
       "  <thead>\n",
       "    <tr style=\"text-align: right;\">\n",
       "      <th>id_beh_contag_percep</th>\n",
       "      <th>0</th>\n",
       "      <th>1</th>\n",
       "      <th>2</th>\n",
       "      <th>All</th>\n",
       "    </tr>\n",
       "    <tr>\n",
       "      <th>col_0</th>\n",
       "      <th></th>\n",
       "      <th></th>\n",
       "      <th></th>\n",
       "      <th></th>\n",
       "    </tr>\n",
       "  </thead>\n",
       "  <tbody>\n",
       "    <tr>\n",
       "      <th>count</th>\n",
       "      <td>507</td>\n",
       "      <td>707</td>\n",
       "      <td>724</td>\n",
       "      <td>1938</td>\n",
       "    </tr>\n",
       "    <tr>\n",
       "      <th>All</th>\n",
       "      <td>507</td>\n",
       "      <td>707</td>\n",
       "      <td>724</td>\n",
       "      <td>1938</td>\n",
       "    </tr>\n",
       "  </tbody>\n",
       "</table>\n",
       "</div>"
      ],
      "text/plain": [
       "id_beh_contag_percep    0    1    2   All\n",
       "col_0                                    \n",
       "count                 507  707  724  1938\n",
       "All                   507  707  724  1938"
      ]
     },
     "metadata": {},
     "output_type": "display_data"
    },
    {
     "data": {
      "application/vnd.microsoft.datawrangler.viewer.v0+json": {
       "columns": [
        {
         "name": "col_0",
         "rawType": "object",
         "type": "string"
        },
        {
         "name": "0",
         "rawType": "float64",
         "type": "float"
        },
        {
         "name": "1",
         "rawType": "float64",
         "type": "float"
        },
        {
         "name": "2",
         "rawType": "float64",
         "type": "float"
        }
       ],
       "conversionMethod": "pd.DataFrame",
       "ref": "40996eb3-bc4b-4eef-b7bc-b912db304311",
       "rows": [
        [
         "% observations",
         "31.303045431852222",
         "30.654018971542683",
         "38.04293559660509"
        ]
       ],
       "shape": {
        "columns": 3,
        "rows": 1
       }
      },
      "text/html": [
       "<div>\n",
       "<style scoped>\n",
       "    .dataframe tbody tr th:only-of-type {\n",
       "        vertical-align: middle;\n",
       "    }\n",
       "\n",
       "    .dataframe tbody tr th {\n",
       "        vertical-align: top;\n",
       "    }\n",
       "\n",
       "    .dataframe thead th {\n",
       "        text-align: right;\n",
       "    }\n",
       "</style>\n",
       "<table border=\"1\" class=\"dataframe\">\n",
       "  <thead>\n",
       "    <tr style=\"text-align: right;\">\n",
       "      <th>id_beh_severity_percep</th>\n",
       "      <th>0</th>\n",
       "      <th>1</th>\n",
       "      <th>2</th>\n",
       "    </tr>\n",
       "    <tr>\n",
       "      <th>col_0</th>\n",
       "      <th></th>\n",
       "      <th></th>\n",
       "      <th></th>\n",
       "    </tr>\n",
       "  </thead>\n",
       "  <tbody>\n",
       "    <tr>\n",
       "      <th>% observations</th>\n",
       "      <td>31.303045</td>\n",
       "      <td>30.654019</td>\n",
       "      <td>38.042936</td>\n",
       "    </tr>\n",
       "  </tbody>\n",
       "</table>\n",
       "</div>"
      ],
      "text/plain": [
       "id_beh_severity_percep          0          1          2\n",
       "col_0                                                  \n",
       "% observations          31.303045  30.654019  38.042936"
      ]
     },
     "metadata": {},
     "output_type": "display_data"
    },
    {
     "data": {
      "application/vnd.microsoft.datawrangler.viewer.v0+json": {
       "columns": [
        {
         "name": "col_0",
         "rawType": "object",
         "type": "string"
        },
        {
         "name": "0",
         "rawType": "int64",
         "type": "integer"
        },
        {
         "name": "1",
         "rawType": "int64",
         "type": "integer"
        },
        {
         "name": "2",
         "rawType": "int64",
         "type": "integer"
        },
        {
         "name": "All",
         "rawType": "int64",
         "type": "integer"
        }
       ],
       "conversionMethod": "pd.DataFrame",
       "ref": "8f897910-b77f-4510-a0cc-8df739f73670",
       "rows": [
        [
         "count",
         "627",
         "614",
         "762",
         "2003"
        ],
        [
         "All",
         "627",
         "614",
         "762",
         "2003"
        ]
       ],
       "shape": {
        "columns": 4,
        "rows": 2
       }
      },
      "text/html": [
       "<div>\n",
       "<style scoped>\n",
       "    .dataframe tbody tr th:only-of-type {\n",
       "        vertical-align: middle;\n",
       "    }\n",
       "\n",
       "    .dataframe tbody tr th {\n",
       "        vertical-align: top;\n",
       "    }\n",
       "\n",
       "    .dataframe thead th {\n",
       "        text-align: right;\n",
       "    }\n",
       "</style>\n",
       "<table border=\"1\" class=\"dataframe\">\n",
       "  <thead>\n",
       "    <tr style=\"text-align: right;\">\n",
       "      <th>id_beh_severity_percep</th>\n",
       "      <th>0</th>\n",
       "      <th>1</th>\n",
       "      <th>2</th>\n",
       "      <th>All</th>\n",
       "    </tr>\n",
       "    <tr>\n",
       "      <th>col_0</th>\n",
       "      <th></th>\n",
       "      <th></th>\n",
       "      <th></th>\n",
       "      <th></th>\n",
       "    </tr>\n",
       "  </thead>\n",
       "  <tbody>\n",
       "    <tr>\n",
       "      <th>count</th>\n",
       "      <td>627</td>\n",
       "      <td>614</td>\n",
       "      <td>762</td>\n",
       "      <td>2003</td>\n",
       "    </tr>\n",
       "    <tr>\n",
       "      <th>All</th>\n",
       "      <td>627</td>\n",
       "      <td>614</td>\n",
       "      <td>762</td>\n",
       "      <td>2003</td>\n",
       "    </tr>\n",
       "  </tbody>\n",
       "</table>\n",
       "</div>"
      ],
      "text/plain": [
       "id_beh_severity_percep    0    1    2   All\n",
       "col_0                                      \n",
       "count                   627  614  762  2003\n",
       "All                     627  614  762  2003"
      ]
     },
     "metadata": {},
     "output_type": "display_data"
    },
    {
     "data": {
      "application/vnd.microsoft.datawrangler.viewer.v0+json": {
       "columns": [
        {
         "name": "col_0",
         "rawType": "object",
         "type": "string"
        },
        {
         "name": "False",
         "rawType": "float64",
         "type": "float"
        },
        {
         "name": "True",
         "rawType": "float64",
         "type": "float"
        }
       ],
       "conversionMethod": "pd.DataFrame",
       "ref": "eb6bbd03-038d-4728-ab1f-a13efd18e1f5",
       "rows": [
        [
         "% observations",
         "63.654518222666",
         "36.345481777334"
        ]
       ],
       "shape": {
        "columns": 2,
        "rows": 1
       }
      },
      "text/html": [
       "<div>\n",
       "<style scoped>\n",
       "    .dataframe tbody tr th:only-of-type {\n",
       "        vertical-align: middle;\n",
       "    }\n",
       "\n",
       "    .dataframe tbody tr th {\n",
       "        vertical-align: top;\n",
       "    }\n",
       "\n",
       "    .dataframe thead th {\n",
       "        text-align: right;\n",
       "    }\n",
       "</style>\n",
       "<table border=\"1\" class=\"dataframe\">\n",
       "  <thead>\n",
       "    <tr style=\"text-align: right;\">\n",
       "      <th>id_bio_bubble_contag</th>\n",
       "      <th>False</th>\n",
       "      <th>True</th>\n",
       "    </tr>\n",
       "    <tr>\n",
       "      <th>col_0</th>\n",
       "      <th></th>\n",
       "      <th></th>\n",
       "    </tr>\n",
       "  </thead>\n",
       "  <tbody>\n",
       "    <tr>\n",
       "      <th>% observations</th>\n",
       "      <td>63.654518</td>\n",
       "      <td>36.345482</td>\n",
       "    </tr>\n",
       "  </tbody>\n",
       "</table>\n",
       "</div>"
      ],
      "text/plain": [
       "id_bio_bubble_contag      False      True \n",
       "col_0                                     \n",
       "% observations        63.654518  36.345482"
      ]
     },
     "metadata": {},
     "output_type": "display_data"
    },
    {
     "data": {
      "application/vnd.microsoft.datawrangler.viewer.v0+json": {
       "columns": [
        {
         "name": "col_0",
         "rawType": "object",
         "type": "string"
        },
        {
         "name": "False",
         "rawType": "int64",
         "type": "integer"
        },
        {
         "name": "True",
         "rawType": "int64",
         "type": "integer"
        },
        {
         "name": "All",
         "rawType": "int64",
         "type": "integer"
        }
       ],
       "conversionMethod": "pd.DataFrame",
       "ref": "acad8405-3d40-4c8c-9c90-43f06029557c",
       "rows": [
        [
         "count",
         "1275",
         "728",
         "2003"
        ],
        [
         "All",
         "1275",
         "728",
         "2003"
        ]
       ],
       "shape": {
        "columns": 3,
        "rows": 2
       }
      },
      "text/html": [
       "<div>\n",
       "<style scoped>\n",
       "    .dataframe tbody tr th:only-of-type {\n",
       "        vertical-align: middle;\n",
       "    }\n",
       "\n",
       "    .dataframe tbody tr th {\n",
       "        vertical-align: top;\n",
       "    }\n",
       "\n",
       "    .dataframe thead th {\n",
       "        text-align: right;\n",
       "    }\n",
       "</style>\n",
       "<table border=\"1\" class=\"dataframe\">\n",
       "  <thead>\n",
       "    <tr style=\"text-align: right;\">\n",
       "      <th>id_bio_bubble_contag</th>\n",
       "      <th>False</th>\n",
       "      <th>True</th>\n",
       "      <th>All</th>\n",
       "    </tr>\n",
       "    <tr>\n",
       "      <th>col_0</th>\n",
       "      <th></th>\n",
       "      <th></th>\n",
       "      <th></th>\n",
       "    </tr>\n",
       "  </thead>\n",
       "  <tbody>\n",
       "    <tr>\n",
       "      <th>count</th>\n",
       "      <td>1275</td>\n",
       "      <td>728</td>\n",
       "      <td>2003</td>\n",
       "    </tr>\n",
       "    <tr>\n",
       "      <th>All</th>\n",
       "      <td>1275</td>\n",
       "      <td>728</td>\n",
       "      <td>2003</td>\n",
       "    </tr>\n",
       "  </tbody>\n",
       "</table>\n",
       "</div>"
      ],
      "text/plain": [
       "id_bio_bubble_contag  False  True   All\n",
       "col_0                                  \n",
       "count                  1275   728  2003\n",
       "All                    1275   728  2003"
      ]
     },
     "metadata": {},
     "output_type": "display_data"
    },
    {
     "data": {
      "application/vnd.microsoft.datawrangler.viewer.v0+json": {
       "columns": [
        {
         "name": "col_0",
         "rawType": "object",
         "type": "string"
        },
        {
         "name": "False",
         "rawType": "float64",
         "type": "float"
        },
        {
         "name": "True",
         "rawType": "float64",
         "type": "float"
        }
       ],
       "conversionMethod": "pd.DataFrame",
       "ref": "8213c33f-5734-4a93-a3f4-3f1a7dc00a05",
       "rows": [
        [
         "% observations",
         "24.213679480778833",
         "75.78632051922118"
        ]
       ],
       "shape": {
        "columns": 2,
        "rows": 1
       }
      },
      "text/html": [
       "<div>\n",
       "<style scoped>\n",
       "    .dataframe tbody tr th:only-of-type {\n",
       "        vertical-align: middle;\n",
       "    }\n",
       "\n",
       "    .dataframe tbody tr th {\n",
       "        vertical-align: top;\n",
       "    }\n",
       "\n",
       "    .dataframe thead th {\n",
       "        text-align: right;\n",
       "    }\n",
       "</style>\n",
       "<table border=\"1\" class=\"dataframe\">\n",
       "  <thead>\n",
       "    <tr style=\"text-align: right;\">\n",
       "      <th>id_bio_out_bubble_contag</th>\n",
       "      <th>False</th>\n",
       "      <th>True</th>\n",
       "    </tr>\n",
       "    <tr>\n",
       "      <th>col_0</th>\n",
       "      <th></th>\n",
       "      <th></th>\n",
       "    </tr>\n",
       "  </thead>\n",
       "  <tbody>\n",
       "    <tr>\n",
       "      <th>% observations</th>\n",
       "      <td>24.213679</td>\n",
       "      <td>75.786321</td>\n",
       "    </tr>\n",
       "  </tbody>\n",
       "</table>\n",
       "</div>"
      ],
      "text/plain": [
       "id_bio_out_bubble_contag      False      True \n",
       "col_0                                         \n",
       "% observations            24.213679  75.786321"
      ]
     },
     "metadata": {},
     "output_type": "display_data"
    },
    {
     "data": {
      "application/vnd.microsoft.datawrangler.viewer.v0+json": {
       "columns": [
        {
         "name": "col_0",
         "rawType": "object",
         "type": "string"
        },
        {
         "name": "False",
         "rawType": "int64",
         "type": "integer"
        },
        {
         "name": "True",
         "rawType": "int64",
         "type": "integer"
        },
        {
         "name": "All",
         "rawType": "int64",
         "type": "integer"
        }
       ],
       "conversionMethod": "pd.DataFrame",
       "ref": "247bd3c8-4a65-4512-a2bb-7a98a5257fe0",
       "rows": [
        [
         "count",
         "485",
         "1518",
         "2003"
        ],
        [
         "All",
         "485",
         "1518",
         "2003"
        ]
       ],
       "shape": {
        "columns": 3,
        "rows": 2
       }
      },
      "text/html": [
       "<div>\n",
       "<style scoped>\n",
       "    .dataframe tbody tr th:only-of-type {\n",
       "        vertical-align: middle;\n",
       "    }\n",
       "\n",
       "    .dataframe tbody tr th {\n",
       "        vertical-align: top;\n",
       "    }\n",
       "\n",
       "    .dataframe thead th {\n",
       "        text-align: right;\n",
       "    }\n",
       "</style>\n",
       "<table border=\"1\" class=\"dataframe\">\n",
       "  <thead>\n",
       "    <tr style=\"text-align: right;\">\n",
       "      <th>id_bio_out_bubble_contag</th>\n",
       "      <th>False</th>\n",
       "      <th>True</th>\n",
       "      <th>All</th>\n",
       "    </tr>\n",
       "    <tr>\n",
       "      <th>col_0</th>\n",
       "      <th></th>\n",
       "      <th></th>\n",
       "      <th></th>\n",
       "    </tr>\n",
       "  </thead>\n",
       "  <tbody>\n",
       "    <tr>\n",
       "      <th>count</th>\n",
       "      <td>485</td>\n",
       "      <td>1518</td>\n",
       "      <td>2003</td>\n",
       "    </tr>\n",
       "    <tr>\n",
       "      <th>All</th>\n",
       "      <td>485</td>\n",
       "      <td>1518</td>\n",
       "      <td>2003</td>\n",
       "    </tr>\n",
       "  </tbody>\n",
       "</table>\n",
       "</div>"
      ],
      "text/plain": [
       "id_bio_out_bubble_contag  False  True   All\n",
       "col_0                                      \n",
       "count                       485  1518  2003\n",
       "All                         485  1518  2003"
      ]
     },
     "metadata": {},
     "output_type": "display_data"
    },
    {
     "data": {
      "application/vnd.microsoft.datawrangler.viewer.v0+json": {
       "columns": [
        {
         "name": "col_0",
         "rawType": "object",
         "type": "string"
        },
        {
         "name": "False",
         "rawType": "float64",
         "type": "float"
        },
        {
         "name": "True",
         "rawType": "float64",
         "type": "float"
        }
       ],
       "conversionMethod": "pd.DataFrame",
       "ref": "185158a3-abf9-4a48-aa98-ff6f8e8c7926",
       "rows": [
        [
         "% observations",
         "73.24013979031453",
         "26.75986020968547"
        ]
       ],
       "shape": {
        "columns": 2,
        "rows": 1
       }
      },
      "text/html": [
       "<div>\n",
       "<style scoped>\n",
       "    .dataframe tbody tr th:only-of-type {\n",
       "        vertical-align: middle;\n",
       "    }\n",
       "\n",
       "    .dataframe tbody tr th {\n",
       "        vertical-align: top;\n",
       "    }\n",
       "\n",
       "    .dataframe thead th {\n",
       "        text-align: right;\n",
       "    }\n",
       "</style>\n",
       "<table border=\"1\" class=\"dataframe\">\n",
       "  <thead>\n",
       "    <tr style=\"text-align: right;\">\n",
       "      <th>id_bio_death_covid</th>\n",
       "      <th>False</th>\n",
       "      <th>True</th>\n",
       "    </tr>\n",
       "    <tr>\n",
       "      <th>col_0</th>\n",
       "      <th></th>\n",
       "      <th></th>\n",
       "    </tr>\n",
       "  </thead>\n",
       "  <tbody>\n",
       "    <tr>\n",
       "      <th>% observations</th>\n",
       "      <td>73.24014</td>\n",
       "      <td>26.75986</td>\n",
       "    </tr>\n",
       "  </tbody>\n",
       "</table>\n",
       "</div>"
      ],
      "text/plain": [
       "id_bio_death_covid     False     True \n",
       "col_0                                 \n",
       "% observations      73.24014  26.75986"
      ]
     },
     "metadata": {},
     "output_type": "display_data"
    },
    {
     "data": {
      "application/vnd.microsoft.datawrangler.viewer.v0+json": {
       "columns": [
        {
         "name": "col_0",
         "rawType": "object",
         "type": "string"
        },
        {
         "name": "False",
         "rawType": "int64",
         "type": "integer"
        },
        {
         "name": "True",
         "rawType": "int64",
         "type": "integer"
        },
        {
         "name": "All",
         "rawType": "int64",
         "type": "integer"
        }
       ],
       "conversionMethod": "pd.DataFrame",
       "ref": "140112be-21b3-4344-811a-d0e938a6889a",
       "rows": [
        [
         "count",
         "1467",
         "536",
         "2003"
        ],
        [
         "All",
         "1467",
         "536",
         "2003"
        ]
       ],
       "shape": {
        "columns": 3,
        "rows": 2
       }
      },
      "text/html": [
       "<div>\n",
       "<style scoped>\n",
       "    .dataframe tbody tr th:only-of-type {\n",
       "        vertical-align: middle;\n",
       "    }\n",
       "\n",
       "    .dataframe tbody tr th {\n",
       "        vertical-align: top;\n",
       "    }\n",
       "\n",
       "    .dataframe thead th {\n",
       "        text-align: right;\n",
       "    }\n",
       "</style>\n",
       "<table border=\"1\" class=\"dataframe\">\n",
       "  <thead>\n",
       "    <tr style=\"text-align: right;\">\n",
       "      <th>id_bio_death_covid</th>\n",
       "      <th>False</th>\n",
       "      <th>True</th>\n",
       "      <th>All</th>\n",
       "    </tr>\n",
       "    <tr>\n",
       "      <th>col_0</th>\n",
       "      <th></th>\n",
       "      <th></th>\n",
       "      <th></th>\n",
       "    </tr>\n",
       "  </thead>\n",
       "  <tbody>\n",
       "    <tr>\n",
       "      <th>count</th>\n",
       "      <td>1467</td>\n",
       "      <td>536</td>\n",
       "      <td>2003</td>\n",
       "    </tr>\n",
       "    <tr>\n",
       "      <th>All</th>\n",
       "      <td>1467</td>\n",
       "      <td>536</td>\n",
       "      <td>2003</td>\n",
       "    </tr>\n",
       "  </tbody>\n",
       "</table>\n",
       "</div>"
      ],
      "text/plain": [
       "id_bio_death_covid  False  True   All\n",
       "col_0                                \n",
       "count                1467   536  2003\n",
       "All                  1467   536  2003"
      ]
     },
     "metadata": {},
     "output_type": "display_data"
    },
    {
     "data": {
      "application/vnd.microsoft.datawrangler.viewer.v0+json": {
       "columns": [
        {
         "name": "col_0",
         "rawType": "object",
         "type": "string"
        },
        {
         "name": "0.0",
         "rawType": "float64",
         "type": "float"
        },
        {
         "name": "1.0",
         "rawType": "float64",
         "type": "float"
        },
        {
         "name": "2.0",
         "rawType": "float64",
         "type": "float"
        }
       ],
       "conversionMethod": "pd.DataFrame",
       "ref": "fdb75915-a8c5-4129-8712-7c2f765cdc96",
       "rows": [
        [
         "% observations",
         "95.00748876684972",
         "4.093859211183226",
         "0.8986520219670495"
        ]
       ],
       "shape": {
        "columns": 3,
        "rows": 1
       }
      },
      "text/html": [
       "<div>\n",
       "<style scoped>\n",
       "    .dataframe tbody tr th:only-of-type {\n",
       "        vertical-align: middle;\n",
       "    }\n",
       "\n",
       "    .dataframe tbody tr th {\n",
       "        vertical-align: top;\n",
       "    }\n",
       "\n",
       "    .dataframe thead th {\n",
       "        text-align: right;\n",
       "    }\n",
       "</style>\n",
       "<table border=\"1\" class=\"dataframe\">\n",
       "  <thead>\n",
       "    <tr style=\"text-align: right;\">\n",
       "      <th>id_beh_risk_personal</th>\n",
       "      <th>0.0</th>\n",
       "      <th>1.0</th>\n",
       "      <th>2.0</th>\n",
       "    </tr>\n",
       "    <tr>\n",
       "      <th>col_0</th>\n",
       "      <th></th>\n",
       "      <th></th>\n",
       "      <th></th>\n",
       "    </tr>\n",
       "  </thead>\n",
       "  <tbody>\n",
       "    <tr>\n",
       "      <th>% observations</th>\n",
       "      <td>95.007489</td>\n",
       "      <td>4.093859</td>\n",
       "      <td>0.898652</td>\n",
       "    </tr>\n",
       "  </tbody>\n",
       "</table>\n",
       "</div>"
      ],
      "text/plain": [
       "id_beh_risk_personal        0.0       1.0       2.0\n",
       "col_0                                              \n",
       "% observations        95.007489  4.093859  0.898652"
      ]
     },
     "metadata": {},
     "output_type": "display_data"
    },
    {
     "data": {
      "application/vnd.microsoft.datawrangler.viewer.v0+json": {
       "columns": [
        {
         "name": "col_0",
         "rawType": "object",
         "type": "string"
        },
        {
         "name": "0.0",
         "rawType": "int64",
         "type": "integer"
        },
        {
         "name": "1.0",
         "rawType": "int64",
         "type": "integer"
        },
        {
         "name": "2.0",
         "rawType": "int64",
         "type": "integer"
        },
        {
         "name": "All",
         "rawType": "int64",
         "type": "integer"
        }
       ],
       "conversionMethod": "pd.DataFrame",
       "ref": "02ef016c-de61-42ba-ac4d-9400093a6f54",
       "rows": [
        [
         "count",
         "1903",
         "82",
         "18",
         "2003"
        ],
        [
         "All",
         "1903",
         "82",
         "18",
         "2003"
        ]
       ],
       "shape": {
        "columns": 4,
        "rows": 2
       }
      },
      "text/html": [
       "<div>\n",
       "<style scoped>\n",
       "    .dataframe tbody tr th:only-of-type {\n",
       "        vertical-align: middle;\n",
       "    }\n",
       "\n",
       "    .dataframe tbody tr th {\n",
       "        vertical-align: top;\n",
       "    }\n",
       "\n",
       "    .dataframe thead th {\n",
       "        text-align: right;\n",
       "    }\n",
       "</style>\n",
       "<table border=\"1\" class=\"dataframe\">\n",
       "  <thead>\n",
       "    <tr style=\"text-align: right;\">\n",
       "      <th>id_beh_risk_personal</th>\n",
       "      <th>0.0</th>\n",
       "      <th>1.0</th>\n",
       "      <th>2.0</th>\n",
       "      <th>All</th>\n",
       "    </tr>\n",
       "    <tr>\n",
       "      <th>col_0</th>\n",
       "      <th></th>\n",
       "      <th></th>\n",
       "      <th></th>\n",
       "      <th></th>\n",
       "    </tr>\n",
       "  </thead>\n",
       "  <tbody>\n",
       "    <tr>\n",
       "      <th>count</th>\n",
       "      <td>1903</td>\n",
       "      <td>82</td>\n",
       "      <td>18</td>\n",
       "      <td>2003</td>\n",
       "    </tr>\n",
       "    <tr>\n",
       "      <th>All</th>\n",
       "      <td>1903</td>\n",
       "      <td>82</td>\n",
       "      <td>18</td>\n",
       "      <td>2003</td>\n",
       "    </tr>\n",
       "  </tbody>\n",
       "</table>\n",
       "</div>"
      ],
      "text/plain": [
       "id_beh_risk_personal   0.0  1.0  2.0   All\n",
       "col_0                                     \n",
       "count                 1903   82   18  2003\n",
       "All                   1903   82   18  2003"
      ]
     },
     "metadata": {},
     "output_type": "display_data"
    },
    {
     "data": {
      "application/vnd.microsoft.datawrangler.viewer.v0+json": {
       "columns": [
        {
         "name": "col_0",
         "rawType": "object",
         "type": "string"
        },
        {
         "name": "0",
         "rawType": "float64",
         "type": "float"
        },
        {
         "name": "1",
         "rawType": "float64",
         "type": "float"
        },
        {
         "name": "2",
         "rawType": "float64",
         "type": "float"
        }
       ],
       "conversionMethod": "pd.DataFrame",
       "ref": "632ac91a-342f-43bc-a33e-ba88da516253",
       "rows": [
        [
         "% observations",
         "82.37643534697952",
         "13.330004992511233",
         "4.293559660509237"
        ]
       ],
       "shape": {
        "columns": 3,
        "rows": 1
       }
      },
      "text/html": [
       "<div>\n",
       "<style scoped>\n",
       "    .dataframe tbody tr th:only-of-type {\n",
       "        vertical-align: middle;\n",
       "    }\n",
       "\n",
       "    .dataframe tbody tr th {\n",
       "        vertical-align: top;\n",
       "    }\n",
       "\n",
       "    .dataframe thead th {\n",
       "        text-align: right;\n",
       "    }\n",
       "</style>\n",
       "<table border=\"1\" class=\"dataframe\">\n",
       "  <thead>\n",
       "    <tr style=\"text-align: right;\">\n",
       "      <th>id_beh_risk_others</th>\n",
       "      <th>0</th>\n",
       "      <th>1</th>\n",
       "      <th>2</th>\n",
       "    </tr>\n",
       "    <tr>\n",
       "      <th>col_0</th>\n",
       "      <th></th>\n",
       "      <th></th>\n",
       "      <th></th>\n",
       "    </tr>\n",
       "  </thead>\n",
       "  <tbody>\n",
       "    <tr>\n",
       "      <th>% observations</th>\n",
       "      <td>82.376435</td>\n",
       "      <td>13.330005</td>\n",
       "      <td>4.29356</td>\n",
       "    </tr>\n",
       "  </tbody>\n",
       "</table>\n",
       "</div>"
      ],
      "text/plain": [
       "id_beh_risk_others          0          1        2\n",
       "col_0                                            \n",
       "% observations      82.376435  13.330005  4.29356"
      ]
     },
     "metadata": {},
     "output_type": "display_data"
    },
    {
     "data": {
      "application/vnd.microsoft.datawrangler.viewer.v0+json": {
       "columns": [
        {
         "name": "col_0",
         "rawType": "object",
         "type": "string"
        },
        {
         "name": "0",
         "rawType": "int64",
         "type": "integer"
        },
        {
         "name": "1",
         "rawType": "int64",
         "type": "integer"
        },
        {
         "name": "2",
         "rawType": "int64",
         "type": "integer"
        },
        {
         "name": "All",
         "rawType": "int64",
         "type": "integer"
        }
       ],
       "conversionMethod": "pd.DataFrame",
       "ref": "e26a899a-69f5-4072-a4b9-5d9cb22417cb",
       "rows": [
        [
         "count",
         "1650",
         "267",
         "86",
         "2003"
        ],
        [
         "All",
         "1650",
         "267",
         "86",
         "2003"
        ]
       ],
       "shape": {
        "columns": 4,
        "rows": 2
       }
      },
      "text/html": [
       "<div>\n",
       "<style scoped>\n",
       "    .dataframe tbody tr th:only-of-type {\n",
       "        vertical-align: middle;\n",
       "    }\n",
       "\n",
       "    .dataframe tbody tr th {\n",
       "        vertical-align: top;\n",
       "    }\n",
       "\n",
       "    .dataframe thead th {\n",
       "        text-align: right;\n",
       "    }\n",
       "</style>\n",
       "<table border=\"1\" class=\"dataframe\">\n",
       "  <thead>\n",
       "    <tr style=\"text-align: right;\">\n",
       "      <th>id_beh_risk_others</th>\n",
       "      <th>0</th>\n",
       "      <th>1</th>\n",
       "      <th>2</th>\n",
       "      <th>All</th>\n",
       "    </tr>\n",
       "    <tr>\n",
       "      <th>col_0</th>\n",
       "      <th></th>\n",
       "      <th></th>\n",
       "      <th></th>\n",
       "      <th></th>\n",
       "    </tr>\n",
       "  </thead>\n",
       "  <tbody>\n",
       "    <tr>\n",
       "      <th>count</th>\n",
       "      <td>1650</td>\n",
       "      <td>267</td>\n",
       "      <td>86</td>\n",
       "      <td>2003</td>\n",
       "    </tr>\n",
       "    <tr>\n",
       "      <th>All</th>\n",
       "      <td>1650</td>\n",
       "      <td>267</td>\n",
       "      <td>86</td>\n",
       "      <td>2003</td>\n",
       "    </tr>\n",
       "  </tbody>\n",
       "</table>\n",
       "</div>"
      ],
      "text/plain": [
       "id_beh_risk_others     0    1   2   All\n",
       "col_0                                  \n",
       "count               1650  267  86  2003\n",
       "All                 1650  267  86  2003"
      ]
     },
     "metadata": {},
     "output_type": "display_data"
    },
    {
     "data": {
      "application/vnd.microsoft.datawrangler.viewer.v0+json": {
       "columns": [
        {
         "name": "col_0",
         "rawType": "object",
         "type": "string"
        },
        {
         "name": "0",
         "rawType": "float64",
         "type": "float"
        },
        {
         "name": "1",
         "rawType": "float64",
         "type": "float"
        },
        {
         "name": "2",
         "rawType": "float64",
         "type": "float"
        }
       ],
       "conversionMethod": "pd.DataFrame",
       "ref": "9c266d6c-b17d-4aa8-87e1-848c251ce085",
       "rows": [
        [
         "% observations",
         "40.63904143784324",
         "48.826759860209684",
         "10.53419870194708"
        ]
       ],
       "shape": {
        "columns": 3,
        "rows": 1
       }
      },
      "text/html": [
       "<div>\n",
       "<style scoped>\n",
       "    .dataframe tbody tr th:only-of-type {\n",
       "        vertical-align: middle;\n",
       "    }\n",
       "\n",
       "    .dataframe tbody tr th {\n",
       "        vertical-align: top;\n",
       "    }\n",
       "\n",
       "    .dataframe thead th {\n",
       "        text-align: right;\n",
       "    }\n",
       "</style>\n",
       "<table border=\"1\" class=\"dataframe\">\n",
       "  <thead>\n",
       "    <tr style=\"text-align: right;\">\n",
       "      <th>id_beh_physical_act</th>\n",
       "      <th>0</th>\n",
       "      <th>1</th>\n",
       "      <th>2</th>\n",
       "    </tr>\n",
       "    <tr>\n",
       "      <th>col_0</th>\n",
       "      <th></th>\n",
       "      <th></th>\n",
       "      <th></th>\n",
       "    </tr>\n",
       "  </thead>\n",
       "  <tbody>\n",
       "    <tr>\n",
       "      <th>% observations</th>\n",
       "      <td>40.639041</td>\n",
       "      <td>48.82676</td>\n",
       "      <td>10.534199</td>\n",
       "    </tr>\n",
       "  </tbody>\n",
       "</table>\n",
       "</div>"
      ],
      "text/plain": [
       "id_beh_physical_act          0         1          2\n",
       "col_0                                              \n",
       "% observations       40.639041  48.82676  10.534199"
      ]
     },
     "metadata": {},
     "output_type": "display_data"
    },
    {
     "data": {
      "application/vnd.microsoft.datawrangler.viewer.v0+json": {
       "columns": [
        {
         "name": "col_0",
         "rawType": "object",
         "type": "string"
        },
        {
         "name": "0",
         "rawType": "int64",
         "type": "integer"
        },
        {
         "name": "1",
         "rawType": "int64",
         "type": "integer"
        },
        {
         "name": "2",
         "rawType": "int64",
         "type": "integer"
        },
        {
         "name": "All",
         "rawType": "int64",
         "type": "integer"
        }
       ],
       "conversionMethod": "pd.DataFrame",
       "ref": "cc206480-97ab-43a0-ab26-e6ed09c561f4",
       "rows": [
        [
         "count",
         "814",
         "978",
         "211",
         "2003"
        ],
        [
         "All",
         "814",
         "978",
         "211",
         "2003"
        ]
       ],
       "shape": {
        "columns": 4,
        "rows": 2
       }
      },
      "text/html": [
       "<div>\n",
       "<style scoped>\n",
       "    .dataframe tbody tr th:only-of-type {\n",
       "        vertical-align: middle;\n",
       "    }\n",
       "\n",
       "    .dataframe tbody tr th {\n",
       "        vertical-align: top;\n",
       "    }\n",
       "\n",
       "    .dataframe thead th {\n",
       "        text-align: right;\n",
       "    }\n",
       "</style>\n",
       "<table border=\"1\" class=\"dataframe\">\n",
       "  <thead>\n",
       "    <tr style=\"text-align: right;\">\n",
       "      <th>id_beh_physical_act</th>\n",
       "      <th>0</th>\n",
       "      <th>1</th>\n",
       "      <th>2</th>\n",
       "      <th>All</th>\n",
       "    </tr>\n",
       "    <tr>\n",
       "      <th>col_0</th>\n",
       "      <th></th>\n",
       "      <th></th>\n",
       "      <th></th>\n",
       "      <th></th>\n",
       "    </tr>\n",
       "  </thead>\n",
       "  <tbody>\n",
       "    <tr>\n",
       "      <th>count</th>\n",
       "      <td>814</td>\n",
       "      <td>978</td>\n",
       "      <td>211</td>\n",
       "      <td>2003</td>\n",
       "    </tr>\n",
       "    <tr>\n",
       "      <th>All</th>\n",
       "      <td>814</td>\n",
       "      <td>978</td>\n",
       "      <td>211</td>\n",
       "      <td>2003</td>\n",
       "    </tr>\n",
       "  </tbody>\n",
       "</table>\n",
       "</div>"
      ],
      "text/plain": [
       "id_beh_physical_act    0    1    2   All\n",
       "col_0                                   \n",
       "count                814  978  211  2003\n",
       "All                  814  978  211  2003"
      ]
     },
     "metadata": {},
     "output_type": "display_data"
    },
    {
     "data": {
      "application/vnd.microsoft.datawrangler.viewer.v0+json": {
       "columns": [
        {
         "name": "col_0",
         "rawType": "object",
         "type": "string"
        },
        {
         "name": "0",
         "rawType": "float64",
         "type": "float"
        },
        {
         "name": "1",
         "rawType": "float64",
         "type": "float"
        },
        {
         "name": "2",
         "rawType": "float64",
         "type": "float"
        }
       ],
       "conversionMethod": "pd.DataFrame",
       "ref": "838f07f3-a5f2-4f62-bdfe-4ae4d91a2647",
       "rows": [
        [
         "% observations",
         "93.31003494757863",
         "3.8442336495257114",
         "2.845731402895656"
        ]
       ],
       "shape": {
        "columns": 3,
        "rows": 1
       }
      },
      "text/html": [
       "<div>\n",
       "<style scoped>\n",
       "    .dataframe tbody tr th:only-of-type {\n",
       "        vertical-align: middle;\n",
       "    }\n",
       "\n",
       "    .dataframe tbody tr th {\n",
       "        vertical-align: top;\n",
       "    }\n",
       "\n",
       "    .dataframe thead th {\n",
       "        text-align: right;\n",
       "    }\n",
       "</style>\n",
       "<table border=\"1\" class=\"dataframe\">\n",
       "  <thead>\n",
       "    <tr style=\"text-align: right;\">\n",
       "      <th>id_psy_vacc_myths</th>\n",
       "      <th>0</th>\n",
       "      <th>1</th>\n",
       "      <th>2</th>\n",
       "    </tr>\n",
       "    <tr>\n",
       "      <th>col_0</th>\n",
       "      <th></th>\n",
       "      <th></th>\n",
       "      <th></th>\n",
       "    </tr>\n",
       "  </thead>\n",
       "  <tbody>\n",
       "    <tr>\n",
       "      <th>% observations</th>\n",
       "      <td>93.310035</td>\n",
       "      <td>3.844234</td>\n",
       "      <td>2.845731</td>\n",
       "    </tr>\n",
       "  </tbody>\n",
       "</table>\n",
       "</div>"
      ],
      "text/plain": [
       "id_psy_vacc_myths          0         1         2\n",
       "col_0                                           \n",
       "% observations     93.310035  3.844234  2.845731"
      ]
     },
     "metadata": {},
     "output_type": "display_data"
    },
    {
     "data": {
      "application/vnd.microsoft.datawrangler.viewer.v0+json": {
       "columns": [
        {
         "name": "col_0",
         "rawType": "object",
         "type": "string"
        },
        {
         "name": "0",
         "rawType": "int64",
         "type": "integer"
        },
        {
         "name": "1",
         "rawType": "int64",
         "type": "integer"
        },
        {
         "name": "2",
         "rawType": "int64",
         "type": "integer"
        },
        {
         "name": "All",
         "rawType": "int64",
         "type": "integer"
        }
       ],
       "conversionMethod": "pd.DataFrame",
       "ref": "97cdba73-9408-4ca7-ab97-33ef409c1de6",
       "rows": [
        [
         "count",
         "1869",
         "77",
         "57",
         "2003"
        ],
        [
         "All",
         "1869",
         "77",
         "57",
         "2003"
        ]
       ],
       "shape": {
        "columns": 4,
        "rows": 2
       }
      },
      "text/html": [
       "<div>\n",
       "<style scoped>\n",
       "    .dataframe tbody tr th:only-of-type {\n",
       "        vertical-align: middle;\n",
       "    }\n",
       "\n",
       "    .dataframe tbody tr th {\n",
       "        vertical-align: top;\n",
       "    }\n",
       "\n",
       "    .dataframe thead th {\n",
       "        text-align: right;\n",
       "    }\n",
       "</style>\n",
       "<table border=\"1\" class=\"dataframe\">\n",
       "  <thead>\n",
       "    <tr style=\"text-align: right;\">\n",
       "      <th>id_psy_vacc_myths</th>\n",
       "      <th>0</th>\n",
       "      <th>1</th>\n",
       "      <th>2</th>\n",
       "      <th>All</th>\n",
       "    </tr>\n",
       "    <tr>\n",
       "      <th>col_0</th>\n",
       "      <th></th>\n",
       "      <th></th>\n",
       "      <th></th>\n",
       "      <th></th>\n",
       "    </tr>\n",
       "  </thead>\n",
       "  <tbody>\n",
       "    <tr>\n",
       "      <th>count</th>\n",
       "      <td>1869</td>\n",
       "      <td>77</td>\n",
       "      <td>57</td>\n",
       "      <td>2003</td>\n",
       "    </tr>\n",
       "    <tr>\n",
       "      <th>All</th>\n",
       "      <td>1869</td>\n",
       "      <td>77</td>\n",
       "      <td>57</td>\n",
       "      <td>2003</td>\n",
       "    </tr>\n",
       "  </tbody>\n",
       "</table>\n",
       "</div>"
      ],
      "text/plain": [
       "id_psy_vacc_myths     0   1   2   All\n",
       "col_0                                \n",
       "count              1869  77  57  2003\n",
       "All                1869  77  57  2003"
      ]
     },
     "metadata": {},
     "output_type": "display_data"
    },
    {
     "data": {
      "application/vnd.microsoft.datawrangler.viewer.v0+json": {
       "columns": [
        {
         "name": "col_0",
         "rawType": "object",
         "type": "string"
        },
        {
         "name": "False",
         "rawType": "float64",
         "type": "float"
        },
        {
         "name": "True",
         "rawType": "float64",
         "type": "float"
        }
       ],
       "conversionMethod": "pd.DataFrame",
       "ref": "c72e46b0-f363-4d94-ba30-407f777441ba",
       "rows": [
        [
         "% observations",
         "91.71243135297054",
         "8.287568647029456"
        ]
       ],
       "shape": {
        "columns": 2,
        "rows": 1
       }
      },
      "text/html": [
       "<div>\n",
       "<style scoped>\n",
       "    .dataframe tbody tr th:only-of-type {\n",
       "        vertical-align: middle;\n",
       "    }\n",
       "\n",
       "    .dataframe tbody tr th {\n",
       "        vertical-align: top;\n",
       "    }\n",
       "\n",
       "    .dataframe thead th {\n",
       "        text-align: right;\n",
       "    }\n",
       "</style>\n",
       "<table border=\"1\" class=\"dataframe\">\n",
       "  <thead>\n",
       "    <tr style=\"text-align: right;\">\n",
       "      <th>id_bio_vacc_status</th>\n",
       "      <th>False</th>\n",
       "      <th>True</th>\n",
       "    </tr>\n",
       "    <tr>\n",
       "      <th>col_0</th>\n",
       "      <th></th>\n",
       "      <th></th>\n",
       "    </tr>\n",
       "  </thead>\n",
       "  <tbody>\n",
       "    <tr>\n",
       "      <th>% observations</th>\n",
       "      <td>91.712431</td>\n",
       "      <td>8.287569</td>\n",
       "    </tr>\n",
       "  </tbody>\n",
       "</table>\n",
       "</div>"
      ],
      "text/plain": [
       "id_bio_vacc_status      False     True \n",
       "col_0                                  \n",
       "% observations      91.712431  8.287569"
      ]
     },
     "metadata": {},
     "output_type": "display_data"
    },
    {
     "data": {
      "application/vnd.microsoft.datawrangler.viewer.v0+json": {
       "columns": [
        {
         "name": "col_0",
         "rawType": "object",
         "type": "string"
        },
        {
         "name": "False",
         "rawType": "int64",
         "type": "integer"
        },
        {
         "name": "True",
         "rawType": "int64",
         "type": "integer"
        },
        {
         "name": "All",
         "rawType": "int64",
         "type": "integer"
        }
       ],
       "conversionMethod": "pd.DataFrame",
       "ref": "a896963b-483b-4567-ab48-e9c64bc7c192",
       "rows": [
        [
         "count",
         "1837",
         "166",
         "2003"
        ],
        [
         "All",
         "1837",
         "166",
         "2003"
        ]
       ],
       "shape": {
        "columns": 3,
        "rows": 2
       }
      },
      "text/html": [
       "<div>\n",
       "<style scoped>\n",
       "    .dataframe tbody tr th:only-of-type {\n",
       "        vertical-align: middle;\n",
       "    }\n",
       "\n",
       "    .dataframe tbody tr th {\n",
       "        vertical-align: top;\n",
       "    }\n",
       "\n",
       "    .dataframe thead th {\n",
       "        text-align: right;\n",
       "    }\n",
       "</style>\n",
       "<table border=\"1\" class=\"dataframe\">\n",
       "  <thead>\n",
       "    <tr style=\"text-align: right;\">\n",
       "      <th>id_bio_vacc_status</th>\n",
       "      <th>False</th>\n",
       "      <th>True</th>\n",
       "      <th>All</th>\n",
       "    </tr>\n",
       "    <tr>\n",
       "      <th>col_0</th>\n",
       "      <th></th>\n",
       "      <th></th>\n",
       "      <th></th>\n",
       "    </tr>\n",
       "  </thead>\n",
       "  <tbody>\n",
       "    <tr>\n",
       "      <th>count</th>\n",
       "      <td>1837</td>\n",
       "      <td>166</td>\n",
       "      <td>2003</td>\n",
       "    </tr>\n",
       "    <tr>\n",
       "      <th>All</th>\n",
       "      <td>1837</td>\n",
       "      <td>166</td>\n",
       "      <td>2003</td>\n",
       "    </tr>\n",
       "  </tbody>\n",
       "</table>\n",
       "</div>"
      ],
      "text/plain": [
       "id_bio_vacc_status  False  True   All\n",
       "col_0                                \n",
       "count                1837   166  2003\n",
       "All                  1837   166  2003"
      ]
     },
     "metadata": {},
     "output_type": "display_data"
    },
    {
     "data": {
      "application/vnd.microsoft.datawrangler.viewer.v0+json": {
       "columns": [
        {
         "name": "col_0",
         "rawType": "object",
         "type": "string"
        },
        {
         "name": "0",
         "rawType": "float64",
         "type": "float"
        },
        {
         "name": "1",
         "rawType": "float64",
         "type": "float"
        },
        {
         "name": "2",
         "rawType": "float64",
         "type": "float"
        }
       ],
       "conversionMethod": "pd.DataFrame",
       "ref": "559629be-de1c-44ca-98a6-68f8dfa02512",
       "rows": [
        [
         "% observations",
         "99.14914914914915",
         "0.7007007007007007",
         "0.15015015015015015"
        ]
       ],
       "shape": {
        "columns": 3,
        "rows": 1
       }
      },
      "text/html": [
       "<div>\n",
       "<style scoped>\n",
       "    .dataframe tbody tr th:only-of-type {\n",
       "        vertical-align: middle;\n",
       "    }\n",
       "\n",
       "    .dataframe tbody tr th {\n",
       "        vertical-align: top;\n",
       "    }\n",
       "\n",
       "    .dataframe thead th {\n",
       "        text-align: right;\n",
       "    }\n",
       "</style>\n",
       "<table border=\"1\" class=\"dataframe\">\n",
       "  <thead>\n",
       "    <tr style=\"text-align: right;\">\n",
       "      <th>id_psy_anxiety_sympt</th>\n",
       "      <th>0</th>\n",
       "      <th>1</th>\n",
       "      <th>2</th>\n",
       "    </tr>\n",
       "    <tr>\n",
       "      <th>col_0</th>\n",
       "      <th></th>\n",
       "      <th></th>\n",
       "      <th></th>\n",
       "    </tr>\n",
       "  </thead>\n",
       "  <tbody>\n",
       "    <tr>\n",
       "      <th>% observations</th>\n",
       "      <td>99.149149</td>\n",
       "      <td>0.700701</td>\n",
       "      <td>0.15015</td>\n",
       "    </tr>\n",
       "  </tbody>\n",
       "</table>\n",
       "</div>"
      ],
      "text/plain": [
       "id_psy_anxiety_sympt          0         1        2\n",
       "col_0                                             \n",
       "% observations        99.149149  0.700701  0.15015"
      ]
     },
     "metadata": {},
     "output_type": "display_data"
    },
    {
     "data": {
      "application/vnd.microsoft.datawrangler.viewer.v0+json": {
       "columns": [
        {
         "name": "col_0",
         "rawType": "object",
         "type": "string"
        },
        {
         "name": "0",
         "rawType": "int64",
         "type": "integer"
        },
        {
         "name": "1",
         "rawType": "int64",
         "type": "integer"
        },
        {
         "name": "2",
         "rawType": "int64",
         "type": "integer"
        },
        {
         "name": "All",
         "rawType": "int64",
         "type": "integer"
        }
       ],
       "conversionMethod": "pd.DataFrame",
       "ref": "48c40538-ff37-47cb-925f-ae22de22efe0",
       "rows": [
        [
         "count",
         "1981",
         "14",
         "3",
         "1998"
        ],
        [
         "All",
         "1981",
         "14",
         "3",
         "1998"
        ]
       ],
       "shape": {
        "columns": 4,
        "rows": 2
       }
      },
      "text/html": [
       "<div>\n",
       "<style scoped>\n",
       "    .dataframe tbody tr th:only-of-type {\n",
       "        vertical-align: middle;\n",
       "    }\n",
       "\n",
       "    .dataframe tbody tr th {\n",
       "        vertical-align: top;\n",
       "    }\n",
       "\n",
       "    .dataframe thead th {\n",
       "        text-align: right;\n",
       "    }\n",
       "</style>\n",
       "<table border=\"1\" class=\"dataframe\">\n",
       "  <thead>\n",
       "    <tr style=\"text-align: right;\">\n",
       "      <th>id_psy_anxiety_sympt</th>\n",
       "      <th>0</th>\n",
       "      <th>1</th>\n",
       "      <th>2</th>\n",
       "      <th>All</th>\n",
       "    </tr>\n",
       "    <tr>\n",
       "      <th>col_0</th>\n",
       "      <th></th>\n",
       "      <th></th>\n",
       "      <th></th>\n",
       "      <th></th>\n",
       "    </tr>\n",
       "  </thead>\n",
       "  <tbody>\n",
       "    <tr>\n",
       "      <th>count</th>\n",
       "      <td>1981</td>\n",
       "      <td>14</td>\n",
       "      <td>3</td>\n",
       "      <td>1998</td>\n",
       "    </tr>\n",
       "    <tr>\n",
       "      <th>All</th>\n",
       "      <td>1981</td>\n",
       "      <td>14</td>\n",
       "      <td>3</td>\n",
       "      <td>1998</td>\n",
       "    </tr>\n",
       "  </tbody>\n",
       "</table>\n",
       "</div>"
      ],
      "text/plain": [
       "id_psy_anxiety_sympt     0   1  2   All\n",
       "col_0                                  \n",
       "count                 1981  14  3  1998\n",
       "All                   1981  14  3  1998"
      ]
     },
     "metadata": {},
     "output_type": "display_data"
    },
    {
     "data": {
      "application/vnd.microsoft.datawrangler.viewer.v0+json": {
       "columns": [
        {
         "name": "col_0",
         "rawType": "object",
         "type": "string"
        },
        {
         "name": "False",
         "rawType": "float64",
         "type": "float"
        },
        {
         "name": "True",
         "rawType": "float64",
         "type": "float"
        }
       ],
       "conversionMethod": "pd.DataFrame",
       "ref": "95d63ad8-4d12-4b2b-b6bb-752b7b9c4287",
       "rows": [
        [
         "% observations",
         "84.12381427858213",
         "15.876185721417874"
        ]
       ],
       "shape": {
        "columns": 2,
        "rows": 1
       }
      },
      "text/html": [
       "<div>\n",
       "<style scoped>\n",
       "    .dataframe tbody tr th:only-of-type {\n",
       "        vertical-align: middle;\n",
       "    }\n",
       "\n",
       "    .dataframe tbody tr th {\n",
       "        vertical-align: top;\n",
       "    }\n",
       "\n",
       "    .dataframe thead th {\n",
       "        text-align: right;\n",
       "    }\n",
       "</style>\n",
       "<table border=\"1\" class=\"dataframe\">\n",
       "  <thead>\n",
       "    <tr style=\"text-align: right;\">\n",
       "      <th>sd_inc_income_problems</th>\n",
       "      <th>False</th>\n",
       "      <th>True</th>\n",
       "    </tr>\n",
       "    <tr>\n",
       "      <th>col_0</th>\n",
       "      <th></th>\n",
       "      <th></th>\n",
       "    </tr>\n",
       "  </thead>\n",
       "  <tbody>\n",
       "    <tr>\n",
       "      <th>% observations</th>\n",
       "      <td>84.123814</td>\n",
       "      <td>15.876186</td>\n",
       "    </tr>\n",
       "  </tbody>\n",
       "</table>\n",
       "</div>"
      ],
      "text/plain": [
       "sd_inc_income_problems      False      True \n",
       "col_0                                       \n",
       "% observations          84.123814  15.876186"
      ]
     },
     "metadata": {},
     "output_type": "display_data"
    },
    {
     "data": {
      "application/vnd.microsoft.datawrangler.viewer.v0+json": {
       "columns": [
        {
         "name": "col_0",
         "rawType": "object",
         "type": "string"
        },
        {
         "name": "False",
         "rawType": "int64",
         "type": "integer"
        },
        {
         "name": "True",
         "rawType": "int64",
         "type": "integer"
        },
        {
         "name": "All",
         "rawType": "int64",
         "type": "integer"
        }
       ],
       "conversionMethod": "pd.DataFrame",
       "ref": "ee5182ab-14d3-444d-8895-df3848da3da1",
       "rows": [
        [
         "count",
         "1685",
         "318",
         "2003"
        ],
        [
         "All",
         "1685",
         "318",
         "2003"
        ]
       ],
       "shape": {
        "columns": 3,
        "rows": 2
       }
      },
      "text/html": [
       "<div>\n",
       "<style scoped>\n",
       "    .dataframe tbody tr th:only-of-type {\n",
       "        vertical-align: middle;\n",
       "    }\n",
       "\n",
       "    .dataframe tbody tr th {\n",
       "        vertical-align: top;\n",
       "    }\n",
       "\n",
       "    .dataframe thead th {\n",
       "        text-align: right;\n",
       "    }\n",
       "</style>\n",
       "<table border=\"1\" class=\"dataframe\">\n",
       "  <thead>\n",
       "    <tr style=\"text-align: right;\">\n",
       "      <th>sd_inc_income_problems</th>\n",
       "      <th>False</th>\n",
       "      <th>True</th>\n",
       "      <th>All</th>\n",
       "    </tr>\n",
       "    <tr>\n",
       "      <th>col_0</th>\n",
       "      <th></th>\n",
       "      <th></th>\n",
       "      <th></th>\n",
       "    </tr>\n",
       "  </thead>\n",
       "  <tbody>\n",
       "    <tr>\n",
       "      <th>count</th>\n",
       "      <td>1685</td>\n",
       "      <td>318</td>\n",
       "      <td>2003</td>\n",
       "    </tr>\n",
       "    <tr>\n",
       "      <th>All</th>\n",
       "      <td>1685</td>\n",
       "      <td>318</td>\n",
       "      <td>2003</td>\n",
       "    </tr>\n",
       "  </tbody>\n",
       "</table>\n",
       "</div>"
      ],
      "text/plain": [
       "sd_inc_income_problems  False  True   All\n",
       "col_0                                    \n",
       "count                    1685   318  2003\n",
       "All                      1685   318  2003"
      ]
     },
     "metadata": {},
     "output_type": "display_data"
    },
    {
     "data": {
      "application/vnd.microsoft.datawrangler.viewer.v0+json": {
       "columns": [
        {
         "name": "col_0",
         "rawType": "object",
         "type": "string"
        },
        {
         "name": "0",
         "rawType": "float64",
         "type": "float"
        },
        {
         "name": "1",
         "rawType": "float64",
         "type": "float"
        },
        {
         "name": "2",
         "rawType": "float64",
         "type": "float"
        }
       ],
       "conversionMethod": "pd.DataFrame",
       "ref": "1c4266ea-11e0-4dc0-99de-612fe97771a4",
       "rows": [
        [
         "% observations",
         "18.32251622566151",
         "27.808287568647028",
         "53.86919620569146"
        ]
       ],
       "shape": {
        "columns": 3,
        "rows": 1
       }
      },
      "text/html": [
       "<div>\n",
       "<style scoped>\n",
       "    .dataframe tbody tr th:only-of-type {\n",
       "        vertical-align: middle;\n",
       "    }\n",
       "\n",
       "    .dataframe tbody tr th {\n",
       "        vertical-align: top;\n",
       "    }\n",
       "\n",
       "    .dataframe thead th {\n",
       "        text-align: right;\n",
       "    }\n",
       "</style>\n",
       "<table border=\"1\" class=\"dataframe\">\n",
       "  <thead>\n",
       "    <tr style=\"text-align: right;\">\n",
       "      <th>sd_inc_income_level</th>\n",
       "      <th>0</th>\n",
       "      <th>1</th>\n",
       "      <th>2</th>\n",
       "    </tr>\n",
       "    <tr>\n",
       "      <th>col_0</th>\n",
       "      <th></th>\n",
       "      <th></th>\n",
       "      <th></th>\n",
       "    </tr>\n",
       "  </thead>\n",
       "  <tbody>\n",
       "    <tr>\n",
       "      <th>% observations</th>\n",
       "      <td>18.322516</td>\n",
       "      <td>27.808288</td>\n",
       "      <td>53.869196</td>\n",
       "    </tr>\n",
       "  </tbody>\n",
       "</table>\n",
       "</div>"
      ],
      "text/plain": [
       "sd_inc_income_level          0          1          2\n",
       "col_0                                               \n",
       "% observations       18.322516  27.808288  53.869196"
      ]
     },
     "metadata": {},
     "output_type": "display_data"
    },
    {
     "data": {
      "application/vnd.microsoft.datawrangler.viewer.v0+json": {
       "columns": [
        {
         "name": "col_0",
         "rawType": "object",
         "type": "string"
        },
        {
         "name": "0",
         "rawType": "int64",
         "type": "integer"
        },
        {
         "name": "1",
         "rawType": "int64",
         "type": "integer"
        },
        {
         "name": "2",
         "rawType": "int64",
         "type": "integer"
        },
        {
         "name": "All",
         "rawType": "int64",
         "type": "integer"
        }
       ],
       "conversionMethod": "pd.DataFrame",
       "ref": "1c0c8d33-8039-47b7-acb0-2b02f1c77fd3",
       "rows": [
        [
         "count",
         "367",
         "557",
         "1079",
         "2003"
        ],
        [
         "All",
         "367",
         "557",
         "1079",
         "2003"
        ]
       ],
       "shape": {
        "columns": 4,
        "rows": 2
       }
      },
      "text/html": [
       "<div>\n",
       "<style scoped>\n",
       "    .dataframe tbody tr th:only-of-type {\n",
       "        vertical-align: middle;\n",
       "    }\n",
       "\n",
       "    .dataframe tbody tr th {\n",
       "        vertical-align: top;\n",
       "    }\n",
       "\n",
       "    .dataframe thead th {\n",
       "        text-align: right;\n",
       "    }\n",
       "</style>\n",
       "<table border=\"1\" class=\"dataframe\">\n",
       "  <thead>\n",
       "    <tr style=\"text-align: right;\">\n",
       "      <th>sd_inc_income_level</th>\n",
       "      <th>0</th>\n",
       "      <th>1</th>\n",
       "      <th>2</th>\n",
       "      <th>All</th>\n",
       "    </tr>\n",
       "    <tr>\n",
       "      <th>col_0</th>\n",
       "      <th></th>\n",
       "      <th></th>\n",
       "      <th></th>\n",
       "      <th></th>\n",
       "    </tr>\n",
       "  </thead>\n",
       "  <tbody>\n",
       "    <tr>\n",
       "      <th>count</th>\n",
       "      <td>367</td>\n",
       "      <td>557</td>\n",
       "      <td>1079</td>\n",
       "      <td>2003</td>\n",
       "    </tr>\n",
       "    <tr>\n",
       "      <th>All</th>\n",
       "      <td>367</td>\n",
       "      <td>557</td>\n",
       "      <td>1079</td>\n",
       "      <td>2003</td>\n",
       "    </tr>\n",
       "  </tbody>\n",
       "</table>\n",
       "</div>"
      ],
      "text/plain": [
       "sd_inc_income_level    0    1     2   All\n",
       "col_0                                    \n",
       "count                367  557  1079  2003\n",
       "All                  367  557  1079  2003"
      ]
     },
     "metadata": {},
     "output_type": "display_data"
    },
    {
     "data": {
      "application/vnd.microsoft.datawrangler.viewer.v0+json": {
       "columns": [
        {
         "name": "col_0",
         "rawType": "object",
         "type": "string"
        },
        {
         "name": "0",
         "rawType": "float64",
         "type": "float"
        },
        {
         "name": "1",
         "rawType": "float64",
         "type": "float"
        },
        {
         "name": "2",
         "rawType": "float64",
         "type": "float"
        }
       ],
       "conversionMethod": "pd.DataFrame",
       "ref": "9b626850-2b23-43e6-9d5c-a6f29d578b59",
       "rows": [
        [
         "% observations",
         "4.293559660509237",
         "10.434348477284074",
         "85.2720918622067"
        ]
       ],
       "shape": {
        "columns": 3,
        "rows": 1
       }
      },
      "text/html": [
       "<div>\n",
       "<style scoped>\n",
       "    .dataframe tbody tr th:only-of-type {\n",
       "        vertical-align: middle;\n",
       "    }\n",
       "\n",
       "    .dataframe tbody tr th {\n",
       "        vertical-align: top;\n",
       "    }\n",
       "\n",
       "    .dataframe thead th {\n",
       "        text-align: right;\n",
       "    }\n",
       "</style>\n",
       "<table border=\"1\" class=\"dataframe\">\n",
       "  <thead>\n",
       "    <tr style=\"text-align: right;\">\n",
       "      <th>sd_cul_holiday_season</th>\n",
       "      <th>0</th>\n",
       "      <th>1</th>\n",
       "      <th>2</th>\n",
       "    </tr>\n",
       "    <tr>\n",
       "      <th>col_0</th>\n",
       "      <th></th>\n",
       "      <th></th>\n",
       "      <th></th>\n",
       "    </tr>\n",
       "  </thead>\n",
       "  <tbody>\n",
       "    <tr>\n",
       "      <th>% observations</th>\n",
       "      <td>4.29356</td>\n",
       "      <td>10.434348</td>\n",
       "      <td>85.272092</td>\n",
       "    </tr>\n",
       "  </tbody>\n",
       "</table>\n",
       "</div>"
      ],
      "text/plain": [
       "sd_cul_holiday_season        0          1          2\n",
       "col_0                                               \n",
       "% observations         4.29356  10.434348  85.272092"
      ]
     },
     "metadata": {},
     "output_type": "display_data"
    },
    {
     "data": {
      "application/vnd.microsoft.datawrangler.viewer.v0+json": {
       "columns": [
        {
         "name": "col_0",
         "rawType": "object",
         "type": "string"
        },
        {
         "name": "0",
         "rawType": "int64",
         "type": "integer"
        },
        {
         "name": "1",
         "rawType": "int64",
         "type": "integer"
        },
        {
         "name": "2",
         "rawType": "int64",
         "type": "integer"
        },
        {
         "name": "All",
         "rawType": "int64",
         "type": "integer"
        }
       ],
       "conversionMethod": "pd.DataFrame",
       "ref": "049d0871-ed67-4224-afe5-8350e90cfdf1",
       "rows": [
        [
         "count",
         "86",
         "209",
         "1708",
         "2003"
        ],
        [
         "All",
         "86",
         "209",
         "1708",
         "2003"
        ]
       ],
       "shape": {
        "columns": 4,
        "rows": 2
       }
      },
      "text/html": [
       "<div>\n",
       "<style scoped>\n",
       "    .dataframe tbody tr th:only-of-type {\n",
       "        vertical-align: middle;\n",
       "    }\n",
       "\n",
       "    .dataframe tbody tr th {\n",
       "        vertical-align: top;\n",
       "    }\n",
       "\n",
       "    .dataframe thead th {\n",
       "        text-align: right;\n",
       "    }\n",
       "</style>\n",
       "<table border=\"1\" class=\"dataframe\">\n",
       "  <thead>\n",
       "    <tr style=\"text-align: right;\">\n",
       "      <th>sd_cul_holiday_season</th>\n",
       "      <th>0</th>\n",
       "      <th>1</th>\n",
       "      <th>2</th>\n",
       "      <th>All</th>\n",
       "    </tr>\n",
       "    <tr>\n",
       "      <th>col_0</th>\n",
       "      <th></th>\n",
       "      <th></th>\n",
       "      <th></th>\n",
       "      <th></th>\n",
       "    </tr>\n",
       "  </thead>\n",
       "  <tbody>\n",
       "    <tr>\n",
       "      <th>count</th>\n",
       "      <td>86</td>\n",
       "      <td>209</td>\n",
       "      <td>1708</td>\n",
       "      <td>2003</td>\n",
       "    </tr>\n",
       "    <tr>\n",
       "      <th>All</th>\n",
       "      <td>86</td>\n",
       "      <td>209</td>\n",
       "      <td>1708</td>\n",
       "      <td>2003</td>\n",
       "    </tr>\n",
       "  </tbody>\n",
       "</table>\n",
       "</div>"
      ],
      "text/plain": [
       "sd_cul_holiday_season   0    1     2   All\n",
       "col_0                                     \n",
       "count                  86  209  1708  2003\n",
       "All                    86  209  1708  2003"
      ]
     },
     "metadata": {},
     "output_type": "display_data"
    },
    {
     "data": {
      "application/vnd.microsoft.datawrangler.viewer.v0+json": {
       "columns": [
        {
         "name": "col_0",
         "rawType": "object",
         "type": "string"
        },
        {
         "name": "False",
         "rawType": "float64",
         "type": "float"
        },
        {
         "name": "True",
         "rawType": "float64",
         "type": "float"
        }
       ],
       "conversionMethod": "pd.DataFrame",
       "ref": "4084e9dd-29bb-426e-b78a-2e1aea82c2b5",
       "rows": [
        [
         "% observations",
         "53.71942086869696",
         "46.28057913130304"
        ]
       ],
       "shape": {
        "columns": 2,
        "rows": 1
       }
      },
      "text/html": [
       "<div>\n",
       "<style scoped>\n",
       "    .dataframe tbody tr th:only-of-type {\n",
       "        vertical-align: middle;\n",
       "    }\n",
       "\n",
       "    .dataframe tbody tr th {\n",
       "        vertical-align: top;\n",
       "    }\n",
       "\n",
       "    .dataframe thead th {\n",
       "        text-align: right;\n",
       "    }\n",
       "</style>\n",
       "<table border=\"1\" class=\"dataframe\">\n",
       "  <thead>\n",
       "    <tr style=\"text-align: right;\">\n",
       "      <th>id_bio_gender</th>\n",
       "      <th>False</th>\n",
       "      <th>True</th>\n",
       "    </tr>\n",
       "    <tr>\n",
       "      <th>col_0</th>\n",
       "      <th></th>\n",
       "      <th></th>\n",
       "    </tr>\n",
       "  </thead>\n",
       "  <tbody>\n",
       "    <tr>\n",
       "      <th>% observations</th>\n",
       "      <td>53.719421</td>\n",
       "      <td>46.280579</td>\n",
       "    </tr>\n",
       "  </tbody>\n",
       "</table>\n",
       "</div>"
      ],
      "text/plain": [
       "id_bio_gender       False      True \n",
       "col_0                               \n",
       "% observations  53.719421  46.280579"
      ]
     },
     "metadata": {},
     "output_type": "display_data"
    },
    {
     "data": {
      "application/vnd.microsoft.datawrangler.viewer.v0+json": {
       "columns": [
        {
         "name": "col_0",
         "rawType": "object",
         "type": "string"
        },
        {
         "name": "False",
         "rawType": "int64",
         "type": "integer"
        },
        {
         "name": "True",
         "rawType": "int64",
         "type": "integer"
        },
        {
         "name": "All",
         "rawType": "int64",
         "type": "integer"
        }
       ],
       "conversionMethod": "pd.DataFrame",
       "ref": "6462988b-30ac-405e-a739-039f6c8a0905",
       "rows": [
        [
         "count",
         "1076",
         "927",
         "2003"
        ],
        [
         "All",
         "1076",
         "927",
         "2003"
        ]
       ],
       "shape": {
        "columns": 3,
        "rows": 2
       }
      },
      "text/html": [
       "<div>\n",
       "<style scoped>\n",
       "    .dataframe tbody tr th:only-of-type {\n",
       "        vertical-align: middle;\n",
       "    }\n",
       "\n",
       "    .dataframe tbody tr th {\n",
       "        vertical-align: top;\n",
       "    }\n",
       "\n",
       "    .dataframe thead th {\n",
       "        text-align: right;\n",
       "    }\n",
       "</style>\n",
       "<table border=\"1\" class=\"dataframe\">\n",
       "  <thead>\n",
       "    <tr style=\"text-align: right;\">\n",
       "      <th>id_bio_gender</th>\n",
       "      <th>False</th>\n",
       "      <th>True</th>\n",
       "      <th>All</th>\n",
       "    </tr>\n",
       "    <tr>\n",
       "      <th>col_0</th>\n",
       "      <th></th>\n",
       "      <th></th>\n",
       "      <th></th>\n",
       "    </tr>\n",
       "  </thead>\n",
       "  <tbody>\n",
       "    <tr>\n",
       "      <th>count</th>\n",
       "      <td>1076</td>\n",
       "      <td>927</td>\n",
       "      <td>2003</td>\n",
       "    </tr>\n",
       "    <tr>\n",
       "      <th>All</th>\n",
       "      <td>1076</td>\n",
       "      <td>927</td>\n",
       "      <td>2003</td>\n",
       "    </tr>\n",
       "  </tbody>\n",
       "</table>\n",
       "</div>"
      ],
      "text/plain": [
       "id_bio_gender  False  True   All\n",
       "col_0                           \n",
       "count           1076   927  2003\n",
       "All             1076   927  2003"
      ]
     },
     "metadata": {},
     "output_type": "display_data"
    },
    {
     "data": {
      "application/vnd.microsoft.datawrangler.viewer.v0+json": {
       "columns": [
        {
         "name": "col_0",
         "rawType": "object",
         "type": "string"
        },
        {
         "name": "0",
         "rawType": "float64",
         "type": "float"
        },
        {
         "name": "1",
         "rawType": "float64",
         "type": "float"
        },
        {
         "name": "2",
         "rawType": "float64",
         "type": "float"
        }
       ],
       "conversionMethod": "pd.DataFrame",
       "ref": "b0038e4a-94ca-44ba-b4c0-81edebc6da32",
       "rows": [
        [
         "% observations",
         "38.841737393909135",
         "38.1427858212681",
         "23.015476784822766"
        ]
       ],
       "shape": {
        "columns": 3,
        "rows": 1
       }
      },
      "text/html": [
       "<div>\n",
       "<style scoped>\n",
       "    .dataframe tbody tr th:only-of-type {\n",
       "        vertical-align: middle;\n",
       "    }\n",
       "\n",
       "    .dataframe tbody tr th {\n",
       "        vertical-align: top;\n",
       "    }\n",
       "\n",
       "    .dataframe thead th {\n",
       "        text-align: right;\n",
       "    }\n",
       "</style>\n",
       "<table border=\"1\" class=\"dataframe\">\n",
       "  <thead>\n",
       "    <tr style=\"text-align: right;\">\n",
       "      <th>sd_edu_level</th>\n",
       "      <th>0</th>\n",
       "      <th>1</th>\n",
       "      <th>2</th>\n",
       "    </tr>\n",
       "    <tr>\n",
       "      <th>col_0</th>\n",
       "      <th></th>\n",
       "      <th></th>\n",
       "      <th></th>\n",
       "    </tr>\n",
       "  </thead>\n",
       "  <tbody>\n",
       "    <tr>\n",
       "      <th>% observations</th>\n",
       "      <td>38.841737</td>\n",
       "      <td>38.142786</td>\n",
       "      <td>23.015477</td>\n",
       "    </tr>\n",
       "  </tbody>\n",
       "</table>\n",
       "</div>"
      ],
      "text/plain": [
       "sd_edu_level            0          1          2\n",
       "col_0                                          \n",
       "% observations  38.841737  38.142786  23.015477"
      ]
     },
     "metadata": {},
     "output_type": "display_data"
    },
    {
     "data": {
      "application/vnd.microsoft.datawrangler.viewer.v0+json": {
       "columns": [
        {
         "name": "col_0",
         "rawType": "object",
         "type": "string"
        },
        {
         "name": "0",
         "rawType": "int64",
         "type": "integer"
        },
        {
         "name": "1",
         "rawType": "int64",
         "type": "integer"
        },
        {
         "name": "2",
         "rawType": "int64",
         "type": "integer"
        },
        {
         "name": "All",
         "rawType": "int64",
         "type": "integer"
        }
       ],
       "conversionMethod": "pd.DataFrame",
       "ref": "f159f26f-76ae-4b4d-beb6-fb79043698c8",
       "rows": [
        [
         "count",
         "778",
         "764",
         "461",
         "2003"
        ],
        [
         "All",
         "778",
         "764",
         "461",
         "2003"
        ]
       ],
       "shape": {
        "columns": 4,
        "rows": 2
       }
      },
      "text/html": [
       "<div>\n",
       "<style scoped>\n",
       "    .dataframe tbody tr th:only-of-type {\n",
       "        vertical-align: middle;\n",
       "    }\n",
       "\n",
       "    .dataframe tbody tr th {\n",
       "        vertical-align: top;\n",
       "    }\n",
       "\n",
       "    .dataframe thead th {\n",
       "        text-align: right;\n",
       "    }\n",
       "</style>\n",
       "<table border=\"1\" class=\"dataframe\">\n",
       "  <thead>\n",
       "    <tr style=\"text-align: right;\">\n",
       "      <th>sd_edu_level</th>\n",
       "      <th>0</th>\n",
       "      <th>1</th>\n",
       "      <th>2</th>\n",
       "      <th>All</th>\n",
       "    </tr>\n",
       "    <tr>\n",
       "      <th>col_0</th>\n",
       "      <th></th>\n",
       "      <th></th>\n",
       "      <th></th>\n",
       "      <th></th>\n",
       "    </tr>\n",
       "  </thead>\n",
       "  <tbody>\n",
       "    <tr>\n",
       "      <th>count</th>\n",
       "      <td>778</td>\n",
       "      <td>764</td>\n",
       "      <td>461</td>\n",
       "      <td>2003</td>\n",
       "    </tr>\n",
       "    <tr>\n",
       "      <th>All</th>\n",
       "      <td>778</td>\n",
       "      <td>764</td>\n",
       "      <td>461</td>\n",
       "      <td>2003</td>\n",
       "    </tr>\n",
       "  </tbody>\n",
       "</table>\n",
       "</div>"
      ],
      "text/plain": [
       "sd_edu_level    0    1    2   All\n",
       "col_0                            \n",
       "count         778  764  461  2003\n",
       "All           778  764  461  2003"
      ]
     },
     "metadata": {},
     "output_type": "display_data"
    },
    {
     "data": {
      "application/vnd.microsoft.datawrangler.viewer.v0+json": {
       "columns": [
        {
         "name": "col_0",
         "rawType": "object",
         "type": "string"
        },
        {
         "name": "False",
         "rawType": "float64",
         "type": "float"
        },
        {
         "name": "True",
         "rawType": "float64",
         "type": "float"
        }
       ],
       "conversionMethod": "pd.DataFrame",
       "ref": "8a1069c2-4d33-42ec-a41d-e51ba6288786",
       "rows": [
        [
         "% observations",
         "31.352970544183723",
         "68.64702945581628"
        ]
       ],
       "shape": {
        "columns": 2,
        "rows": 1
       }
      },
      "text/html": [
       "<div>\n",
       "<style scoped>\n",
       "    .dataframe tbody tr th:only-of-type {\n",
       "        vertical-align: middle;\n",
       "    }\n",
       "\n",
       "    .dataframe tbody tr th {\n",
       "        vertical-align: top;\n",
       "    }\n",
       "\n",
       "    .dataframe thead th {\n",
       "        text-align: right;\n",
       "    }\n",
       "</style>\n",
       "<table border=\"1\" class=\"dataframe\">\n",
       "  <thead>\n",
       "    <tr style=\"text-align: right;\">\n",
       "      <th>sd_occ_current_job</th>\n",
       "      <th>False</th>\n",
       "      <th>True</th>\n",
       "    </tr>\n",
       "    <tr>\n",
       "      <th>col_0</th>\n",
       "      <th></th>\n",
       "      <th></th>\n",
       "    </tr>\n",
       "  </thead>\n",
       "  <tbody>\n",
       "    <tr>\n",
       "      <th>% observations</th>\n",
       "      <td>31.352971</td>\n",
       "      <td>68.647029</td>\n",
       "    </tr>\n",
       "  </tbody>\n",
       "</table>\n",
       "</div>"
      ],
      "text/plain": [
       "sd_occ_current_job      False      True \n",
       "col_0                                   \n",
       "% observations      31.352971  68.647029"
      ]
     },
     "metadata": {},
     "output_type": "display_data"
    },
    {
     "data": {
      "application/vnd.microsoft.datawrangler.viewer.v0+json": {
       "columns": [
        {
         "name": "col_0",
         "rawType": "object",
         "type": "string"
        },
        {
         "name": "False",
         "rawType": "int64",
         "type": "integer"
        },
        {
         "name": "True",
         "rawType": "int64",
         "type": "integer"
        },
        {
         "name": "All",
         "rawType": "int64",
         "type": "integer"
        }
       ],
       "conversionMethod": "pd.DataFrame",
       "ref": "b39b9410-bc18-429e-b013-a1db49a97ada",
       "rows": [
        [
         "count",
         "628",
         "1375",
         "2003"
        ],
        [
         "All",
         "628",
         "1375",
         "2003"
        ]
       ],
       "shape": {
        "columns": 3,
        "rows": 2
       }
      },
      "text/html": [
       "<div>\n",
       "<style scoped>\n",
       "    .dataframe tbody tr th:only-of-type {\n",
       "        vertical-align: middle;\n",
       "    }\n",
       "\n",
       "    .dataframe tbody tr th {\n",
       "        vertical-align: top;\n",
       "    }\n",
       "\n",
       "    .dataframe thead th {\n",
       "        text-align: right;\n",
       "    }\n",
       "</style>\n",
       "<table border=\"1\" class=\"dataframe\">\n",
       "  <thead>\n",
       "    <tr style=\"text-align: right;\">\n",
       "      <th>sd_occ_current_job</th>\n",
       "      <th>False</th>\n",
       "      <th>True</th>\n",
       "      <th>All</th>\n",
       "    </tr>\n",
       "    <tr>\n",
       "      <th>col_0</th>\n",
       "      <th></th>\n",
       "      <th></th>\n",
       "      <th></th>\n",
       "    </tr>\n",
       "  </thead>\n",
       "  <tbody>\n",
       "    <tr>\n",
       "      <th>count</th>\n",
       "      <td>628</td>\n",
       "      <td>1375</td>\n",
       "      <td>2003</td>\n",
       "    </tr>\n",
       "    <tr>\n",
       "      <th>All</th>\n",
       "      <td>628</td>\n",
       "      <td>1375</td>\n",
       "      <td>2003</td>\n",
       "    </tr>\n",
       "  </tbody>\n",
       "</table>\n",
       "</div>"
      ],
      "text/plain": [
       "sd_occ_current_job  False  True   All\n",
       "col_0                                \n",
       "count                 628  1375  2003\n",
       "All                   628  1375  2003"
      ]
     },
     "metadata": {},
     "output_type": "display_data"
    },
    {
     "data": {
      "application/vnd.microsoft.datawrangler.viewer.v0+json": {
       "columns": [
        {
         "name": "col_0",
         "rawType": "object",
         "type": "string"
        },
        {
         "name": "False",
         "rawType": "float64",
         "type": "float"
        },
        {
         "name": "True",
         "rawType": "float64",
         "type": "float"
        }
       ],
       "conversionMethod": "pd.DataFrame",
       "ref": "8e35c112-6cbf-4a36-8aa0-e0143f4003e0",
       "rows": [
        [
         "% observations",
         "11.832251622566151",
         "88.16774837743385"
        ]
       ],
       "shape": {
        "columns": 2,
        "rows": 1
       }
      },
      "text/html": [
       "<div>\n",
       "<style scoped>\n",
       "    .dataframe tbody tr th:only-of-type {\n",
       "        vertical-align: middle;\n",
       "    }\n",
       "\n",
       "    .dataframe tbody tr th {\n",
       "        vertical-align: top;\n",
       "    }\n",
       "\n",
       "    .dataframe thead th {\n",
       "        text-align: right;\n",
       "    }\n",
       "</style>\n",
       "<table border=\"1\" class=\"dataframe\">\n",
       "  <thead>\n",
       "    <tr style=\"text-align: right;\">\n",
       "      <th>sd_eth_is_costa_rican</th>\n",
       "      <th>False</th>\n",
       "      <th>True</th>\n",
       "    </tr>\n",
       "    <tr>\n",
       "      <th>col_0</th>\n",
       "      <th></th>\n",
       "      <th></th>\n",
       "    </tr>\n",
       "  </thead>\n",
       "  <tbody>\n",
       "    <tr>\n",
       "      <th>% observations</th>\n",
       "      <td>11.832252</td>\n",
       "      <td>88.167748</td>\n",
       "    </tr>\n",
       "  </tbody>\n",
       "</table>\n",
       "</div>"
      ],
      "text/plain": [
       "sd_eth_is_costa_rican      False      True \n",
       "col_0                                      \n",
       "% observations         11.832252  88.167748"
      ]
     },
     "metadata": {},
     "output_type": "display_data"
    },
    {
     "data": {
      "application/vnd.microsoft.datawrangler.viewer.v0+json": {
       "columns": [
        {
         "name": "col_0",
         "rawType": "object",
         "type": "string"
        },
        {
         "name": "False",
         "rawType": "int64",
         "type": "integer"
        },
        {
         "name": "True",
         "rawType": "int64",
         "type": "integer"
        },
        {
         "name": "All",
         "rawType": "int64",
         "type": "integer"
        }
       ],
       "conversionMethod": "pd.DataFrame",
       "ref": "304513da-9744-4723-82ec-81ae4f3c7b66",
       "rows": [
        [
         "count",
         "237",
         "1766",
         "2003"
        ],
        [
         "All",
         "237",
         "1766",
         "2003"
        ]
       ],
       "shape": {
        "columns": 3,
        "rows": 2
       }
      },
      "text/html": [
       "<div>\n",
       "<style scoped>\n",
       "    .dataframe tbody tr th:only-of-type {\n",
       "        vertical-align: middle;\n",
       "    }\n",
       "\n",
       "    .dataframe tbody tr th {\n",
       "        vertical-align: top;\n",
       "    }\n",
       "\n",
       "    .dataframe thead th {\n",
       "        text-align: right;\n",
       "    }\n",
       "</style>\n",
       "<table border=\"1\" class=\"dataframe\">\n",
       "  <thead>\n",
       "    <tr style=\"text-align: right;\">\n",
       "      <th>sd_eth_is_costa_rican</th>\n",
       "      <th>False</th>\n",
       "      <th>True</th>\n",
       "      <th>All</th>\n",
       "    </tr>\n",
       "    <tr>\n",
       "      <th>col_0</th>\n",
       "      <th></th>\n",
       "      <th></th>\n",
       "      <th></th>\n",
       "    </tr>\n",
       "  </thead>\n",
       "  <tbody>\n",
       "    <tr>\n",
       "      <th>count</th>\n",
       "      <td>237</td>\n",
       "      <td>1766</td>\n",
       "      <td>2003</td>\n",
       "    </tr>\n",
       "    <tr>\n",
       "      <th>All</th>\n",
       "      <td>237</td>\n",
       "      <td>1766</td>\n",
       "      <td>2003</td>\n",
       "    </tr>\n",
       "  </tbody>\n",
       "</table>\n",
       "</div>"
      ],
      "text/plain": [
       "sd_eth_is_costa_rican  False  True   All\n",
       "col_0                                   \n",
       "count                    237  1766  2003\n",
       "All                      237  1766  2003"
      ]
     },
     "metadata": {},
     "output_type": "display_data"
    },
    {
     "data": {
      "application/vnd.microsoft.datawrangler.viewer.v0+json": {
       "columns": [
        {
         "name": "col_0",
         "rawType": "object",
         "type": "string"
        },
        {
         "name": "False",
         "rawType": "float64",
         "type": "float"
        },
        {
         "name": "True",
         "rawType": "float64",
         "type": "float"
        }
       ],
       "conversionMethod": "pd.DataFrame",
       "ref": "b51aa417-f20e-4fc2-a2c5-2a06855d058d",
       "rows": [
        [
         "% observations",
         "60.85871193210185",
         "39.14128806789815"
        ]
       ],
       "shape": {
        "columns": 2,
        "rows": 1
       }
      },
      "text/html": [
       "<div>\n",
       "<style scoped>\n",
       "    .dataframe tbody tr th:only-of-type {\n",
       "        vertical-align: middle;\n",
       "    }\n",
       "\n",
       "    .dataframe tbody tr th {\n",
       "        vertical-align: top;\n",
       "    }\n",
       "\n",
       "    .dataframe thead th {\n",
       "        text-align: right;\n",
       "    }\n",
       "</style>\n",
       "<table border=\"1\" class=\"dataframe\">\n",
       "  <thead>\n",
       "    <tr style=\"text-align: right;\">\n",
       "      <th>id_bio_comorbidities</th>\n",
       "      <th>False</th>\n",
       "      <th>True</th>\n",
       "    </tr>\n",
       "    <tr>\n",
       "      <th>col_0</th>\n",
       "      <th></th>\n",
       "      <th></th>\n",
       "    </tr>\n",
       "  </thead>\n",
       "  <tbody>\n",
       "    <tr>\n",
       "      <th>% observations</th>\n",
       "      <td>60.858712</td>\n",
       "      <td>39.141288</td>\n",
       "    </tr>\n",
       "  </tbody>\n",
       "</table>\n",
       "</div>"
      ],
      "text/plain": [
       "id_bio_comorbidities      False      True \n",
       "col_0                                     \n",
       "% observations        60.858712  39.141288"
      ]
     },
     "metadata": {},
     "output_type": "display_data"
    },
    {
     "data": {
      "application/vnd.microsoft.datawrangler.viewer.v0+json": {
       "columns": [
        {
         "name": "col_0",
         "rawType": "object",
         "type": "string"
        },
        {
         "name": "False",
         "rawType": "int64",
         "type": "integer"
        },
        {
         "name": "True",
         "rawType": "int64",
         "type": "integer"
        },
        {
         "name": "All",
         "rawType": "int64",
         "type": "integer"
        }
       ],
       "conversionMethod": "pd.DataFrame",
       "ref": "aa0eb8fc-744f-4580-a8f7-182cb371fbaa",
       "rows": [
        [
         "count",
         "1219",
         "784",
         "2003"
        ],
        [
         "All",
         "1219",
         "784",
         "2003"
        ]
       ],
       "shape": {
        "columns": 3,
        "rows": 2
       }
      },
      "text/html": [
       "<div>\n",
       "<style scoped>\n",
       "    .dataframe tbody tr th:only-of-type {\n",
       "        vertical-align: middle;\n",
       "    }\n",
       "\n",
       "    .dataframe tbody tr th {\n",
       "        vertical-align: top;\n",
       "    }\n",
       "\n",
       "    .dataframe thead th {\n",
       "        text-align: right;\n",
       "    }\n",
       "</style>\n",
       "<table border=\"1\" class=\"dataframe\">\n",
       "  <thead>\n",
       "    <tr style=\"text-align: right;\">\n",
       "      <th>id_bio_comorbidities</th>\n",
       "      <th>False</th>\n",
       "      <th>True</th>\n",
       "      <th>All</th>\n",
       "    </tr>\n",
       "    <tr>\n",
       "      <th>col_0</th>\n",
       "      <th></th>\n",
       "      <th></th>\n",
       "      <th></th>\n",
       "    </tr>\n",
       "  </thead>\n",
       "  <tbody>\n",
       "    <tr>\n",
       "      <th>count</th>\n",
       "      <td>1219</td>\n",
       "      <td>784</td>\n",
       "      <td>2003</td>\n",
       "    </tr>\n",
       "    <tr>\n",
       "      <th>All</th>\n",
       "      <td>1219</td>\n",
       "      <td>784</td>\n",
       "      <td>2003</td>\n",
       "    </tr>\n",
       "  </tbody>\n",
       "</table>\n",
       "</div>"
      ],
      "text/plain": [
       "id_bio_comorbidities  False  True   All\n",
       "col_0                                  \n",
       "count                  1219   784  2003\n",
       "All                    1219   784  2003"
      ]
     },
     "metadata": {},
     "output_type": "display_data"
    },
    {
     "data": {
      "application/vnd.microsoft.datawrangler.viewer.v0+json": {
       "columns": [
        {
         "name": "col_0",
         "rawType": "object",
         "type": "string"
        },
        {
         "name": "False",
         "rawType": "float64",
         "type": "float"
        },
        {
         "name": "True",
         "rawType": "float64",
         "type": "float"
        }
       ],
       "conversionMethod": "pd.DataFrame",
       "ref": "08cc78e4-f000-4088-ab1a-214e290f5f47",
       "rows": [
        [
         "% observations",
         "49.57563654518223",
         "50.42436345481778"
        ]
       ],
       "shape": {
        "columns": 2,
        "rows": 1
       }
      },
      "text/html": [
       "<div>\n",
       "<style scoped>\n",
       "    .dataframe tbody tr th:only-of-type {\n",
       "        vertical-align: middle;\n",
       "    }\n",
       "\n",
       "    .dataframe tbody tr th {\n",
       "        vertical-align: top;\n",
       "    }\n",
       "\n",
       "    .dataframe thead th {\n",
       "        text-align: right;\n",
       "    }\n",
       "</style>\n",
       "<table border=\"1\" class=\"dataframe\">\n",
       "  <thead>\n",
       "    <tr style=\"text-align: right;\">\n",
       "      <th>sd_cul_religion</th>\n",
       "      <th>False</th>\n",
       "      <th>True</th>\n",
       "    </tr>\n",
       "    <tr>\n",
       "      <th>col_0</th>\n",
       "      <th></th>\n",
       "      <th></th>\n",
       "    </tr>\n",
       "  </thead>\n",
       "  <tbody>\n",
       "    <tr>\n",
       "      <th>% observations</th>\n",
       "      <td>49.575637</td>\n",
       "      <td>50.424363</td>\n",
       "    </tr>\n",
       "  </tbody>\n",
       "</table>\n",
       "</div>"
      ],
      "text/plain": [
       "sd_cul_religion      False      True \n",
       "col_0                                \n",
       "% observations   49.575637  50.424363"
      ]
     },
     "metadata": {},
     "output_type": "display_data"
    },
    {
     "data": {
      "application/vnd.microsoft.datawrangler.viewer.v0+json": {
       "columns": [
        {
         "name": "col_0",
         "rawType": "object",
         "type": "string"
        },
        {
         "name": "False",
         "rawType": "int64",
         "type": "integer"
        },
        {
         "name": "True",
         "rawType": "int64",
         "type": "integer"
        },
        {
         "name": "All",
         "rawType": "int64",
         "type": "integer"
        }
       ],
       "conversionMethod": "pd.DataFrame",
       "ref": "7639d7e3-e77b-4c2e-8f08-98130db5ceb9",
       "rows": [
        [
         "count",
         "993",
         "1010",
         "2003"
        ],
        [
         "All",
         "993",
         "1010",
         "2003"
        ]
       ],
       "shape": {
        "columns": 3,
        "rows": 2
       }
      },
      "text/html": [
       "<div>\n",
       "<style scoped>\n",
       "    .dataframe tbody tr th:only-of-type {\n",
       "        vertical-align: middle;\n",
       "    }\n",
       "\n",
       "    .dataframe tbody tr th {\n",
       "        vertical-align: top;\n",
       "    }\n",
       "\n",
       "    .dataframe thead th {\n",
       "        text-align: right;\n",
       "    }\n",
       "</style>\n",
       "<table border=\"1\" class=\"dataframe\">\n",
       "  <thead>\n",
       "    <tr style=\"text-align: right;\">\n",
       "      <th>sd_cul_religion</th>\n",
       "      <th>False</th>\n",
       "      <th>True</th>\n",
       "      <th>All</th>\n",
       "    </tr>\n",
       "    <tr>\n",
       "      <th>col_0</th>\n",
       "      <th></th>\n",
       "      <th></th>\n",
       "      <th></th>\n",
       "    </tr>\n",
       "  </thead>\n",
       "  <tbody>\n",
       "    <tr>\n",
       "      <th>count</th>\n",
       "      <td>993</td>\n",
       "      <td>1010</td>\n",
       "      <td>2003</td>\n",
       "    </tr>\n",
       "    <tr>\n",
       "      <th>All</th>\n",
       "      <td>993</td>\n",
       "      <td>1010</td>\n",
       "      <td>2003</td>\n",
       "    </tr>\n",
       "  </tbody>\n",
       "</table>\n",
       "</div>"
      ],
      "text/plain": [
       "sd_cul_religion  False  True   All\n",
       "col_0                             \n",
       "count              993  1010  2003\n",
       "All                993  1010  2003"
      ]
     },
     "metadata": {},
     "output_type": "display_data"
    },
    {
     "data": {
      "application/vnd.microsoft.datawrangler.viewer.v0+json": {
       "columns": [
        {
         "name": "col_0",
         "rawType": "object",
         "type": "string"
        },
        {
         "name": "False",
         "rawType": "float64",
         "type": "float"
        },
        {
         "name": "True",
         "rawType": "float64",
         "type": "float"
        }
       ],
       "conversionMethod": "pd.DataFrame",
       "ref": "fc0386c7-8ad7-408e-a0d2-8e32cf0cd01b",
       "rows": [
        [
         "% observations",
         "91.71243135297054",
         "8.287568647029456"
        ]
       ],
       "shape": {
        "columns": 2,
        "rows": 1
       }
      },
      "text/html": [
       "<div>\n",
       "<style scoped>\n",
       "    .dataframe tbody tr th:only-of-type {\n",
       "        vertical-align: middle;\n",
       "    }\n",
       "\n",
       "    .dataframe tbody tr th {\n",
       "        vertical-align: top;\n",
       "    }\n",
       "\n",
       "    .dataframe thead th {\n",
       "        text-align: right;\n",
       "    }\n",
       "</style>\n",
       "<table border=\"1\" class=\"dataframe\">\n",
       "  <thead>\n",
       "    <tr style=\"text-align: right;\">\n",
       "      <th>id_bio_disability</th>\n",
       "      <th>False</th>\n",
       "      <th>True</th>\n",
       "    </tr>\n",
       "    <tr>\n",
       "      <th>col_0</th>\n",
       "      <th></th>\n",
       "      <th></th>\n",
       "    </tr>\n",
       "  </thead>\n",
       "  <tbody>\n",
       "    <tr>\n",
       "      <th>% observations</th>\n",
       "      <td>91.712431</td>\n",
       "      <td>8.287569</td>\n",
       "    </tr>\n",
       "  </tbody>\n",
       "</table>\n",
       "</div>"
      ],
      "text/plain": [
       "id_bio_disability      False     True \n",
       "col_0                                 \n",
       "% observations     91.712431  8.287569"
      ]
     },
     "metadata": {},
     "output_type": "display_data"
    },
    {
     "data": {
      "application/vnd.microsoft.datawrangler.viewer.v0+json": {
       "columns": [
        {
         "name": "col_0",
         "rawType": "object",
         "type": "string"
        },
        {
         "name": "False",
         "rawType": "int64",
         "type": "integer"
        },
        {
         "name": "True",
         "rawType": "int64",
         "type": "integer"
        },
        {
         "name": "All",
         "rawType": "int64",
         "type": "integer"
        }
       ],
       "conversionMethod": "pd.DataFrame",
       "ref": "20b225d1-1ef5-4271-9d9e-c95df4d1b7b9",
       "rows": [
        [
         "count",
         "1837",
         "166",
         "2003"
        ],
        [
         "All",
         "1837",
         "166",
         "2003"
        ]
       ],
       "shape": {
        "columns": 3,
        "rows": 2
       }
      },
      "text/html": [
       "<div>\n",
       "<style scoped>\n",
       "    .dataframe tbody tr th:only-of-type {\n",
       "        vertical-align: middle;\n",
       "    }\n",
       "\n",
       "    .dataframe tbody tr th {\n",
       "        vertical-align: top;\n",
       "    }\n",
       "\n",
       "    .dataframe thead th {\n",
       "        text-align: right;\n",
       "    }\n",
       "</style>\n",
       "<table border=\"1\" class=\"dataframe\">\n",
       "  <thead>\n",
       "    <tr style=\"text-align: right;\">\n",
       "      <th>id_bio_disability</th>\n",
       "      <th>False</th>\n",
       "      <th>True</th>\n",
       "      <th>All</th>\n",
       "    </tr>\n",
       "    <tr>\n",
       "      <th>col_0</th>\n",
       "      <th></th>\n",
       "      <th></th>\n",
       "      <th></th>\n",
       "    </tr>\n",
       "  </thead>\n",
       "  <tbody>\n",
       "    <tr>\n",
       "      <th>count</th>\n",
       "      <td>1837</td>\n",
       "      <td>166</td>\n",
       "      <td>2003</td>\n",
       "    </tr>\n",
       "    <tr>\n",
       "      <th>All</th>\n",
       "      <td>1837</td>\n",
       "      <td>166</td>\n",
       "      <td>2003</td>\n",
       "    </tr>\n",
       "  </tbody>\n",
       "</table>\n",
       "</div>"
      ],
      "text/plain": [
       "id_bio_disability  False  True   All\n",
       "col_0                               \n",
       "count               1837   166  2003\n",
       "All                 1837   166  2003"
      ]
     },
     "metadata": {},
     "output_type": "display_data"
    },
    {
     "data": {
      "application/vnd.microsoft.datawrangler.viewer.v0+json": {
       "columns": [
        {
         "name": "index",
         "rawType": "object",
         "type": "string"
        },
        {
         "name": "count",
         "rawType": "float64",
         "type": "float"
        },
        {
         "name": "mean",
         "rawType": "float64",
         "type": "float"
        },
        {
         "name": "std",
         "rawType": "float64",
         "type": "float"
        },
        {
         "name": "min",
         "rawType": "float64",
         "type": "float"
        },
        {
         "name": "25%",
         "rawType": "float64",
         "type": "float"
        },
        {
         "name": "50%",
         "rawType": "float64",
         "type": "float"
        },
        {
         "name": "75%",
         "rawType": "float64",
         "type": "float"
        },
        {
         "name": "max",
         "rawType": "float64",
         "type": "float"
        }
       ],
       "conversionMethod": "pd.DataFrame",
       "ref": "8cc6ef40-5cd0-443b-ac32-af74c5881622",
       "rows": [
        [
         "id_bio_age",
         "2003.0",
         "41.17024463305042",
         "15.750726583309186",
         "18.0",
         "28.0",
         "39.0",
         "53.0",
         "87.0"
        ],
        [
         "id_bio_weight",
         "1695.0",
         "70.63362831858407",
         "12.008494710414768",
         "31.0",
         "62.0",
         "70.0",
         "80.0",
         "97.0"
        ],
        [
         "id_bio_height",
         "1870.0",
         "165.64598930481284",
         "9.83430529751562",
         "100.0",
         "159.0",
         "165.0",
         "172.0",
         "200.0"
        ],
        [
         "id_mat_18p_house_members",
         "1939.0",
         "2.895306859205776",
         "1.431934774838048",
         "1.0",
         "2.0",
         "3.0",
         "4.0",
         "20.0"
        ],
        [
         "id_mat_total_house_members",
         "1918.0",
         "3.6887382690302397",
         "1.7010808105901634",
         "1.0",
         "3.0",
         "4.0",
         "5.0",
         "20.0"
        ]
       ],
       "shape": {
        "columns": 8,
        "rows": 5
       }
      },
      "text/html": [
       "<div>\n",
       "<style scoped>\n",
       "    .dataframe tbody tr th:only-of-type {\n",
       "        vertical-align: middle;\n",
       "    }\n",
       "\n",
       "    .dataframe tbody tr th {\n",
       "        vertical-align: top;\n",
       "    }\n",
       "\n",
       "    .dataframe thead th {\n",
       "        text-align: right;\n",
       "    }\n",
       "</style>\n",
       "<table border=\"1\" class=\"dataframe\">\n",
       "  <thead>\n",
       "    <tr style=\"text-align: right;\">\n",
       "      <th></th>\n",
       "      <th>count</th>\n",
       "      <th>mean</th>\n",
       "      <th>std</th>\n",
       "      <th>min</th>\n",
       "      <th>25%</th>\n",
       "      <th>50%</th>\n",
       "      <th>75%</th>\n",
       "      <th>max</th>\n",
       "    </tr>\n",
       "  </thead>\n",
       "  <tbody>\n",
       "    <tr>\n",
       "      <th>id_bio_age</th>\n",
       "      <td>2003.0</td>\n",
       "      <td>41.170245</td>\n",
       "      <td>15.750727</td>\n",
       "      <td>18.0</td>\n",
       "      <td>28.0</td>\n",
       "      <td>39.0</td>\n",
       "      <td>53.0</td>\n",
       "      <td>87.0</td>\n",
       "    </tr>\n",
       "    <tr>\n",
       "      <th>id_bio_weight</th>\n",
       "      <td>1695.0</td>\n",
       "      <td>70.633628</td>\n",
       "      <td>12.008495</td>\n",
       "      <td>31.0</td>\n",
       "      <td>62.0</td>\n",
       "      <td>70.0</td>\n",
       "      <td>80.0</td>\n",
       "      <td>97.0</td>\n",
       "    </tr>\n",
       "    <tr>\n",
       "      <th>id_bio_height</th>\n",
       "      <td>1870.0</td>\n",
       "      <td>165.645989</td>\n",
       "      <td>9.834305</td>\n",
       "      <td>100.0</td>\n",
       "      <td>159.0</td>\n",
       "      <td>165.0</td>\n",
       "      <td>172.0</td>\n",
       "      <td>200.0</td>\n",
       "    </tr>\n",
       "    <tr>\n",
       "      <th>id_mat_18p_house_members</th>\n",
       "      <td>1939.0</td>\n",
       "      <td>2.895307</td>\n",
       "      <td>1.431935</td>\n",
       "      <td>1.0</td>\n",
       "      <td>2.0</td>\n",
       "      <td>3.0</td>\n",
       "      <td>4.0</td>\n",
       "      <td>20.0</td>\n",
       "    </tr>\n",
       "    <tr>\n",
       "      <th>id_mat_total_house_members</th>\n",
       "      <td>1918.0</td>\n",
       "      <td>3.688738</td>\n",
       "      <td>1.701081</td>\n",
       "      <td>1.0</td>\n",
       "      <td>3.0</td>\n",
       "      <td>4.0</td>\n",
       "      <td>5.0</td>\n",
       "      <td>20.0</td>\n",
       "    </tr>\n",
       "  </tbody>\n",
       "</table>\n",
       "</div>"
      ],
      "text/plain": [
       "                             count        mean        std    min    25%  \\\n",
       "id_bio_age                  2003.0   41.170245  15.750727   18.0   28.0   \n",
       "id_bio_weight               1695.0   70.633628  12.008495   31.0   62.0   \n",
       "id_bio_height               1870.0  165.645989   9.834305  100.0  159.0   \n",
       "id_mat_18p_house_members    1939.0    2.895307   1.431935    1.0    2.0   \n",
       "id_mat_total_house_members  1918.0    3.688738   1.701081    1.0    3.0   \n",
       "\n",
       "                              50%    75%    max  \n",
       "id_bio_age                   39.0   53.0   87.0  \n",
       "id_bio_weight                70.0   80.0   97.0  \n",
       "id_bio_height               165.0  172.0  200.0  \n",
       "id_mat_18p_house_members      3.0    4.0   20.0  \n",
       "id_mat_total_house_members    4.0    5.0   20.0  "
      ]
     },
     "metadata": {},
     "output_type": "display_data"
    }
   ],
   "source": [
    "df = df_survey.copy()\n",
    "# Frequency tables for each categorical feature\n",
    "for column in df.select_dtypes(include=[\"bool\", \"category\"]).columns:\n",
    "    display(\n",
    "        pd.crosstab(index=df[column], columns=\"% observations\", normalize=\"columns\").T\n",
    "        * 100\n",
    "    )\n",
    "    display(pd.crosstab(index=df[column], margins=True, columns=\"count\").T)\n",
    "\n",
    "display(df.describe().T)"
   ]
  }
 ],
 "metadata": {
  "jupytext": {
   "formats": "ipynb,py:percent"
  },
  "kernelspec": {
   "display_name": ".venv",
   "language": "python",
   "name": "python3"
  },
  "language_info": {
   "codemirror_mode": {
    "name": "ipython",
    "version": 3
   },
   "file_extension": ".py",
   "mimetype": "text/x-python",
   "name": "python",
   "nbconvert_exporter": "python",
   "pygments_lexer": "ipython3",
   "version": "3.12.8"
  },
  "name": "a_data_clean.ipynb"
 },
 "nbformat": 4,
 "nbformat_minor": 5
}
